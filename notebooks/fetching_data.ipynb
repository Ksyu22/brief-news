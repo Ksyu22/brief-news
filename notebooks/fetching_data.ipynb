{
 "cells": [
  {
   "cell_type": "code",
   "execution_count": 1,
   "id": "5619cc43",
   "metadata": {},
   "outputs": [],
   "source": [
    "from google.cloud import bigquery"
   ]
  },
  {
   "cell_type": "markdown",
   "id": "32a14560",
   "metadata": {},
   "source": [
    "This cell just provide a control to check that the function below works fine"
   ]
  },
  {
   "cell_type": "code",
   "execution_count": 2,
   "id": "57e83ff4",
   "metadata": {},
   "outputs": [],
   "source": [
    "project = 'brief-news-368720'\n",
    "dataset = 'cnn_daily_dataset'\n",
    "\n",
    "target_table = 'train'\n",
    "table = f'{project}.{dataset}.{target_table}_set'\n",
    "\n",
    "client = bigquery.Client()\n",
    "index = 0\n",
    "chunk_size = 50\n",
    "\n",
    "client = bigquery.Client()\n",
    "\n",
    "df = rows.to_dataframe()"
   ]
  },
  {
   "cell_type": "markdown",
   "id": "c925f773",
   "metadata": {},
   "source": [
    "The function that we can use to fetch data"
   ]
  },
  {
   "cell_type": "code",
   "execution_count": 7,
   "id": "0ee8b8ab",
   "metadata": {},
   "outputs": [],
   "source": [
    "def get_datachunk(target_table, index, chunk_size):\n",
    "    \"\"\"\n",
    "    target_table: str\n",
    "    index: int\n",
    "    chunk_size: int\n",
    "    \n",
    "    This function will fetch a datachunk from the googlecloud table that\n",
    "    you define with target_table. The chunk will start from the row defined\n",
    "    at index and will have a number of rows defined in chunk_size\n",
    "    \"\"\"\n",
    "   \n",
    "    table = f'brief-news-368720.cnn_daily_dataset.{target_table}_set'\n",
    "    client = bigquery.Client()\n",
    "    rows = client.list_rows(table,\n",
    "                            start_index=index,\n",
    "                            max_results=chunk_size)\n",
    "    \n",
    "    return rows.to_dataframe()"
   ]
  },
  {
   "cell_type": "markdown",
   "id": "12a95b25",
   "metadata": {},
   "source": [
    "This lines just check the dataframe obtained"
   ]
  },
  {
   "cell_type": "code",
   "execution_count": 8,
   "id": "8b69c772",
   "metadata": {},
   "outputs": [],
   "source": [
    "df_1 = get_datachunk(target_table, index, chunk_size)"
   ]
  },
  {
   "cell_type": "code",
   "execution_count": 12,
   "id": "90b61f1b",
   "metadata": {},
   "outputs": [
    {
     "data": {
      "text/html": [
       "<div>\n",
       "<style scoped>\n",
       "    .dataframe tbody tr th:only-of-type {\n",
       "        vertical-align: middle;\n",
       "    }\n",
       "\n",
       "    .dataframe tbody tr th {\n",
       "        vertical-align: top;\n",
       "    }\n",
       "\n",
       "    .dataframe thead th {\n",
       "        text-align: right;\n",
       "    }\n",
       "</style>\n",
       "<table border=\"1\" class=\"dataframe\">\n",
       "  <thead>\n",
       "    <tr style=\"text-align: right;\">\n",
       "      <th></th>\n",
       "      <th>id</th>\n",
       "      <th>article</th>\n",
       "      <th>highlights</th>\n",
       "      <th>orig_id</th>\n",
       "    </tr>\n",
       "  </thead>\n",
       "  <tbody>\n",
       "    <tr>\n",
       "      <th>0</th>\n",
       "      <td>True</td>\n",
       "      <td>True</td>\n",
       "      <td>True</td>\n",
       "      <td>True</td>\n",
       "    </tr>\n",
       "  </tbody>\n",
       "</table>\n",
       "</div>"
      ],
      "text/plain": [
       "     id  article  highlights  orig_id\n",
       "0  True     True        True     True"
      ]
     },
     "execution_count": 12,
     "metadata": {},
     "output_type": "execute_result"
    }
   ],
   "source": [
    "df_1.head(1) == df.head(1)"
   ]
  },
  {
   "cell_type": "code",
   "execution_count": 13,
   "id": "14b6250e",
   "metadata": {},
   "outputs": [
    {
     "name": "stdout",
     "output_type": "stream",
     "text": [
      "<class 'pandas.core.frame.DataFrame'>\n",
      "RangeIndex: 50 entries, 0 to 49\n",
      "Data columns (total 4 columns):\n",
      " #   Column      Non-Null Count  Dtype \n",
      "---  ------      --------------  ----- \n",
      " 0   id          50 non-null     int64 \n",
      " 1   article     50 non-null     object\n",
      " 2   highlights  50 non-null     object\n",
      " 3   orig_id     50 non-null     object\n",
      "dtypes: int64(1), object(3)\n",
      "memory usage: 1.7+ KB\n"
     ]
    }
   ],
   "source": [
    "df_1.info()"
   ]
  }
 ],
 "metadata": {
  "kernelspec": {
   "display_name": "Python 3 (ipykernel)",
   "language": "python",
   "name": "python3"
  },
  "language_info": {
   "codemirror_mode": {
    "name": "ipython",
    "version": 3
   },
   "file_extension": ".py",
   "mimetype": "text/x-python",
   "name": "python",
   "nbconvert_exporter": "python",
   "pygments_lexer": "ipython3",
   "version": "3.8.12"
  },
  "toc": {
   "base_numbering": 1,
   "nav_menu": {},
   "number_sections": true,
   "sideBar": true,
   "skip_h1_title": false,
   "title_cell": "Table of Contents",
   "title_sidebar": "Contents",
   "toc_cell": false,
   "toc_position": {},
   "toc_section_display": true,
   "toc_window_display": false
  }
 },
 "nbformat": 4,
 "nbformat_minor": 5
}
