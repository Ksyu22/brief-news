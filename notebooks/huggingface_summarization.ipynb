{
 "cells": [
  {
   "cell_type": "markdown",
   "id": "8fbf940b",
   "metadata": {},
   "source": [
    "## HuggingFace Summarization Transformers"
   ]
  },
  {
   "cell_type": "code",
   "execution_count": 1,
   "id": "f71a6fff",
   "metadata": {},
   "outputs": [],
   "source": [
    "%load_ext autoreload\n",
    "%autoreload 2"
   ]
  },
  {
   "cell_type": "code",
   "execution_count": 2,
   "id": "757278f0",
   "metadata": {},
   "outputs": [
    {
     "name": "stderr",
     "output_type": "stream",
     "text": [
      "/home/rriesco/.pyenv/versions/3.8.12/envs/brief-news/lib/python3.8/site-packages/tqdm/auto.py:22: TqdmWarning: IProgress not found. Please update jupyter and ipywidgets. See https://ipywidgets.readthedocs.io/en/stable/user_install.html\n",
      "  from .autonotebook import tqdm as notebook_tqdm\n",
      "2022-12-06 19:21:34.642071: W tensorflow/stream_executor/platform/default/dso_loader.cc:64] Could not load dynamic library 'libcudart.so.11.0'; dlerror: libcudart.so.11.0: cannot open shared object file: No such file or directory\n",
      "2022-12-06 19:21:34.642113: I tensorflow/stream_executor/cuda/cudart_stub.cc:29] Ignore above cudart dlerror if you do not have a GPU set up on your machine.\n"
     ]
    },
    {
     "ename": "TypeError",
     "evalue": "expected str, bytes or os.PathLike object, not NoneType",
     "output_type": "error",
     "traceback": [
      "\u001b[0;31m---------------------------------------------------------------------------\u001b[0m",
      "\u001b[0;31mTypeError\u001b[0m                                 Traceback (most recent call last)",
      "Cell \u001b[0;32mIn [2], line 1\u001b[0m\n\u001b[0;32m----> 1\u001b[0m \u001b[38;5;28;01mfrom\u001b[39;00m \u001b[38;5;21;01mbrief_news\u001b[39;00m\u001b[38;5;21;01m.\u001b[39;00m\u001b[38;5;21;01minterface\u001b[39;00m\u001b[38;5;21;01m.\u001b[39;00m\u001b[38;5;21;01mmain\u001b[39;00m \u001b[38;5;28;01mimport\u001b[39;00m get_articles\n\u001b[1;32m      3\u001b[0m \u001b[38;5;28;01mimport\u001b[39;00m \u001b[38;5;21;01mtensorflow\u001b[39;00m\n\u001b[1;32m      4\u001b[0m \u001b[38;5;28;01mimport\u001b[39;00m \u001b[38;5;21;01mjson\u001b[39;00m\n",
      "File \u001b[0;32m~/code/Ksyu22/brief-news/brief_news/interface/main.py:7\u001b[0m\n\u001b[1;32m      4\u001b[0m \u001b[38;5;28;01mfrom\u001b[39;00m \u001b[38;5;21;01mbrief_news\u001b[39;00m\u001b[38;5;21;01m.\u001b[39;00m\u001b[38;5;21;01mdata\u001b[39;00m\u001b[38;5;21;01m.\u001b[39;00m\u001b[38;5;21;01mscraper\u001b[39;00m \u001b[38;5;28;01mimport\u001b[39;00m General_scraper, CNN_scraper\n\u001b[1;32m      6\u001b[0m \u001b[38;5;28;01mfrom\u001b[39;00m \u001b[38;5;21;01mbrief_news\u001b[39;00m\u001b[38;5;21;01m.\u001b[39;00m\u001b[38;5;21;01mml_logic\u001b[39;00m\u001b[38;5;21;01m.\u001b[39;00m\u001b[38;5;21;01mtransformer_model\u001b[39;00m \u001b[38;5;28;01mimport\u001b[39;00m summary_t5_small, summary_bart_large\n\u001b[0;32m----> 7\u001b[0m \u001b[38;5;28;01mfrom\u001b[39;00m \u001b[38;5;21;01mbrief_news\u001b[39;00m\u001b[38;5;21;01m.\u001b[39;00m\u001b[38;5;21;01mdata\u001b[39;00m\u001b[38;5;21;01m.\u001b[39;00m\u001b[38;5;21;01mbig_query\u001b[39;00m \u001b[38;5;28;01mimport\u001b[39;00m get_bq_chunk\n\u001b[1;32m     11\u001b[0m \u001b[38;5;28;01mdef\u001b[39;00m \u001b[38;5;21mget_articles\u001b[39m(keyword: \u001b[38;5;28mstr\u001b[39m, limit\u001b[38;5;241m=\u001b[39m\u001b[38;5;241m5\u001b[39m) \u001b[38;5;241m-\u001b[39m\u001b[38;5;241m>\u001b[39m pd\u001b[38;5;241m.\u001b[39mDataFrame:\n\u001b[1;32m     12\u001b[0m     \u001b[38;5;124;03m\"\"\"\u001b[39;00m\n\u001b[1;32m     13\u001b[0m \u001b[38;5;124;03m    This function uses the list of urls from the API and scrape the content from articles\u001b[39;00m\n\u001b[1;32m     14\u001b[0m \u001b[38;5;124;03m    \"\"\"\u001b[39;00m\n",
      "File \u001b[0;32m~/code/Ksyu22/brief-news/brief_news/data/big_query.py:6\u001b[0m\n\u001b[1;32m      3\u001b[0m \u001b[38;5;28;01mfrom\u001b[39;00m \u001b[38;5;21;01mdotenv\u001b[39;00m \u001b[38;5;28;01mimport\u001b[39;00m load_dotenv, find_dotenv\n\u001b[1;32m      4\u001b[0m \u001b[38;5;28;01mimport\u001b[39;00m \u001b[38;5;21;01mos\u001b[39;00m\n\u001b[0;32m----> 6\u001b[0m \u001b[38;5;28;01mfrom\u001b[39;00m \u001b[38;5;21;01mbrief_news\u001b[39;00m\u001b[38;5;21;01m.\u001b[39;00m\u001b[38;5;21;01mml_logic\u001b[39;00m\u001b[38;5;21;01m.\u001b[39;00m\u001b[38;5;21;01mparams\u001b[39;00m \u001b[38;5;28;01mimport\u001b[39;00m PROJECT, DATASET\n\u001b[1;32m      8\u001b[0m \u001b[38;5;28;01mdef\u001b[39;00m \u001b[38;5;21mget_bq_chunk\u001b[39m(target_table: \u001b[38;5;28mstr\u001b[39m,\n\u001b[1;32m      9\u001b[0m               index: \u001b[38;5;28mint\u001b[39m,\n\u001b[1;32m     10\u001b[0m               chunk_size: \u001b[38;5;28mint\u001b[39m) \u001b[38;5;241m-\u001b[39m\u001b[38;5;241m>\u001b[39m pd\u001b[38;5;241m.\u001b[39mDataFrame:\n\u001b[1;32m     12\u001b[0m     \u001b[38;5;124;03m\"\"\"\u001b[39;00m\n\u001b[1;32m     13\u001b[0m \u001b[38;5;124;03m    return a chunk of a big query dataset table\u001b[39;00m\n\u001b[1;32m     14\u001b[0m \u001b[38;5;124;03m    format the output dataframe according to the provided data types\u001b[39;00m\n\u001b[1;32m     15\u001b[0m \u001b[38;5;124;03m    \"\"\"\u001b[39;00m\n",
      "File \u001b[0;32m~/code/Ksyu22/brief-news/brief_news/ml_logic/params.py:12\u001b[0m\n\u001b[1;32m     10\u001b[0m VALIDATION_DATASET_SIZE \u001b[38;5;241m=\u001b[39m os\u001b[38;5;241m.\u001b[39menviron\u001b[38;5;241m.\u001b[39mget(\u001b[38;5;124m\"\u001b[39m\u001b[38;5;124mVALIDATION_DATASET_SIZE\u001b[39m\u001b[38;5;124m\"\u001b[39m)\n\u001b[1;32m     11\u001b[0m CHUNK_SIZE \u001b[38;5;241m=\u001b[39m \u001b[38;5;28mint\u001b[39m(os\u001b[38;5;241m.\u001b[39menviron\u001b[38;5;241m.\u001b[39mget(\u001b[38;5;124m\"\u001b[39m\u001b[38;5;124mCHUNK_SIZE\u001b[39m\u001b[38;5;124m\"\u001b[39m))\n\u001b[0;32m---> 12\u001b[0m LOCAL_DATA_PATH \u001b[38;5;241m=\u001b[39m \u001b[43mos\u001b[49m\u001b[38;5;241;43m.\u001b[39;49m\u001b[43mpath\u001b[49m\u001b[38;5;241;43m.\u001b[39;49m\u001b[43mexpanduser\u001b[49m\u001b[43m(\u001b[49m\u001b[43mos\u001b[49m\u001b[38;5;241;43m.\u001b[39;49m\u001b[43menviron\u001b[49m\u001b[38;5;241;43m.\u001b[39;49m\u001b[43mget\u001b[49m\u001b[43m(\u001b[49m\u001b[38;5;124;43m\"\u001b[39;49m\u001b[38;5;124;43mLOCAL_DATA_PATH\u001b[39;49m\u001b[38;5;124;43m\"\u001b[39;49m\u001b[43m)\u001b[49m\u001b[43m)\u001b[49m\n\u001b[1;32m     13\u001b[0m LOCAL_REGISTRY_PATH \u001b[38;5;241m=\u001b[39m os\u001b[38;5;241m.\u001b[39mpath\u001b[38;5;241m.\u001b[39mexpanduser(os\u001b[38;5;241m.\u001b[39menviron\u001b[38;5;241m.\u001b[39mget(\u001b[38;5;124m\"\u001b[39m\u001b[38;5;124mLOCAL_REGISTRY_PATH\u001b[39m\u001b[38;5;124m\"\u001b[39m))\n\u001b[1;32m     14\u001b[0m PROJECT \u001b[38;5;241m=\u001b[39m os\u001b[38;5;241m.\u001b[39menviron\u001b[38;5;241m.\u001b[39mget(\u001b[38;5;124m\"\u001b[39m\u001b[38;5;124mPROJECT\u001b[39m\u001b[38;5;124m\"\u001b[39m)\n",
      "File \u001b[0;32m~/.pyenv/versions/3.8.12/lib/python3.8/posixpath.py:231\u001b[0m, in \u001b[0;36mexpanduser\u001b[0;34m(path)\u001b[0m\n\u001b[1;32m    228\u001b[0m \u001b[38;5;28;01mdef\u001b[39;00m \u001b[38;5;21mexpanduser\u001b[39m(path):\n\u001b[1;32m    229\u001b[0m     \u001b[38;5;124;03m\"\"\"Expand ~ and ~user constructions.  If user or $HOME is unknown,\u001b[39;00m\n\u001b[1;32m    230\u001b[0m \u001b[38;5;124;03m    do nothing.\"\"\"\u001b[39;00m\n\u001b[0;32m--> 231\u001b[0m     path \u001b[38;5;241m=\u001b[39m \u001b[43mos\u001b[49m\u001b[38;5;241;43m.\u001b[39;49m\u001b[43mfspath\u001b[49m\u001b[43m(\u001b[49m\u001b[43mpath\u001b[49m\u001b[43m)\u001b[49m\n\u001b[1;32m    232\u001b[0m     \u001b[38;5;28;01mif\u001b[39;00m \u001b[38;5;28misinstance\u001b[39m(path, \u001b[38;5;28mbytes\u001b[39m):\n\u001b[1;32m    233\u001b[0m         tilde \u001b[38;5;241m=\u001b[39m \u001b[38;5;124mb\u001b[39m\u001b[38;5;124m'\u001b[39m\u001b[38;5;124m~\u001b[39m\u001b[38;5;124m'\u001b[39m\n",
      "\u001b[0;31mTypeError\u001b[0m: expected str, bytes or os.PathLike object, not NoneType"
     ]
    }
   ],
   "source": [
    "from brief_news.interface.main import get_articles\n",
    "\n",
    "import tensorflow\n",
    "import json\n",
    "import requests\n",
    "import pandas as pd\n",
    "from itertools import chain\n",
    "from transformers import pipeline\n",
    "\n",
    "from dotenv import load_dotenv, find_dotenv\n",
    "import os"
   ]
  },
  {
   "cell_type": "markdown",
   "id": "1c1d05fc",
   "metadata": {},
   "source": [
    "## Loading data\n",
    "\n",
    "Calling the module:\n",
    "  - gets links from NewsApi\n",
    "  - scrapes webpages"
   ]
  },
  {
   "cell_type": "code",
   "execution_count": null,
   "id": "0f6509b3",
   "metadata": {},
   "outputs": [],
   "source": []
  },
  {
   "cell_type": "code",
   "execution_count": null,
   "id": "007c1185",
   "metadata": {},
   "outputs": [],
   "source": [
    "%%time\n",
    "# getting actual articles from module\n",
    "articles_df = get_articles('business')"
   ]
  },
  {
   "cell_type": "code",
   "execution_count": null,
   "id": "2efe2187",
   "metadata": {},
   "outputs": [],
   "source": [
    "articles_df"
   ]
  },
  {
   "cell_type": "code",
   "execution_count": null,
   "id": "258650e3",
   "metadata": {},
   "outputs": [],
   "source": [
    "articles_df.article[3]"
   ]
  },
  {
   "cell_type": "code",
   "execution_count": null,
   "id": "a5669527",
   "metadata": {},
   "outputs": [],
   "source": [
    "articles_df.title[3]"
   ]
  },
  {
   "cell_type": "code",
   "execution_count": null,
   "id": "f3da11d4",
   "metadata": {},
   "outputs": [],
   "source": [
    "articles_df.title[4]"
   ]
  },
  {
   "cell_type": "code",
   "execution_count": 3,
   "id": "b4399c6f",
   "metadata": {},
   "outputs": [
    {
     "ename": "NameError",
     "evalue": "name 'articles_df' is not defined",
     "output_type": "error",
     "traceback": [
      "\u001b[0;31m---------------------------------------------------------------------------\u001b[0m",
      "\u001b[0;31mNameError\u001b[0m                                 Traceback (most recent call last)",
      "Cell \u001b[0;32mIn [3], line 1\u001b[0m\n\u001b[0;32m----> 1\u001b[0m \u001b[43marticles_df\u001b[49m\u001b[38;5;241m.\u001b[39marticle[\u001b[38;5;241m4\u001b[39m]\n",
      "\u001b[0;31mNameError\u001b[0m: name 'articles_df' is not defined"
     ]
    }
   ],
   "source": [
    "articles_df.article[4]"
   ]
  },
  {
   "cell_type": "markdown",
   "id": "9844682d",
   "metadata": {},
   "source": [
    "## Testing API bart-large-cnn\n",
    "\n",
    "Calling HuggingFace API"
   ]
  },
  {
   "cell_type": "code",
   "execution_count": 4,
   "id": "0fc10893",
   "metadata": {},
   "outputs": [
    {
     "ename": "NameError",
     "evalue": "name 'os' is not defined",
     "output_type": "error",
     "traceback": [
      "\u001b[0;31m---------------------------------------------------------------------------\u001b[0m",
      "\u001b[0;31mNameError\u001b[0m                                 Traceback (most recent call last)",
      "Cell \u001b[0;32mIn [4], line 1\u001b[0m\n\u001b[0;32m----> 1\u001b[0m hf_token \u001b[38;5;241m=\u001b[39m \u001b[43mos\u001b[49m\u001b[38;5;241m.\u001b[39mgetenv(\u001b[38;5;124m'\u001b[39m\u001b[38;5;124mHUGGING_API_TOKEN\u001b[39m\u001b[38;5;124m'\u001b[39m)\n",
      "\u001b[0;31mNameError\u001b[0m: name 'os' is not defined"
     ]
    }
   ],
   "source": [
    "hf_token = os.getenv('HUGGING_API_TOKEN')"
   ]
  },
  {
   "cell_type": "code",
   "execution_count": 10,
   "id": "8c0cbee4",
   "metadata": {},
   "outputs": [],
   "source": [
    "headers = {\"Authorization\": f\"Bearer {hf_token}\"}\n",
    "API_URL = \"https://api-inference.huggingface.co/models/facebook/bart-large-cnn\"\n",
    "\n",
    "def query(payload):\n",
    "    \"\"\"\n",
    "    Function sends post request to hugging face api for 'summarization' service\n",
    "    with bart-large-cnn model\n",
    "    \"\"\"\n",
    "    data = json.dumps(payload)\n",
    "    response = requests.request(\"POST\", API_URL, headers=headers, data=data)\n",
    "    return json.loads(response.content.decode(\"utf-8\"))\n"
   ]
  },
  {
   "cell_type": "code",
   "execution_count": 11,
   "id": "ab0b7f38",
   "metadata": {},
   "outputs": [
    {
     "data": {
      "text/html": [
       "<div>\n",
       "<style scoped>\n",
       "    .dataframe tbody tr th:only-of-type {\n",
       "        vertical-align: middle;\n",
       "    }\n",
       "\n",
       "    .dataframe tbody tr th {\n",
       "        vertical-align: top;\n",
       "    }\n",
       "\n",
       "    .dataframe thead th {\n",
       "        text-align: right;\n",
       "    }\n",
       "</style>\n",
       "<table border=\"1\" class=\"dataframe\">\n",
       "  <thead>\n",
       "    <tr style=\"text-align: right;\">\n",
       "      <th></th>\n",
       "      <th>title</th>\n",
       "      <th>article</th>\n",
       "      <th>id</th>\n",
       "      <th>orig_id</th>\n",
       "    </tr>\n",
       "  </thead>\n",
       "  <tbody>\n",
       "    <tr>\n",
       "      <th>0</th>\n",
       "      <td>Premarket stocks: Jay Powell's dream of the 90...</td>\n",
       "      <td>The US economy gained 263,000 jobs in November...</td>\n",
       "      <td>0</td>\n",
       "      <td>0</td>\n",
       "    </tr>\n",
       "    <tr>\n",
       "      <th>1</th>\n",
       "      <td>CBI says UK recession could turn into a 'lost ...</td>\n",
       "      <td>The United Kingdom faces a “lost decade” of gr...</td>\n",
       "      <td>0</td>\n",
       "      <td>0</td>\n",
       "    </tr>\n",
       "    <tr>\n",
       "      <th>2</th>\n",
       "      <td>Opinion: Elon Musk's Twitter is helping to nor...</td>\n",
       "      <td>Elon Musk apparently is trying his hand at cre...</td>\n",
       "      <td>0</td>\n",
       "      <td>0</td>\n",
       "    </tr>\n",
       "    <tr>\n",
       "      <th>3</th>\n",
       "      <td>Foxconn dice que está restaurando la producció...</td>\n",
       "      <td>Por Juliana Liu</td>\n",
       "      <td>0</td>\n",
       "      <td>0</td>\n",
       "    </tr>\n",
       "    <tr>\n",
       "      <th>4</th>\n",
       "      <td>Presentadores Amy Robach y T.J. Holmes, de “Go...</td>\n",
       "      <td></td>\n",
       "      <td>0</td>\n",
       "      <td>0</td>\n",
       "    </tr>\n",
       "  </tbody>\n",
       "</table>\n",
       "</div>"
      ],
      "text/plain": [
       "                                               title  \\\n",
       "0  Premarket stocks: Jay Powell's dream of the 90...   \n",
       "1  CBI says UK recession could turn into a 'lost ...   \n",
       "2  Opinion: Elon Musk's Twitter is helping to nor...   \n",
       "3  Foxconn dice que está restaurando la producció...   \n",
       "4  Presentadores Amy Robach y T.J. Holmes, de “Go...   \n",
       "\n",
       "                                             article  id  orig_id  \n",
       "0  The US economy gained 263,000 jobs in November...   0        0  \n",
       "1  The United Kingdom faces a “lost decade” of gr...   0        0  \n",
       "2  Elon Musk apparently is trying his hand at cre...   0        0  \n",
       "3                                    Por Juliana Liu   0        0  \n",
       "4                                                      0        0  "
      ]
     },
     "execution_count": 11,
     "metadata": {},
     "output_type": "execute_result"
    }
   ],
   "source": [
    "df_bart_large = articles_df.copy()\n",
    "df_bart_large"
   ]
  },
  {
   "cell_type": "code",
   "execution_count": 12,
   "id": "3ed3e1ab",
   "metadata": {},
   "outputs": [
    {
     "name": "stdout",
     "output_type": "stream",
     "text": [
      "CPU times: user 124 ms, sys: 17.3 ms, total: 141 ms\n",
      "Wall time: 5.55 s\n"
     ]
    },
    {
     "data": {
      "text/html": [
       "<div>\n",
       "<style scoped>\n",
       "    .dataframe tbody tr th:only-of-type {\n",
       "        vertical-align: middle;\n",
       "    }\n",
       "\n",
       "    .dataframe tbody tr th {\n",
       "        vertical-align: top;\n",
       "    }\n",
       "\n",
       "    .dataframe thead th {\n",
       "        text-align: right;\n",
       "    }\n",
       "</style>\n",
       "<table border=\"1\" class=\"dataframe\">\n",
       "  <thead>\n",
       "    <tr style=\"text-align: right;\">\n",
       "      <th></th>\n",
       "      <th>title</th>\n",
       "      <th>article</th>\n",
       "      <th>id</th>\n",
       "      <th>orig_id</th>\n",
       "      <th>summary_text</th>\n",
       "    </tr>\n",
       "  </thead>\n",
       "  <tbody>\n",
       "    <tr>\n",
       "      <th>0</th>\n",
       "      <td>Premarket stocks: Jay Powell's dream of the 90...</td>\n",
       "      <td>The US economy gained 263,000 jobs in November...</td>\n",
       "      <td>0</td>\n",
       "      <td>0</td>\n",
       "      <td>The US economy gained 263,000 jobs in November...</td>\n",
       "    </tr>\n",
       "    <tr>\n",
       "      <th>1</th>\n",
       "      <td>CBI says UK recession could turn into a 'lost ...</td>\n",
       "      <td>The United Kingdom faces a “lost decade” of gr...</td>\n",
       "      <td>0</td>\n",
       "      <td>0</td>\n",
       "      <td>The Confederation of British Industry said tha...</td>\n",
       "    </tr>\n",
       "    <tr>\n",
       "      <th>2</th>\n",
       "      <td>Opinion: Elon Musk's Twitter is helping to nor...</td>\n",
       "      <td>Elon Musk apparently is trying his hand at cre...</td>\n",
       "      <td>0</td>\n",
       "      <td>0</td>\n",
       "      <td>Elon Musk released what he called the “Twitter...</td>\n",
       "    </tr>\n",
       "    <tr>\n",
       "      <th>3</th>\n",
       "      <td>Foxconn dice que está restaurando la producció...</td>\n",
       "      <td>Por Juliana Liu</td>\n",
       "      <td>0</td>\n",
       "      <td>0</td>\n",
       "      <td>Por Juliana Liu is the daughter of former Pres...</td>\n",
       "    </tr>\n",
       "    <tr>\n",
       "      <th>4</th>\n",
       "      <td>Presentadores Amy Robach y T.J. Holmes, de “Go...</td>\n",
       "      <td></td>\n",
       "      <td>0</td>\n",
       "      <td>0</td>\n",
       "      <td>CNN.com will feature iReporter photos in a wee...</td>\n",
       "    </tr>\n",
       "  </tbody>\n",
       "</table>\n",
       "</div>"
      ],
      "text/plain": [
       "                                               title  \\\n",
       "0  Premarket stocks: Jay Powell's dream of the 90...   \n",
       "1  CBI says UK recession could turn into a 'lost ...   \n",
       "2  Opinion: Elon Musk's Twitter is helping to nor...   \n",
       "3  Foxconn dice que está restaurando la producció...   \n",
       "4  Presentadores Amy Robach y T.J. Holmes, de “Go...   \n",
       "\n",
       "                                             article  id  orig_id  \\\n",
       "0  The US economy gained 263,000 jobs in November...   0        0   \n",
       "1  The United Kingdom faces a “lost decade” of gr...   0        0   \n",
       "2  Elon Musk apparently is trying his hand at cre...   0        0   \n",
       "3                                    Por Juliana Liu   0        0   \n",
       "4                                                      0        0   \n",
       "\n",
       "                                        summary_text  \n",
       "0  The US economy gained 263,000 jobs in November...  \n",
       "1  The Confederation of British Industry said tha...  \n",
       "2  Elon Musk released what he called the “Twitter...  \n",
       "3  Por Juliana Liu is the daughter of former Pres...  \n",
       "4  CNN.com will feature iReporter photos in a wee...  "
      ]
     },
     "execution_count": 12,
     "metadata": {},
     "output_type": "execute_result"
    }
   ],
   "source": [
    "%%time\n",
    "# summarizing articles into 150 words with facebook/bart-large-cnn\n",
    "df_bart_large['summary_text'] = df_bart_large['article'].apply(lambda article: query({'inputs':article, \"parameters\": {\"max_length\": 150}})[0]['summary_text'])\n",
    "df_bart_large"
   ]
  },
  {
   "cell_type": "code",
   "execution_count": 16,
   "id": "c7d0c34a",
   "metadata": {},
   "outputs": [
    {
     "name": "stdout",
     "output_type": "stream",
     "text": [
      "Article : \n",
      "\n",
      "\n",
      "\n",
      " *  *  *  *  *  *  *  *  *  *  *  *  *  *  *  *  *  *  *  * \n",
      "\n",
      "\n",
      "Summary : \n",
      "CNN.com will feature iReporter photos in a weekly Travel Snapshots gallery. Please submit your best shots of the U.S. for next week. Visit CNN.com/Travel next Wednesday for a new gallery of snapshots. Please share your best photos of the United States with CNN iReport.\n"
     ]
    }
   ],
   "source": [
    "print('Article : ')\n",
    "print(df_bart_large['article'][4])\n",
    "print('\\n')\n",
    "print(' * ' * 20)\n",
    "print('\\n')\n",
    "print('Summary : ')\n",
    "print(df_bart_large['summary_text'][4])"
   ]
  },
  {
   "cell_type": "markdown",
   "id": "fbcc11dd",
   "metadata": {},
   "source": [
    "### Distilbart"
   ]
  },
  {
   "cell_type": "code",
   "execution_count": 20,
   "id": "0acefcf4",
   "metadata": {
    "scrolled": true
   },
   "outputs": [
    {
     "data": {
      "text/html": [
       "<div>\n",
       "<style scoped>\n",
       "    .dataframe tbody tr th:only-of-type {\n",
       "        vertical-align: middle;\n",
       "    }\n",
       "\n",
       "    .dataframe tbody tr th {\n",
       "        vertical-align: top;\n",
       "    }\n",
       "\n",
       "    .dataframe thead th {\n",
       "        text-align: right;\n",
       "    }\n",
       "</style>\n",
       "<table border=\"1\" class=\"dataframe\">\n",
       "  <thead>\n",
       "    <tr style=\"text-align: right;\">\n",
       "      <th></th>\n",
       "      <th>title</th>\n",
       "      <th>article</th>\n",
       "      <th>id</th>\n",
       "      <th>orig_id</th>\n",
       "    </tr>\n",
       "  </thead>\n",
       "  <tbody>\n",
       "    <tr>\n",
       "      <th>0</th>\n",
       "      <td>Premarket stocks: Jay Powell's dream of the 90...</td>\n",
       "      <td>The US economy gained 263,000 jobs in November...</td>\n",
       "      <td>0</td>\n",
       "      <td>0</td>\n",
       "    </tr>\n",
       "    <tr>\n",
       "      <th>1</th>\n",
       "      <td>CBI says UK recession could turn into a 'lost ...</td>\n",
       "      <td>The United Kingdom faces a “lost decade” of gr...</td>\n",
       "      <td>0</td>\n",
       "      <td>0</td>\n",
       "    </tr>\n",
       "    <tr>\n",
       "      <th>2</th>\n",
       "      <td>Opinion: Elon Musk's Twitter is helping to nor...</td>\n",
       "      <td>Elon Musk apparently is trying his hand at cre...</td>\n",
       "      <td>0</td>\n",
       "      <td>0</td>\n",
       "    </tr>\n",
       "    <tr>\n",
       "      <th>3</th>\n",
       "      <td>Foxconn dice que está restaurando la producció...</td>\n",
       "      <td>Por Juliana Liu</td>\n",
       "      <td>0</td>\n",
       "      <td>0</td>\n",
       "    </tr>\n",
       "    <tr>\n",
       "      <th>4</th>\n",
       "      <td>Presentadores Amy Robach y T.J. Holmes, de “Go...</td>\n",
       "      <td></td>\n",
       "      <td>0</td>\n",
       "      <td>0</td>\n",
       "    </tr>\n",
       "  </tbody>\n",
       "</table>\n",
       "</div>"
      ],
      "text/plain": [
       "                                               title  \\\n",
       "0  Premarket stocks: Jay Powell's dream of the 90...   \n",
       "1  CBI says UK recession could turn into a 'lost ...   \n",
       "2  Opinion: Elon Musk's Twitter is helping to nor...   \n",
       "3  Foxconn dice que está restaurando la producció...   \n",
       "4  Presentadores Amy Robach y T.J. Holmes, de “Go...   \n",
       "\n",
       "                                             article  id  orig_id  \n",
       "0  The US economy gained 263,000 jobs in November...   0        0  \n",
       "1  The United Kingdom faces a “lost decade” of gr...   0        0  \n",
       "2  Elon Musk apparently is trying his hand at cre...   0        0  \n",
       "3                                    Por Juliana Liu   0        0  \n",
       "4                                                      0        0  "
      ]
     },
     "execution_count": 20,
     "metadata": {},
     "output_type": "execute_result"
    }
   ],
   "source": [
    "df_distillbart = articles_df.copy()\n",
    "df_distillbart"
   ]
  },
  {
   "cell_type": "code",
   "execution_count": 27,
   "id": "01024477",
   "metadata": {},
   "outputs": [],
   "source": [
    "API_URL_distilbart = \"https://api-inference.huggingface.co/models/philschmid/distilbart-cnn-12-6-samsum\"\n",
    "\n",
    "def query(payload):\n",
    "\tresponse = requests.post(API_URL_distilbart, headers=headers, json=payload)\n",
    "\treturn response.json()\n",
    "\t\n"
   ]
  },
  {
   "cell_type": "code",
   "execution_count": 29,
   "id": "0286924c",
   "metadata": {},
   "outputs": [
    {
     "data": {
      "text/plain": [
       "[{'summary_text': \"The US economy gained 263,000 jobs in November. Average hourly earnings rose by 0.55%, the fastest pace since January. The Fed's strategy to rein in inflation by raising interest rates isn't working. The dream of a sudden surge in the supply of labor is over, according to Fed Chairman Jerome Powell.\"}]"
      ]
     },
     "execution_count": 29,
     "metadata": {},
     "output_type": "execute_result"
    }
   ],
   "source": [
    "data = query({'inputs': df_distillbart['article'][0]})\n",
    "data"
   ]
  },
  {
   "cell_type": "code",
   "execution_count": 30,
   "id": "6a543b77",
   "metadata": {},
   "outputs": [
    {
     "name": "stdout",
     "output_type": "stream",
     "text": [
      "CPU times: user 102 ms, sys: 11.4 ms, total: 113 ms\n",
      "Wall time: 14.5 s\n"
     ]
    },
    {
     "data": {
      "text/html": [
       "<div>\n",
       "<style scoped>\n",
       "    .dataframe tbody tr th:only-of-type {\n",
       "        vertical-align: middle;\n",
       "    }\n",
       "\n",
       "    .dataframe tbody tr th {\n",
       "        vertical-align: top;\n",
       "    }\n",
       "\n",
       "    .dataframe thead th {\n",
       "        text-align: right;\n",
       "    }\n",
       "</style>\n",
       "<table border=\"1\" class=\"dataframe\">\n",
       "  <thead>\n",
       "    <tr style=\"text-align: right;\">\n",
       "      <th></th>\n",
       "      <th>title</th>\n",
       "      <th>article</th>\n",
       "      <th>id</th>\n",
       "      <th>orig_id</th>\n",
       "      <th>summary_text</th>\n",
       "    </tr>\n",
       "  </thead>\n",
       "  <tbody>\n",
       "    <tr>\n",
       "      <th>0</th>\n",
       "      <td>Premarket stocks: Jay Powell's dream of the 90...</td>\n",
       "      <td>The US economy gained 263,000 jobs in November...</td>\n",
       "      <td>0</td>\n",
       "      <td>0</td>\n",
       "      <td>The US economy gained 263,000 jobs in November...</td>\n",
       "    </tr>\n",
       "    <tr>\n",
       "      <th>1</th>\n",
       "      <td>CBI says UK recession could turn into a 'lost ...</td>\n",
       "      <td>The United Kingdom faces a “lost decade” of gr...</td>\n",
       "      <td>0</td>\n",
       "      <td>0</td>\n",
       "      <td>The UK economy faces a \"lost decade\" of growth...</td>\n",
       "    </tr>\n",
       "    <tr>\n",
       "      <th>2</th>\n",
       "      <td>Opinion: Elon Musk's Twitter is helping to nor...</td>\n",
       "      <td>Elon Musk apparently is trying his hand at cre...</td>\n",
       "      <td>0</td>\n",
       "      <td>0</td>\n",
       "      <td>Elon Musk released the “Twitter Files” from Oc...</td>\n",
       "    </tr>\n",
       "    <tr>\n",
       "      <th>3</th>\n",
       "      <td>Foxconn dice que está restaurando la producció...</td>\n",
       "      <td>Por Juliana Liu</td>\n",
       "      <td>0</td>\n",
       "      <td>0</td>\n",
       "      <td>Juliana Liu is a writer and photographer. She ...</td>\n",
       "    </tr>\n",
       "    <tr>\n",
       "      <th>4</th>\n",
       "      <td>Presentadores Amy Robach y T.J. Holmes, de “Go...</td>\n",
       "      <td></td>\n",
       "      <td>0</td>\n",
       "      <td>0</td>\n",
       "      <td>NaN</td>\n",
       "    </tr>\n",
       "  </tbody>\n",
       "</table>\n",
       "</div>"
      ],
      "text/plain": [
       "                                               title  \\\n",
       "0  Premarket stocks: Jay Powell's dream of the 90...   \n",
       "1  CBI says UK recession could turn into a 'lost ...   \n",
       "2  Opinion: Elon Musk's Twitter is helping to nor...   \n",
       "3  Foxconn dice que está restaurando la producció...   \n",
       "4  Presentadores Amy Robach y T.J. Holmes, de “Go...   \n",
       "\n",
       "                                             article  id  orig_id  \\\n",
       "0  The US economy gained 263,000 jobs in November...   0        0   \n",
       "1  The United Kingdom faces a “lost decade” of gr...   0        0   \n",
       "2  Elon Musk apparently is trying his hand at cre...   0        0   \n",
       "3                                    Por Juliana Liu   0        0   \n",
       "4                                                      0        0   \n",
       "\n",
       "                                        summary_text  \n",
       "0  The US economy gained 263,000 jobs in November...  \n",
       "1  The UK economy faces a \"lost decade\" of growth...  \n",
       "2  Elon Musk released the “Twitter Files” from Oc...  \n",
       "3  Juliana Liu is a writer and photographer. She ...  \n",
       "4                                                NaN  "
      ]
     },
     "execution_count": 30,
     "metadata": {},
     "output_type": "execute_result"
    }
   ],
   "source": [
    "%%time\n",
    "# summarizing articles into 150 words with distilbart-cnn\n",
    "df_distillbart['summary_text'] = df_distillbart.article[:4].apply(lambda article: query({'inputs':article})[0]['summary_text'])\n",
    "df_distillbart"
   ]
  },
  {
   "cell_type": "code",
   "execution_count": 31,
   "id": "8c83bb4e",
   "metadata": {},
   "outputs": [
    {
     "name": "stdout",
     "output_type": "stream",
     "text": [
      "Bert CNN Large : \n",
      "The US economy gained 263,000 jobs in November, 63,000 above the consensus estimate. The larger surprise was that average hourly earnings rose by 0.55%, the fastest pace since January. The Fed’s strategy to rein in inflation by raising interest rates isn’t quite working and that more painful interest rate hikes are coming.\n",
      "\n",
      "\n",
      " *  *  *  *  *  *  *  *  *  *  *  *  *  *  *  *  *  *  *  * \n",
      "\n",
      "\n",
      "Distillbart summary : \n",
      "The US economy gained 263,000 jobs in November. Average hourly earnings rose by 0.55%, the fastest pace since January. The Fed's strategy to rein in inflation by raising interest rates isn't working. The dream of a sudden surge in the supply of labor is over, according to Fed Chairman Jerome Powell.\n"
     ]
    }
   ],
   "source": [
    "print('Bert CNN Large : ')\n",
    "print(df_bart_large.summary_text[0])\n",
    "print('\\n')\n",
    "print(' * ' * 20)\n",
    "print('\\n')\n",
    "print('Distillbart summary : ')\n",
    "print(df_distillbart.summary_text[0])"
   ]
  },
  {
   "cell_type": "code",
   "execution_count": null,
   "id": "ed83f476",
   "metadata": {},
   "outputs": [],
   "source": []
  }
 ],
 "metadata": {
  "kernelspec": {
   "display_name": "Python 3 (ipykernel)",
   "language": "python",
   "name": "python3"
  },
  "language_info": {
   "codemirror_mode": {
    "name": "ipython",
    "version": 3
   },
   "file_extension": ".py",
   "mimetype": "text/x-python",
   "name": "python",
   "nbconvert_exporter": "python",
   "pygments_lexer": "ipython3",
   "version": "3.8.12"
  },
  "toc": {
   "base_numbering": 1,
   "nav_menu": {},
   "number_sections": true,
   "sideBar": true,
   "skip_h1_title": false,
   "title_cell": "Table of Contents",
   "title_sidebar": "Contents",
   "toc_cell": false,
   "toc_position": {},
   "toc_section_display": true,
   "toc_window_display": false
  },
  "vscode": {
   "interpreter": {
    "hash": "78f3f459ebdc1c78b9c1540d68e2d3f636528b8935b8b4802550105d1d4dfc22"
   }
  }
 },
 "nbformat": 4,
 "nbformat_minor": 5
}
