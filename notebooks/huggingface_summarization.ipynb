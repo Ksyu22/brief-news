{
 "cells": [
  {
   "cell_type": "markdown",
   "id": "8fbf940b",
   "metadata": {},
   "source": [
    "## HuggingFace Summarization Transformers"
   ]
  },
  {
   "cell_type": "code",
   "execution_count": 10,
   "id": "f71a6fff",
   "metadata": {},
   "outputs": [
    {
     "name": "stdout",
     "output_type": "stream",
     "text": [
      "The autoreload extension is already loaded. To reload it, use:\n",
      "  %reload_ext autoreload\n"
     ]
    }
   ],
   "source": [
    "%load_ext autoreload\n",
    "%autoreload 2"
   ]
  },
  {
   "cell_type": "code",
   "execution_count": 17,
   "id": "757278f0",
   "metadata": {},
   "outputs": [],
   "source": [
    "from brief_news.interface.main import get_articles\n",
    "from brief_news.ml_logic.params import HUGGING_API_TOKEN\n",
    "\n",
    "import tensorflow\n",
    "import json\n",
    "import requests\n",
    "import pandas as pd\n",
    "from itertools import chain\n",
    "from transformers import pipeline\n",
    "\n",
    "from dotenv import load_dotenv, find_dotenv\n",
    "import os"
   ]
  },
  {
   "cell_type": "markdown",
   "id": "1c1d05fc",
   "metadata": {},
   "source": [
    "## Loading data\n",
    "\n",
    "Calling the module:\n",
    "  - gets links from NewsApi\n",
    "  - scrapes webpages"
   ]
  },
  {
   "cell_type": "code",
   "execution_count": 36,
   "id": "007c1185",
   "metadata": {},
   "outputs": [
    {
     "name": "stdout",
     "output_type": "stream",
     "text": [
      "CPU times: user 850 ms, sys: 269 ms, total: 1.12 s\n",
      "Wall time: 3.16 s\n"
     ]
    }
   ],
   "source": [
    "%%time\n",
    "# getting actual articles from module\n",
    "articles_df = get_articles('sports')"
   ]
  },
  {
   "cell_type": "code",
   "execution_count": 37,
   "id": "2efe2187",
   "metadata": {},
   "outputs": [
    {
     "data": {
      "text/html": [
       "<div>\n",
       "<style scoped>\n",
       "    .dataframe tbody tr th:only-of-type {\n",
       "        vertical-align: middle;\n",
       "    }\n",
       "\n",
       "    .dataframe tbody tr th {\n",
       "        vertical-align: top;\n",
       "    }\n",
       "\n",
       "    .dataframe thead th {\n",
       "        text-align: right;\n",
       "    }\n",
       "</style>\n",
       "<table border=\"1\" class=\"dataframe\">\n",
       "  <thead>\n",
       "    <tr style=\"text-align: right;\">\n",
       "      <th></th>\n",
       "      <th>title</th>\n",
       "      <th>article</th>\n",
       "      <th>id</th>\n",
       "      <th>orig_id</th>\n",
       "    </tr>\n",
       "  </thead>\n",
       "  <tbody>\n",
       "    <tr>\n",
       "      <th>0</th>\n",
       "      <td>Cómo ver el partido Inglaterra - Francia por t...</td>\n",
       "      <td>Por CNN Español</td>\n",
       "      <td>0</td>\n",
       "      <td>0</td>\n",
       "    </tr>\n",
       "    <tr>\n",
       "      <th>1</th>\n",
       "      <td>Deion Sanders decided to stop coaching at HBCU...</td>\n",
       "      <td>College football fans and HBCU alumni are stil...</td>\n",
       "      <td>0</td>\n",
       "      <td>0</td>\n",
       "    </tr>\n",
       "    <tr>\n",
       "      <th>2</th>\n",
       "      <td>Brittney Griner release: After release from Ru...</td>\n",
       "      <td>After being imprisoned in Russia for nearly 10...</td>\n",
       "      <td>0</td>\n",
       "      <td>0</td>\n",
       "    </tr>\n",
       "    <tr>\n",
       "      <th>3</th>\n",
       "      <td>Kylian Mbappé is reaching speeds of 22 miles p...</td>\n",
       "      <td>Ahead of its World Cup quarterfinal against Fr...</td>\n",
       "      <td>0</td>\n",
       "      <td>0</td>\n",
       "    </tr>\n",
       "    <tr>\n",
       "      <th>4</th>\n",
       "      <td>World Cup quarterfinals: Morocco on the verge ...</td>\n",
       "      <td>Morocco already caused the upset of the round ...</td>\n",
       "      <td>0</td>\n",
       "      <td>0</td>\n",
       "    </tr>\n",
       "  </tbody>\n",
       "</table>\n",
       "</div>"
      ],
      "text/plain": [
       "                                               title  \\\n",
       "0  Cómo ver el partido Inglaterra - Francia por t...   \n",
       "1  Deion Sanders decided to stop coaching at HBCU...   \n",
       "2  Brittney Griner release: After release from Ru...   \n",
       "3  Kylian Mbappé is reaching speeds of 22 miles p...   \n",
       "4  World Cup quarterfinals: Morocco on the verge ...   \n",
       "\n",
       "                                             article  id  orig_id  \n",
       "0                                    Por CNN Español   0        0  \n",
       "1  College football fans and HBCU alumni are stil...   0        0  \n",
       "2  After being imprisoned in Russia for nearly 10...   0        0  \n",
       "3  Ahead of its World Cup quarterfinal against Fr...   0        0  \n",
       "4  Morocco already caused the upset of the round ...   0        0  "
      ]
     },
     "execution_count": 37,
     "metadata": {},
     "output_type": "execute_result"
    }
   ],
   "source": [
    "articles_df"
   ]
  },
  {
   "cell_type": "code",
   "execution_count": 38,
   "id": "258650e3",
   "metadata": {},
   "outputs": [
    {
     "data": {
      "text/plain": [
       "'Por CNN Español'"
      ]
     },
     "execution_count": 38,
     "metadata": {},
     "output_type": "execute_result"
    }
   ],
   "source": [
    "articles_df.article[0]"
   ]
  },
  {
   "cell_type": "code",
   "execution_count": 39,
   "id": "a5669527",
   "metadata": {},
   "outputs": [
    {
     "data": {
      "text/plain": [
       "'Cómo ver el partido Inglaterra - Francia por televisión e internet'"
      ]
     },
     "execution_count": 39,
     "metadata": {},
     "output_type": "execute_result"
    }
   ],
   "source": [
    "articles_df.title[0]"
   ]
  },
  {
   "cell_type": "markdown",
   "id": "9844682d",
   "metadata": {},
   "source": [
    "## Testing API bart-large-cnn\n",
    "\n",
    "Calling HuggingFace API"
   ]
  },
  {
   "cell_type": "code",
   "execution_count": 40,
   "id": "0fc10893",
   "metadata": {},
   "outputs": [],
   "source": [
    "hf_token = HUGGING_API_TOKEN"
   ]
  },
  {
   "cell_type": "code",
   "execution_count": 41,
   "id": "8c0cbee4",
   "metadata": {},
   "outputs": [],
   "source": [
    "headers = {\"Authorization\": f\"Bearer {hf_token}\"}\n",
    "API_URL = \"https://api-inference.huggingface.co/models/facebook/bart-large-cnn\"\n",
    "\n",
    "def query(payload):\n",
    "    \"\"\"\n",
    "    Function sends post request to hugging face api for 'summarization' service\n",
    "    with bart-large-cnn model\n",
    "    \"\"\"\n",
    "    data = json.dumps(payload)\n",
    "    response = requests.request(\"POST\", API_URL, headers=headers, data=data)\n",
    "    return json.loads(response.content.decode(\"utf-8\"))\n"
   ]
  },
  {
   "cell_type": "code",
   "execution_count": 42,
   "id": "ab0b7f38",
   "metadata": {},
   "outputs": [
    {
     "data": {
      "text/html": [
       "<div>\n",
       "<style scoped>\n",
       "    .dataframe tbody tr th:only-of-type {\n",
       "        vertical-align: middle;\n",
       "    }\n",
       "\n",
       "    .dataframe tbody tr th {\n",
       "        vertical-align: top;\n",
       "    }\n",
       "\n",
       "    .dataframe thead th {\n",
       "        text-align: right;\n",
       "    }\n",
       "</style>\n",
       "<table border=\"1\" class=\"dataframe\">\n",
       "  <thead>\n",
       "    <tr style=\"text-align: right;\">\n",
       "      <th></th>\n",
       "      <th>title</th>\n",
       "      <th>article</th>\n",
       "      <th>id</th>\n",
       "      <th>orig_id</th>\n",
       "    </tr>\n",
       "  </thead>\n",
       "  <tbody>\n",
       "    <tr>\n",
       "      <th>0</th>\n",
       "      <td>Cómo ver el partido Inglaterra - Francia por t...</td>\n",
       "      <td>Por CNN Español</td>\n",
       "      <td>0</td>\n",
       "      <td>0</td>\n",
       "    </tr>\n",
       "    <tr>\n",
       "      <th>1</th>\n",
       "      <td>Deion Sanders decided to stop coaching at HBCU...</td>\n",
       "      <td>College football fans and HBCU alumni are stil...</td>\n",
       "      <td>0</td>\n",
       "      <td>0</td>\n",
       "    </tr>\n",
       "    <tr>\n",
       "      <th>2</th>\n",
       "      <td>Brittney Griner release: After release from Ru...</td>\n",
       "      <td>After being imprisoned in Russia for nearly 10...</td>\n",
       "      <td>0</td>\n",
       "      <td>0</td>\n",
       "    </tr>\n",
       "    <tr>\n",
       "      <th>3</th>\n",
       "      <td>Kylian Mbappé is reaching speeds of 22 miles p...</td>\n",
       "      <td>Ahead of its World Cup quarterfinal against Fr...</td>\n",
       "      <td>0</td>\n",
       "      <td>0</td>\n",
       "    </tr>\n",
       "    <tr>\n",
       "      <th>4</th>\n",
       "      <td>World Cup quarterfinals: Morocco on the verge ...</td>\n",
       "      <td>Morocco already caused the upset of the round ...</td>\n",
       "      <td>0</td>\n",
       "      <td>0</td>\n",
       "    </tr>\n",
       "  </tbody>\n",
       "</table>\n",
       "</div>"
      ],
      "text/plain": [
       "                                               title  \\\n",
       "0  Cómo ver el partido Inglaterra - Francia por t...   \n",
       "1  Deion Sanders decided to stop coaching at HBCU...   \n",
       "2  Brittney Griner release: After release from Ru...   \n",
       "3  Kylian Mbappé is reaching speeds of 22 miles p...   \n",
       "4  World Cup quarterfinals: Morocco on the verge ...   \n",
       "\n",
       "                                             article  id  orig_id  \n",
       "0                                    Por CNN Español   0        0  \n",
       "1  College football fans and HBCU alumni are stil...   0        0  \n",
       "2  After being imprisoned in Russia for nearly 10...   0        0  \n",
       "3  Ahead of its World Cup quarterfinal against Fr...   0        0  \n",
       "4  Morocco already caused the upset of the round ...   0        0  "
      ]
     },
     "execution_count": 42,
     "metadata": {},
     "output_type": "execute_result"
    }
   ],
   "source": [
    "df_bart_large = articles_df.copy()\n",
    "df_bart_large"
   ]
  },
  {
   "cell_type": "code",
   "execution_count": 46,
   "id": "3ed3e1ab",
   "metadata": {},
   "outputs": [
    {
     "name": "stdout",
     "output_type": "stream",
     "text": [
      "CPU times: user 83.4 ms, sys: 9.39 ms, total: 92.8 ms\n",
      "Wall time: 28.1 s\n"
     ]
    },
    {
     "data": {
      "text/html": [
       "<div>\n",
       "<style scoped>\n",
       "    .dataframe tbody tr th:only-of-type {\n",
       "        vertical-align: middle;\n",
       "    }\n",
       "\n",
       "    .dataframe tbody tr th {\n",
       "        vertical-align: top;\n",
       "    }\n",
       "\n",
       "    .dataframe thead th {\n",
       "        text-align: right;\n",
       "    }\n",
       "</style>\n",
       "<table border=\"1\" class=\"dataframe\">\n",
       "  <thead>\n",
       "    <tr style=\"text-align: right;\">\n",
       "      <th></th>\n",
       "      <th>title</th>\n",
       "      <th>article</th>\n",
       "      <th>id</th>\n",
       "      <th>orig_id</th>\n",
       "      <th>summary_text</th>\n",
       "    </tr>\n",
       "  </thead>\n",
       "  <tbody>\n",
       "    <tr>\n",
       "      <th>0</th>\n",
       "      <td>Cómo ver el partido Inglaterra - Francia por t...</td>\n",
       "      <td>Por CNN Español</td>\n",
       "      <td>0</td>\n",
       "      <td>0</td>\n",
       "      <td>None</td>\n",
       "    </tr>\n",
       "    <tr>\n",
       "      <th>1</th>\n",
       "      <td>Deion Sanders decided to stop coaching at HBCU...</td>\n",
       "      <td>College football fans and HBCU alumni are stil...</td>\n",
       "      <td>0</td>\n",
       "      <td>0</td>\n",
       "      <td>Deion Sanders announced his departure from Jac...</td>\n",
       "    </tr>\n",
       "    <tr>\n",
       "      <th>2</th>\n",
       "      <td>Brittney Griner release: After release from Ru...</td>\n",
       "      <td>After being imprisoned in Russia for nearly 10...</td>\n",
       "      <td>0</td>\n",
       "      <td>0</td>\n",
       "      <td>Brittney Griner arrives at Brooke Army Medical...</td>\n",
       "    </tr>\n",
       "    <tr>\n",
       "      <th>3</th>\n",
       "      <td>Kylian Mbappé is reaching speeds of 22 miles p...</td>\n",
       "      <td>Ahead of its World Cup quarterfinal against Fr...</td>\n",
       "      <td>0</td>\n",
       "      <td>0</td>\n",
       "      <td>Kylian Mbappé has scored five goals at the Wor...</td>\n",
       "    </tr>\n",
       "    <tr>\n",
       "      <th>4</th>\n",
       "      <td>World Cup quarterfinals: Morocco on the verge ...</td>\n",
       "      <td>Morocco already caused the upset of the round ...</td>\n",
       "      <td>0</td>\n",
       "      <td>0</td>\n",
       "      <td>Morocco takes on Portugal in the quarterfinals...</td>\n",
       "    </tr>\n",
       "  </tbody>\n",
       "</table>\n",
       "</div>"
      ],
      "text/plain": [
       "                                               title  \\\n",
       "0  Cómo ver el partido Inglaterra - Francia por t...   \n",
       "1  Deion Sanders decided to stop coaching at HBCU...   \n",
       "2  Brittney Griner release: After release from Ru...   \n",
       "3  Kylian Mbappé is reaching speeds of 22 miles p...   \n",
       "4  World Cup quarterfinals: Morocco on the verge ...   \n",
       "\n",
       "                                             article  id  orig_id  \\\n",
       "0                                    Por CNN Español   0        0   \n",
       "1  College football fans and HBCU alumni are stil...   0        0   \n",
       "2  After being imprisoned in Russia for nearly 10...   0        0   \n",
       "3  Ahead of its World Cup quarterfinal against Fr...   0        0   \n",
       "4  Morocco already caused the upset of the round ...   0        0   \n",
       "\n",
       "                                        summary_text  \n",
       "0                                               None  \n",
       "1  Deion Sanders announced his departure from Jac...  \n",
       "2  Brittney Griner arrives at Brooke Army Medical...  \n",
       "3  Kylian Mbappé has scored five goals at the Wor...  \n",
       "4  Morocco takes on Portugal in the quarterfinals...  "
      ]
     },
     "execution_count": 46,
     "metadata": {},
     "output_type": "execute_result"
    }
   ],
   "source": [
    "%%time\n",
    "# summarizing articles into 150 words with facebook/bart-large-cnn\n",
    "df_bart_large['summary_text'] = df_bart_large['article'].apply(lambda article: query({'inputs':article, \"parameters\": {\"max_length\": 150}})[0]['summary_text'] if len(article.split()) > 10 else None)\n",
    "df_bart_large"
   ]
  },
  {
   "cell_type": "code",
   "execution_count": 48,
   "id": "c7d0c34a",
   "metadata": {},
   "outputs": [
    {
     "name": "stdout",
     "output_type": "stream",
     "text": [
      "Article : \n",
      "College football fans and HBCU alumni are still coming to terms with Deion Sanders announcing his departure from Jackson State University for his new head coaching gig at the University of Colorado. The move struck a chord, especially among alumni of the Mississippi college, with some calling Sanders a “sell out” for leaving the historically Black JSU for the predominantly white CU. Others are angry about him selling the dream of changing the athletic culture at historically Black colleges and universities, or HBCUs, across the US and leaving after only three years. While some were hopeful about everything Sanders said he could accomplish for JSU and other HBCUs, they “failed to realize this history of segregation, the history of integration and the history of the way TV contracts work really put these schools behind the 8-ball, so to speak,” said Louis Moore, a history professor at Grand Valley State University in Michigan. It’s complicated, but the anger, confusion and disappointment about Sanders’ move stem from a culture of loyalty and reverence for history that’s unique to HBCUs, experts told CNN. But Coach Prime’s exit also highlights a decades long discussion about equity in collegiate athletics. Here’s a look into the conversation that fueled this week’s debate: Sanders had been coaching the JSU Tigers the past three seasons, compiling a 26-5 record and most recently winning the Southwestern Athletic Conference championship over Southern University. The school took a chance on Sanders, who had no collegiate coaching experience. He’d previously been the offensive coordinator at Trinity Christian School, a private school near Dallas. What he did bring was exposure, to both Jackson State and HBCUs overall. “I could be an assistant in any college, or a head coach in any college, but at such a time as this, God called me to Jackson State and me to these men,” Sanders said in 2020 when it was announced he’d be the new JSU head coach. Sanders also promised to the change the HBCU landscape, in essence becoming a savior of HBCU athletics and putting these schools on the map. He did that, sort of. Since his arrival, JSU was featured on ESPN’s “First Take” and ABC’s “Good Morning America.” The school was showcased at the 2021 NBA All-Star Game, and even featured in a Pepsi ad. Sanders also donated half his salary to complete renovations to the school’s football stadium, according to CNN affiliate WLBT-TV. All of this in the span of three years gave many hope he was in it for the long run. That, obviously, was not the case. “You weren’t going to bring this attention to all these other schools in the time period he was there. If he was really going to accomplish that, that’s a 10-year program, at least,” sports journalist Bomani Jones, a Clark Atlanta University alumnus, told CNN’s Don Lemon this week. Additionally, what Sanders didn’t take into consideration was the culture of loyalty at HBCUs. “There is an assumption that HBCUs breed this loyalty, definitely among it’s alumni, definitely among athletes and supposedly among coaches and Deion Sanders demystified that,” said Billy Hawkins, a professor at the University of Houston and the author of “The New Plantation: Black Athletes, College Sports, and Predominantly White NCAA Institutions.” Two HBCU coaches known for their long tenures include Eddie Robinson, Grambling State University’s head football coach between the 1940s and 1990s, and Jake Gaither who led Florida A&M’s program from 1945 to 1969, according to the Black College Football Hall of Fame. But, it’s problematic to expect coaches to stay for such a long time, Hawkins said. “When you look at HBCUs, they’re probably the only institutions that had that type of institutional memory in athletic coaching even (predominantly white institutions) have only had maybe a few that have hung around 10, 15, 20 years,” he said. Sanders arrival and departure from Jackson State speaks to many issues of history and equity. HBCUs were created for Black Americans who were barred from attending predominantly white institutions, or PWIs. Officials at these institutions initially did not even want sports programs because Black athletes rarely went professional in the late 1800s and early 1900s, Hawkins said. Despite this, football was introduced at HBCUs in the 1890s, according to the nonprofit African American Registry. It wasn’t until after World War II that the golden age of Black college football began and HBCUs were producing more talent per capita than just about any other school in the country, said Derrick E. White, a history professor at the University of Kentucky and half of “The Black Athlete” podcast. “These schools (had) tiny budgets, but because of segregation were able to produce this wealth of talent,” White said. Between 1961 and 2002, Jackson State had 94 players drafted into the NFL. The school had 11 players drafted in 1968, breaking a then Mississippi state record, according its website. Integration in the late 1960s and early 1970s ended the golden age. “HBCUs used to be seen as the mecca of Black intellectual ability, now with the drain that took place or the migration of Blacks to PWIs – both as students and as athletes – there is that perception that they’re less than,” Hawkins said. “Along with this absence of resources, there is also notion and ideology of intellectual inferiority and I think that spills over into athletics as well, thus they don’t necessarily receive the same types of sponsorships and endorsements because there’s this assumption there’s an inferior performance.” A 1984 Supreme Court ruling widened the gap between HBCUs and their counterparts even more. The ruling said the NCAA could no longer control whose games aired on television. Conferences – like the SEC, ACC and Big 10 – were now able to negotiate with TV networks directly. “All small colleges get shut out of this TV funding model because people on ABC don’t want to see Dartmouth or Grambling,” White said, adding that smaller Division I schools learned to depend on donors who had millions to pour into their college programs. And historically, because of a lack of generational wealth among many Black families in the US, HBCUs don’t have that wealthy donor base. So, combine a history of segregation, a loss of resources to integration and lack of equity getting multimillion dollar TV deals, and HBCUs get left behind financially and athletically. Then comes Sanders, who talked about rebuilding the JSU brand, bringing in recruits and amplifying HBCUs to the mainstream. “He sold the big dream. Now if you paid any attention, you knew the dream he was selling wasn’t possible – it was not an achievable one that he had – but he sold it and he got people to believe it, then he chucked the deuce and left,” Jones, the sports journalist, told CNN’s Don Lemon. Sanders move out west also highlights another issue in college sports, a lack of Black head coaches in big league schools. His move is definitely progress for Black coaches in college football. Sanders is one of three HBCU coaches to go to a PWI, experts say, and the first to go to a Power 5 school. A Black head coach has also never won a Football Bowl Subdivision – the top tier of Division I – national championship. “They don’t get a chance,” said Moore, the Grand Valley State professor and other half of “The Black Athlete” podcast. Recent years have seen a resurgence of interest in HBCUs from the election of Vice President Kamala Harris, a Howard University alumna, to companies increasing recruitment among HBCU students and Ralph Lauren collaborating with Morehouse and Spelman Colleges in Atlanta. The New York Times even reported the current climate has led elite Black students to choose HBCUs over elite PWIs. Sanders was part of this resurgence and played his part, bringing even more eyes to these schools. “Nobody was talking about HBCUs,” said Shannon Sharpe, a Hall of Famer and HBCU alumnus, on his Fox show “Undisputed.” “They’re on television and that’s because of him,” Sharpe said of Sanders. “He gave you the blueprint, now follow the blueprint.” Part of that blueprint, experts said, is HBCUs not needing to imitate PWIs, but instead  remembering the product that makes them unique to their fan base. “At HBCUs, the entire experience is a cultural expression,” Hawkins said, referring to the marching bands and their electrifying halftime shows that make football games a combination of music and sports. The schools also offer a space for Black students where they don’t have to represent the entire race, said White, the University of Kentucky professor. Remembering these elements about what makes the experience unique will help Jackson State move forward after Sanders. “It’s gonna take a visionary administrator, not just an athletic director, … to wed to the academic mission, the cultural mission and the athletic mission to really propel not just the individual school forward, but all Black schools.”\n",
      "\n",
      "\n",
      " *  *  *  *  *  *  *  *  *  *  *  *  *  *  *  *  *  *  *  * \n",
      "\n",
      "\n",
      "Summary : \n",
      "Deion Sanders announced his departure from Jackson State University for his new head coaching gig at the University of Colorado. The move struck a chord, especially among alumni of the Mississippi college. Some are angry about him selling the dream of changing the athletic culture at historically Black colleges and universities, or HBCUs.\n"
     ]
    }
   ],
   "source": [
    "print('Article : ')\n",
    "print(df_bart_large['article'][1])\n",
    "print('\\n')\n",
    "print(' * ' * 20)\n",
    "print('\\n')\n",
    "print('Summary : ')\n",
    "print(df_bart_large['summary_text'][1])"
   ]
  },
  {
   "cell_type": "markdown",
   "id": "fbcc11dd",
   "metadata": {},
   "source": [
    "### Distilbart"
   ]
  },
  {
   "cell_type": "code",
   "execution_count": 51,
   "id": "0acefcf4",
   "metadata": {
    "scrolled": true
   },
   "outputs": [
    {
     "data": {
      "text/html": [
       "<div>\n",
       "<style scoped>\n",
       "    .dataframe tbody tr th:only-of-type {\n",
       "        vertical-align: middle;\n",
       "    }\n",
       "\n",
       "    .dataframe tbody tr th {\n",
       "        vertical-align: top;\n",
       "    }\n",
       "\n",
       "    .dataframe thead th {\n",
       "        text-align: right;\n",
       "    }\n",
       "</style>\n",
       "<table border=\"1\" class=\"dataframe\">\n",
       "  <thead>\n",
       "    <tr style=\"text-align: right;\">\n",
       "      <th></th>\n",
       "      <th>title</th>\n",
       "      <th>article</th>\n",
       "      <th>id</th>\n",
       "      <th>orig_id</th>\n",
       "    </tr>\n",
       "  </thead>\n",
       "  <tbody>\n",
       "    <tr>\n",
       "      <th>0</th>\n",
       "      <td>Cómo ver el partido Inglaterra - Francia por t...</td>\n",
       "      <td>Por CNN Español</td>\n",
       "      <td>0</td>\n",
       "      <td>0</td>\n",
       "    </tr>\n",
       "    <tr>\n",
       "      <th>1</th>\n",
       "      <td>Deion Sanders decided to stop coaching at HBCU...</td>\n",
       "      <td>College football fans and HBCU alumni are stil...</td>\n",
       "      <td>0</td>\n",
       "      <td>0</td>\n",
       "    </tr>\n",
       "    <tr>\n",
       "      <th>2</th>\n",
       "      <td>Brittney Griner release: After release from Ru...</td>\n",
       "      <td>After being imprisoned in Russia for nearly 10...</td>\n",
       "      <td>0</td>\n",
       "      <td>0</td>\n",
       "    </tr>\n",
       "    <tr>\n",
       "      <th>3</th>\n",
       "      <td>Kylian Mbappé is reaching speeds of 22 miles p...</td>\n",
       "      <td>Ahead of its World Cup quarterfinal against Fr...</td>\n",
       "      <td>0</td>\n",
       "      <td>0</td>\n",
       "    </tr>\n",
       "    <tr>\n",
       "      <th>4</th>\n",
       "      <td>World Cup quarterfinals: Morocco on the verge ...</td>\n",
       "      <td>Morocco already caused the upset of the round ...</td>\n",
       "      <td>0</td>\n",
       "      <td>0</td>\n",
       "    </tr>\n",
       "  </tbody>\n",
       "</table>\n",
       "</div>"
      ],
      "text/plain": [
       "                                               title  \\\n",
       "0  Cómo ver el partido Inglaterra - Francia por t...   \n",
       "1  Deion Sanders decided to stop coaching at HBCU...   \n",
       "2  Brittney Griner release: After release from Ru...   \n",
       "3  Kylian Mbappé is reaching speeds of 22 miles p...   \n",
       "4  World Cup quarterfinals: Morocco on the verge ...   \n",
       "\n",
       "                                             article  id  orig_id  \n",
       "0                                    Por CNN Español   0        0  \n",
       "1  College football fans and HBCU alumni are stil...   0        0  \n",
       "2  After being imprisoned in Russia for nearly 10...   0        0  \n",
       "3  Ahead of its World Cup quarterfinal against Fr...   0        0  \n",
       "4  Morocco already caused the upset of the round ...   0        0  "
      ]
     },
     "execution_count": 51,
     "metadata": {},
     "output_type": "execute_result"
    }
   ],
   "source": [
    "df_distillbart = articles_df.copy()\n",
    "df_distillbart"
   ]
  },
  {
   "cell_type": "code",
   "execution_count": 52,
   "id": "01024477",
   "metadata": {},
   "outputs": [],
   "source": [
    "API_URL_distilbart = \"https://api-inference.huggingface.co/models/philschmid/distilbart-cnn-12-6-samsum\"\n",
    "\n",
    "def query(payload):\n",
    "\tresponse = requests.post(API_URL_distilbart, headers=headers, json=payload)\n",
    "\treturn response.json()\n",
    "\t\n"
   ]
  },
  {
   "cell_type": "code",
   "execution_count": 54,
   "id": "0286924c",
   "metadata": {},
   "outputs": [
    {
     "data": {
      "text/plain": [
       "[{'summary_text': 'France and England will play each other in the last eight of the World Cup quarterfinals. Portugal will play Morocco in the quarterfinals against the Atlas Lions. The last time Portugal and England met was in the group stage of the 2018 World Cup in a frenetic game which Ronaldo settled with the only goal.'}]"
      ]
     },
     "execution_count": 54,
     "metadata": {},
     "output_type": "execute_result"
    }
   ],
   "source": [
    "data = query({'inputs': df_distillbart['article'][4]})\n",
    "data"
   ]
  },
  {
   "cell_type": "code",
   "execution_count": 57,
   "id": "6a543b77",
   "metadata": {},
   "outputs": [
    {
     "name": "stdout",
     "output_type": "stream",
     "text": [
      "CPU times: user 77.3 ms, sys: 9.54 ms, total: 86.9 ms\n",
      "Wall time: 1.97 s\n"
     ]
    },
    {
     "data": {
      "text/html": [
       "<div>\n",
       "<style scoped>\n",
       "    .dataframe tbody tr th:only-of-type {\n",
       "        vertical-align: middle;\n",
       "    }\n",
       "\n",
       "    .dataframe tbody tr th {\n",
       "        vertical-align: top;\n",
       "    }\n",
       "\n",
       "    .dataframe thead th {\n",
       "        text-align: right;\n",
       "    }\n",
       "</style>\n",
       "<table border=\"1\" class=\"dataframe\">\n",
       "  <thead>\n",
       "    <tr style=\"text-align: right;\">\n",
       "      <th></th>\n",
       "      <th>title</th>\n",
       "      <th>article</th>\n",
       "      <th>id</th>\n",
       "      <th>orig_id</th>\n",
       "      <th>summary_text</th>\n",
       "    </tr>\n",
       "  </thead>\n",
       "  <tbody>\n",
       "    <tr>\n",
       "      <th>0</th>\n",
       "      <td>Cómo ver el partido Inglaterra - Francia por t...</td>\n",
       "      <td>Por CNN Español</td>\n",
       "      <td>0</td>\n",
       "      <td>0</td>\n",
       "      <td>None</td>\n",
       "    </tr>\n",
       "    <tr>\n",
       "      <th>1</th>\n",
       "      <td>Deion Sanders decided to stop coaching at HBCU...</td>\n",
       "      <td>College football fans and HBCU alumni are stil...</td>\n",
       "      <td>0</td>\n",
       "      <td>0</td>\n",
       "      <td>Deion Sanders is leaving Jackson State Univers...</td>\n",
       "    </tr>\n",
       "    <tr>\n",
       "      <th>2</th>\n",
       "      <td>Brittney Griner release: After release from Ru...</td>\n",
       "      <td>After being imprisoned in Russia for nearly 10...</td>\n",
       "      <td>0</td>\n",
       "      <td>0</td>\n",
       "      <td>Brittney Griner arrived at Brooke Army Medica...</td>\n",
       "    </tr>\n",
       "    <tr>\n",
       "      <th>3</th>\n",
       "      <td>Kylian Mbappé is reaching speeds of 22 miles p...</td>\n",
       "      <td>Ahead of its World Cup quarterfinal against Fr...</td>\n",
       "      <td>0</td>\n",
       "      <td>0</td>\n",
       "      <td>Kylian Mbappé is the tournament's top scorer a...</td>\n",
       "    </tr>\n",
       "    <tr>\n",
       "      <th>4</th>\n",
       "      <td>World Cup quarterfinals: Morocco on the verge ...</td>\n",
       "      <td>Morocco already caused the upset of the round ...</td>\n",
       "      <td>0</td>\n",
       "      <td>0</td>\n",
       "      <td>France and England will play each other in the...</td>\n",
       "    </tr>\n",
       "  </tbody>\n",
       "</table>\n",
       "</div>"
      ],
      "text/plain": [
       "                                               title  \\\n",
       "0  Cómo ver el partido Inglaterra - Francia por t...   \n",
       "1  Deion Sanders decided to stop coaching at HBCU...   \n",
       "2  Brittney Griner release: After release from Ru...   \n",
       "3  Kylian Mbappé is reaching speeds of 22 miles p...   \n",
       "4  World Cup quarterfinals: Morocco on the verge ...   \n",
       "\n",
       "                                             article  id  orig_id  \\\n",
       "0                                    Por CNN Español   0        0   \n",
       "1  College football fans and HBCU alumni are stil...   0        0   \n",
       "2  After being imprisoned in Russia for nearly 10...   0        0   \n",
       "3  Ahead of its World Cup quarterfinal against Fr...   0        0   \n",
       "4  Morocco already caused the upset of the round ...   0        0   \n",
       "\n",
       "                                        summary_text  \n",
       "0                                               None  \n",
       "1  Deion Sanders is leaving Jackson State Univers...  \n",
       "2   Brittney Griner arrived at Brooke Army Medica...  \n",
       "3  Kylian Mbappé is the tournament's top scorer a...  \n",
       "4  France and England will play each other in the...  "
      ]
     },
     "execution_count": 57,
     "metadata": {},
     "output_type": "execute_result"
    }
   ],
   "source": [
    "%%time\n",
    "# summarizing articles into 150 words with distilbart-cnn\n",
    "df_distillbart['summary_text'] = df_distillbart.article.apply(lambda article: query({'inputs':article})[0]['summary_text'] if len(article.split()) > 10 else None)\n",
    "df_distillbart"
   ]
  },
  {
   "cell_type": "code",
   "execution_count": 58,
   "id": "8c83bb4e",
   "metadata": {},
   "outputs": [
    {
     "name": "stdout",
     "output_type": "stream",
     "text": [
      "Bert CNN Large : \n",
      "Morocco takes on Portugal in the quarterfinals of the World Cup. The Atlas Lions are the first African side to qualify for the last eight in over a decade. Portugal's Cristiano Ronaldo was dropped by Fernando Santos. England takes on France in the final game of the day.\n",
      "\n",
      "\n",
      " *  *  *  *  *  *  *  *  *  *  *  *  *  *  *  *  *  *  *  * \n",
      "\n",
      "\n",
      "Distillbart summary : \n",
      "France and England will play each other in the last eight of the World Cup quarterfinals. Portugal will play Morocco in the quarterfinals against the Atlas Lions. The last time Portugal and England met was in the group stage of the 2018 World Cup in a frenetic game which Ronaldo settled with the only goal.\n"
     ]
    }
   ],
   "source": [
    "print('Bert CNN Large : ')\n",
    "print(df_bart_large.summary_text[4])\n",
    "print('\\n')\n",
    "print(' * ' * 20)\n",
    "print('\\n')\n",
    "print('Distillbart summary : ')\n",
    "print(df_distillbart.summary_text[4])"
   ]
  },
  {
   "cell_type": "code",
   "execution_count": null,
   "id": "ed83f476",
   "metadata": {},
   "outputs": [],
   "source": []
  }
 ],
 "metadata": {
  "kernelspec": {
   "display_name": "Python 3 (ipykernel)",
   "language": "python",
   "name": "python3"
  },
  "language_info": {
   "codemirror_mode": {
    "name": "ipython",
    "version": 3
   },
   "file_extension": ".py",
   "mimetype": "text/x-python",
   "name": "python",
   "nbconvert_exporter": "python",
   "pygments_lexer": "ipython3",
   "version": "3.8.12"
  },
  "toc": {
   "base_numbering": 1,
   "nav_menu": {},
   "number_sections": true,
   "sideBar": true,
   "skip_h1_title": false,
   "title_cell": "Table of Contents",
   "title_sidebar": "Contents",
   "toc_cell": false,
   "toc_position": {},
   "toc_section_display": true,
   "toc_window_display": false
  },
  "vscode": {
   "interpreter": {
    "hash": "78f3f459ebdc1c78b9c1540d68e2d3f636528b8935b8b4802550105d1d4dfc22"
   }
  }
 },
 "nbformat": 4,
 "nbformat_minor": 5
}
