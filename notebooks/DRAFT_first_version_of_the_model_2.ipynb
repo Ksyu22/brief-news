{
 "cells": [
  {
   "cell_type": "markdown",
   "metadata": {},
   "source": [
    "# Preprocessing"
   ]
  },
  {
   "cell_type": "markdown",
   "metadata": {},
   "source": [
    "## Install / Import all Python Modules Required"
   ]
  },
  {
   "cell_type": "code",
   "execution_count": 1,
   "metadata": {
    "colab": {
     "base_uri": "https://localhost:8080/"
    },
    "id": "DaPSqT6fPMwt",
    "outputId": "ec96648b-6f78-4a86-f1a4-770f657bbab1"
   },
   "outputs": [
    {
     "name": "stdout",
     "output_type": "stream",
     "text": [
      "Requirement already satisfied: contractions in /Users/christianschultes/.pyenv/versions/3.8.12/envs/brief-news/lib/python3.8/site-packages (0.1.73)\n",
      "Requirement already satisfied: textsearch>=0.0.21 in /Users/christianschultes/.pyenv/versions/3.8.12/envs/brief-news/lib/python3.8/site-packages (from contractions) (0.0.24)\n",
      "Requirement already satisfied: anyascii in /Users/christianschultes/.pyenv/versions/3.8.12/envs/brief-news/lib/python3.8/site-packages (from textsearch>=0.0.21->contractions) (0.3.1)\n",
      "Requirement already satisfied: pyahocorasick in /Users/christianschultes/.pyenv/versions/3.8.12/envs/brief-news/lib/python3.8/site-packages (from textsearch>=0.0.21->contractions) (1.4.4)\n"
     ]
    }
   ],
   "source": [
    "! pip install contractions"
   ]
  },
  {
   "cell_type": "code",
   "execution_count": 2,
   "metadata": {
    "colab": {
     "base_uri": "https://localhost:8080/"
    },
    "id": "WGSP1XuGewDX",
    "outputId": "af2f8367-257a-48b9-f314-e02e8e01e0dd"
   },
   "outputs": [
    {
     "name": "stdout",
     "output_type": "stream",
     "text": [
      "Requirement already satisfied: python-dotenv in /Users/christianschultes/.pyenv/versions/3.8.12/envs/brief-news/lib/python3.8/site-packages (0.21.0)\r\n"
     ]
    }
   ],
   "source": [
    "! pip install python-dotenv"
   ]
  },
  {
   "cell_type": "code",
   "execution_count": 3,
   "metadata": {},
   "outputs": [
    {
     "name": "stdout",
     "output_type": "stream",
     "text": [
      "Requirement already satisfied: nltk in /Users/christianschultes/.pyenv/versions/3.8.12/envs/brief-news/lib/python3.8/site-packages (3.7)\n",
      "Requirement already satisfied: tqdm in /Users/christianschultes/.pyenv/versions/3.8.12/envs/brief-news/lib/python3.8/site-packages (from nltk) (4.64.1)\n",
      "Requirement already satisfied: click in /Users/christianschultes/.pyenv/versions/3.8.12/envs/brief-news/lib/python3.8/site-packages (from nltk) (8.1.3)\n",
      "Requirement already satisfied: joblib in /Users/christianschultes/.pyenv/versions/3.8.12/envs/brief-news/lib/python3.8/site-packages (from nltk) (1.2.0)\n",
      "Requirement already satisfied: regex>=2021.8.3 in /Users/christianschultes/.pyenv/versions/3.8.12/envs/brief-news/lib/python3.8/site-packages (from nltk) (2022.10.31)\n"
     ]
    }
   ],
   "source": [
    "! pip install nltk"
   ]
  },
  {
   "cell_type": "code",
   "execution_count": 4,
   "metadata": {
    "id": "Ba9EcWEhOvBP"
   },
   "outputs": [],
   "source": [
    "import pandas as pd\n",
    "import matplotlib.pyplot as plt\n",
    "\n",
    "import re\n",
    "import string\n",
    "import contractions\n",
    "from nltk.corpus import stopwords\n",
    "from nltk.tokenize import word_tokenize\n",
    "\n",
    "from tensorflow.keras.preprocessing.text import Tokenizer \n",
    "from tensorflow.keras.preprocessing.sequence import pad_sequences\n",
    "\n",
    "\n",
    "from dotenv import load_dotenv, find_dotenv\n",
    "import os"
   ]
  },
  {
   "cell_type": "code",
   "execution_count": 5,
   "metadata": {
    "id": "kXHZoChaOu2c"
   },
   "outputs": [],
   "source": [
    "pd.set_option('display.max_colwidth', None)"
   ]
  },
  {
   "cell_type": "markdown",
   "metadata": {},
   "source": [
    "## Load the Datasets required (Train Set, Validation Set, Test Set)"
   ]
  },
  {
   "cell_type": "code",
   "execution_count": 6,
   "metadata": {
    "colab": {
     "base_uri": "https://localhost:8080/",
     "height": 389
    },
    "id": "UB7-TFkjOurC",
    "outputId": "9012fe2b-54e8-4f3a-830f-db251790634d"
   },
   "outputs": [],
   "source": [
    "#loading the datasets\n",
    "train_set = pd.read_csv('../raw_data/train.csv')\n",
    "validation_set = pd.read_csv('../raw_data/validation.csv')\n",
    "test_set = pd.read_csv('../raw_data/test.csv')"
   ]
  },
  {
   "cell_type": "code",
   "execution_count": 7,
   "metadata": {},
   "outputs": [
    {
     "data": {
      "text/plain": [
       "287113"
      ]
     },
     "execution_count": 7,
     "metadata": {},
     "output_type": "execute_result"
    }
   ],
   "source": [
    "len(train_set)"
   ]
  },
  {
   "cell_type": "markdown",
   "metadata": {},
   "source": [
    "## Drop Useless Columns"
   ]
  },
  {
   "cell_type": "code",
   "execution_count": 8,
   "metadata": {
    "colab": {
     "base_uri": "https://localhost:8080/",
     "height": 222
    },
    "id": "SGYMbKSTOudV",
    "outputId": "66d47752-305c-485d-d258-ccd2339b710b"
   },
   "outputs": [],
   "source": [
    "# droppping useless columns\n",
    "train_data = train_set.drop(['id', 'orig_id'], axis=1)[:200]\n",
    "val_data = validation_set.drop(['id', 'orig_id'], axis=1)[:200]\n",
    "test_data = test_set.drop(['id', 'orig_id'], axis=1)[:100]"
   ]
  },
  {
   "cell_type": "code",
   "execution_count": 9,
   "metadata": {
    "id": "5Eo0oP9mOuSM"
   },
   "outputs": [
    {
     "data": {
      "text/plain": [
       "(200, 2)"
      ]
     },
     "execution_count": 9,
     "metadata": {},
     "output_type": "execute_result"
    }
   ],
   "source": [
    "train_data.shape"
   ]
  },
  {
   "cell_type": "code",
   "execution_count": 10,
   "metadata": {
    "id": "gZLUT0l6Ot9S"
   },
   "outputs": [
    {
     "data": {
      "text/html": [
       "<div>\n",
       "<style scoped>\n",
       "    .dataframe tbody tr th:only-of-type {\n",
       "        vertical-align: middle;\n",
       "    }\n",
       "\n",
       "    .dataframe tbody tr th {\n",
       "        vertical-align: top;\n",
       "    }\n",
       "\n",
       "    .dataframe thead th {\n",
       "        text-align: right;\n",
       "    }\n",
       "</style>\n",
       "<table border=\"1\" class=\"dataframe\">\n",
       "  <thead>\n",
       "    <tr style=\"text-align: right;\">\n",
       "      <th></th>\n",
       "      <th>article</th>\n",
       "      <th>highlights</th>\n",
       "    </tr>\n",
       "  </thead>\n",
       "  <tbody>\n",
       "    <tr>\n",
       "      <th>6</th>\n",
       "      <td>BAGHDAD, Iraq (CNN) -- The women are too afraid and ashamed to show their faces or have their real names used. They have been driven to sell their bodies to put food on the table for their children -- for as little as $8 a day. Suha, 37, is a mother of three. She says her husband thinks she is cleaning houses when she leaves home. \"People shouldn't criticize women, or talk badly about them,\" says 37-year-old Suha as she adjusts the light colored scarf she wears these days to avoid extremists who insist women cover themselves. \"They all say we have lost our way, but they never ask why we had to take this path.\" A mother of three, she wears light makeup, a gold pendant of Iraq around her neck, and an unexpected air of elegance about her. \"I don't have money to take my kid to the doctor. I have to do anything that I can to preserve my child, because I am a mother,\" she says, explaining why she prostitutes herself. Anger and frustration rise in her voice as she speaks. \"No matter what else I may be, no matter how off the path I may be, I am a mother!\"  Watch a woman describe turning to prostitution to \"save my child\" » . Her clasped hands clench and unclench nervously. Suha's husband thinks that she is cleaning houses when she goes away. So does Karima's family. \"At the start I was cleaning homes, but I wasn't making much. No matter how hard I worked it just wasn't enough,\" she says. Karima, clad in all black, adds, \"My husband died of lung cancer nine months ago and left me with nothing.\" She has five children, ages 8 to 17. Her eldest son could work, but she's too afraid for his life to let him go into the streets, preferring to sacrifice herself than risk her child. She was solicited the first time when she was cleaning an office. \"They took advantage of me,\" she says softly. \"At first I rejected it, but then I realized I have to do it.\" Both Suha and Karima have clients that call them a couple times a week. Other women resort to trips to the market to find potential clients. Or they flag down vehicles. Prostitution is a choice more and more Iraqi women are making just to survive. \"It's increasing,\" Suha says. \"I found this 'thing' through my friend, and I have another friend in the same predicament as mine. Because of the circumstance, she is forced to do such things.\" Violence, increased cost of living, and lack of any sort of government aid leave women like these with few other options, according to humanitarian workers. \"At this point there is a population of women who have to sell their bodies in order to keep their children alive,\" says Yanar Mohammed, head and founder of the Organization for Women's Freedom in Iraq. \"It's a taboo that no one is speaking about.\" She adds, \"There is a huge population of women who were the victims of war who had to sell their bodies, their souls and they lost it all. It crushes us to see them, but we have to work on it and that's why we started our team of women activists.\" Her team pounds the streets of Baghdad looking for these victims often too humiliated to come forward. \"Most of the women that we find at hospitals [who] have tried to commit suicide\" have been involved in prostitution, said Basma Rahim, a member of Mohammed's team. The team's aim is to compile information on specific cases and present it to Iraq's political parties -- to have them, as Mohammed puts it, \"come tell us what [they] are ... going to do about this.\" Rahim tells the heartbreaking story of one woman they found who lives in a room with three of her children: \"She has sex while her three children are in the room, but she makes them stand in separate corners.\" According to Rahim and Mohammed, most of the women they encounter say they are driven to prostitution by a desperate desire for survival in the dangerously violent and unforgiving circumstances in Iraq. \"They took this path but they are not pleased,\" Rahim says. Karima says when she sees her children with food on the table, she is able to convince herself that it's worth it. \"Everything is for the children. They are the beauty in life and, without them, we cannot live.\" But she says, \"I would never allow my daughter to do this. I would rather marry her off at 13 than have her go through this.\" Karima's last happy memory is of her late husband, when they were a family and able to shoulder the hardships of life in today's Iraq together. Suha says as a young girl she dreamed of being a doctor, with her mom boasting about her potential in that career. Life couldn't have taken her further from that dream. \"It's not like we were born into this, nor was it ever in my blood,\" she says. What she does for her family to survive now eats away at her. \"I lay on my pillow and my brain is spinning, and it all comes back to me as if I am watching a movie.\" E-mail to a friend .</td>\n",
       "      <td>Aid workers: Violence, increased cost of living drive women to prostitution .\\nGroup is working to raise awareness of the problem with Iraq's political leaders .\\nTwo Iraqi mothers tell CNN they turned to prostitution to help feed their children .\\n\"Everything is for the children,\" one woman says .</td>\n",
       "    </tr>\n",
       "    <tr>\n",
       "      <th>7</th>\n",
       "      <td>BOGOTA, Colombia (CNN) -- A key rebel commander and fugitive from a U.S. drug trafficking indictment was killed over the weekend in an air attack on a guerrilla encampment, the Colombian military said Monday. Alleged cocaine trafficker and FARC rebel Tomas Medina Caracas in an Interpol photo. Tomas Medina Caracas, known popularly as \"El Negro Acacio,\" was a member of the high command of the Fuerzas Armadas Revolucionarias de Colombia and, according to Colombian and U.S. officials, helped manage the group's extensive cocaine trafficking network. He had been in the cross-hairs of the U.S. Justice Department since 2002. He was charged with conspiracy to import cocaine into the United States and manufacturing and distributing cocaine within Colombia to fund the FARC's 42-year insurgency against the government. U.S. officials alleged Medina Caracas managed the rebel group's sales of cocaine to international drug traffickers, who in turn smuggled it into the United States. He was also indicted in the United States along with two other FARC commanders in November 2002 on charges of conspiring to kidnap two U.S. oil workers from neighboring Venezuela in 1997 and holding one of them for nine months until a $1 million ransom was paid. Officials said the army's Rapid Response Force, backed by elements of the Colombian Air Force, tracked Medina Caracas down at a FARC camp in the jungle in the south of the country. \"After a bombardment, the troops occupied the camp, and they've found 14 dead rebels so far, along with rifles, pistols, communications equipment and ... four GPS systems,\" Defense Minister Juan Manuel Santos said at a news conference. \"The death of 'El Negro Acacio' was confirmed by various sources, including members of FARC itself.\" Medina Caracas commanded FARC's 16th Front in the southern departments of Vichada and Guainia. Established in 1964 as the military wing of the Colombian Communist Party, FARC is Colombia's oldest, largest, most capable and best-equipped Marxist rebel group, according to the U.S. Department of State. E-mail to a friend . Journalist Fernando Ramos contributed to this report.</td>\n",
       "      <td>Tomas Medina Caracas was a fugitive from a U.S. drug trafficking indictment .\\n\"El Negro Acacio\" allegedly helped manage extensive cocaine network .\\nU.S. Justice Department indicted him in 2002 .\\nColombian military: He was killed in an attack on a guerrilla encampment .</td>\n",
       "    </tr>\n",
       "  </tbody>\n",
       "</table>\n",
       "</div>"
      ],
      "text/plain": [
       "                                                                                                                                                                                                                                                                                                                                                                                                                                                                                                                                                                                                                                                                                                                                                                                                                                                                                                                                                                                                                                                                                                                                                                                                                                                                                                                                                                                                                                                                                                                                                                                                                                                                                                                                                                                                                                                                                                                                                                                                                                                                                                                                                                                                                                                                                                                                                                                                                                                                                                                                                                                                                                                                                                                                                                                                                                                                                                                                                                                                                                                                                                                                                                                                                                                                                                                                                                                                                                                                                                                                                                                                                                                                                                                                                                                                                                                                                                                                                                                                                                                                                                                                                                                                                                                                                                                                                                                                                                                                                                                                                                                                                                                                                                                                                                                                                                                                                                                                                                                                               article  \\\n",
       "6  BAGHDAD, Iraq (CNN) -- The women are too afraid and ashamed to show their faces or have their real names used. They have been driven to sell their bodies to put food on the table for their children -- for as little as $8 a day. Suha, 37, is a mother of three. She says her husband thinks she is cleaning houses when she leaves home. \"People shouldn't criticize women, or talk badly about them,\" says 37-year-old Suha as she adjusts the light colored scarf she wears these days to avoid extremists who insist women cover themselves. \"They all say we have lost our way, but they never ask why we had to take this path.\" A mother of three, she wears light makeup, a gold pendant of Iraq around her neck, and an unexpected air of elegance about her. \"I don't have money to take my kid to the doctor. I have to do anything that I can to preserve my child, because I am a mother,\" she says, explaining why she prostitutes herself. Anger and frustration rise in her voice as she speaks. \"No matter what else I may be, no matter how off the path I may be, I am a mother!\"  Watch a woman describe turning to prostitution to \"save my child\" » . Her clasped hands clench and unclench nervously. Suha's husband thinks that she is cleaning houses when she goes away. So does Karima's family. \"At the start I was cleaning homes, but I wasn't making much. No matter how hard I worked it just wasn't enough,\" she says. Karima, clad in all black, adds, \"My husband died of lung cancer nine months ago and left me with nothing.\" She has five children, ages 8 to 17. Her eldest son could work, but she's too afraid for his life to let him go into the streets, preferring to sacrifice herself than risk her child. She was solicited the first time when she was cleaning an office. \"They took advantage of me,\" she says softly. \"At first I rejected it, but then I realized I have to do it.\" Both Suha and Karima have clients that call them a couple times a week. Other women resort to trips to the market to find potential clients. Or they flag down vehicles. Prostitution is a choice more and more Iraqi women are making just to survive. \"It's increasing,\" Suha says. \"I found this 'thing' through my friend, and I have another friend in the same predicament as mine. Because of the circumstance, she is forced to do such things.\" Violence, increased cost of living, and lack of any sort of government aid leave women like these with few other options, according to humanitarian workers. \"At this point there is a population of women who have to sell their bodies in order to keep their children alive,\" says Yanar Mohammed, head and founder of the Organization for Women's Freedom in Iraq. \"It's a taboo that no one is speaking about.\" She adds, \"There is a huge population of women who were the victims of war who had to sell their bodies, their souls and they lost it all. It crushes us to see them, but we have to work on it and that's why we started our team of women activists.\" Her team pounds the streets of Baghdad looking for these victims often too humiliated to come forward. \"Most of the women that we find at hospitals [who] have tried to commit suicide\" have been involved in prostitution, said Basma Rahim, a member of Mohammed's team. The team's aim is to compile information on specific cases and present it to Iraq's political parties -- to have them, as Mohammed puts it, \"come tell us what [they] are ... going to do about this.\" Rahim tells the heartbreaking story of one woman they found who lives in a room with three of her children: \"She has sex while her three children are in the room, but she makes them stand in separate corners.\" According to Rahim and Mohammed, most of the women they encounter say they are driven to prostitution by a desperate desire for survival in the dangerously violent and unforgiving circumstances in Iraq. \"They took this path but they are not pleased,\" Rahim says. Karima says when she sees her children with food on the table, she is able to convince herself that it's worth it. \"Everything is for the children. They are the beauty in life and, without them, we cannot live.\" But she says, \"I would never allow my daughter to do this. I would rather marry her off at 13 than have her go through this.\" Karima's last happy memory is of her late husband, when they were a family and able to shoulder the hardships of life in today's Iraq together. Suha says as a young girl she dreamed of being a doctor, with her mom boasting about her potential in that career. Life couldn't have taken her further from that dream. \"It's not like we were born into this, nor was it ever in my blood,\" she says. What she does for her family to survive now eats away at her. \"I lay on my pillow and my brain is spinning, and it all comes back to me as if I am watching a movie.\" E-mail to a friend .   \n",
       "7                                                                                                                                                                                                                                                                                                                                                                                                                                                                                                                                                                                                                                                                                                                                                                                                                                                                                                                                                                                                                                                                                                                                                                                                                                                                                                                                                                                                                                                                                                                                                                                                                                                                                                                                                                                                                                                                                                                                                                                                                                                                                                                                                                                                                                                                                                                                                                                                                                                                                                                                                                                                                                                                                                                                                                                           BOGOTA, Colombia (CNN) -- A key rebel commander and fugitive from a U.S. drug trafficking indictment was killed over the weekend in an air attack on a guerrilla encampment, the Colombian military said Monday. Alleged cocaine trafficker and FARC rebel Tomas Medina Caracas in an Interpol photo. Tomas Medina Caracas, known popularly as \"El Negro Acacio,\" was a member of the high command of the Fuerzas Armadas Revolucionarias de Colombia and, according to Colombian and U.S. officials, helped manage the group's extensive cocaine trafficking network. He had been in the cross-hairs of the U.S. Justice Department since 2002. He was charged with conspiracy to import cocaine into the United States and manufacturing and distributing cocaine within Colombia to fund the FARC's 42-year insurgency against the government. U.S. officials alleged Medina Caracas managed the rebel group's sales of cocaine to international drug traffickers, who in turn smuggled it into the United States. He was also indicted in the United States along with two other FARC commanders in November 2002 on charges of conspiring to kidnap two U.S. oil workers from neighboring Venezuela in 1997 and holding one of them for nine months until a $1 million ransom was paid. Officials said the army's Rapid Response Force, backed by elements of the Colombian Air Force, tracked Medina Caracas down at a FARC camp in the jungle in the south of the country. \"After a bombardment, the troops occupied the camp, and they've found 14 dead rebels so far, along with rifles, pistols, communications equipment and ... four GPS systems,\" Defense Minister Juan Manuel Santos said at a news conference. \"The death of 'El Negro Acacio' was confirmed by various sources, including members of FARC itself.\" Medina Caracas commanded FARC's 16th Front in the southern departments of Vichada and Guainia. Established in 1964 as the military wing of the Colombian Communist Party, FARC is Colombia's oldest, largest, most capable and best-equipped Marxist rebel group, according to the U.S. Department of State. E-mail to a friend . Journalist Fernando Ramos contributed to this report.   \n",
       "\n",
       "                                                                                                                                                                                                                                                                                                    highlights  \n",
       "6  Aid workers: Violence, increased cost of living drive women to prostitution .\\nGroup is working to raise awareness of the problem with Iraq's political leaders .\\nTwo Iraqi mothers tell CNN they turned to prostitution to help feed their children .\\n\"Everything is for the children,\" one woman says .  \n",
       "7                             Tomas Medina Caracas was a fugitive from a U.S. drug trafficking indictment .\\n\"El Negro Acacio\" allegedly helped manage extensive cocaine network .\\nU.S. Justice Department indicted him in 2002 .\\nColombian military: He was killed in an attack on a guerrilla encampment .  "
      ]
     },
     "execution_count": 10,
     "metadata": {},
     "output_type": "execute_result"
    }
   ],
   "source": [
    "train_data[6:8]"
   ]
  },
  {
   "cell_type": "code",
   "execution_count": 11,
   "metadata": {
    "id": "U2_3nE9PPC11"
   },
   "outputs": [
    {
     "name": "stdout",
     "output_type": "stream",
     "text": [
      "train_data.shape: (200, 2)\n"
     ]
    }
   ],
   "source": [
    "print(f\"train_data.shape: {train_data.shape}\")"
   ]
  },
  {
   "cell_type": "markdown",
   "metadata": {},
   "source": [
    "## Check if there are any Empty Cells in the DataFrame"
   ]
  },
  {
   "cell_type": "code",
   "execution_count": 12,
   "metadata": {
    "id": "ZCCZf26-PDBA"
   },
   "outputs": [
    {
     "data": {
      "text/plain": [
       "article       0\n",
       "highlights    0\n",
       "dtype: int64"
      ]
     },
     "execution_count": 12,
     "metadata": {},
     "output_type": "execute_result"
    }
   ],
   "source": [
    "train_data.isna().sum()"
   ]
  },
  {
   "cell_type": "code",
   "execution_count": 13,
   "metadata": {
    "id": "IU72Gu1tPDNK"
   },
   "outputs": [
    {
     "data": {
      "text/plain": [
       "article       0\n",
       "highlights    0\n",
       "dtype: int64"
      ]
     },
     "execution_count": 13,
     "metadata": {},
     "output_type": "execute_result"
    }
   ],
   "source": [
    "test_data.isna().sum()"
   ]
  },
  {
   "cell_type": "markdown",
   "metadata": {
    "id": "DovhJuAzP3Up"
   },
   "source": [
    "## Dealing with Duplicates / Drop Duplicates in the Train, Validation and Test Sets"
   ]
  },
  {
   "cell_type": "code",
   "execution_count": 14,
   "metadata": {
    "id": "TLFV9-VNPDiK"
   },
   "outputs": [
    {
     "data": {
      "text/plain": [
       "5"
      ]
     },
     "execution_count": 14,
     "metadata": {},
     "output_type": "execute_result"
    }
   ],
   "source": [
    "train_data.duplicated(subset=['article', 'highlights']).sum()"
   ]
  },
  {
   "cell_type": "code",
   "execution_count": 15,
   "metadata": {
    "id": "QvcTGPr8PDsX"
   },
   "outputs": [
    {
     "data": {
      "text/plain": [
       "0"
      ]
     },
     "execution_count": 15,
     "metadata": {},
     "output_type": "execute_result"
    }
   ],
   "source": [
    "val_data.duplicated(subset=['article', 'highlights']).sum()"
   ]
  },
  {
   "cell_type": "code",
   "execution_count": 16,
   "metadata": {
    "id": "rH72px5sPD2m"
   },
   "outputs": [
    {
     "data": {
      "text/plain": [
       "0"
      ]
     },
     "execution_count": 16,
     "metadata": {},
     "output_type": "execute_result"
    }
   ],
   "source": [
    "test_data.duplicated(subset=['article', 'highlights']).sum()"
   ]
  },
  {
   "cell_type": "code",
   "execution_count": 17,
   "metadata": {
    "id": "3mRd9-vZPEAI"
   },
   "outputs": [],
   "source": [
    "def del_duplicates(dataset, columns_to_compare):\n",
    "    '''\n",
    "    Function that deletes duplicated lines comapres according to indicated columns\n",
    "    '''\n",
    "    return dataset.drop_duplicates(subset=columns_to_compare)"
   ]
  },
  {
   "cell_type": "code",
   "execution_count": 18,
   "metadata": {
    "id": "VvulFo2SQARj"
   },
   "outputs": [
    {
     "data": {
      "text/plain": [
       "(195, 2)"
      ]
     },
     "execution_count": 18,
     "metadata": {},
     "output_type": "execute_result"
    }
   ],
   "source": [
    "cols = ['article', 'highlights']\n",
    "\n",
    "train = del_duplicates(train_data, columns_to_compare=cols)\n",
    "train.shape"
   ]
  },
  {
   "cell_type": "code",
   "execution_count": 19,
   "metadata": {
    "id": "ifg14tFdQAbj"
   },
   "outputs": [
    {
     "data": {
      "text/plain": [
       "(200, 2)"
      ]
     },
     "execution_count": 19,
     "metadata": {},
     "output_type": "execute_result"
    }
   ],
   "source": [
    "val = del_duplicates(val_data, columns_to_compare=cols)\n",
    "val.shape"
   ]
  },
  {
   "cell_type": "code",
   "execution_count": 20,
   "metadata": {
    "id": "K0I2DFGnQAlV"
   },
   "outputs": [
    {
     "data": {
      "text/plain": [
       "(100, 2)"
      ]
     },
     "execution_count": 20,
     "metadata": {},
     "output_type": "execute_result"
    }
   ],
   "source": [
    "test = del_duplicates(test_data, columns_to_compare=cols)\n",
    "test.shape"
   ]
  },
  {
   "cell_type": "markdown",
   "metadata": {
    "id": "b-obtjbnQMJn"
   },
   "source": [
    "## Potential threshhold for news extraction / Check the Statistical Distribution of Word Counts for Articles and Summaries"
   ]
  },
  {
   "cell_type": "code",
   "execution_count": 21,
   "metadata": {
    "id": "Wk1yYboZQA4N"
   },
   "outputs": [
    {
     "data": {
      "image/png": "[encoded data removed]",
      "text/plain": [
       "<Figure size 640x480 with 2 Axes>"
      ]
     },
     "metadata": {},
     "output_type": "display_data"
    }
   ],
   "source": [
    "# word count\n",
    "article_wc = []\n",
    "summary_wc = []\n",
    "\n",
    "# populate the lists with sentence lengths\n",
    "for i in train.article:\n",
    "      article_wc.append(len(i.split()))\n",
    "\n",
    "for i in train.highlights:\n",
    "      summary_wc.append(len(i.split()))\n",
    "\n",
    "length_df = pd.DataFrame({'text':article_wc, 'summary':summary_wc})\n",
    "\n",
    "plt.subplot(1, 2, 1)\n",
    "plt.hist(length_df.text, bins=40)\n",
    "plt.xlabel(\"Word count\")\n",
    "plt.ylabel(\"Number of articles\")\n",
    "\n",
    "\n",
    "plt.subplot(1, 2, 2)\n",
    "plt.hist(length_df.summary, bins=40)\n",
    "plt.xlabel(\"Word count\")\n",
    "\n",
    "\n",
    "plt.show()"
   ]
  },
  {
   "cell_type": "markdown",
   "metadata": {
    "id": "OToRGc75QTef"
   },
   "source": [
    "## Clean the Data"
   ]
  },
  {
   "cell_type": "markdown",
   "metadata": {},
   "source": [
    "### Prepare a Function \"Preprocessing\" to perform the single cleaning steps"
   ]
  },
  {
   "cell_type": "markdown",
   "metadata": {},
   "source": [
    "- Transform upper cases to lower cases\n",
    "- Remove return characters, url and html tags\n",
    "- Expand shortened words via Contractions\n",
    "- Remove any parentheses with text inside\n",
    "- Remove special characters, remove whitespaces"
   ]
  },
  {
   "cell_type": "code",
   "execution_count": 22,
   "metadata": {
    "id": "DaUHSqf9QBJ6"
   },
   "outputs": [],
   "source": [
    "def preprocessing(sentence: string, remove_stopwords=True) -> string: \n",
    "    \n",
    "    '''\n",
    "    Preprocessing text: lower case, \n",
    "                        deleting punctuation, \n",
    "                        replacing contructions with equivalent,\n",
    "                        deleting stop words,\n",
    "                        removing special characters\n",
    "    '''\n",
    "\n",
    "    # Lowercase\n",
    "    sentence = sentence.lower()\n",
    "   \n",
    "    # Remove return characters, url and html tags\n",
    "    code_list = ['\\n', '\\S*(http|https)\\S*', '\\<a href', '&amp;', '<br />']\n",
    "    for code in code_list:\n",
    "        sentence = re.sub(code, ' ',sentence, flags=re.MULTILINE)\n",
    "    \n",
    "    # expand the shortened words (can't => can not)\n",
    "    # after they will be deleted in stopwords\n",
    "    expanded = []   \n",
    "    for word in sentence.split():\n",
    "        expanded.append(contractions.fix(word, slang=False))\n",
    "        \n",
    "    expanded_sentence = ' '.join(expanded)\n",
    "    \n",
    "    # remove any parenthisis with text inside\n",
    "    sentence = re.sub(r'\\([^)]*\\)', '', expanded_sentence)\n",
    "        # Removing punctuation, url and html tags\n",
    "    for punctuation in string.punctuation + '[\\'\\\"]':\n",
    "        sentence = sentence.replace(punctuation, ' ')\n",
    "        \n",
    "    # remove special characters \n",
    "    sentence = re.sub(\"[^a-zA-Z]\", \" \", sentence)\n",
    "\n",
    "    # Removing whitespaces\n",
    "    sentence = sentence.strip()\n",
    "                \n",
    "    if remove_stopwords:\n",
    "        stop_words = set(stopwords.words('english')) ## defining stopwords    \n",
    "        sentence_list = [w for w in sentence.split() if not w in stop_words]\n",
    "        sentence = (' '.join(sentence_list)).strip()\n",
    "        \n",
    "    return sentence"
   ]
  },
  {
   "cell_type": "markdown",
   "metadata": {
    "id": "kGDtjF4bQhjX"
   },
   "source": [
    "### Test the function \"Preprocessing\" prepared to clean the data on a subset to check if it works"
   ]
  },
  {
   "cell_type": "code",
   "execution_count": 23,
   "metadata": {
    "id": "gO80ix1OQWFi"
   },
   "outputs": [],
   "source": [
    "def cleaning(dataset: pd.Series, remove_stopwords=True) -> list:\n",
    "    '''\n",
    "    This function creates a cleaned version of each dataset.\n",
    "    Calls the preprocessing function.\n",
    "    '''\n",
    "    \n",
    "    clean = []\n",
    "    for text in dataset:\n",
    "        clean.append(preprocessing(text, remove_stopwords=True))\n",
    "    return clean"
   ]
  },
  {
   "cell_type": "code",
   "execution_count": 24,
   "metadata": {
    "id": "BKamJPHWQWPE"
   },
   "outputs": [
    {
     "name": "stdout",
     "output_type": "stream",
     "text": [
      "CPU times: user 821 ms, sys: 44.3 ms, total: 865 ms\n",
      "Wall time: 947 ms\n"
     ]
    }
   ],
   "source": [
    "%%time\n",
    "\n",
    "X_train = cleaning(train.article)\n",
    "y_train = cleaning(train.highlights, remove_stopwords=False)"
   ]
  },
  {
   "cell_type": "code",
   "execution_count": 25,
   "metadata": {
    "id": "RmrmvZSZQWXn"
   },
   "outputs": [
    {
     "name": "stdout",
     "output_type": "stream",
     "text": [
      "Clean article : london england harry potter star daniel radcliffe gains access reported million fortune turns monday insists money cast spell daniel radcliffe harry potter harry potter order phoenix disappointment gossip columnists around world young actor says plans fritter cash away fast cars drink celebrity parties plan one people soon turn suddenly buy massive sports car collection something similar told australian interviewer earlier month think particularly extravagant things like buying things cost pounds books cds dvds radcliffe able gamble casino buy drink pub see horror film hostel part ii currently six places number one movie uk box office chart details mark landmark birthday wraps agent publicist comment plans definitely sort party said interview hopefully none reading radcliffe earnings first five potter films held trust fund able touch despite growing fame riches actor says keeping feet firmly ground people always looking say kid star goes rails told reporters last month try hard go way would easy latest outing boy wizard harry potter order phoenix breaking records sides atlantic reprise role last two films watch reporter give review potter latest life beyond potter however londoner filmed tv movie called boy jack author rudyard kipling son due release later year also appear december boys australian film four boys escape orphanage earlier year made stage debut playing tortured teenager peter shaffer equus meanwhile braced even closer media scrutiny legally adult think going sort fair game told reuters e mail friend copyright reuters rights reserved material may published broadcast rewritten redistributed\n",
      "\n",
      "\n",
      "Clean summary : harry potter star daniel radcliffe gets fortune turns monday young actor says plans fritter cash away radcliffe earnings first five potter films held trust fund\n"
     ]
    }
   ],
   "source": [
    "print(f'Clean article : {X_train[0]}')\n",
    "print('\\n')\n",
    "print(f'Clean summary : {y_train[0]}')"
   ]
  },
  {
   "cell_type": "code",
   "execution_count": 26,
   "metadata": {
    "id": "BFEXlGzDQWg7"
   },
   "outputs": [
    {
     "name": "stdout",
     "output_type": "stream",
     "text": [
      "CPU times: user 1.05 s, sys: 62.5 ms, total: 1.11 s\n",
      "Wall time: 1.43 s\n"
     ]
    }
   ],
   "source": [
    "%%time\n",
    "\n",
    "X_val = cleaning(val.article)\n",
    "y_val = cleaning(val.highlights, remove_stopwords=False)"
   ]
  },
  {
   "cell_type": "code",
   "execution_count": 27,
   "metadata": {
    "id": "ps5m8v4OQpdY"
   },
   "outputs": [
    {
     "name": "stdout",
     "output_type": "stream",
     "text": [
      "CPU times: user 528 ms, sys: 40.3 ms, total: 568 ms\n",
      "Wall time: 662 ms\n"
     ]
    }
   ],
   "source": [
    "%%time\n",
    "\n",
    "X_test = cleaning(test.highlights, remove_stopwords=False)\n",
    "y_test = cleaning(test.article)"
   ]
  },
  {
   "cell_type": "markdown",
   "metadata": {
    "id": "85bGfFjNQxhV"
   },
   "source": [
    "### !!! Only for target data => adding \"start\" and \"stop\" to the sequence"
   ]
  },
  {
   "cell_type": "code",
   "execution_count": 28,
   "metadata": {
    "id": "s5W6W_maQpvz"
   },
   "outputs": [],
   "source": [
    "def adding_decoder_tokens(data: pd.Series) -> pd.Series:\n",
    "    '''\n",
    "    Adding special tokens for the decoder only to target string\n",
    "    '''\n",
    "    \n",
    "    return pd.Series(data).apply(lambda x : '_START_ '+ x + ' _END_')\n",
    "\n",
    "y_train = adding_decoder_tokens(y_train)\n",
    "y_val = adding_decoder_tokens(y_val)"
   ]
  },
  {
   "cell_type": "code",
   "execution_count": 29,
   "metadata": {
    "id": "H7Z0Y7kQQp4G"
   },
   "outputs": [
    {
     "data": {
      "text/plain": [
       "'_START_ harry potter star daniel radcliffe gets fortune turns monday young actor says plans fritter cash away radcliffe earnings first five potter films held trust fund _END_'"
      ]
     },
     "execution_count": 29,
     "metadata": {},
     "output_type": "execute_result"
    }
   ],
   "source": [
    "y_train[0]"
   ]
  },
  {
   "cell_type": "markdown",
   "metadata": {
    "id": "DYq42bubQ63S"
   },
   "source": [
    "# Tokenization"
   ]
  },
  {
   "cell_type": "markdown",
   "metadata": {},
   "source": [
    "## Initialize the max len for Article and Summary"
   ]
  },
  {
   "cell_type": "code",
   "execution_count": 30,
   "metadata": {
    "id": "yl7bnjFEQ4BO"
   },
   "outputs": [],
   "source": [
    "# initialize the max len for article and summary\n",
    "max_len_text = 150\n",
    "max_len_summary= 10"
   ]
  },
  {
   "cell_type": "markdown",
   "metadata": {},
   "source": [
    "## Article Tokenization"
   ]
  },
  {
   "cell_type": "markdown",
   "metadata": {
    "id": "k1YDlcmnRAjB"
   },
   "source": [
    "### Transform each Article in articles to a sequence of Integers"
   ]
  },
  {
   "cell_type": "markdown",
   "metadata": {},
   "source": [
    "The result of this step are the lists X_train_tok and X_val_tok that basically are lists of tokenized articles in turn being lists of words transformed to integers"
   ]
  },
  {
   "cell_type": "code",
   "execution_count": 31,
   "metadata": {
    "id": "sGkx77RsQ4WP"
   },
   "outputs": [],
   "source": [
    "# learning the dictionnary from train articles\n",
    "X_tokenizer = Tokenizer()\n",
    "X_tokenizer.fit_on_texts(list(X_train))\n",
    "\n",
    "# Transforms each article in articles to a sequence of integers.\n",
    "X_train_tok = X_tokenizer.texts_to_sequences(X_train) \n",
    "X_val_tok = X_tokenizer.texts_to_sequences(X_val)"
   ]
  },
  {
   "cell_type": "code",
   "execution_count": 32,
   "metadata": {
    "id": "P8GHEt9MQ4f-"
   },
   "outputs": [
    {
     "name": "stdout",
     "output_type": "stream",
     "text": [
      "Tokenized article looks like this : \n",
      "[106, 153, 876, 1941, 445, 3666, 3008, 4693, 877, 154, 104, 2547, 1514, 135, 3009, 265, 2548, 3667, 3666, 3008, 876, 1941, 876, 1941, 277, 3010, 3011, 6686, 6687, 107, 23, 228, 1942, 28, 878, 6688, 1018, 168, 1703, 1019, 2549, 1515, 2550, 945, 2, 3, 638, 527, 2551, 804, 1516, 749, 169, 2552, 217, 1517, 17, 1020, 6689, 124, 80, 68, 1121, 6690, 170, 20, 3668, 170, 695, 946, 3669, 6691, 6692, 3008, 292, 4694, 2216, 804, 2549, 4695, 38, 2553, 947, 6693, 85, 1943, 1704, 70, 948, 145, 2, 1233, 416, 1705, 249, 4696, 1122, 1021, 6694, 2217, 6695, 1706, 6696, 1944, 878, 2554, 1364, 466, 1, 1365, 4697, 879, 1366, 3008, 4698, 14, 90, 1941, 2555, 250, 1945, 880, 292, 1946, 602, 881, 3670, 4699, 1942, 28, 2556, 502, 4700, 391, 3, 417, 528, 40, 1947, 445, 558, 6697, 17, 418, 19, 80, 467, 236, 81, 37, 4, 949, 529, 3671, 278, 6698, 876, 1941, 277, 3010, 1707, 1234, 2557, 3012, 6699, 696, 19, 10, 2555, 32, 2218, 315, 1367, 1941, 529, 60, 1022, 1941, 218, 6700, 4701, 392, 1233, 77, 278, 3672, 2558, 6701, 6702, 237, 805, 419, 155, 5, 8, 750, 1235, 1236, 1020, 947, 82, 1236, 1518, 3673, 124, 5, 50, 639, 2559, 950, 6703, 2560, 3013, 6704, 6705, 882, 6706, 45, 1368, 293, 2561, 2219, 806, 68, 61, 1364, 1948, 316, 17, 697, 7, 11, 9, 420, 697, 156, 421, 530, 34, 531, 640, 807, 808]\n"
     ]
    }
   ],
   "source": [
    "print('Tokenized article looks like this : ')\n",
    "print(X_train_tok[0])"
   ]
  },
  {
   "cell_type": "markdown",
   "metadata": {},
   "source": [
    "### Pad the Tokenized Articles to max_len_text"
   ]
  },
  {
   "cell_type": "markdown",
   "metadata": {},
   "source": [
    "- The padding step shall ensure that all tokenized articles are split in a way that the results are lists of integers all having the same length max_len_text\n",
    "- If a tokenized article is longer than max_len_text it is truncated\n",
    "- If a tokenized article is shorter than max_len_text it is filled with 0's to reach a length of max_len_text"
   ]
  },
  {
   "cell_type": "code",
   "execution_count": 33,
   "metadata": {
    "id": "XaRpUF6UQWpO"
   },
   "outputs": [],
   "source": [
    "# post-padding with zeros up to maximum length\n",
    "X_train_pad = pad_sequences(X_train_tok, dtype='float32', maxlen=max_len_text, padding='post') \n",
    "X_val_pad = pad_sequences(X_val_tok, dtype='float32', maxlen=max_len_text, padding='post')\n",
    "\n",
    "X_vocab = len(X_tokenizer.word_index) + 1"
   ]
  },
  {
   "cell_type": "code",
   "execution_count": 34,
   "metadata": {
    "id": "0uj0QmuwRHCO"
   },
   "outputs": [
    {
     "name": "stdout",
     "output_type": "stream",
     "text": [
      "The size of train articles vocabulary is 12347\n"
     ]
    }
   ],
   "source": [
    "print(f'The size of train articles vocabulary is {X_vocab}')"
   ]
  },
  {
   "cell_type": "markdown",
   "metadata": {
    "id": "LbWq5nCdRbhq"
   },
   "source": [
    "## Summary Tokenization"
   ]
  },
  {
   "cell_type": "markdown",
   "metadata": {},
   "source": [
    "### Tokenize Summaries to lists of Integers"
   ]
  },
  {
   "cell_type": "code",
   "execution_count": 35,
   "metadata": {
    "id": "d8L4ZtTpRHSm"
   },
   "outputs": [],
   "source": [
    "# learning the dictionnary from train summaries\n",
    "y_tokenizer = Tokenizer()\n",
    "y_tokenizer.fit_on_texts(list(y_train))\n",
    "\n",
    "# Transforms each summary in summaries to a sequence of integers.\n",
    "y_train_tok = y_tokenizer.texts_to_sequences(y_train) \n",
    "y_val_tok = y_tokenizer.texts_to_sequences(y_val) "
   ]
  },
  {
   "cell_type": "markdown",
   "metadata": {},
   "source": [
    "### Pad the tokenized Summaries to a Length of max_len_summary"
   ]
  },
  {
   "cell_type": "code",
   "execution_count": 36,
   "metadata": {
    "id": "60Evu6O4RHeV"
   },
   "outputs": [],
   "source": [
    "# post-padding with zeros up to maximum length\n",
    "y_train_pad = pad_sequences(y_train_tok, dtype='float32', maxlen=max_len_summary, padding='post')\n",
    "y_val_pad = pad_sequences(y_val_tok,  dtype='float32', maxlen=max_len_summary, padding='post')\n",
    "\n",
    "y_vocab = len(y_tokenizer.word_index) + 1"
   ]
  },
  {
   "cell_type": "code",
   "execution_count": 37,
   "metadata": {
    "id": "KLKOzFNKRH_G"
   },
   "outputs": [
    {
     "name": "stdout",
     "output_type": "stream",
     "text": [
      "The size of train summary vocabulary is 2712\n"
     ]
    }
   ],
   "source": [
    "print(f'The size of train summary vocabulary is {y_vocab}')"
   ]
  },
  {
   "cell_type": "markdown",
   "metadata": {},
   "source": [
    "# Build the Model that will be Trained and will Predict Summaries of Articles based on the Training Performed"
   ]
  },
  {
   "cell_type": "markdown",
   "metadata": {},
   "source": [
    "## Import Modules Potentially Required"
   ]
  },
  {
   "cell_type": "code",
   "execution_count": 38,
   "metadata": {
    "id": "5BHCPHk3Zfq_"
   },
   "outputs": [],
   "source": [
    "import numpy as np\n",
    "from keras import backend as K\n",
    "from tensorflow.keras import optimizers\n",
    "import numpy as np  \n",
    "import pandas as pd \n",
    "import re           \n",
    "from bs4 import BeautifulSoup \n",
    "from tensorflow.keras.preprocessing.text import Tokenizer \n",
    "from tensorflow.keras.preprocessing.sequence import pad_sequences\n",
    "from nltk.corpus import stopwords   \n",
    "from tensorflow.keras.layers import Input, LSTM, Embedding, Dense, Concatenate, TimeDistributed, Bidirectional, Attention\n",
    "from tensorflow.keras.models import Model\n",
    "from tensorflow.keras.callbacks import EarlyStopping\n",
    "import warnings\n",
    "\n",
    "warnings.filterwarnings(\"ignore\")"
   ]
  },
  {
   "cell_type": "markdown",
   "metadata": {},
   "source": [
    "## Define latent_dim & embedding_dim"
   ]
  },
  {
   "cell_type": "markdown",
   "metadata": {},
   "source": [
    "- latent_dim is the dimension intended for the output of the Encoder, i.e. the first step of the Model\n",
    "- embedding_dim is"
   ]
  },
  {
   "cell_type": "code",
   "execution_count": 39,
   "metadata": {
    "id": "k8-MdhYBo9oC"
   },
   "outputs": [],
   "source": [
    "latent_dim = 750\n",
    "embedding_dim = 100"
   ]
  },
  {
   "cell_type": "markdown",
   "metadata": {
    "id": "TmpIHCQqRxdk"
   },
   "source": [
    "--------------------------------------------------------------------"
   ]
  },
  {
   "cell_type": "markdown",
   "metadata": {
    "id": "6jzYbuaHh0XH"
   },
   "source": [
    "## Step 1 of the Model: Embed the Inputs to the Encoder into the Latent Space"
   ]
  },
  {
   "cell_type": "markdown",
   "metadata": {},
   "source": [
    "- The Encoder allocates the integers (being included in the tokenized and padded lists of integers) inserted into the Model into Vectors in the \"Latent Space\"\n",
    "- Input shape is max_len_text as via the step before we have padded the lists of integers to a length of max_len_text\n",
    "- X_Vocab is the length of the X_Tokenizer Word Index + 1, i.e. the number of integers + 1. Why \"+1\"? xxx\n",
    "- latent_dim is the dimensionality of the output space\n",
    "- The result of the Encoder, \"enc_emb\", is a Tensor having the shape (None, 300, 300)"
   ]
  },
  {
   "cell_type": "code",
   "execution_count": 40,
   "metadata": {
    "id": "t7Zf8IJdhlpc"
   },
   "outputs": [
    {
     "name": "stderr",
     "output_type": "stream",
     "text": [
      "2022-12-06 20:40:14.600079: I tensorflow/core/platform/cpu_feature_guard.cc:151] This TensorFlow binary is optimized with oneAPI Deep Neural Network Library (oneDNN) to use the following CPU instructions in performance-critical operations:  AVX2 FMA\n",
      "To enable them in other operations, rebuild TensorFlow with the appropriate compiler flags.\n"
     ]
    }
   ],
   "source": [
    "# Add documentation for encoder\n",
    "# shape: max_len_text, i.e. the maximum length of words of the input text we will insert into the model, correct?\n",
    "# Embedding: X_vocab is the length of the X_Tokenizer Word Index + 1\n",
    "# Embedding: latent_dim is the dimensionality of the output space\n",
    "\n",
    "encoder_inputs = Input(shape=(max_len_text,)) \n",
    "enc_emb = Embedding(X_vocab, latent_dim,trainable=True)(encoder_inputs)"
   ]
  },
  {
   "cell_type": "code",
   "execution_count": 41,
   "metadata": {},
   "outputs": [
    {
     "data": {
      "text/plain": [
       "<KerasTensor: shape=(None, 150, 750) dtype=float32 (created by layer 'embedding')>"
      ]
     },
     "execution_count": 41,
     "metadata": {},
     "output_type": "execute_result"
    }
   ],
   "source": [
    "enc_emb"
   ]
  },
  {
   "cell_type": "markdown",
   "metadata": {
    "id": "BJ9TKv9zib6y"
   },
   "source": [
    "## Step 2 of the Model: Three Stages of Stacked Long Short Term Memory (LSTM) Acting as the Encoder"
   ]
  },
  {
   "cell_type": "markdown",
   "metadata": {},
   "source": [
    "There are three LSTM layers\n",
    "\n",
    "The outputs of this step are\n",
    "\n",
    "- encoder_outputs being a tensor with shape (None, max_len_text, max_len_text)\n",
    "- state_h being a tensor with shape (none, max_len_text)\n",
    "- state_c being a tensor with shape (none, max_len_text)"
   ]
  },
  {
   "cell_type": "code",
   "execution_count": 42,
   "metadata": {
    "id": "KRFKSPDjiaEI"
   },
   "outputs": [],
   "source": [
    "# LSTM 1 \n",
    "# first integer shown in the brackets is the \"dimensionality of the output space\". so, that would be the length of the output summary, right?\n",
    "# return_sequences = Boolean. Whether to return the last output in the output sequence, or the full sequence. Default: False.\n",
    "# return_state = Boolean. Whether to return the last state in addition to the output. Default: False.\n",
    "\n",
    "encoder_lstm1 = LSTM(latent_dim,return_sequences=True,return_state=True) \n",
    "encoder_output1, state_h1, state_c1 = encoder_lstm1(enc_emb) \n",
    "\n",
    "#LSTM 2 \n",
    "encoder_lstm2 = LSTM(latent_dim,return_sequences=True,return_state=True) \n",
    "encoder_output2, state_h2, state_c2 = encoder_lstm2(encoder_output1) \n",
    "\n",
    "#LSTM 3 \n",
    "encoder_lstm3=LSTM(latent_dim, return_state=True, return_sequences=True) \n",
    "encoder_outputs, state_h, state_c= encoder_lstm3(encoder_output2)"
   ]
  },
  {
   "cell_type": "code",
   "execution_count": 43,
   "metadata": {},
   "outputs": [
    {
     "data": {
      "text/plain": [
       "<KerasTensor: shape=(None, 150, 750) dtype=float32 (created by layer 'lstm')>"
      ]
     },
     "execution_count": 43,
     "metadata": {},
     "output_type": "execute_result"
    }
   ],
   "source": [
    "encoder_output1"
   ]
  },
  {
   "cell_type": "code",
   "execution_count": 44,
   "metadata": {},
   "outputs": [
    {
     "data": {
      "text/plain": [
       "<KerasTensor: shape=(None, 150, 750) dtype=float32 (created by layer 'lstm_1')>"
      ]
     },
     "execution_count": 44,
     "metadata": {},
     "output_type": "execute_result"
    }
   ],
   "source": [
    "encoder_output2"
   ]
  },
  {
   "cell_type": "code",
   "execution_count": 45,
   "metadata": {},
   "outputs": [
    {
     "data": {
      "text/plain": [
       "<KerasTensor: shape=(None, 150, 750) dtype=float32 (created by layer 'lstm_2')>"
      ]
     },
     "execution_count": 45,
     "metadata": {},
     "output_type": "execute_result"
    }
   ],
   "source": [
    "encoder_outputs"
   ]
  },
  {
   "cell_type": "code",
   "execution_count": 46,
   "metadata": {},
   "outputs": [
    {
     "data": {
      "text/plain": [
       "<KerasTensor: shape=(None, 750) dtype=float32 (created by layer 'lstm_2')>"
      ]
     },
     "execution_count": 46,
     "metadata": {},
     "output_type": "execute_result"
    }
   ],
   "source": [
    "state_h"
   ]
  },
  {
   "cell_type": "code",
   "execution_count": 47,
   "metadata": {},
   "outputs": [
    {
     "data": {
      "text/plain": [
       "<KerasTensor: shape=(None, 750) dtype=float32 (created by layer 'lstm_2')>"
      ]
     },
     "execution_count": 47,
     "metadata": {},
     "output_type": "execute_result"
    }
   ],
   "source": [
    "state_c"
   ]
  },
  {
   "cell_type": "code",
   "execution_count": 48,
   "metadata": {},
   "outputs": [
    {
     "data": {
      "text/plain": [
       "<KerasTensor: shape=(None, 150, 750) dtype=float32 (created by layer 'lstm_2')>"
      ]
     },
     "execution_count": 48,
     "metadata": {},
     "output_type": "execute_result"
    }
   ],
   "source": [
    "encoder_outputs"
   ]
  },
  {
   "cell_type": "markdown",
   "metadata": {
    "id": "dDWYA9T-is-v"
   },
   "source": [
    "## Step 3 of the Model: Setup the Decoder"
   ]
  },
  {
   "cell_type": "code",
   "execution_count": 49,
   "metadata": {
    "id": "VoYbT4rAia4x"
   },
   "outputs": [],
   "source": [
    "decoder_inputs = Input(shape=(None,)) \n",
    "dec_emb_layer = Embedding(y_vocab, latent_dim,trainable=True) \n",
    "dec_emb = dec_emb_layer(decoder_inputs)"
   ]
  },
  {
   "cell_type": "code",
   "execution_count": 50,
   "metadata": {},
   "outputs": [
    {
     "data": {
      "text/plain": [
       "<KerasTensor: shape=(None, None, 750) dtype=float32 (created by layer 'embedding_1')>"
      ]
     },
     "execution_count": 50,
     "metadata": {},
     "output_type": "execute_result"
    }
   ],
   "source": [
    "dec_emb"
   ]
  },
  {
   "cell_type": "markdown",
   "metadata": {
    "id": "fsTzUy0cjgAN"
   },
   "source": [
    "### Decoder based on encoder_states as initial state"
   ]
  },
  {
   "cell_type": "code",
   "execution_count": 51,
   "metadata": {
    "id": "MBx3LRh5jkeV"
   },
   "outputs": [],
   "source": [
    "decoder_lstm = LSTM(latent_dim, return_sequences=True, return_state=True) \n",
    "decoder_outputs,decoder_fwd_state, decoder_back_state = decoder_lstm(dec_emb,initial_state=[state_h, state_c]) "
   ]
  },
  {
   "cell_type": "markdown",
   "metadata": {
    "id": "iNipeqwZj5lB"
   },
   "source": [
    "### Attention Layer"
   ]
  },
  {
   "cell_type": "code",
   "execution_count": 52,
   "metadata": {
    "id": "OUd41C8_jlMc"
   },
   "outputs": [],
   "source": [
    "#attn_layer = Attention(name='attention_layer') \n",
    "#attn_out = attn_layer([encoder_outputs, decoder_outputs]) \n",
    "\n",
    "attention = Attention(name='attention_layer')\n",
    "attn_out = attention([decoder_outputs, encoder_outputs])"
   ]
  },
  {
   "cell_type": "code",
   "execution_count": 53,
   "metadata": {},
   "outputs": [
    {
     "data": {
      "text/plain": [
       "<KerasTensor: shape=(None, None, 750) dtype=float32 (created by layer 'lstm_3')>"
      ]
     },
     "execution_count": 53,
     "metadata": {},
     "output_type": "execute_result"
    }
   ],
   "source": [
    "decoder_outputs"
   ]
  },
  {
   "cell_type": "code",
   "execution_count": 54,
   "metadata": {},
   "outputs": [
    {
     "data": {
      "text/plain": [
       "<KerasTensor: shape=(None, 150, 750) dtype=float32 (created by layer 'lstm_2')>"
      ]
     },
     "execution_count": 54,
     "metadata": {},
     "output_type": "execute_result"
    }
   ],
   "source": [
    "encoder_outputs"
   ]
  },
  {
   "cell_type": "markdown",
   "metadata": {
    "id": "qQuvnGixkDfM"
   },
   "source": [
    "### Concatenate attention output and decoder LSTM output "
   ]
  },
  {
   "cell_type": "code",
   "execution_count": 55,
   "metadata": {
    "id": "dCjlmO-VkGuW"
   },
   "outputs": [],
   "source": [
    "decoder_concat_input = Concatenate(axis=-1, name='concat_layer')([decoder_outputs, attn_out])"
   ]
  },
  {
   "cell_type": "code",
   "execution_count": 56,
   "metadata": {},
   "outputs": [
    {
     "data": {
      "text/plain": [
       "<KerasTensor: shape=(None, None, 1500) dtype=float32 (created by layer 'concat_layer')>"
      ]
     },
     "execution_count": 56,
     "metadata": {},
     "output_type": "execute_result"
    }
   ],
   "source": [
    "decoder_concat_input"
   ]
  },
  {
   "cell_type": "markdown",
   "metadata": {
    "id": "M93_0V5TkbkJ"
   },
   "source": [
    "### Add a Dense Layer"
   ]
  },
  {
   "cell_type": "code",
   "execution_count": 57,
   "metadata": {
    "id": "Xu59RA5pkHDh"
   },
   "outputs": [],
   "source": [
    "#decoder_dense = Dense(y_vocab, activation='softmax')\n",
    "decoder_dense = TimeDistributed(Dense(y_vocab, activation='softmax')) \n",
    "#decoder_outputs = decoder_dense(decoder_outputs)\n",
    "decoder_outputs = decoder_dense(decoder_concat_input)"
   ]
  },
  {
   "cell_type": "code",
   "execution_count": 58,
   "metadata": {},
   "outputs": [
    {
     "data": {
      "text/plain": [
       "<KerasTensor: shape=(None, None, 2712) dtype=float32 (created by layer 'time_distributed')>"
      ]
     },
     "execution_count": 58,
     "metadata": {},
     "output_type": "execute_result"
    }
   ],
   "source": [
    "decoder_outputs"
   ]
  },
  {
   "cell_type": "markdown",
   "metadata": {
    "id": "srb_Kzsikj1S"
   },
   "source": [
    "## Step 4: Define the Model"
   ]
  },
  {
   "cell_type": "code",
   "execution_count": 59,
   "metadata": {
    "id": "hXFVF-5xkHX7"
   },
   "outputs": [
    {
     "name": "stdout",
     "output_type": "stream",
     "text": [
      "Model: \"model\"\n",
      "__________________________________________________________________________________________________\n",
      " Layer (type)                   Output Shape         Param #     Connected to                     \n",
      "==================================================================================================\n",
      " input_1 (InputLayer)           [(None, 150)]        0           []                               \n",
      "                                                                                                  \n",
      " embedding (Embedding)          (None, 150, 750)     9260250     ['input_1[0][0]']                \n",
      "                                                                                                  \n",
      " lstm (LSTM)                    [(None, 150, 750),   4503000     ['embedding[0][0]']              \n",
      "                                 (None, 750),                                                     \n",
      "                                 (None, 750)]                                                     \n",
      "                                                                                                  \n",
      " input_2 (InputLayer)           [(None, None)]       0           []                               \n",
      "                                                                                                  \n",
      " lstm_1 (LSTM)                  [(None, 150, 750),   4503000     ['lstm[0][0]']                   \n",
      "                                 (None, 750),                                                     \n",
      "                                 (None, 750)]                                                     \n",
      "                                                                                                  \n",
      " embedding_1 (Embedding)        (None, None, 750)    2034000     ['input_2[0][0]']                \n",
      "                                                                                                  \n",
      " lstm_2 (LSTM)                  [(None, 150, 750),   4503000     ['lstm_1[0][0]']                 \n",
      "                                 (None, 750),                                                     \n",
      "                                 (None, 750)]                                                     \n",
      "                                                                                                  \n",
      " lstm_3 (LSTM)                  [(None, None, 750),  4503000     ['embedding_1[0][0]',            \n",
      "                                 (None, 750),                     'lstm_2[0][1]',                 \n",
      "                                 (None, 750)]                     'lstm_2[0][2]']                 \n",
      "                                                                                                  \n",
      " attention_layer (Attention)    (None, None, 750)    0           ['lstm_3[0][0]',                 \n",
      "                                                                  'lstm_2[0][0]']                 \n",
      "                                                                                                  \n",
      " concat_layer (Concatenate)     (None, None, 1500)   0           ['lstm_3[0][0]',                 \n",
      "                                                                  'attention_layer[0][0]']        \n",
      "                                                                                                  \n",
      " time_distributed (TimeDistribu  (None, None, 2712)  4070712     ['concat_layer[0][0]']           \n",
      " ted)                                                                                             \n",
      "                                                                                                  \n",
      "==================================================================================================\n",
      "Total params: 33,376,962\n",
      "Trainable params: 33,376,962\n",
      "Non-trainable params: 0\n",
      "__________________________________________________________________________________________________\n"
     ]
    }
   ],
   "source": [
    "model = Model([encoder_inputs, decoder_inputs], decoder_outputs) \n",
    "model.summary()"
   ]
  },
  {
   "cell_type": "markdown",
   "metadata": {},
   "source": [
    "## Step 5: Compile and Train the Model"
   ]
  },
  {
   "cell_type": "code",
   "execution_count": 61,
   "metadata": {},
   "outputs": [],
   "source": [
    "es = EarlyStopping(monitor='val_loss', mode='min', verbose=1,patience=3)"
   ]
  },
  {
   "cell_type": "code",
   "execution_count": 62,
   "metadata": {},
   "outputs": [
    {
     "name": "stdout",
     "output_type": "stream",
     "text": [
      "Epoch 1/50\n"
     ]
    },
    {
     "name": "stderr",
     "output_type": "stream",
     "text": [
      "2022-12-06 20:40:34.497762: W tensorflow/core/grappler/costs/op_level_cost_estimator.cc:690] Error in PredictCost() for the op: op: \"Softmax\" attr { key: \"T\" value { type: DT_FLOAT } } inputs { dtype: DT_FLOAT shape { unknown_rank: true } } device { type: \"CPU\" vendor: \"GenuineIntel\" model: \"110\" frequency: 1200 num_cores: 4 environment { key: \"cpu_instruction_set\" value: \"SSE, SSE2, SSE3, SSSE3, SSE4.1, SSE4.2\" } environment { key: \"eigen\" value: \"3.4.90\" } l1_cache_size: 32768 l2_cache_size: 262144 l3_cache_size: 4194304 memory_size: 268435456 } outputs { dtype: DT_FLOAT shape { unknown_rank: true } }\n"
     ]
    },
    {
     "name": "stdout",
     "output_type": "stream",
     "text": [
      "\r",
      "1/1 [==============================] - ETA: 0s - loss: 7.9055"
     ]
    },
    {
     "name": "stderr",
     "output_type": "stream",
     "text": [
      "2022-12-06 20:41:42.158582: W tensorflow/core/grappler/costs/op_level_cost_estimator.cc:690] Error in PredictCost() for the op: op: \"Softmax\" attr { key: \"T\" value { type: DT_FLOAT } } inputs { dtype: DT_FLOAT shape { unknown_rank: true } } device { type: \"CPU\" vendor: \"GenuineIntel\" model: \"110\" frequency: 1200 num_cores: 4 environment { key: \"cpu_instruction_set\" value: \"SSE, SSE2, SSE3, SSSE3, SSE4.1, SSE4.2\" } environment { key: \"eigen\" value: \"3.4.90\" } l1_cache_size: 32768 l2_cache_size: 262144 l3_cache_size: 4194304 memory_size: 268435456 } outputs { dtype: DT_FLOAT shape { unknown_rank: true } }\n"
     ]
    },
    {
     "name": "stdout",
     "output_type": "stream",
     "text": [
      "1/1 [==============================] - 99s 99s/step - loss: 7.9055 - val_loss: 7.8812\n",
      "Epoch 2/50\n",
      "1/1 [==============================] - 76s 76s/step - loss: 7.8504 - val_loss: 7.5012\n",
      "Epoch 3/50\n",
      "1/1 [==============================] - 77s 77s/step - loss: 6.8627 - val_loss: 8.6775\n",
      "Epoch 4/50\n",
      "1/1 [==============================] - 76s 76s/step - loss: 8.3864 - val_loss: 8.5747\n",
      "Epoch 5/50\n",
      "1/1 [==============================] - 74s 74s/step - loss: 7.2583 - val_loss: 9.0850\n",
      "Epoch 5: early stopping\n"
     ]
    },
    {
     "name": "stderr",
     "output_type": "stream",
     "text": [
      "2022-12-06 20:48:04.953670: W tensorflow/python/util/util.cc:368] Sets are not currently considered sequences, but this may change in the future, so consider avoiding using them.\n",
      "WARNING:absl:Found untraced functions such as lstm_cell_layer_call_fn, lstm_cell_layer_call_and_return_conditional_losses, lstm_cell_1_layer_call_fn, lstm_cell_1_layer_call_and_return_conditional_losses, lstm_cell_2_layer_call_fn while saving (showing 5 of 8). These functions will not be directly callable after loading.\n"
     ]
    },
    {
     "name": "stdout",
     "output_type": "stream",
     "text": [
      "INFO:tensorflow:Assets written to: s2s/assets\n"
     ]
    },
    {
     "name": "stderr",
     "output_type": "stream",
     "text": [
      "INFO:tensorflow:Assets written to: s2s/assets\n",
      "WARNING:absl:<keras.layers.recurrent.LSTMCell object at 0x1392813d0> has the same name 'LSTMCell' as a built-in Keras object. Consider renaming <class 'keras.layers.recurrent.LSTMCell'> to avoid naming conflicts when loading with `tf.keras.models.load_model`. If renaming is not possible, pass the object in the `custom_objects` parameter of the load function.\n",
      "WARNING:absl:<keras.layers.recurrent.LSTMCell object at 0x1390bdfd0> has the same name 'LSTMCell' as a built-in Keras object. Consider renaming <class 'keras.layers.recurrent.LSTMCell'> to avoid naming conflicts when loading with `tf.keras.models.load_model`. If renaming is not possible, pass the object in the `custom_objects` parameter of the load function.\n",
      "WARNING:absl:<keras.layers.recurrent.LSTMCell object at 0x138e149a0> has the same name 'LSTMCell' as a built-in Keras object. Consider renaming <class 'keras.layers.recurrent.LSTMCell'> to avoid naming conflicts when loading with `tf.keras.models.load_model`. If renaming is not possible, pass the object in the `custom_objects` parameter of the load function.\n",
      "WARNING:absl:<keras.layers.recurrent.LSTMCell object at 0x139425a90> has the same name 'LSTMCell' as a built-in Keras object. Consider renaming <class 'keras.layers.recurrent.LSTMCell'> to avoid naming conflicts when loading with `tf.keras.models.load_model`. If renaming is not possible, pass the object in the `custom_objects` parameter of the load function.\n"
     ]
    }
   ],
   "source": [
    "#opt = optimizers.RMSprop(learning_rate=0.00001)\n",
    "model.compile( \n",
    "    #optimizer = opt, loss=\"sparse_categorical_crossentropy\")\n",
    "    optimizer=\"rmsprop\", loss=\"sparse_categorical_crossentropy\") \n",
    "history = model.fit( \n",
    "    [X_train_pad,y_train_pad[:,:-1]],\n",
    "    y_train_pad.reshape(len(y_train_pad), max_len_summary, 1)[:,1:], \n",
    "    batch_size=200, \n",
    "    epochs=50,\n",
    "    callbacks=[es],\n",
    "    validation_data=([X_val_pad,y_val_pad[:,:-1]], y_val_pad.reshape(y_val_pad.shape[0],y_val_pad.shape[1], 1)[:,1:])\n",
    "    #validation_split=0.1,\n",
    "    )\n",
    " \n",
    "#Save model\n",
    "model.save(\"s2s\")"
   ]
  },
  {
   "cell_type": "markdown",
   "metadata": {
    "id": "a_njDl36rgcV"
   },
   "source": [
    "## Diagnostics enabling us to check the course of losses for training and validation"
   ]
  },
  {
   "cell_type": "code",
   "execution_count": 67,
   "metadata": {
    "id": "jx2m8536reeq"
   },
   "outputs": [
    {
     "data": {
      "image/png": "[encoded data removed]",
      "text/plain": [
       "<Figure size 640x480 with 1 Axes>"
      ]
     },
     "metadata": {},
     "output_type": "display_data"
    }
   ],
   "source": [
    "from matplotlib import pyplot \n",
    "pyplot.plot(history.history['loss'], label='train') \n",
    "pyplot.plot(history.history['val_loss'], label='test') \n",
    "pyplot.legend() \n",
    "pyplot.show()"
   ]
  },
  {
   "cell_type": "code",
   "execution_count": 68,
   "metadata": {},
   "outputs": [],
   "source": [
    "reverse_target_word_index=y_tokenizer.index_word \n",
    "reverse_source_word_index=X_tokenizer.index_word \n",
    "target_word_index=y_tokenizer.word_index"
   ]
  },
  {
   "cell_type": "markdown",
   "metadata": {
    "id": "XGZwLW2uuYJk"
   },
   "source": [
    "## Inference Process"
   ]
  },
  {
   "cell_type": "code",
   "execution_count": 69,
   "metadata": {
    "id": "7H43DR6GrfBX"
   },
   "outputs": [],
   "source": [
    "# encoder inference\n",
    "encoder_model = Model(inputs=encoder_inputs,outputs=[encoder_outputs, state_h, state_c])\n",
    "\n",
    "# decoder inference\n",
    "# Below tensors will hold the states of the previous time step\n",
    "decoder_state_input_h = Input(shape=(latent_dim,))\n",
    "decoder_state_input_c = Input(shape=(latent_dim,))\n",
    "decoder_hidden_state_input = Input(shape=(max_len_text,latent_dim))\n",
    "\n",
    "# Get the embeddings of the decoder sequence\n",
    "dec_emb2= dec_emb_layer(decoder_inputs)\n",
    "\n",
    "# To predict the next word in the sequence, set the initial states to the states from the previous time step\n",
    "decoder_outputs2, state_h2, state_c2 = decoder_lstm(dec_emb2, initial_state=[decoder_state_input_h, decoder_state_input_c])\n",
    "\n",
    "#attention inference\n",
    "attention = model.layers[8]\n",
    "attn_out_inf = attention([decoder_outputs2, decoder_hidden_state_input])\n",
    "decoder_inf_concat = Concatenate(axis=-1, name='concat')([decoder_outputs2, attn_out_inf])\n",
    "\n",
    "# A dense softmax layer to generate prob dist. over the target vocabulary\n",
    "#decoder_outputs2 = decoder_dense(decoder_inf_concat)\n",
    "decoder_outputs2 = decoder_dense(decoder_inf_concat)\n",
    "\n",
    "# Final decoder model\n",
    "decoder_model = Model([decoder_inputs] + [decoder_hidden_state_input,decoder_state_input_h, decoder_state_input_c],\n",
    "[decoder_outputs2] + [state_h2, state_c2])"
   ]
  },
  {
   "cell_type": "code",
   "execution_count": 70,
   "metadata": {},
   "outputs": [
    {
     "data": {
      "text/plain": [
       "<KerasTensor: shape=(None, 750) dtype=float32 (created by layer 'lstm_3')>"
      ]
     },
     "execution_count": 70,
     "metadata": {},
     "output_type": "execute_result"
    }
   ],
   "source": [
    "state_h2"
   ]
  },
  {
   "cell_type": "code",
   "execution_count": 71,
   "metadata": {},
   "outputs": [
    {
     "name": "stdout",
     "output_type": "stream",
     "text": [
      "Model: \"model_2\"\n",
      "__________________________________________________________________________________________________\n",
      " Layer (type)                   Output Shape         Param #     Connected to                     \n",
      "==================================================================================================\n",
      " input_2 (InputLayer)           [(None, None)]       0           []                               \n",
      "                                                                                                  \n",
      " embedding_1 (Embedding)        (None, None, 750)    2034000     ['input_2[0][0]']                \n",
      "                                                                                                  \n",
      " input_3 (InputLayer)           [(None, 750)]        0           []                               \n",
      "                                                                                                  \n",
      " input_4 (InputLayer)           [(None, 750)]        0           []                               \n",
      "                                                                                                  \n",
      " lstm_3 (LSTM)                  [(None, None, 750),  4503000     ['embedding_1[1][0]',            \n",
      "                                 (None, 750),                     'input_3[0][0]',                \n",
      "                                 (None, 750)]                     'input_4[0][0]']                \n",
      "                                                                                                  \n",
      " input_5 (InputLayer)           [(None, 150, 750)]   0           []                               \n",
      "                                                                                                  \n",
      " attention_layer (Attention)    (None, None, 750)    0           ['lstm_3[1][0]',                 \n",
      "                                                                  'input_5[0][0]']                \n",
      "                                                                                                  \n",
      " concat (Concatenate)           (None, None, 1500)   0           ['lstm_3[1][0]',                 \n",
      "                                                                  'attention_layer[1][0]']        \n",
      "                                                                                                  \n",
      " time_distributed (TimeDistribu  (None, None, 2712)  4070712     ['concat[0][0]']                 \n",
      " ted)                                                                                             \n",
      "                                                                                                  \n",
      "==================================================================================================\n",
      "Total params: 10,607,712\n",
      "Trainable params: 10,607,712\n",
      "Non-trainable params: 0\n",
      "__________________________________________________________________________________________________\n"
     ]
    }
   ],
   "source": [
    "decoder_model.summary()"
   ]
  },
  {
   "cell_type": "code",
   "execution_count": 72,
   "metadata": {},
   "outputs": [
    {
     "data": {
      "text/plain": [
       "[<KerasTensor: shape=(None, None, 750) dtype=float32 (created by layer 'lstm_3')>,\n",
       " <KerasTensor: shape=(None, 750) dtype=float32 (created by layer 'lstm_3')>,\n",
       " <KerasTensor: shape=(None, 750) dtype=float32 (created by layer 'lstm_3')>]"
      ]
     },
     "execution_count": 72,
     "metadata": {},
     "output_type": "execute_result"
    }
   ],
   "source": [
    "decoder_lstm(dec_emb2, initial_state=[decoder_state_input_h, decoder_state_input_c])"
   ]
  },
  {
   "cell_type": "code",
   "execution_count": 73,
   "metadata": {},
   "outputs": [
    {
     "data": {
      "text/plain": [
       "<KerasTensor: shape=(None, 150, 750) dtype=float32 (created by layer 'input_5')>"
      ]
     },
     "execution_count": 73,
     "metadata": {},
     "output_type": "execute_result"
    }
   ],
   "source": [
    "decoder_hidden_state_input"
   ]
  },
  {
   "cell_type": "markdown",
   "metadata": {
    "id": "q6XYmfk_uvh9"
   },
   "source": [
    "## Function implementing the Inference Process"
   ]
  },
  {
   "cell_type": "code",
   "execution_count": 74,
   "metadata": {
    "id": "IdAbshrtupvu"
   },
   "outputs": [],
   "source": [
    "def decode_sequence(input_seq):\n",
    "    # Encode the input as state vectors.\n",
    "    e_out, e_h, e_c = encoder_model.predict(input_seq)\n",
    "\n",
    "    # Generate empty target sequence of length 1.\n",
    "    target_seq = np.zeros((1,1))\n",
    "\n",
    "    # Chose the 'start' word as the first word of the target sequence\n",
    "    target_seq[0, 0] = target_word_index['start']\n",
    "\n",
    "    stop_condition = False\n",
    "    decoded_sentence = ''\n",
    "    while not stop_condition:\n",
    "        output_tokens, h, c = decoder_model.predict([target_seq] + [e_out, e_h, e_c])\n",
    "\n",
    "        # Sample a token\n",
    "        sampled_token_index = np.argmax(output_tokens[0, -1, :])\n",
    "        sampled_token = reverse_target_word_index[sampled_token_index]\n",
    "\n",
    "        if(sampled_token!='end'):\n",
    "            decoded_sentence += ' '+sampled_token\n",
    "\n",
    "        # Exit condition: either hit max length or find stop word.\n",
    "        if (sampled_token == 'end' or len(decoded_sentence.split()) >= (max_len_summary-1)):\n",
    "                stop_condition = True\n",
    "\n",
    "        # Update the target sequence (of length 1).\n",
    "        target_seq = np.zeros((1,1))\n",
    "        target_seq[0, 0] = sampled_token_index\n",
    "\n",
    "        # Update internal states\n",
    "        e_h, e_c = h, c\n",
    "\n",
    "    return decoded_sentence"
   ]
  },
  {
   "cell_type": "markdown",
   "metadata": {
    "id": "Vhaan0Flvj3n"
   },
   "source": [
    "## Function to transform Integers back to Words for our source sequence of Words\n",
    "\n"
   ]
  },
  {
   "cell_type": "code",
   "execution_count": 75,
   "metadata": {
    "id": "I69Av6tiu5u_"
   },
   "outputs": [],
   "source": [
    "def seq2summary(input_seq):\n",
    "    newString=''\n",
    "    for i in input_seq:\n",
    "        if((i!=0 and i!=target_word_index['start']) and i!=target_word_index['end']):\n",
    "            newString=newString+reverse_target_word_index[i]+' '\n",
    "    return newString"
   ]
  },
  {
   "cell_type": "markdown",
   "metadata": {
    "id": "6evXjT7hxIkg"
   },
   "source": [
    "## Function to transform Integers back to Words for our target sequence of Words"
   ]
  },
  {
   "cell_type": "code",
   "execution_count": 76,
   "metadata": {
    "id": "M0F0tGIdu6FO"
   },
   "outputs": [],
   "source": [
    "def seq2text(input_seq):\n",
    "    newString=''\n",
    "    for i in input_seq:\n",
    "        if(i!=0):\n",
    "            newString=newString+reverse_source_word_index[i]+' '\n",
    "    return newString"
   ]
  },
  {
   "cell_type": "markdown",
   "metadata": {
    "id": "_H1YE2BYxZnF"
   },
   "source": [
    "# Show the Output of our Model"
   ]
  },
  {
   "cell_type": "code",
   "execution_count": 77,
   "metadata": {
    "id": "-7JJHUkhu6aN"
   },
   "outputs": [
    {
     "name": "stdout",
     "output_type": "stream",
     "text": [
      "Review: would called donation bit surgical square four people cross partners temporarily everybody goes home smiling instead square generous move set chain reaction like falling kidney removed thursday went recipient donor donor kidney went next recipient also donor friday last donor give kidney someone time one deceased donor lists complete chain long chain rare done california pacific medical center said statement matching people chain taken long time changed computer named david jacobs received kidney transplant waiting deceased donor list live donor came along someone nice enough give away kidney stranger jacobs paid forward programming skills creating program genetically matches donor quickly five way years ago one largest took three four months three weeks jacobs said chain would worked quickly without generosity may worked altruistic donor opens possibilities donors said dr steven three four options inclusion altruistic donor options consider matching donors divine friend shirley williams wrote comment facebook page true friend \n",
      "Original summary: give kidney new computer program helped six kidney patients \n"
     ]
    },
    {
     "name": "stderr",
     "output_type": "stream",
     "text": [
      "2022-12-06 20:48:20.396166: W tensorflow/core/grappler/costs/op_level_cost_estimator.cc:690] Error in PredictCost() for the op: op: \"Softmax\" attr { key: \"T\" value { type: DT_FLOAT } } inputs { dtype: DT_FLOAT shape { unknown_rank: true } } device { type: \"CPU\" vendor: \"GenuineIntel\" model: \"110\" frequency: 1200 num_cores: 4 environment { key: \"cpu_instruction_set\" value: \"SSE, SSE2, SSE3, SSSE3, SSE4.1, SSE4.2\" } environment { key: \"eigen\" value: \"3.4.90\" } l1_cache_size: 32768 l2_cache_size: 262144 l3_cache_size: 4194304 memory_size: 268435456 } outputs { dtype: DT_FLOAT shape { unknown_rank: true } }\n"
     ]
    },
    {
     "name": "stdout",
     "output_type": "stream",
     "text": [
      "Predicted summary:  explorers explorers explorers explorers explorers explorers donated resolution resolution\n",
      "\n",
      "\n",
      "Review: help grow yet describes importance placing emphasis attracting younger players european talented individuals sell value league clubs move biggest leagues across atlantic least money league player development attracting yet players turn raise standard early example strategy perhaps found transfer spanish midfielder moved sporting kansas sporting lisbon last year deal arrived free transfer aged released fc barcelona excelled kansas winning cup sold portuguese giants profit june quick make clear plans would need good systems truly could also achieved signing closer peak stage career added last point something appears happening already used lot big names could longer run europe said villa old guy lampard still going strong could still offer something teams europe said way example new york city first nevertheless continued signing young players big potential probably something see whether correct become apparent months years ahead either way brave new dawn broke san jose back turned bright morning cnn contributed story \n",
      "Original summary: th season weekend league changed since question change \n",
      "Predicted summary:  explorers explorers explorers explorers explorers explorers donated resolution resolution\n",
      "\n",
      "\n",
      "Review: spent night hospital precaution said wanted concerning health told actually looks much physically dangerous feeling well great deal stress due father health requires go back france disappointed could help team tonight everything back order also want thank everyone support get well messages similar france prompted president former club jean michel lyon tell french television cannot worried scares time ran tests said monk prior signing free transfer last july little bit low blood pressure causes little bit problems monk said televised interview sky part life well aware signed done hospital checks medical checks possibly part life problems whatsoever serious looks scored two league goals season mostly backup role became welsh side top striker signed manchester city january almost exactly three years ago white lane bolton midfielder fabrice collapsed suffering arrest near death according bolton survived treated london chest hospital subsequently retired including cameroon international marc spanish international antonio survive collapsing pitch \n",
      "Original summary: said well incident came three years fabrice collapsed white \n",
      "Predicted summary:  explorers explorers explorers explorers explorers explorers donated resolution resolution\n",
      "\n",
      "\n",
      "Review: perhaps commonly associated golf anti hero happy world player pulled second shot eighth hole championship lake friday might well much loved adam character continuing round dropped ball four time major winner launched iron used play shot water well felt good time later said incident comments carried tour let frustration get better heat moment mean club probably would need iron rest round thought club must went good yards joked finish second round leaving one tournament eight shots pace set leader last weeks performance honda classic event failed make cut northern frustration elements game still clear think every feels hit shots like one hit range said really bothers fact get course hit shots seeing relaxed environment little bit mental little bit physical everything quite matching elsewhere course ryan scored two par remain second position overall two shots behind former world adam scott impressive finish day three shots pace six tied fourth four \n",
      "Original summary: club water northern shot water \n",
      "Predicted summary:  explorers explorers explorers explorers explorers explorers donated resolution resolution\n",
      "\n",
      "\n",
      "Review: email school upset left act father wrote thursday group page spoken friends know phone know cash wallet parents said phone power time left within minutes received email school regarding home work probably pre planning good kid substance abuse issues first time ever done anything like father mother becky posted friday parents wrote saturday wearing clothing take said weather limited search efforts wednesday night went missing wednesday rainy thursday inches snow hundreds volunteers stepped pass areas according post late saturday explained search efforts included advanced geo tracking software determine exact locations went added search would taken skies sunday deployment civil air patrol many families appealed directly son read please know forgiven everything mean everything ultimate free pass come home worried family posted saturday message families head school read part sister ninth grade parents becky people contacted police aware sending email hope ok saying prayers cnn could immediately get touch police fbi \n",
      "Original summary: since wednesday police family search \n",
      "Predicted summary:  explorers explorers explorers explorers explorers explorers donated resolution resolution\n",
      "\n",
      "\n",
      "Review: horrible things said young girl self control two daughters better man ever case profanity deserved additional draw larger lessons learn unexpected old fashioned media first accountability thing young men posted messages trying avoid would let best social media sites like facebook others allow sharing information building sense community worst become digital rooms people think license without worry consequences need efforts like promote greater online accountability also something said protective parents essential working society still concerned parents like helicopters little league job interviews kids keep playing outdoors sit around wondering soft risk protective parents kind shield kids real danger never go style parent top job protect children job finally worth everyone freedom expression mean freedom rules standards expectations guide behavior things say boundaries ways expect people bring shame upon friends family social skills belong social media make story still find plenty smile whole drama unfolded proud daughter given reacted reason proud \n",
      "Original summary: navarrette taking comments daughter navarrette child set model social \n",
      "Predicted summary:  explorers explorers explorers explorers explorers explorers donated resolution resolution\n",
      "\n",
      "\n",
      "Review: walls earlier incidents involved two father son canadian brazilian teenagers rome alone deal inappropriate tourist behavior month egypt looking reports one historic sites backdrop russian flick according al news authorities confirmed x rated film shot next investigating video reportedly made russian tourists internet nine months ago al reports minister al says issue referred public prosecutor new surveillance cameras area incident comes reminder world landmark safe urges tourists matter might locals cambodia angkor park experienced string related incidents year february u tourists sisters lindsey kate leslie jan deported allegedly getting caught taking partially nude photos khan temple one sites inside cambodia angkor complex received six month suspended prison sentences one million fine banned entering country four years january group photos featuring dancer ruins surfaced facebook early last year peru officials forced respond chain naked incidents also world heritage site detained four american tourists two two pictures site cnn barry contributed report \n",
      "Original summary: russian film reportedly shot great cambodia related incidents year \n",
      "Predicted summary:  explorers explorers explorers explorers explorers explorers donated resolution resolution\n",
      "\n",
      "\n",
      "Review: following last year successful u k tour prince bringing hit run tour u first time first far scheduled show take place kentucky march tickets go sale monday march local time prince rock charts yet announced hit run worked way u k concert venues revealed via prior show portions ticket sales donated various charities see original story billboard com billboard rights reserved \n",
      "Original summary: first time tour first show kentucky \n",
      "Predicted summary:  says says says says says says says says says\n",
      "\n",
      "\n",
      "Review: attack killing one leaders al said al may considered regional al qaeda islamic maghreb according foundation washington based research analysis firm u state department said january al newly formed militant group presence northern french foreign minister laurent said victim country years old french president francois released statement attack u secretary state john kerry expressed condolences victims families news conference paris saturday act said act opening fire restaurant filled innocent civilians end resolve fight terrorism forms exists french embassy warned citizens alert go public though unclear whether rebel group responsible attack forces battled islamist militants northern part nation years said government suspects chaos soldiers coup three years ago result fighters power launch insurgency ended north fighters seized region power struggle erupted local islamist extremists toppled tribe seized control large piece northern area size france since nation battled various rebel factions mostly northern region help french african forces cnn brian contributed report \n",
      "Original summary: government calls shooting terrorist one french one three killed \n"
     ]
    },
    {
     "name": "stdout",
     "output_type": "stream",
     "text": [
      "Predicted summary:  explorers explorers explorers explorers explorers explorers donated resolution resolution\n",
      "\n",
      "\n",
      "Review: english football governing body said players charged relation alleged breach fa rule e around th minute game two players incidents seen match officials caught video players friday respond charge could face six game bans found guilty evans released statements day incident evans saying would like make clear statement said reacted something found sometimes hard react particularly heat moment always tried hard positive role model especially young fans yesterday let spitting another player considered beyond professional former liverpool midfielder tv told bbc match day programme incident acceptable said kids watching something done towards referee weekly basis ex manchester united midfielder paul said believe evans deliberately telling sport look nice think jonny spitting floor know jonny type person wants hard miss stood yard away afterwards former liverpool player steve told channel stands right jonny evans neck six inches absolutely two make right jonny evans wrong get react like absolutely talk bad worse \n",
      "Original summary: face six match ban found guilty evans spitting says \n",
      "Predicted summary:  explorers explorers explorers explorers explorers explorers explorers donated resolution\n",
      "\n",
      "\n",
      "Review: march truly international scope tuesday visiting italy russia united arab emirates mountains find attempting globe plane powered partially sun explore appearance northern asia also get view mount previously reserved page find today show transcript place request cnn student news roll call transcript click access transcript today cnn student news program please note may delay time video available transcript published cnn student news created team journalists consider common core state standards national standards different subject areas state standards producing show roll call chance mentioned next cnn student news comment bottom page school name mascot city state schools comments previous show must teacher student age older request mention cnn student news roll call thank using cnn student news \n",
      "Original summary: news must teacher student request cnn student news call \n",
      "Predicted summary:  explorers explorers explorers explorers explorers shifts bremen bremen bremen\n",
      "\n",
      "\n",
      "Review: company whose headquarters libyan capital include four austrian ghanaian according foreign ministry bangladeshi government said one citizens also taken hostage nationality ninth worker unclear come amid security situation islamic militias pledging group egypt carried militants last month killings egyptian christians kidnapped working libyan city foreign ministry said monday embassy stepped coordination austrian company libyan authorities locate ensure safe immediate release martin spokesman austrian foreign ministry monday credible sources confirmed austrian citizen international workers hands terrorists attack al latest recent spate violence militants targeting oil fields libyan national oil corporation said weekend warned two weeks ago leave area security concerns immediately available comment tuesday foreign ministry said employed al much earlier three missing since seized oil field february foreign ministry said cases threat safety security oil workers libyan oil fields targeted armed groups recent weeks said foreign ministry spokesman charles jose said authorities unsure point whether members cnn journalists contributed report \n",
      "Original summary: last week bangladesh militants series attacks oil recent weeks \n",
      "Predicted summary:  explorers explorers explorers explorers explorers explorers donated donated resolution\n",
      "\n",
      "\n",
      "Review: think back high school senior maybe pals slipped pig building door turned chairs upside surprise high school principal sherman reluctant play along last week student showed told stand holding bucket say anything said hold bucket north high school principal told cnn affiliate going hold bucket unless little could good thing changed mind student student dropping notes thanks bucket thank making high school best years life one said made first year experience america one always remember read another one student recalled helped get eating disorder helped get therapy notes idea senior jones decided wanted something nice principal cooked plan mother awesome principal said principal north since experience priceless became little said kind read thought man better things \n",
      "Original summary: high school students surprise principal senior things principal says \n",
      "Predicted summary:  explorers explorers explorers explorers explorers explorers bremen bremen bremen\n",
      "\n",
      "\n",
      "Review: search comic book artist missing islands since thursday called recovery mission lee artist dc went missing wife eastern coast grand cnn affiliate reported strong hindered search lasted friday evening reported unlikely make recovery stage chief inspector brad told lee massachusetts known work annual comic book titles tributes flooded facebook page friends fans colleagues knew art school comic cannot express shaken never get chance see smile world lost wonderful man lee wife jan family friends fans loved condolences friend fellow graphic artist chris said facebook sorry hear lee disappearance condolences go family amazing industry always work freelance artist \n",
      "Original summary: lee went missing islands thursday authorities called search friday \n",
      "Predicted summary:  one one one one one one one one one\n",
      "\n",
      "\n",
      "Review: march week marks anniversary several historic events civil rights march alabama bridge disappearance malaysia airlines flight international women day cover monday cnn student news explain latest u report mixed bag page find today show transcript place request cnn student news roll call transcript click access transcript today cnn student news program please note may delay time video available transcript published cnn student news created team journalists consider common core state standards national standards different subject areas state standards producing show roll call chance mentioned next cnn student news comment bottom page school name mascot city state schools comments previous show must teacher student age older request mention cnn student news roll call thank using cnn student news \n",
      "Original summary: news must teacher student request cnn student news call \n",
      "Predicted summary:  explorers explorers explorers explorers explorers explorers bremen bremen bremen\n",
      "\n",
      "\n",
      "Review: lead series survivor remorse cast fox independence day also cast lead role jeff reprise role david original nearly years since smith starring film hit million worldwide box office director return helm film independence day set release june almost exactly years first film hit july producing independence day big get play central character new film son smith character smith role first blockbuster helped establish star kicking career next level stars james produced tv series survivor remorse basketball player moves family atlanta signs pro contract first season premiered october quickly show second season air later year rising star film includes football drama game stands tall hit august tv side previously network series level williams hollywood reporter rights reserved \n",
      "Original summary: set role day also key released years office \n",
      "Predicted summary:  explorers explorers explorers explorers explorers shifts bremen bremen bremen\n",
      "\n",
      "\n",
      "Review: former vice president walter released mayo clinic saturday admitted hospital spokeswoman kelley said well treated cold symptoms released today said diagnosed went hospital routine following former president carter said friday bed right moment looking forward come back home carter said speech nobel peace prize forum minneapolis said tell everybody well treatment mayo clinic minnesota nd vice president served carter later ran president lost ronald made history naming woman u rep new york running mate former lawyer u senator minnesota wife joan died last year \n",
      "Original summary: released saturday hospital said former vice president treated \n",
      "Predicted summary:  says says says says says says says says says\n",
      "\n",
      "\n",
      "Review: thing guy massachusetts white stuff offering sale online people actually buying self ship pounds area snow box enough says live new england surrounding states ship snow states northeast says com business snow social media accounts claim filled orders snow tuesday alone day yet total inches set record winter month history residents see huge piles snow yards saw opportunity according com started weeks ago wife deep snow yard manchester sea coastal suburb north joked shipping stuff friends family warmer states idea born business nightmare dream first sold snow packed empty ounce water snow usually melted reached destination week began shipping larger amounts arrive anywhere u less hours also begun selling pound box snow many customers appear companies warm weather states buying snow said whether sustain venture spring remains seen shortage product rate going july snow told com thought taking idea running items maybe ship fall \n",
      "Original summary: man snow customers states pounds snow \n"
     ]
    },
    {
     "name": "stdout",
     "output_type": "stream",
     "text": [
      "Predicted summary:  explorers explorers explorers explorers explorers explorers donated donated resolution\n",
      "\n",
      "\n",
      "Review: strength women truly assist must opportunities million refugees registered unhcr un refugee agency less eventually resettled rest remain forced new lives places often right work refugees displaced average years half disappear urban struggle start lives humanitarian assistance media attention tend immediate aid cash food items unhcr provides critical cash assistance refugees jordan little month times country poverty line refugees need supplement yet cannot legally find working sector dangerous zainab among hundreds women finding world options build skills financial increased role earners challenges cultural exposing abuse violence women ability generate income guarantee economic independence help network women control income earn near east foundation discussions male family members wives daughters roles beginning women shy talk says heads islamic society community organization supporting women laughs stop talking men listen international community must advocate refugees right survive must ensure beyond immediate aid women access skill building financial resources social networks protection violence chance build \n",
      "Original summary: agencies like help women build job says men new \n",
      "Predicted summary:  explorers explorers explorers explorers explorers explorers donated resolution resolution\n",
      "\n",
      "\n",
      "Review: league games february hammering hands city rivals atletico madrid clubs biggest derby defeat since still fresh memory second el season barcelona away looking quick fix side attacking however worries little concern bilbao side celebrating first win real five years slow start season eighth position proud hard worked said comments carried news agency three points prove huge boost fans enjoyed lot deserved poor san earlier season bayern munich continued seemingly march third consecutive bundesliga title come behind victory away gave hosts surprise lead minutes alonso shortly second half brace thomas ensured would increase league top bundesliga points second place fell defeat elsewhere saturday borussia dortmund winning came end side held draw paris saint returned top ligue table hours least convincing win parc de princes david opened scoring first half came close doubled advantage penalty spot hour mark substitutes javier win pulled one back deficit lyon return ligue summit dispose sunday read \n",
      "Original summary: real madrid defeat goal enough give victory continue \n",
      "Predicted summary:  explorers explorers explorers explorers explorers explorers donated resolution resolution\n",
      "\n",
      "\n",
      "Review: tokyo police japan say arrested year old man accused fatally stabbing five neighbors farming community city man admitted stabbing three women aged well two men aged deputy police chief told cnn said accused refused comment awaiting lawyer victims two couples year old woman lived within meters suspect home police said according local media accused victims shared unclear related city island japan cnn contributed report london \n",
      "Original summary: victims aged local say police official says man refused \n",
      "Predicted summary:  says says says says says says says says says\n",
      "\n",
      "\n",
      "Review: suicide detonated car bomb near police vehicle capital southern afghanistan helmand province tuesday killing seven people injuring others province deputy governor said attack happened p area city said jan deputy governor helmand several children among wounded majority casualties civilians said details identity motive immediately available \n",
      "Original summary: car bomb near police vehicle governor says \n",
      "Predicted summary:  says says says says says says says says says\n",
      "\n",
      "\n",
      "Review: pakistan highest court friday ordered release alleged behind attacks calling detention illegal top leader terrorist group e present friday court terror attacks india left people dead november attacks heavily armed men stormed landmark buildings around including luxury hotels city historic victoria train station jewish cultural center friday india summoned pakistan high commissioner strong feelings verdict said india affairs spokesman last year court granted bail decision pakistani government said would challenge many india still angry attacks criticized bail decision disappointing accused attacks granted bail nation home minister singh said december india executed last gunman attacks suspects killed series attacks went three days cnn singh contributed report \n",
      "Original summary: india left people dead court suspect bail last year \n",
      "Predicted summary:  shop shop shop shop shop shop shop shop shop\n",
      "\n",
      "\n",
      "Review: may mental health experience might alexander said county police officers undergo degree training deal mentally ill incidents highlight need public safety director said becoming apparent alexander said already many departments begun look expand mental health training find certainly necessary appears seeing cases across country police engaging appear distress police release officer name said seven year veteran placed administrative leave incident officer access stun gun spray alexander said chose draw weapon come investigation think need wait see outcome investigation cannot tell beyond told far kind measures officer may taken said fatal police shootings come increased scrutiny current climate police departments also appear releasing information transparency sake case madison wisconsin madison police chief mike front outspoken shooting death year old tony hands officer seems case county incident look state country things going right across country police involved shooting certainly concern many americans certainly recommendations made regards moving towards independent type investigations said \n",
      "Original summary: police officer fired two man charged case turned \n",
      "Predicted summary:  explorers explorers explorers explorers explorers explorers explorers donated resolution\n",
      "\n",
      "\n",
      "Review: amateur near london told broadcaster walking wife country park heard distressed noise spotted switched camera flew across us slightly direction suddenly obvious small back struggle life le may said eventually le may told known least countries lost grip flew away chief executive britain society told cnn image looked genuine possible would take go anything looks like food got high got eat lot said surprise took seen photo charging group hungry animals said would generally try break neck may case think bit long shot looks like tried grab neck break said think probably big enough bite would normally target green said normally size larger known spend fair amount time ground pulling worms hunting managed hit would end said quite little number manipulated images showing turn russian president vladimir putin football star john terry even appears dog red dressed costume green also known laughing call shock targeted hungry wears hope lives nickname \n",
      "Original summary: back gone may near london \n",
      "Predicted summary:  explorers explorers explorers explorers explorers explorers explorers donated resolution\n",
      "\n",
      "\n",
      "Review: kanye west fans used seeing thousand dollar price attached rapper air sneakers put sale ebay auction site overrun offering plastic bags full air allegedly captured west concerts started friday one attempted sell bag air kanye show driving price tag telegraph reports auction ultimately pulled auction site ebay since flooded similar air show even though authenticity air likely carbon dioxide grabbed west concert ebay apparently stopped trying swat new air buyer beware point rolling stone kanye new album title air inspired similar items like bag air concert kanye west concert air bay leaves latter tagged opening bid another pushing bag kanye buy price rolling stone watch kanye speech bet kanye ebay news following soft launch boost first footwear adidas sneakers throughout site prices ranging asking prices come direct conflict west hopes achieve new sneakers recently told style com hoped would super everyone could afford copyright rolling stone \n",
      "Original summary: sell air west got others \n",
      "Predicted summary:  explorers explorers explorers explorers explorers explorers donated resolution resolution\n",
      "\n",
      "\n",
      "Review: flight crew delta air lines plane skidded fence airport last week cited brake issues landing according update monday crew said sense wheel brake upon landing despite auto set max according ongoing investigation national transportation safety board runway appeared white moments landing according report based decision land receiving brake action report good air traffic control said automatic deploy crew told first officer quickly deployed captain said unable stop aircraft left according report boeing md sustained significant damage left wing flight nose plane left wing fuel tank according delta flight departed atlanta shortly thursday dealing snow flight approached destination two hours later aircraft briefly circled new york issues snow ice touching shortly plane slid runway nose fence halt mere feet waters twenty three passengers received minor injuries others transported hospital meteorologist examining weather conditions time accident said report cause accident determined \n",
      "Original summary: air flight fence last week winter says crew wheel \n"
     ]
    },
    {
     "name": "stdout",
     "output_type": "stream",
     "text": [
      "Predicted summary:  explorers explorers explorers explorers explorers explorers explorers donated resolution\n",
      "\n",
      "\n",
      "Review: schools pakistan renamed honor children killed taliban siege school last year according provincial government local schools bear name student killed december attack army public school government spokesman told cnn gesture way remember students taking taliban militants strapped explosives laid siege six hours later dead children according authorities february pakistani authorities arrested suspect accusing attack army public school home students staff sons daughters army personnel around cnn mariano contributed report \n",
      "Original summary: students killed taliban attack six hour school killed people \n",
      "Predicted summary:  says says says says says says says says says\n",
      "\n",
      "\n",
      "Review: army south africa using spread different kind message colors black blue organization using sensation spread awareness domestic violence ad shows model wearing white gold dress one caused internet last week people whether actually black blue instead model also sports face body reads hard see black blue think choice ad received mostly positive response dress sold british company roman actually black blue julia chief eye hospital philadelphia explained different people saw different colors eyes perceive colors slightly different way based \n",
      "Original summary: internet black white army south africa raise awareness \n",
      "Predicted summary:  says says says says says says says says says\n",
      "\n",
      "\n",
      "Review: return sport immediately albeit probation suspended delaware civil court found probably committed domestic violence former girlfriend patricia accused driver grabbing head wall motor home delaware dover international speedway september twice cup champion appealed suspension lost times meant missed season opening well two subsequent cup races able compete fall says compete championship events case took significant turn last week delaware department justice announced charges would filed said beginning commit domestic abuse said look forward back racing soon possible moving life kent county delaware family court commissioner ruled february must stay away year officials decided lift suspension complied racing circuit program completed assessments got ok health care expert race totally news release said must undergo additional steps address behavior steve donnell executive vice president chief racing development officer said lack charges return made clear expectations moving forward includes participation treatment program full judicial result track behavior donnell said cnn martin contributed report \n",
      "Original summary: decision official says accused ex girlfriend head twice lost \n",
      "Predicted summary:  explorers explorers explorers explorers explorers explorers donated donated resolution\n",
      "\n",
      "\n",
      "Review: back across peninsula despite information search rescue teams begin search area full day though interim report makes mention failure military alert others relevant radar data may blame briefing document prepared international civil aviation organization said military authorities failed share final radar fix civilian counterparts hours cnn approached malaysia ministry defence comment yet receive response another working document notes turn back might discovered much earlier military non military agencies coordinated better essence week lost initial search poor civil military reads working document interim report released investigators sunday provides information military radar data shared authorities impossible know response air traffic immediate access radar data would changed course events would provided authorities time either track flight search ocean died emergency looking back series air traffic radar also provides valuable lessons could help future search rescue operations though investigation team draw lessons current report plans provide safety recommendations months ahead journalist chan contributed report \n",
      "Original summary: later took hours first search flights take according report \n",
      "Predicted summary:  explorers explorers explorers explorers explorers explorers donated donated resolution\n",
      "\n",
      "\n",
      "Review: myanmar twenty one people dead missing southeast asia nation myanmar myanmar ministry information said statement ship friday night bad weather conditions around city large wave crashed causing near islands authorities managed rescue least people according information ministry myanmar also known burma pictures government showed rescue workers helping people boat onto land capital state sits bay miles bangladesh border weekend weather forecast city calls giving way clear skies high daytime temperatures expected fatal disasters nothing new region last month least people died packed double sank river north neighboring bangladesh capital dhaka officials said cargo vessel hit causing overturn passengers lower deck forty five people died accident river august may several boats carrying many people thought near myanmar western coast ahead storm approaching area boats carrying members myanmar long suffering muslim minority thailand based u n official said time journalist reported myanmar cnn wrote story atlanta \n",
      "Original summary: people myanmar government says hit large bad conditions \n",
      "Predicted summary:  explorers explorers explorers explorers explorers explorers donated donated resolution\n",
      "\n",
      "\n",
      "Review: myanmar fighting rebels dropped bomb field china killing four civilians latter state media reported saturday addition nine others wounded according xinhua news agency shortly incident friday china sent fighter jets patrol shared border jets track monitor chase away myanmar military planes china air force told state media china summoned myanmar ambassador beijing incident border city vice foreign minister china called myanmar investigate bring behind attack justice myanmar forces battling ethnic rebels border region across province recent incidents stray damaged property chinese side border prompting beijing myanmar ensure safety immediate reaction myanmar \n",
      "Original summary: china fighter border myanmar following incident report nine others \n",
      "Predicted summary:  one says says says says says says says says\n",
      "\n",
      "\n",
      "Review: initial steps relieving symptoms determine something needs managed home mayo clinic let type suggestions seek doctor aid doctor might also tool increased separation cancer least couple degrees keeping around think traditionally many physicians little patient comes office big stacks internet said think doctors accepting personally think transparency information helpful way help doctor help worried particular medical situation research help narrow ailing share physician really appreciate patients bring information found online allows guide instruction plan based true concerns said people get scared get sick hurt want use multiple sources information help internet adds physician expertise order remember though knowing use internet make doctor count second opinion unhappy go get one traditional way putting inevitable going away mayo clinic ing world going help make doctor appointment like right sites like make super easy set appointment wait two weeks see maybe gone away unless course white bread ate case please stop calling dad \n",
      "Original summary: according report internet health like others doctors \n",
      "Predicted summary:  explorers explorers explorers explorers explorers explorers explorers donated resolution\n",
      "\n",
      "\n",
      "Review: clark county nevada indicted year old man accused fatally shooting neighbor front house last month jr faces charges murder deadly weapon attempted murder firing gun within car police say shot front home car riding followed home february attorney said client argue self defense family told police giving daughter driving lesson confrontation driver another car drove home sent inside get brother brandon allegedly brought handgun son went back police said encountered car police said investigators found six caliber scene lawyer said client first court appearance brandon pointed gun anyone started shooting said family story road rage incident reportedly followed add away first shooting drove home car silver went also police said shot brandon hit head died two days later hospital brandon police said returned fire home injured driver silver yet found authorities suspect named thursday indictment arrested five days killing family house one block away home due court tuesday preliminary hearing \n",
      "Original summary: first degree murder accused killing front home two walking \n"
     ]
    },
    {
     "name": "stdout",
     "output_type": "stream",
     "text": [
      "Predicted summary:  explorers explorers explorers explorers explorers explorers explorers donated resolution\n",
      "\n",
      "\n",
      "Review: patrol car window people serve sheet glass vehicle person world around beat old movies bridge police forces people serve another idea give brought many law enforcement officials touch community lack community one cited report ferguson areas gulf law enforcement neighborhood wide used initially bring two sides together sides ultimately goal safe peaceful neighborhoods police departments members community take steps come together professional level tech services company south bronx recently hosted video game competition police officers residents neighborhood event left local teenagers saying things like basically like us ultimately police considered members community needs encouraged police departments neighborhoods alike communities make local part neighborhood celebrations new orleans police winston became minor internet celebrity dancing local people besides fun community helped foster type appreciation respect essential effective community fear among minority communities toward police legacy many decades treatment lack opportunity times like anger address right approach begin change attitude black community police \n",
      "Original summary: latest shootings push point police forces must \n",
      "Predicted summary:  explorers explorers explorers explorers explorers explorers explorers donated resolution\n",
      "\n",
      "\n",
      "Review: referring convention diplomats certain degrees consular immunity said suspect identified son young first secretary north korea embassy dhaka initially refused allow searched said way open scan bag said first said motor questioning changed mind told us machines eventually customs officers opened diplomat bag found goods included gold bars golden current market prices gold would valued around million entering bangladesh without declaring precious metal violation country customs regulations official bangladesh foreign secretary speaking cnn condition anonymity said government protest north korean ambassador far early jump conclusions whether alleged gold smuggling incident could example corruption effort move official funds due international sanctions north korea faces substantial trying access international banking systems would interesting see diplomat gets back north korea said john professor university graduate school international studies would way saying whether corrupt diplomat according foreign secretary office bangladesh north korean diplomat allegedly caught carrying gold since left country cnn k j contributed \n",
      "Original summary: north bangladesh one embassy pounds says bangladeshi government \n",
      "Predicted summary:  explorers explorers explorers explorers explorers explorers explorers donated resolution\n",
      "\n",
      "\n",
      "Review: river says great feels blessed rescuers found toddler saturday hanging upside car crashed utah river day mother lynn died crash landed car roof spanish river town job time accident cnn affiliate reported rushed daughter side soon heard came put finger hand told dad love told reporters wednesday left since sitting next waiting get better come home said awake singing video two hospital shows waving camera knows everything knew anything happened amazing doctors say amazing said toddler survive car crash utah river might died unseen mother man gone fishing particular spot saturday river around noon noticed car wheels water called emergency water cold rescue seven men involved treated car onto side saw driver seat clear dead still strapped seat may hours occurred friday night police believe described love life according going miss lot still deal also considers lucky still daughter healthy alive blessed counting blessings right said cnn ben contributed report \n",
      "Original summary: everything anything happened father says mother lynn died crash \n",
      "Predicted summary:  explorers explorers explorers explorers explorers explorers donated donated resolution\n",
      "\n",
      "\n",
      "Review: medical helicopter carrying least three people crashed late thursday federal aviation authority said flying went west lake near canadian river three employees medical air transport company llc board according spokesman lynn investigators headed crash scene county sheriff office handling crash local law enforcement spokeswoman said early friday information give far earlier week army black hawk helicopter crashed waters florida service members aboard believed dead air force official said thursday military working recover helicopter found bottom santa rosa sound near air force base well bodies seven marines four louisiana army national guard members aboard cnn contributed report \n",
      "Original summary: registered air company en route \n",
      "Predicted summary:  one one one one one one one one one\n",
      "\n",
      "\n",
      "Review: us make better one attempt abandon similar thinking happening elsewhere wear operating system look like tiny display watch ways another real estate limited enough also encourage new less rectangular thinking seen sensors experiences happen outside frame entirely disney magic bands company parks course technologies like augmented reality virtual reality nose effectively pressed close glass frame entirely screen less window frame field vision easy new components manufacturing techniques make easier forms likely find people exploring unique effects produce recently fact saw instance tech industry giant leaving glass behind big way minute video proposed new headquarters would leaves boxy buildings behind favor like structures glass buildings vertical windows horizontal windows nothing windows maybe radical concept window even really apply whatever case nothing rectangular convinced future read super fast method boarding planes airlines using well designed products dying cities would look like lit stars magazine less issue get free gift click copyright com \n",
      "Original summary: called anti phone digital \n",
      "Predicted summary:  explorers explorers explorers explorers explorers explorers donated resolution resolution\n",
      "\n",
      "\n",
      "Review: feel force today may news official star wars getting first gay character according big shiny upcoming feature capable flawed imperial official named also happens lesbian character first gay figure official star wars movies television shows books approved star wars owner disney according shapiro editor star wars books random house del books \n",
      "Original summary: gets first gay governor appears upcoming star wars become \n",
      "Predicted summary:  says says says says says says says says says\n",
      "\n",
      "\n",
      "Review: taliban pakistani military campaign militant group north one governed tribal areas afghanistan pakistani prime minister nawaz sharif whose government held unsuccessful peace talks last year strongly condemned sunday attack according statement office sharif asked provincial governments tighten security take possible measures protect people property statement said last major attack pakistan christian community took place suicide bombers struck church northwestern city killing people recently christian couple burned death november accused christian community soft target militant pakistan said researcher institute pakistani think tank generally christians religious constant threat elements society rampant religious sunday pope francis said learned attacks pain much pain called peace pakistan said christians get attention pope prayed christians world tries hide might end peace predominantly sunni muslim nation also targeted year last month attack shiite mosque killed least injured dozens others pakistani taliban reportedly claimed responsibility attack cnn reported karachi pakistan wrote hong kong cnn brian journalists contributed report \n",
      "Original summary: claims responsibility suicide least people attack hospital official says \n",
      "Predicted summary:  explorers explorers explorers explorers explorers explorers donated resolution resolution\n",
      "\n",
      "\n",
      "Review: fall victim perfect victim never never paid traffic ticket know pay fines know stern serious everything said many people afraid hear whatever caller says december federal authorities found arrested two u based runners admitted almost million dollars pre paid foreign bank accounts many cases victims warned stopped sending money bank money wiring locations said bank told asked go second round money think victim report web site call frank garcia light came woman phone asked another thought debt paid says decided hang await woman promised would arrest course never came stealing tax felt taken advantage felt small naive said aware understand system blame anybody taking time understand things often says immigrants targeted threatened deportation elderly also popular target although grown large people ages income levels status getting calls department officials say get one calls best way handle hang department even got one told time coming watch lead et latest lead click \n",
      "Original summary: victims million since property prison time department open investigations \n"
     ]
    },
    {
     "name": "stdout",
     "output_type": "stream",
     "text": [
      "Predicted summary:  explorers explorers explorers explorers explorers explorers explorers donated resolution\n",
      "\n",
      "\n",
      "Review: sure happened far hard imagine would gone ahead without knowledge view makes gop efforts look extreme kennedy went behind scenes point foreign policy always deeply partisan matter often end challenge executive authority true spirit constitution country expected speak one voice foreign policy president always possible recall congress carter white house apart canal treaties administration policy controversial staffers sent aid rebels back channels democratic house speaker jim wright accused private peace plan left wing government bill clinton nuclear deal north korea criticized republicans democrats liberal democrats best iraq war writes foreign policy generally conducted white house executive agreements pass without comment idea foreign policy beyond na disagreements gone public political conditions appropriate particular matter iran talks sensitive republicans involves electoral holy obama israel presidential primaries going walk away one hardly surprised democrats would situation many times past republic designed limited executive power competitive two party system keep politics fluid arguably inevitable \n",
      "Original summary: policy says says left gone around deal foreign leaders \n",
      "Predicted summary:  explorers explorers explorers explorers explorers explorers donated resolution resolution\n",
      "\n",
      "\n",
      "Review: pope francis exactly two years ago told mexican television network friday expects brief four five years told know even two three two already passed somewhat sensation maybe like psychology lose disappointed wins happy know francis elected march pope stepped said reopened door asked whether likes pope responded mind francis said feels god wanted lead roman church short time nothing said would support putting age limit also enjoys calling pope like wise home one seek advice francis said francis made similar retirement comments august praised beautiful gesture said might thing one day told misses ability go public without attracting huge crowd would like go one day without recognized go pizzeria pizza said also friday service st peter pope announced start december end november said since first recent pope says ok children cnn contributed report \n",
      "Original summary: says think five years says like idea rare \n",
      "Predicted summary:  explorers explorers explorers explorers explorers explorers explorers donated resolution\n",
      "\n",
      "\n",
      "Review: facebook post actor lack changing tables public men rooms parents talking new father partner welcomed baby october complained followers yet encounter changing table public visits offered give social media shout first business found table men room post comments wednesday morning lots folks offered places barrel say changing tables abound said problem finding changing tables may earth hollywood star said family would take care problem altogether modern get enough credit many praised raising issue thank issue dad awesome many families know two issue time wrote one poster another mom agreed boyfriend taken get key family change room instead going men son change table make sense needs go ways update yet whether encountered station men room dad blogger death push mom \n",
      "Original summary: men offered give free first one partner baby october \n",
      "Predicted summary:  becomes explorers explorers explorers explorers explorers bremen bremen bremen\n",
      "\n",
      "\n",
      "Review: closed decade trail described world dangerous path longer limits public thanks massive reconstruction project due reopen march spain del features face meters river trail begins village el southern province around since early originally built provide access two workers years deteriorated following string fatal accidents government access points comes year since reconstruction efforts kicked spain annual holy week celebrations according spanish daily el provincial government allocated million euros project entire route kilometers long covering kilometers trail famous section includes de los bridge spans officials say takes four five hours walk entire route includes slopes entry free first six months attraction march visiting hours p april october p november march want visit need book spot official \n",
      "Original summary: dangerous due month extensive originally time local government close \n",
      "Predicted summary:  getting explorers explorers explorers shifts shifts bremen bremen bremen\n",
      "\n",
      "\n",
      "Review: housing construction minister minister welfare social services becoming leader labor party elections also became leader opposition benjamin another term prime minister called early elections bid social reform run social justice change nature division wealth fair way close give sense purpose people housing cost living promised election issue nuclear iran international headlines aggravated tense relations white house speech almost immediately address congress promised work united states european powers ensure safety israel echoed sentiment interview cnn elise labott nuclear armed iran dangerous world peace dangerous region dangerous israel leader israel never accept nuclear armed iran never options table elections negotiations palestinians one major issues promised peace talks palestinian authority best political process palestinian neighbors although cannot promise results promise effort comes israeli political royalty first chief state israel father army general ambassador united nations president israel believes next prime minister israel carry unique legacy family legacy important experience brings able lead nation \n",
      "Original summary: show four seats ahead \n",
      "Predicted summary:  explorers explorers explorers explorers explorers explorers explorers donated resolution\n",
      "\n",
      "\n",
      "Review: state oil company important know scandal known publicly least year election campaign said would root corruption also interesting protesters saying put violence far protests gotten violent says brazil democratic country people right protest comes left wing background approach fitting brought left wing workers party significant protests mostly organized right wing party opposes organized people vote people today protesting next demonstrations scheduled april guess goes organized demonstrations really setting advance date like yes well brazil word get social media accused anything protests politically motivated protests affect presidency four years ahead could end hard little half vote october people vote still making voices heard scandal problem election close bring back economy traditionally parts country like sao paulo voted party workers party country april protest ahead three four months road might happen senate house allies among scheme able get badly needed legislation party questions hard answer cnn atlanta talked cnn lives reports brazil \n",
      "Original summary: angry massive scandal involving state oil company protesters also \n",
      "Predicted summary:  explorers explorers explorers explorers explorers explorers donated resolution resolution\n",
      "\n",
      "\n",
      "Review: officials detained citizens confessed planning cross border syria indonesia foreign ministry said group comprises man four women three girls eight boys said spokesman ages children released told reporters friday group stopped southeastern city north city syria admitted officials planned enter syria said government sending security team turkey investigate group objectives plans increase security officials said group different another reportedly deserted tour group recently turkey feared crossed syria confirmed two separate groups \n",
      "Original summary: group made one man four women children north syria \n",
      "Predicted summary:  says says says says says says says says says\n",
      "\n",
      "\n",
      "Review: ban recent bbc documentary india daughter citing potential disorder earlier last year india withdrew alternative history book american academic wendy local advocacy group accused writer december movie came attack similar accusations apart parts india religious became success one country highest movies india home one world largest film industries blocked several movies screening least two films allowed last year one lives prime minister indira gandhi centered violence closing months civil war protests author announced quitting writing dramatic post facebook january writer dead god going faith ordinary teacher live p leave alone said facebook two months ago religious based organizations wife taking part ancient allowing sex strangers last week india blocked bbc airing india daughter included comments one men convicted raping young student moving bus new delhi reason inmate views could create unrest growing towards different shades opinion india needs effort move beyond embrace free expression said new generation media chief executive \n",
      "Original summary: india banned film man rape south company ceo says \n"
     ]
    },
    {
     "name": "stdout",
     "output_type": "stream",
     "text": [
      "Predicted summary:  explorers explorers explorers explorers explorers explorers donated donated resolution\n",
      "\n",
      "\n",
      "Review: indian wanted get said moore fact would like welcome whole family think quite place successful enter take wild card coming family members williams suggestions sisters match indian fixed throughout whole career integrity everything told time also everything false allegations matches fixed hurt cut ripped us deeply current painful unfair game loved heart one tournaments suddenly felt alone afraid incident chief executive women tour said williams suffering genuine injury richard williams dictated outcome matches daughters mark admitted things could handled better williams example might explained withdrawal fans court signed said citing example last year world tour finals roger federer withdrew final london addressed fans signed happened final williams said thought horrible told cnn com thought tough players time would known enough know significantly injured set kind thought unfair kim williams twice champion tournament winning year would fantastic said moore even added think wonderful ending closing ugly chapter looking forward looking backward \n",
      "Original summary: played since dad said racially abused still california event \n",
      "Predicted summary:  explorers explorers explorers explorers explorers explorers donated resolution resolution\n",
      "\n",
      "\n",
      "Review: way like chelsea france play paris saint champions league first leg tie europe premier football tournament finished five people identified suspended chelsea launched ongoing investigation later february says contacted police social media footage showed men thought west ham fans singing anti songs train traveling tottenham white lane ground ahead english premier league game would know paris london incidents happened video asks adding considering option video still images directly complaint log video footage issue make easier identify perpetrators says report released entitled english football inclusion anti action plan fa explicitly talks raising confidence reporting disciplinary process level english football including amateur ranks one independent bodies world sports fans order abusive behavior also actions players embroiled organization controversy past rio ferdinand refused wear shirt match playing manchester united protesting perceived lack response governing bodies john terry chelsea defender accused racially abusing brother ferdinand park rangers terry banned four matches fined fa actions \n",
      "Original summary: five percent increase lead england football association \n",
      "Predicted summary:  explorers explorers explorers explorers explorers explorers donated resolution resolution\n",
      "\n",
      "\n",
      "Review: according drunk driving cases parents held liable even know drinking taking place like episode mad men serving group grateful teens said green made possible home lock liquor cabinet never kids drinking could problem well green passionate parents need think law stresses bad behavior teens still needs punished either legally home kids responsibility kid something wrong broke law ought punished appropriately also live society legal rights want parents know aware help child use better judgment reading moved try find criminal defense lawyer earth go finding one green advice ask friends colleagues also consult state bar association since would want someone state experience criminal defense issues says call interview lawyers asking everything much services would cost would handle work philosophy law teens rights may may end friends afterwards important feeling secure lawyer approaching situation way feels right think important parents teens aware law children legal rights share thoughts kelly cnn living facebook \n",
      "Original summary: parents teens miss time states parents held teen home \n",
      "Predicted summary:  explorers explorers explorers explorers explorers explorers donated resolution resolution\n",
      "\n",
      "\n",
      "Review: movie waited half hour half hour later train went exciting even years old points europe cold war many borders cultural lines today back places freedom checkpoints sometimes places fear hostile past says buildings left behind fascinating see passage time human places strong role people stop car policeman ask showed maybe open bags police power let go interesting looking places little bit spooky feel atmosphere buildings range size style giant soviet authority major highways tiny deep dark forests europe countries tend maintain old less states seem content let says says gone completely marked maps located using gps talking locals strong supporter open europe time continent nations talking close economic political share neighbors recalls one encounter human side project setting camera austria watched man drove austrian side parked followed woman two minutes later side began speak kissing much minutes went back separate ways thought agreement couple future follow ongoing project www com \n",
      "Original summary: border european nations border range soviet statements small deep \n",
      "Predicted summary:  explorers explorers explorers explorers explorers explorers donated resolution resolution\n",
      "\n",
      "\n",
      "Review: f last year melbourne race australian crossed line second place seemingly becoming first finish albert park soon turned despair disqualified hours race officials ruled car maximum fuel flow rate rule states car limited fuel per race introduced make sport fuel frustrating mean part sport always frustrating said year old red bull debut sure even lewis last year frustrated times never perfect car added referring two mercedes drivers finished first second last season signed long time ago learn accept sport even driving ability often mechanical failures eventual world champion hamilton forced last year race albert park technical blunders always end disaster hamilton italian grand prix mechanical early race finnish driver lost wheel opener fifth place finish despite previous disappointment cannot wait race home next sunday definitely feel home race increases excitement said adding would use australian flags cheers advantage last year disaster looking make things right little bit confident get back \n",
      "Original summary: year australian grand prix second year old looking sunday \n",
      "Predicted summary:  explorers explorers explorers explorers explorers explorers donated resolution resolution\n",
      "\n",
      "\n",
      "Review: debut million well expectations million last year million opening another take classic fairy tale angelina jolie darker version however light thanks veteran director kenneth small screen stars james richard play prince personal uncertainty courage oscar winner provides reviews strong current rotten disney release well month since family film hit american school districts began spring break latest run night opened soft second place solid draw since action star six years ago taken run night debuted even last year dismal walk among time plays former hit man whose family targeted old boss played ed harris seems people would rather see attack fight run limited release critically horror follows made four far away weekend best per theater average among returning films colin secret service million mark total domestic actually rising spot chart last weekend winner runner focus fourth place next weekend returns young adult action series insurgent sean tries action genre javier gunman \n",
      "Original summary: estimated office million latest run night opens second place \n",
      "Predicted summary:  explorers explorers explorers explorers explorers explorers donated resolution resolution\n",
      "\n",
      "\n",
      "Review: march toward publication another book kill author continues forward many people know raised questions year old lee ability consent publish another book others said knows according new york times report alabama officials found lee wants publish book since lee wrote kill refused publish another book lee lives living facility alabama friends say makes unable consent book go set receiving anonymous complaint abuse lee state alabama sent investigators alabama commission talk others around clear investigators fully questions asked indicated certainly wanted book published opinions voiced interview joseph agency director told cnn point decided certainly knew going lee wrote go set kill features lee lawyer b carter found go set draft author belongings august deal go set still scheduled released july commission investigation closed something come later date shows something wrong indication could take another look said since complaint person middle reason maintain case open \n",
      "Original summary: abuse filed kill second july people question \n"
     ]
    },
    {
     "name": "stdout",
     "output_type": "stream",
     "text": [
      "Predicted summary:  explorers explorers explorers explorers explorers explorers explorers donated resolution\n",
      "\n",
      "\n",
      "Review: striking image new baby american flag held navy sailor whose face cannot see photograph american flag navy veteran virginia beach whose filled sweet images parents shot picture sailor baby posted facebook page believe picture right shows means american told cnn affiliate flag uniform baby exactly every service member fighting everyone agreed navy wife whose husband deployed facebook page titled call posted photo said use flag bad picture u flag code state flag never used wearing never drawn back always allowed fall free according congressional research service report used receiving holding carrying anything threatening private messages reported facebook saddened decided keep posting picture take pictures members military request picture flag people posting critical facebook page disagree criticism picture wrote one poster veteran find picture beautiful clearly military member loves country baby photo making point another photo fan posted flag represents republic republic supporting future nothing use flag beautiful \n",
      "Original summary: questions critics call navy veteran husband took \n",
      "Predicted summary:  explorers explorers explorers explorers explorers explorers donated resolution resolution\n",
      "\n",
      "\n",
      "Review: question members tribe levi current scientific technology reveal kind information even start genetic testing companies promise kind information historical references john baptist outside bible daniel jos extra biblical sources shed light historical figure john baptist actually life importance john baptist important fairly rare find kind evidence ancient figures outside writings followers jewish john baptist book jewish describes john good man possessed virtue great influence people according put john baptist death afraid might raise gives us another arguably historical perspective john executed provides evidence important john day watch latest full episode anytime daniel jos wait jesus get father prayer johnny b catch also really glad someone brought wondered gospel luke one jesus says lord teach us pray john taught interesting request tells us something john baptist ministry demanding jesus luke jesus request lord prayer know lord prayer came john personally think think luke shaped version events reading luke could come conclusion \n",
      "Original summary: religion appears program part study found could john \n",
      "Predicted summary:  explorers explorers explorers explorers explorers explorers donated resolution resolution\n",
      "\n",
      "\n",
      "Review: well sucking personal information could fuel obsession personal wellness health information us non stop start become little focused bio data would generated unusual situations becomes making people health also self obsessed instead social networks spend time result people start become interested going inside rather happening world pay attention feed personal likely become things may never given second thought past walking steps day finding poor sleeping pattern night become source significant personal guilt worry result pour attention monitoring controlling giving us less time things actually make us happy indeed correct tens millions people purchase likely create step change lives already see people posting social media information would shared doctor years ago widespread use could mean instead relieving boredom answering emails people spend time sifting stream planning ways personal wellness ratings rather talking television last night people start charts sleeping patterns happens know internet arrived read watch program copyright conversation rights reserved \n",
      "Original summary: also likely become things may never given second thought \n",
      "Predicted summary:  explorers explorers explorers explorers explorers explorers donated donated resolution\n",
      "\n",
      "\n",
      "Review: moved arrest documentary finale air tuesday said surprised houston raid either surprised acting like bunch particularly embarrassed tv program said even surprised find anything value whatsoever prosecutors accuse lying wait killing crime writer longtime witness crime shot head shortly investigators coming speak disappearance first wife long maintained nothing death wife disappearance though questioned whether comments made end documentary breath bathroom killed could told reporters monday client kill ready end rumor speculation trial said unclear trial could take place right fight los angeles prosecutors new orleans pursuing charges remains smith caliber arrested according new orleans police department records investigators found marijuana substantial amount cash hotel room source familiar investigation told cnn booked new orleans monday charges felon possession firearm possession firearm controlled substance may moved soon different louisiana prison inmates acute medical condition sent said court documents filed tuesday say receive medications including limited needed pain cnn dave chris contributed report \n",
      "Original summary: says real arrested weekend new charged first degree murder \n",
      "Predicted summary:  explorers explorers explorers explorers explorers explorers explorers donated resolution\n",
      "\n",
      "\n",
      "Review: according report since numbers decline reports year ago obama say race relations worsened reason decline ku klux klan totally clear though report even suggests groups may going deeper underground appears groups simply leaders members got older also possible many simply stopped report said center estimates people klan members united states opinion america facing anti muslim report also notes people may operating called overall number hate groups peaked decline since however number registered users claiming voice new white minority doubled since nearly users concern report said domestic terror attacks since carried individuals wolf planned attack u capitol fbi says report points neo nazi miller allegedly killed three people kansas thought jewish incident las vegas anti government couple killed two police officers killed examples radical criminal elements acting alone say many individuals may moving organized groups internet become anonymous looking towards next year real wave proliferation heavy media coverage group told reporters \n",
      "Original summary: u dropped report says particular number dropped year says \n",
      "Predicted summary:  explorers explorers explorers explorers explorers explorers donated resolution resolution\n",
      "\n",
      "\n",
      "Review: ease little body wooden chair share touching stories growing poor small town tennessee depression father would talk old age remember saying something referring bout parkinson getting old eyes told story sitting presence like listening wise uncle southern manners gave time world never heard criticize anyone uncommon meet great people used domestic wreckage home family among biggest fans married high school sweetheart years two children laura john laura named son father john became ceo instead pastor said father remarkable man knew care guy street asking dollar president united states makes feel important person world talking said john far great fathers go years kept contact would go preaching beloved center non profit ministry served children north georgia tennessee north carolina center provides books hot meals music perhaps saw something kids helped one thing certain content preach compassion lived message funeral held p monday cherry log christian church blue ridge georgia people lost \n",
      "Original summary: art one world best died friday \n",
      "Predicted summary:  explorers explorers explorers explorers explorers explorers explorers donated resolution\n",
      "\n",
      "\n",
      "Review: accounts could work related request prompted clinton turn emails pages clinton asked emails made public department officials reviewing make sure sensitive information released clinton office said account contained sent received emails march february half personal way related work reason save clinton said press conference fact emails senior officials automatically saved recently mean gone according state department would state lost history always technical means gaining access past information spokeswoman said friday time said state department chose change approach automatically saving emails system better way said new system obviously ways preserve employees individuals expected prior new process said letter recently sent former state department staffers asking help effort become aware federal record possession email sent received personal email account serving official capacity department record made available department said ex staffers told even last month chance emails current secretary state john kerry uses government address already saved automatically cnn adam levine contributed report \n",
      "Original summary: communications officials always state department official says last month \n"
     ]
    },
    {
     "name": "stdout",
     "output_type": "stream",
     "text": [
      "Predicted summary:  explorers explorers explorers explorers explorers explorers explorers donated resolution\n",
      "\n",
      "\n",
      "Review: went isolation housing campus university nebraska medical center according spokesman taylor wilson atlanta workers voluntarily agreed leave housing monitored stay wilson said another set three workers arrived sunday morning housing near national health workers freedom move around ones georgia nebraska according christopher spokesman maryland department health state follow guidelines monitored individuals getting public transportation allow go outside long stay least feet away people number two workers arrived monday morning atlanta housing near third worker expected arrive monday atlanta health authorities deemed person lower risk allowed monitoring home according government official patient second admitted hospital safety nina texas health hospital dallas admitted october disease national thomas eric duncan recovered released free disease duncan died nebraska three four hospitals united states units deal highly disease people died west african epidemic dates back december according world health organization almost deaths guinea spread direct contact fluids infected person cnn joe c mclaughlin contributed report \n",
      "Original summary: changed critical eight aid workers already two back monday \n",
      "Predicted summary:  explorers explorers explorers explorers explorers explorers explorers donated resolution\n",
      "\n",
      "\n",
      "Review: old monday england striker louis van united quick capitalize mistake antonio valencia grab winner hour mark disappointing night united late red card argentina international di maria given orders referee michael di maria initially booked simulation took protests far grabbing official led instant dismissal men united never able real pressure arsenal took two fine saves david de deny goals sanchez away side victory arsenal booked return last four clash either reading bradford city tie next monday liverpool play aston villa semifinal arsenal taken th minute lead spanish defender converting fine move involved alex chamberlain advantage short lived di maria finding wayne rooney score diving header united looked press ahead winner home hopes valencia made back pass quick loose ball beat de believe justice score worked extremely hard today arsenal manager said counterpart van left without trophy first season charge english pressure seal top four place guarantee champions league football next season \n",
      "Original summary: manchester united player scores took lead sent second half \n",
      "Predicted summary:  explorers explorers explorers explorers explorers explorers donated resolution resolution\n",
      "\n",
      "\n",
      "Review: reporters police chief tom jackson city attorney met federal officials findings initiated several initiatives including reforms municipal court said municipal created alleged trouble paying fines also defendant may ask judge prosecutor different payment plans alternative sentencing mayor said defendants required pay entire fine regardless ability pay federal report said city also passed last september cap municipal court revenues city overall budget mayor said figure half missouri legal limit added reforms intended move city residents entire community forward mayor said back home recalled height fight city occurred shortly husband calvin died complications paralysis suffered car accident three years earlier appeared court appeal officer arrested put back squad car offense failing appear court said spent four hours jail insists made every court date lives fear police even home got point said going anyone fearful left would get ticket even live said cnn ed smith contributed ferguson michael reported wrote story los angeles \n",
      "Original summary: city broken car daughter racially mayor town move forward \n",
      "Predicted summary:  explorers explorers explorers explorers explorers explorers donated donated resolution\n",
      "\n",
      "\n",
      "Review: days said according calm respond questions said speaking russian radio station echo moscow also urged people worry saying putin absolutely healthy asked president firm replied putin break hand last fall rumors also health north korea leader kim jong un absent public eye month eventually north korean state media releasing walking cane speculation putin began planned meeting capital russian leader presidents kazakhstan short notice confirmed wednesday leaders agreed delay several days give new date said kremlin press office said friday putin would meet monday counterpart russian city st petersburg said putin last public appearance sunday international women day since number meetings video released kremlin course many years power putin image strong leader captured film released media included riding horses exploring handling last year earning black belt russian president international spotlight recent months moscow intervention ukraine prompted tensions west opinion putin gone missing cnn reported moscow laura smith spark wrote reported london \n",
      "Original summary: held friday putin spokesman rumors ill health putin planned \n",
      "Predicted summary:  explorers explorers explorers explorers explorers explorers donated resolution resolution\n",
      "\n",
      "\n",
      "Review: went challenge substitute ball international hazard tucked penalty away restore chelsea lead ensure tie would go penalties still chelsea looked forced make world class save brazilian desperately tried make despite warning netted fine header next corner looping brilliant header goalkeeper yards game mourinho admitted clearly better side performance good enough told sky sports game hands twice think stronger us better pressure game german champions bayern munich place last eight shakhtar donetsk draw first leg ukraine shakhtar task became one inside four minutes dismissed bringing g inside penalty area thomas tucked home resulting penalty bayern subsequently laid siege shakhtar goal robert nodded cross post side doubled advantage half hour mark defender simple task home point blank range former dortmund striker effort saved bayern ran riot break france international franck ribery grabbing third fine low finish powerful run area grabbed second moments later made five header finally got score sheet g completed \n",
      "Original summary: played minutes men first half shakhtar place last eight \n",
      "Predicted summary:  explorers explorers explorers explorers explorers explorers donated donated resolution\n",
      "\n",
      "\n",
      "Review: police service served five men involved incidents paris paris saint v chelsea champions league tuesday february appear forest magistrates court wednesday march regarding police application football banning orders authorities identified alleged perpetrators chelsea quick group saying statement incident something place football society manager jose mourinho said ashamed club moved quickly suspend five men involved said faced life ban found guilty watched image next day want watch watched mourinho told reporters days match paris enough sad enough imagine situation want go home day work couple guys kick public transport club spokesperson also confirmed chelsea russian owner roman disgusted incident whilst french president francois personally spoke chelsea invited attend return bridge offer go quoted saying french radio station cannot buy little piece paper child want sit stadium next people pushed still hear voices people pushed color skin football banning orders last three ten years breach result criminal offense prison sentence six months \n",
      "Original summary: incident black man chelsea suspended five life found guilty \n",
      "Predicted summary:  explorers explorers explorers explorers explorers explorers donated resolution resolution\n",
      "\n",
      "\n",
      "Review: enjoy laughing england football team calling scots spare thing auction house offering work italian painstaking painful english every defeat suffered england team large piece black meaning lucky buyer constantly reminded succession artist says memorial stone style work simply guess piece talks pride missed opportunities death known humorous satirical art plenty work recorded starting loss scotland glasgow ending another setback world cup since course would fair including two italy brazil last summer part worst ever england display world cup artist whose works include la pope john paul ii struck first put football piece display exhibition london known whether england players past present came along sneaky look current england boss roy known bit former inter milan coach needs quick wants catch glimpse work public exhibition new bond street galleries tuesday march offered part single owner bear witness sale \n",
      "Original summary: england football set go london england defeat black expected \n"
     ]
    },
    {
     "name": "stdout",
     "output_type": "stream",
     "text": [
      "Predicted summary:  explorers explorers explorers explorers explorers explorers explorers donated resolution\n",
      "\n",
      "\n",
      "Review: two state solution reduction cost living founder ben says prime minister benjamin failed think way go forward account change government get current government office get bibi office says ben organizers promoting specific candidate pushing voters toward political party march instead encouraging voters change current administration police estimated crowd people headlining rally former head israel agency critic recent weeks criticized decision speak u congress continued criticism rally saying never seen israeli politics still broad support israel party well polls union primary challenger initial round immediately following speech congress union expected win seats expected win seats poll comes cnn affiliate channel israel nature israeli politics party could lose election still becomes prime minister many ways rally similar social movement began summer hundreds thousands protesters packed streets demanding improvements cost housing education health care started small social media campaign turned nationwide movement spread major cities time issues different growing sense calls change remain \n",
      "Original summary: one million sponsors event want see new minister come \n",
      "Predicted summary:  explorers explorers explorers explorers explorers explorers donated resolution resolution\n",
      "\n",
      "\n",
      "Review: paul mccartney smith john legend ready rock wednesday rock roll hall fame announced array list performers th annual ceremony takes place historic public hall saturday april seven artists groups honored rock roll hall fame ceremony newly announced list includes paul mccartney wonder smith peter wolf fall boy john steve cropper joan round class day celebrates best rock n roll expect musicians bring house two year recognized artists set perform ruled three wins including album year sing ceremony john legend also take stage winning best original song year academy awards see grammy winners ceremony feature tom rage machine former eagles band member joe walsh fighters founder dave rock roll hall fame ceremony broadcast saturday may ceremony accompanied series events rock week including live music sessions new exhibit rock roll hall fame museum \n",
      "Original summary: rock paul mccartney ringo starr bill take place may \n",
      "Predicted summary:  explorers explorers explorers explorers explorers explorers explorers donated resolution\n",
      "\n",
      "\n",
      "Review: borders controlled islamic state well internet searches flames war propaganda video videos including one showing members prisoners justice department said also found government said another propaganda videos arrested park new jersey january air force trained aircraft engine navigation weapons systems justice department said converted islam moving san antonio according indictment indictment said took job american airlines airline responded request comment american airlines co worker alerted fbi osama bin laden felt bombings u embassies overseas expressed anti american sentiment complaint said one year later told fbi expressed interest traveling fight october march worked iraq army contractor according complaint according page listed maintenance manager airlines kuwait based charter airline since september airline told cnn work third quarter mr future project meet airline said statement mr personnel cooperating authorities last known u address new jersey lived egypt last year indictment said convicted could sentenced years prison cnn ray sanchez john steve contributed report \n",
      "Original summary: turkey january authorities say authorities allege letter told wife \n",
      "Predicted summary:  explorers explorers explorers explorers explorers explorers explorers donated resolution\n",
      "\n",
      "\n",
      "Review: labor bill clinton calls sharing economy share economy speaking tech companies utilize demand labor uber says big money goes corporations software go demand workers meanwhile conservative columnist ross fears future rich society longer offer meaningful occupation many people ordinary put simply valley rest america punished anyone else recent college whose earning potential already suffered setback think job safe think new research predicts nearly half jobs next two decades giant backward described progress anyone talked system phone usually means worse done fight slide back toward middle ages take action headed toward kind digital world handful kings lot middle class easy fix three things immediately first stop tech start talking openly valley questionable tactics real job creation record second encourage abusive practices sharing economy third elect leaders holding valley accountable power entire american workforce including white employees slang would tight everyone indeed would want better future millennials generations need challenge valley late \n",
      "Original summary: middle class jobs young college jobs yet many still \n",
      "Predicted summary:  explorers explorers explorers explorers explorers explorers donated resolution resolution\n",
      "\n",
      "\n",
      "Review: safe museum display wooden lower longer exists georgia enough power effectively trade artillery enemy vessels might approach atlantic ocean instead vessel became battery artillery pieces refused take georgia nearby defense challenge preserving portions georgia chemical means making iron stable remains one day displayed parts done texas take two years complete state local officials hope pieces exhibited somewhere city much georgia integrity piece many pieces remain pretty good shape x ray one leg shows fair bit experts fill gaps remove iron said officials need investigation tell story crew hopefully section tell human side georgia said operations soon civil war removed lot iron site chance personal items survive especially line protected oxygen vessel crew run main engine constantly keep georgia green wood made december union maj gen william sherman soldiers reached crew likely opened water valves georgia slipped surface sailors used small boats get shore began mile walk took could carry said \n",
      "Original summary: couple miles famous street never fired shot civil war \n",
      "Predicted summary:  explorers explorers explorers explorers explorers explorers donated donated resolution\n",
      "\n",
      "\n",
      "Review: many beautiful see concentrating driving lose tend fall old habits drive right even seconds cause damage ministry transport spokesperson said factor figures showed australian british drivers involved overall side road drive factor said seen three cases tourists driving wrong side road recently vigilante approach seen visitor town face last month said best approach better education local driving conditions foreign drivers particularly companies picked vehicles anyone foreign drivers license able drive new zealand year transport minister craig said government recognized many people concerned poor driving behavior challenging roads around popular tourist destinations established project response measures include improvements keep left passing extensive single lane highway educational resources targeted visiting drivers including many targeting growing chinese market said important strike right balance getting message foreign drivers take care roads value dollars brings new zealand especially region want put tourists want safe country said cross center line anything possible cnn david contributed report \n",
      "Original summary: car year taken place amid rising popular involved foreign \n",
      "Predicted summary:  explorers explorers explorers explorers explorers explorers donated resolution resolution\n",
      "\n",
      "\n",
      "Review: find structure would think would able withstand category earlier michael said storm called monster told cnn strength winds incredible video footage shot earlier friday showed palm trees whipped wind rain evacuation alerts issued several parts country even sun rose saturday already getting hit hard communication power cut due storm wind outside terrifying michael world vision national director told organization cannot imagine like families able find safe shelter storm archipelago nation northeast australia contains small islands many little infrastructure lack strong housing structures storm tropical climate housing made lighter building materials including corrugated residents prepared storm boarding windows chopping trees stand close buildings case could become debris cause damage injury cnn host bill weir recently assignment said port modern development form airport large hotels convention center construction life islands remained almost unchanged thousands years search rescue bringing food supplies extremely challenging said watches warnings islands new zealand cnn van contributed report \n",
      "Original summary: homes unicef reports devastation capital made direct hit capital \n"
     ]
    },
    {
     "name": "stdout",
     "output_type": "stream",
     "text": [
      "Predicted summary:  explorers explorers explorers explorers explorers explorers donated donated resolution\n",
      "\n",
      "\n",
      "Review: considered part islamic republic head jewish community comment directly political matters especially current heated environment say members community felt much home iran israel iran countries said consider iranian israeli israel iran affect us even jewish representative iran parliament aside vibrant jewish community city also several representing christian community business people center town shopping mall known people jewish passage many businesses jewish owned crew arrived found muslim jewish shop owners around one said owns clothing store friends call showed us hebrew prayer books always keeps store like others keen talk israeli prime minister benjamin recent address u congress problems israel iran says politics place want peace said really hope problems one day god willing hoping unity peace days community leaders conduct religious studies younger members congregation adamant problems neighbors acknowledge friends living often worry course sometimes people know live israel elsewhere concerned us tell us crazy live says tell things calm \n",
      "Original summary: home despite iran community leader iran countries consider iranian \n",
      "Predicted summary:  explorers explorers explorers explorers explorers explorers explorers donated resolution\n",
      "\n",
      "\n",
      "Review: bank kept siege regard center left great hope campaign important remember israeli labor party established occupation settlement projects palestinian territory labor leaders beloved west founding fathers significant venture modern israel illegal transfer jewish population stolen land project whose purpose prevent kind equal division land settlement palestinians great success story labor never real plan palestinians except time endless peace process may longest history still true eve elections stand real chance bringing union power west bank east created may reality answer get back table private five years time needs process better indication ending occupation time soon numerous peace plans already worked great needed one israeli leader one least stage seem one capable tuesday democracy middle east elect new parliament new government frequently described celebration people power reality israel masters vote decide future millions palestinians nearly half century living control directly west bank yet seems fate topic worthy discussion call democracy rather problematic \n",
      "Original summary: gone ahead tuesday election \n",
      "Predicted summary:  explorers explorers explorers explorers explorers explorers donated resolution resolution\n",
      "\n",
      "\n",
      "Review: plate number registered area immediately clear obtained video cnn could immediately footage authenticity video release came day turkey foreign minister said country arrested allegedly helped british girls get syria alleged agent working country part international anti coalition foreign minister said thursday official speaking condition anonymity said suspect citizen country working month broadcaster released images said showed british girls boarding bus istanbul arrived london thought crossed border syria within days trip would long border town miles southeast istanbul authorities said reason believe girls still turkey believe crossed syria parts taken islamist terror group girls parents publicly begged come home days left turkey least one girls allegedly contacted young woman left home scotland travel syria accused trying others via social media posted tips girls young women wanting travel syria marry blog also links advice posted another supporter recommends traveling syria seek pack essentials much since may need move often short notice remaining \n",
      "Original summary: turkey network reports network video shot two days plane \n",
      "Predicted summary:  explorers explorers explorers explorers explorers explorers explorers donated resolution\n",
      "\n",
      "\n",
      "Review: forever changed way people think sexual victims rights modern day race relations see set inside fast world abc scandal academy award nominated writer grant pen executive produce drama produced association abc signature studios ceo michael london production president williams executive produce alongside grant star washington sources tell rick talks direct deal place see years confirmation comes washington poised film warner feature drama summer director project may take scandal star hiatus abc series confirmation comes premium building original films week tapped elizabeth banks paul play tennis billie jean king bobby movie detailing duo legendary battle match also tony winner way jay attached direct read tv ratings empire audience grows though finally holds confirmation deal also marks big network sale abc signature boutique arm abc studios also latest buy outside studio following series including warner television upcoming grant washington washington square films hansen jacobson media group del shaw hollywood reporter rights reserved \n",
      "Original summary: actress washington star movie former court justice thomas accused \n",
      "Predicted summary:  explorers explorers explorers explorers explorers explorers donated donated resolution\n",
      "\n",
      "\n",
      "Review: brewer waving finger president obama greeted air force one brewer later alleged felt little bit threatened president taken whole list suggests troubling pattern president seems reflect anti obama republican party one letter iran suggests shows signs breaking sure sign republican party lack respect shown toward president obama race suggested yes certainly segment country really uncomfortable black president indeed even former secretary state colin republican noted described dark party parts country general beyond hopefully shrinking share population explicitly far wider issue racial unconscious yet nonetheless real subject president obama extra scrutiny color skin none criticism aimed president obama stems racial appears factor ease aimed america first black president shown black americans general honorable people disagree policy vice president joe biden said statement tuesday yes whatever republicans president obama vision leadership party followers often expressing ugly way rampant pattern fellow human let alone president united states america truly undermines principles values nation \n",
      "Original summary: monday republican senators sent open letter iran \n",
      "Predicted summary:  explorers explorers explorers explorers explorers explorers donated donated resolution\n",
      "\n",
      "\n",
      "Review: hue green window take views went back entrance house dining room front set things rarely cameras allowed never part house getting ready aide announced someone wanted say appeared around corner keen welcome crew spoke talk weather prince charles opens love life might expect meet something hope comes across cnn special spotlight charles unfortunately request interviewed never done one plan wants husband however allowed cameras get close enough pick sound public appearances would give viewers greater sense character prince charles arrived also insisted meeting crew great also eating interview time end full minutes planned make tv special think manage give good sense comfortable enough person camera afterward walked house additional shots joined us way worried would cold without coat coat want hold things cannot tell lot someone spending morning particularly journalist close connected fun left take stroll crew captured shots think small place royal history glimpse couple enjoying company private throne \n",
      "Original summary: spent time prince charles says couple close \n",
      "Predicted summary:  explorers explorers explorers explorers explorers explorers donated donated resolution\n",
      "\n",
      "\n",
      "Review: gruesome reality injustice news release university called arrest disturbing university president issued statement saying every member community feel safe threat harm forms violence virginia attorney general mark appealed certainly images looking shocking really important get facts understand exactly happened johnson said friday forum held theater campus student council said media would allowed ask questions bring cameras forum said event would live internet student space chance students ask questions feel pressing virginia senior law enforcement officials group said facebook students leaders asked questions advance friday handful crossed using proposed problematic influence discussed police training user asked among questions one student asked alcohol control agents police powers third wondered preparing students world outside grounds incident comes amid continuing nationwide debate use force police particularly involving african americans following deaths last summer michael brown ferguson missouri eric new york grand communities white police officers deaths leading angry protests nationwide calls attention claims police \n",
      "Original summary: friday afternoon discuss arrest arrest protests images student face \n"
     ]
    },
    {
     "name": "stdout",
     "output_type": "stream",
     "text": [
      "Predicted summary:  explorers explorers explorers explorers explorers explorers explorers donated resolution\n",
      "\n",
      "\n",
      "Review: despite head still possess ability prove human anyone notoriously unforgiving things matter label attached capacity desire accomplish something positive impact even prison cannot hope conviction future settled anyone many people asked recent days transformed kelly kelly journey hope struggle find words know kelly story pushes logic christian faith limits pushes christians proclaim forgiveness hope indeed even professional life long pastors struggle weight claims make today kelly life balance state georgia monday issued last minute execution citing concerns drugs used kill department corrections said plans resume executions analysis drugs complete gov deal power kelly sentence life prison join faith leaders across nation including georgia signed letter urging governor use political influence save kelly life speak publicly execution call people good reach gov deal georgia state legislators demand accountable system justice kelly richard wrote life even convicted turned around none us without hope need hear kelly proclaim us much proclaim god real \n",
      "Original summary: kelly due concerns injection drugs time death row discovered \n",
      "Predicted summary:  explorers explorers explorers explorers explorers explorers donated donated resolution\n",
      "\n",
      "\n",
      "Review: distance said prosecutor asked something road forced driver go directly officers said accelerating high rate speed later day pronounced dead local hospital cause listed injuries head led identification suspects officers discovered richard donohue massachusetts bay transportation authority officer hit friendly fire shootout survived nearly death arrested p day boat called slip away saw photos boat last week monday got chance see boat become key piece evidence trial person trial started prosecutors defense attorneys much boat would get see prosecution sought remove panel allegedly messages could see eyes defense attorney david argued cutting panel would take written words context would fairly reflect state mind south mile courthouse looked entire boat monday loaded onto semi truck moved location jury wearing dark handcuffs watched showed little emotion expression appeared strain make words inside boat boat riddled bullet holes words cooper reported catherine e ralph ellis wrote story atlanta cnn ann neill contributed report \n",
      "Original summary: bomb said men shot bombs tried run see arrest \n",
      "Predicted summary:  explorers explorers explorers explorers explorers explorers donated resolution resolution\n",
      "\n",
      "\n",
      "Review: amphibious operations said capt barry spokesman u marines corps special operations command involved small boats marines water via helicopter would say phase training marines tuesday night seven marines marine special operations regiment camp north carolina initial search hampered dense point boats could see said wednesday morning got hit found bulk bottom sound said went water start said without many bodies recovered helicopter broken several pieces high impact crash said coast guard hired company mobile alabama take wreckage water company might arrive thursday evening weather conditions may delay recovery friday said gen martin chairman joint chiefs staff expressed condolences wednesday said crash reminder us serve put risk training combat work services ensure family members well marine died wednesday hawk aircraft operated civilian contractor crashed marine corps air station arizona aircraft hit government vehicle killing marine pilot passenger plane examined released emergency services cnn john brian victor jamie crawford brad contributed report \n",
      "Original summary: seven aboard helicopter crash happened tuesday conditions initial search \n",
      "Predicted summary:  explorers explorers explorers explorers explorers explorers explorers donated resolution\n",
      "\n",
      "\n",
      "Review: went work said father sister brother undergone lengthy interrogations anti terror police since attack officers seized computer phone well taking samples said cousin asked named told cnn family shocked happened shocked lost someone even wrong may god forgive killed innocent would go harm japanese islam mention killing people islam never said also said idea cousin saying normal guy security minister rafik said friday two extremists attacked museum got weapons training camps suspects activated cells tunisia said say group activated trained left country illegally last december able train weapons told private broadcaster tv like tunisia saw longtime leader ousted regional wave known arab spring unlike neighbor west violence much islamist militants message posted online thursday claimed responsibility wednesday attack said targeted crusaders automatic weapons hand grenades cnn cannot legitimacy statement start message warned threat may may hollow nonetheless adds extra investigators cnn reported laura smith spark wrote london cnn contributed report \n",
      "Original summary: italian tourists killed italy cousin one suspected say idea \n",
      "Predicted summary:  explorers explorers explorers explorers explorers explorers donated resolution resolution\n",
      "\n",
      "\n",
      "Review: parts city people lose mayor lose force change harder make changes asking said black member commission charged reforms ferguson said needed resign wake report knew going watch said member ferguson commission gov jay formed last year investigators still seeking breaks case two police officers shot wednesday night protest ferguson demonstrators focus ferguson neither wounded officers works police department one st louis suburb miles south ferguson officer year old seven years experience shot high point cheek right eye police said hit shoulder bullet came middle back year old officer st louis county police law enforcement years treated released cannot tell arrest imminent certainly one custody st louis county police chief jon told reporters friday afternoon detectives working investigation around clock rest conclusion investigation chief said police several leads said think pretty good general idea think shots came sara reported ferguson missouri jason reported wrote atlanta cnn ed payne michael contributed report \n",
      "Original summary: failed police protests michael brown death mayor step saying \n",
      "Predicted summary:  explorers explorers explorers explorers explorers explorers explorers donated resolution\n",
      "\n",
      "\n",
      "Review: rights lawyer laws applied majority turkey female abuse cases perpetrators receive sentences due court detection consent granted victim said cases wearing got woman punishment cases consent attached wearing red unclear happen aslan case three suspects arrested death turkey news agency reported agency identified main suspect year old said confessed aslan reportedly fought using spray given mother although heartbroken angry aslan revenge fact family received donations across country planning use set rehabilitation center women abused men abuse must surrender love told cnn otherwise lose aslan murder similar many ways well known case india student attacked five men public bus raped later died injuries like aslan murder death massive nationwide protests like turkey india serious problem comes women rights countries turkey ranks th world economic forum gap index sunday women marched istanbul mark international women day reported female rally dedicated aslan memory screams indeed heard maybe instant later millions hearts said aslan \n",
      "Original summary: assault killed death protests including one international women day \n",
      "Predicted summary:  explorers explorers explorers explorers explorers explorers donated resolution resolution\n",
      "\n",
      "\n",
      "Review: win whole team stands behind supports really thankful great job setting course fast nice course set many turns also world giant title beaver creek said focus strengths claiming th season fast super g maybe best said year old overall good weekend honestly thought tina going better downhill would catch super g turned different focusing strengths going race next week train giant order show best chances win giant globe meanwhile clinched men super g title victory home snow sunday missed securing downhill globe finished seventh saturday opened point lead italian paris first globe career said year old good go final weekend feeling like two guys pushing cup fend big thing leave super g focus downhill point lead downhill less confident point deficit another austrian three time defending champion overall men next travel events next weekend think gain extra points concerned overall said think pull might get exciting room error anything happen \n",
      "Original summary: super g ahead finals back saturday overall world cup \n"
     ]
    },
    {
     "name": "stdout",
     "output_type": "stream",
     "text": [
      "Predicted summary:  explorers explorers explorers explorers explorers explorers donated resolution resolution\n",
      "\n",
      "\n",
      "Review: often simply treated johns caught often pay fine go way outrageous tolerated longer joined forces advocacy groups fight modern day trade provide hope opportunity victims two bills introduced combat crime recently passed senate judiciary committee strong support opportunity senate justice victims trafficking act would support victims taking fines criminal assets convicted human traffickers toward services treatment help victims restore lives help victims also arms law enforcement tools go human traffickers ensures criminals including johns brought justice laws financial mask assault child second bill minnesota safe harbor law helps make sure minors sold sex prosecuted defendants instead treated victims stop exploitation trafficking act would give states safe harbor state passes safe harbor law means kids sold sex steered towards child protection services rather arrested charged convicted state criminal statutes across country texas minnesota young people subjected horrors abuse must everything free sex trafficking must join together take action combat modern day \n",
      "Original summary: sens trafficking kids two problem judiciary committee say \n",
      "Predicted summary:  explorers explorers explorers explorers explorers explorers donated donated resolution\n",
      "\n",
      "\n",
      "Review: despite deadly attack wednesday twenty three people tourists killed gunmen opened fire inside museum stone throw parliament building come tunisia social media campaign aimed protecting north african nation industry critical country economy social media campaign features users holding signs saying travel north african country travel tunisia summer reads sign held girl china dutch man paper says heroes visit tunisia celebrate independence day tens thousands people online expressed support one five rely living nation minister said travel warnings place united states united kingdom countries could cripple tunisia economy fresh wound painful years arab spring visits country dropped significantly unrest revolution numbers back museum attack online visit tunisia posted long attacks shows people holding hands tunisia treasured human form across mountains ancient ruins desert message united welcome week words repeated social media woman also part campaign holds sign welcome tunisia terrorists followed online campaign fear enemy lawmaker spoke week sharing world afraid \n",
      "Original summary: support takes social official one five tourists make living \n",
      "Predicted summary:  explorers explorers explorers explorers explorers explorers donated resolution resolution\n",
      "\n",
      "\n",
      "Review: come back come back question former wimbledon champion posed prompting replies crowned champion england club july announced retirement mere one month later due injury problems appears former world return court eight time grand slam champion warning consider fully committed would first women star come retirement veterans date chose saying initial eight wta titles year professional career reaching quarterfinals australian u opens last four home grand slam paris \n",
      "Original summary: one month later due injuries eight wta year career \n",
      "Predicted summary:  says says says says says says says says says\n",
      "\n",
      "\n",
      "Review: actress entered rehab facility spokesman said battled substance abuse years needed seek treatment done said spokesman scott currently making progress facility year old struggled alcohol painkillers past oscar performance cnn roger contributed report \n",
      "Original summary: award alcohol past \n",
      "Predicted summary:  says says says says says says says says says\n",
      "\n",
      "\n",
      "Review: told two members russia human rights council pleaded guilty detained scared told tortured well family friends threatened one two suspects recently charged case three suspects charged accused investigation summoned questioning authorities said russia committee stated two rights activists violated law visited questioned moscow jail amnesty international condemned russian officials decision go activists saying threat bring criminal charges rights activists alarming questions investigation head public commission public security said two suspects denied involved shooting russian opposition leader said doctor found signs torture examination three men wounds despite fact allege beaten police said tooth marks one president vladimir putin outspoken critics shot back moscow bridge walked girlfriend near kremlin february three suspects visited deny guilty appealed arrests said putin condemned killing ordered three law enforcement agencies investigate kremlin said also wrote mother saying shared promised bring behind killing justice cnn matthew chance reported moscow steve wrote atlanta cnn lopez smith contributed report \n",
      "Original summary: says custody confessed two three tell officials \n",
      "Predicted summary:  explorers explorers explorers explorers explorers explorers donated resolution resolution\n",
      "\n",
      "\n",
      "Review: behind chief jackson new face new name type issues patricia democratic ferguson told cnn wednesday need seriously deal culture police department municipal courts way city run new york police commissioner william said two issues confronting heads police forces lack trust community part lack confidence officers leadership first issue said need willing embrace need change police leadership consultant john whoever takes ferguson department need leadership valued across world ability form across lines think differently turn failure success media spotlight easier said done going lot ferguson long time said new chief need african american help defuse racial tensions city answer find right candidate regardless race want find best candidate police chief said attorney benjamin families martin michael brown important important police officers understand communities least want engage members community going protecting serving old saying black community everybody else protected served said want want protected served american citizen cnn nick valencia contributed report \n",
      "Original summary: change look new chief city also find community police \n",
      "Predicted summary:  explorers explorers explorers explorers explorers explorers donated donated resolution\n",
      "\n",
      "\n",
      "Review: half court shot miss although turned pro two point loss butler exposure potential recruits allowed bulldogs return championship game next year third round students school play final years butler year old brad stevens became youngest head coach nba signed million contract even though successful team butler right well known says adding first put map find smaller schools drew hopes butler past success already led highest victory total winning percentage school history led foot inch senior fernandez sophomore crusaders hoping high seed member committee meets selection sunday rank tournament participants nightmare scenario would early round last year runner kentucky aim become first team go win national championship since indiana drew calls coach john team powered front line willie johnson along anthony towns ever seen college basketball six kentucky players considered worthy june nba draft remains guarded college basketball players deals kentucky players tournament probably talk smaller schools way boutique agency says \n",
      "Original summary: field small drew turned career look \n",
      "Predicted summary:  explorers explorers explorers explorers explorers explorers donated resolution resolution\n",
      "\n",
      "\n",
      "Review: marriage simply joke spent little time together really early tell marriage fact succeed course yet likely rooted serious reality man achieve work life balance executive course one could argue idea work life may harder men women traditional ones likely find self worth work one reason see many wealthy powerful men working well time easier men make decision leave whole thing early highest paid executive millions stock afford even work remainder life rest us nowhere close luxury choice corporate america noted much blame keeping balance arm length increasingly long days ever tightening limits paid leave benefits leave jobs achieve balance fact means companies need make real changes includes reasonably putting workers well par profits showing workers expect time real work life balance start take shape patrick note make dream quitting job reads headline abc news indeed kicker find balance truly workers america finding sort balance choosing life work remain impossible dream \n",
      "Original summary: went americans want find work life luxury quit jobs \n"
     ]
    },
    {
     "name": "stdout",
     "output_type": "stream",
     "text": [
      "Predicted summary:  explorers explorers explorers explorers explorers explorers donated donated resolution\n",
      "\n",
      "\n",
      "Review: thoughts prayers time pero pero died appears massive heart attack longtime agent dan told cnn sore arm week took days tour band says pero tour band new york scheduled play tonight according twisted sister jay jay french told cnn pero found morning tour bus taken hospital died devastated great guy one best french said lose someone years know going like stage without cannot even think like twisted sister death today lost brother anthony pero passed away said statement assault drums helped drive twisted sister inspired rock every single show heart breaks knowing never feel power beat behind turn see face smiling sheer joy got loved pero joined twisted sister best known song going take video though left time join another band twisted sister band past years according com going take video also animal house mark pero seen concert hitting brings cloud recent years also band cnn tony marco contributed story \n",
      "Original summary: j played going take members band saddened \n",
      "Predicted summary:  explorers explorers explorers explorers explorers explorers donated donated resolution\n",
      "\n",
      "\n",
      "Review: attending injured wrestlers according cnn mexico franco said injury result blow neck region adding spent hour trying revive using possible measures associated press reported state prosecutor office opened investigation possible manslaughter said friday fight organized another promotion company named crash death prompted outpouring social media fans members wrestling industry miss carry rest life landed flying kick rest peace del posted two images appeared show young age later life share ring first time del debut professional wrestler honor ring great legend last time wrote missed wwe wrestler mark henry respect fallen brother arms wwe pray peace comfort family henry wrote son one giants mexican wrestling younger began career age according emerged father shadow become big name right el del among stars recent memory three time mexican national tag team champion well former mexican national light champion mexican national champion wrote report columnist mike question el del among popular successful mexico said \n",
      "Original summary: ring doctors died wrestling company says \n",
      "Predicted summary:  explorers explorers explorers explorers explorers explorers donated donated resolution\n",
      "\n",
      "\n",
      "Review: investigation team pursuing number lines inquiry source threat time right appeal public whilst possibility threat must treat threat seriously priority investigation underway said deputy commissioner mike might aware someone strong views issue made threats discussed access supplies also called alleged come forward letter writer may really considered implications actions communication time put right picking phone calling us carries maximum sentence years jail new zealand new zealand world leading dairy exporter dairy cooperative country biggest company revenue billion last year ceo described threat press conference crime global giant problems recently ordered global recall products including formula fears might contain could cause fears proved causing strain new zealand formula exporters association chairman michael said eyes response threat key markets china biggest consumer new zealand dairy exports could extremely new zealand exports told cnn affiliate whole reputation exporter food risk trading new zealand listed dairy companies tuesday announcement threat cnn charles contributed report \n",
      "Original summary: reveal threat sent demand government called government use control \n",
      "Predicted summary:  explorers explorers explorers explorers explorers explorers donated resolution resolution\n",
      "\n",
      "\n",
      "Review: time faced controversy founded march university alabama five years american civil war according fraternity war began group fewer members went war states seven union army says fraternity boasts living along colonies seeking full work hard change recently string member deaths many blamed new recruits national president cohen wrote message fraternity fraternity lists cited suspended health safety incidents since least incidents involved dozens involved alcohol however list missing numerous incidents recent months among according various media outlets yale university banned campus activities last month members allegedly tried sexual misconduct investigation connected stanford university december suspended housing finding sorority members attending fraternity function subjected graphic sexual content johns university november suspended fraternity underage drinking media labeled us nation deadliest fraternity cohen said example student died excessive alcohol consumption according lawsuit previous fraternity result paying lloyd london highest insurance rates greek letter world cohen said turned attempts open new fraternity close months incidents \n",
      "Original summary: university also run officials recent months \n",
      "Predicted summary:  explorers explorers explorers explorers explorers explorers donated donated resolution\n",
      "\n",
      "\n",
      "Review: comic books past years seen lot changes quite many one time three major superman wonder woman archie came new looks thursday superman wonder woman stranger change time pretty different used wonder woman back wearing pants along something body armor superman looks casual ever seen simply shirt jeans shorter hair also looks like someone might want come across dark archie getting ready promised tv show modern look one makes much easier see fighting years time comic book fans lot get used \n",
      "Original summary: woman new looks thursday three well known time look \n",
      "Predicted summary:  says says says says says says says says says\n",
      "\n",
      "\n",
      "Review: palestinian state anyone going evacuate today simply giving base attacks radical islam israel said television interview true reality created last years speech known bar speech committed negotiations two state solution saying let us begin peace negotiations immediately without prior conditions israel committed international agreements expects sides fulfill obligations say palestinians want live peace quiet good relations estimates took four seats jewish home two seats party receive enough votes inclusion israel parliament exit polls israel wrong recent elections exit polls showed party winning seats final results seats becoming major player government time unexpected surprise worked favor turning campaign race election night never polled better approximately seats grabbed least seats according numbers israeli election committee based vote worked sort magic elections early results showed labor party winner results came victory fewer votes said election truth behind israeli politics last election showed clearly right left right extreme right nice sometimes right mostly mostly \n",
      "Original summary: actual results show running away election poll last turn \n",
      "Predicted summary:  explorers explorers explorers explorers explorers explorers explorers donated resolution\n",
      "\n",
      "\n",
      "Review: years death suicide continues wednesday trailer released eagerly anticipated documentary singer life directed offers intimate one music trailer features interviews closest performer including family members wife musician courtney love companion book art documents produced film also directed documentary kid stays picture producer robert evans said documentary include mind blowing minute unheard track song appear circuit premiere may \n",
      "Original summary: trailer wednesday documentary may \n",
      "Predicted summary:  says says says says says says says says says\n",
      "\n",
      "\n",
      "Review: u secretary state john kerry said saturday need close gaps iran talks nuclear program adding iranian officials deeply committed ensuring iran obtain nuclear weapon iran faces march deadline reach deal nuclear program several interim agreements made recent months though long term far speaking paris alongside french foreign minister laurent kerry said progress made remain gaps acknowledged days mean rush reach agreement get right deal top u diplomat said kerry said one thing members p group united states russia china united kingdom france plus germany agree iran develop nuclear arms iranian minister consider peace threat officials tehran publicly insisted want nuclear program energy purposes create find whether iran prepared take steps answer questions world right get answers kerry said \n",
      "Original summary: powers nuclear program u secretary state john get deal \n"
     ]
    },
    {
     "name": "stdout",
     "output_type": "stream",
     "text": [
      "Predicted summary:  becomes explorers explorers explorers explorers explorers bremen bremen bremen\n",
      "\n",
      "\n",
      "Review: last week alaska native received silver star aid wounded buddy afghanistan small team moved compound july searching expert explosive devices sergeant wounded without waiting reinforcements compound took enemy insurgent tried help enemy fire wounded sergeant survive marines never leave anybody behind marine maj gen joseph l said ceremony camp wife named marine year organization cited afghanistan commander description marine common sense every task family moved holland michigan teen deployed iraq sent afghanistan couple years later lived virginia city important early history colonies move toward independence britain born germany graduated high school virginia deployments included kosovo iraq afghanistan marine corps association foundation named critical skills year marine leaves behind wife son native ridge new jersey shaw captain team high school student government president ridge high school graduated u naval academy became marine officer shaw deployed anbar province iraq returned also saw service japan cnn barbara starr justin ray sanchez contributed report \n",
      "Original summary: crash last week seven four served louisiana national guard \n",
      "Predicted summary:  explorers explorers explorers explorers explorers explorers donated resolution resolution\n",
      "\n",
      "\n",
      "Review: path case administration congress approve deal congress accept deal future cotton told cnn letter iranian leaders many senators serve terms longer obama would senate point lawmakers refuse lift sanctions road try choke funds deal administration acknowledges congress get involved point obama currently power lift certain sanctions iran duration presidency encourage u international partners follow suit power lift sanctions imposed congress include measures iran part agreement going involve sanctions relief iranian government time deputy national security adviser ben told cnn time duration agreement congress heard sanctions relief senior u officials acknowledged among lawmakers role well public criticisms also highlights case ultimate agreement tim democratic senator virginia signed onto bill calling white house put deal vote congress said obama within rights point clear process would require two thirds vote senate told cnn wednesday lawmakers role play point sanctions mandated congress away ensure iran sticks limits nuclear program congress got weigh point said \n",
      "Original summary: white house many deal point congress \n",
      "Predicted summary:  explorers explorers explorers explorers explorers explorers donated donated resolution\n",
      "\n",
      "\n",
      "Review: released yesterday suspended pending investigation said one else suspended top gear broadcast sunday bbc reported next two possibly third final show series aired fans expressed decision time writing people signed petition seeking using worldwide users show would without also took posting leader ed miliband knocking news agenda save co host james may save empty boxes cuts string far sack petition also gathering far glad see back former cnn host series run also first time center controversy may last year television asked forgiveness using term show n word children version take never aired last year bbc show hit headlines argentina complained top gear special filmed country number plate h used reference war forced stop filming leave country said bbc use plate top gear named world widely watched factual program world record edition book estimated million global viewers show sold worldwide previous article bbc said man given considered opinion statement corporation comment \n",
      "Original summary: involved top due air sunday schedule \n",
      "Predicted summary:  explorers explorers explorers explorers explorers explorers donated resolution resolution\n",
      "\n",
      "\n",
      "Review: went fall fashion show milan sunday collection pair mom jeans sight behind italian brand sent models runway dresses skirts lace even many looks like love per la del tableau daughters stood posed backdrop runway even usually faced front row could help smile models carried high fashion runway \n",
      "Original summary: fall fashion show models \n",
      "Predicted summary:  says says says says says says says says says\n",
      "\n",
      "\n",
      "Review: front man appears handgun man immediately falls forward ground child appears fire least two shots body issue last month english language propaganda magazine included interview described alleged work israeli agency video seems reading appears prepared saying israeli intelligence agent working sent family members said believe video forced lie ties israeli intelligence agent agent would lived beautiful life mother said could living different life would working cleaning houses live first time used children drive home message propaganda video released january one cnn could shows boy apparently shooting two men back head boy stands one bodies fires two times later high last august photo posted stronghold showed year old boy holding man severed head father words boy children fighters calling cubs encouraged foreign fighters bring families taken schools children human rights watch says groups specifically children free campaigns include weapons training given dangerous tasks including suicide bombing missions cnn salman contributed report \n",
      "Original summary: killing said group claims year old arab defense minister \n",
      "Predicted summary:  explorers explorers explorers explorers explorers explorers donated resolution resolution\n",
      "\n",
      "\n",
      "Review: vehicles tanks grenades assault weapons replace community main streets ferguson example deployment heavy rather de crisis situation military equipment streets make citizens feel stop law enforcement act recently congress need officers looking like patrol streets simple yet bill passed war weapons continue flood streets congress must act stem tide understand times changed new security threats require new solutions procedures raids per day special weapons tactics units incidents department education kind aggressive approach kind engagement necessary real risks community fact opposite happens intelligence opportunities dead arrival potential allies would otherwise ready help shut immediately aggressive military type action quickly turning americans fellow citizens serve protect therefore trust president barack obama attorney general eric holder take action working hand hand police departments across country yes white house task force police start concrete measures needed want reverse rising anger ferguson elsewhere time change press police departments reflect makeup needs communities towns like ferguson \n",
      "Original summary: two police officers shot wednesday michael \n",
      "Predicted summary:  explorers explorers explorers explorers explorers explorers explorers donated resolution\n",
      "\n",
      "\n",
      "Review: aircraft carrier foreign state media reported according daily two men sentenced eight six years prison earlier year report said approached person claiming journalist via instant messaging reporter assigned work military base taking photos sensitive areas major military project phone name news gathering last summer traveled beijing china northeast take photos including images exhibits national defense technology promotion show later passed photos report said although enemies tricks totally paper said contacted cnn public security bureau confirmed media report correct give details man sent pictures aircraft carrier named province person claimed editor foreign magazine detained last august two months earlier quit original job better paid side job paper said paper published spying equipment computers internet users questioned whether really take photos china aircraft carrier even former u defense secretary chuck visited vessel photos aircraft carrier one person handle posted china equivalent flew beijing two years ago saw vessel clearly plane countless people \n",
      "Original summary: hundreds photos china first aircraft jailed six eight years \n",
      "Predicted summary:  explorers explorers explorers explorers explorers explorers explorers donated resolution\n",
      "\n",
      "\n",
      "Review: melissa ready fly cbs producer warner television released first look photos breakout official costume dc character see faces pilot season costume designed three time oscar winner also served capacity dc takes arrow wanted embrace past importantly thrust street style action hero today said earned snow white todd production pilot started week los angeles read tv pilots complete guide drama centers kara el superman cousin born planet escaped amid destruction years ago arriving earth kara taken foster family taught careful extraordinary powers brothers sisters ally co stars dc character cat grant true blood set homeland david dc character henshaw grey anatomy plays alex confident foster sister kara laura former former superman cain guest star pilot arrow ordinary family ali well arrow andrew pen executive produce drama via warner television based banner sarah also board executive produce hollywood reporter rights reserved \n",
      "Original summary: melissa released new show production \n"
     ]
    },
    {
     "name": "stdout",
     "output_type": "stream",
     "text": [
      "Predicted summary:  explorers explorers explorers explorers explorers explorers explorers donated resolution\n",
      "\n",
      "\n",
      "Review: press pursue many republicans hearings without looking like hard short story may soon die trust says clever fact instead neutral trusted party like lee hamilton review emails chose cut story destroying evidence comes price freshly public doubts whether plays straight rules democrats continue invest faith many others controversy leaves sense always going face rough campaign begin already gathering point real strengths leader around world many women look upon admiration years promoting also strong case make husband know something job creation million created eight clinton years presidency since world war ii short worse controversy broke american politics bill clinton likes say politics always tomorrow right candidates also need remember learn yesterday last week might start reading wonderful book barbara tuchman published years ago march folly vietnam argues leaders often start trying right thing take wrong path stick despite evidence eventually tuchman calls refusal learn experience wooden seen much wooden past days \n",
      "Original summary: almost become campaign clinton mistakes protection system says \n",
      "Predicted summary:  explorers explorers explorers explorers explorers explorers donated resolution resolution\n",
      "\n",
      "\n",
      "Review: materials donations got involved design hand knew good pulled pork went house helped said found working arm thought thing world eventually moved germany scholarship left charge running operations says ask every family child favorite color superhero interests new piece plastic part designed learned kids necessarily want children requested colorful designs inspired superheroes disney frozen case blue men blue man group christmas group alex plain vanilla white arm new one prime quickly found much less fitting feeling normal much expressing said large aspect artistic creative team made electronic arms five children working three kids including traveled mom last week make hand open close expects get fitted new arm later month mom excited seeing celebrated college students money cannot buy wrapped joy leading students help children like wrote felt like making difference children got ready leave campus son told cannot wait see accomplish new arm someday said wants go help kids like \n",
      "Original summary: around world making children meet students world \n",
      "Predicted summary:  explorers explorers explorers explorers explorers explorers donated donated resolution\n",
      "\n",
      "\n",
      "Review: noting upper middle class americans pay domestic workers little workers predominantly immigrant women color cannot afford put healthy food families tables even time cook jobs together make ends meet meanwhile studies show working class straight couples even women work outside home men women still amount seems many situations matter configuration women getting partly org today launched public service campaign partnership national basketball association women national basketball association emphasizing men benefit providing practical tips men part home work campaign encourages men show world women celebrate men posting fault men responsibility men something whether want blame early economic cultural leave beaver men failed fair share household labor america solution gay even sister wife type alone transform household roles value household work work means everything paying domestic workers men cleaning sons honorable roles improved since era june ward subtle subtle still men need shift traditional roles becoming role models relationships words clean literally \n",
      "Original summary: public service push aims engage men jobs young men \n",
      "Predicted summary:  explorers explorers explorers explorers explorers explorers donated donated resolution\n",
      "\n",
      "\n",
      "Review: american actor leslie jr rival yet fundamental difference actors color play written white actors cast roles act defiance actors color play written actors color deck chairs best worst categorically ill recipe could asian performers speaking southern black performing plot entirely dependent black history could asian steve cut asian julie hand sucking blood declared asian sheriff julie black blood contentious town hall numerous performers race background expressed doubts asian american theatrical community ultimately well decided could context show charged climate would arriving would make content impossible swallow canceled production costs cancellation known clearly contrast reality stand offensive compared rest play matter nothing hispanic role show run could easily asian black white losing little process contrast nearly rest cast fit familiar jewish family members protagonist truth non put production dark would difficult experience anti new fascinating challenges presented pop culture era coming fast furious every direction interesting times sure get interesting still \n",
      "Original summary: larry david play opens faces hispanic american group \n",
      "Predicted summary:  explorers explorers explorers explorers explorers explorers donated resolution resolution\n",
      "\n",
      "\n",
      "Review: everyone favorite male models made surprise appearance tuesday show paris fashion week surprise really really ridiculously good looking ben owen wilson roles models popular film tuesday women couture show anyone fierce runway trench blue every direction followed nemesis played wilson showing another coat pair lovely wall street journalist fashion columnist christina said duo release february apparently come terms ben joked posted account perhaps opportunity bring back hot right \n",
      "Original summary: wilson models paris fashion week walked show \n",
      "Predicted summary:  says says says says says says says says says\n",
      "\n",
      "\n",
      "Review: epsilon national fraternity two students spotted video parker rice levi expelled alleged leadership role deeply sorry saturday night wrong rice said tuesday statement dallas morning news made horrible mistake joining singing encouraging others statement parents said son made horrible mistake apologized african americans students university good boy saw videos may difficult know levi video understand know heart said cnn reached students spokesman family confirmed levi video cnn request interview ordered fraternity house said longer affiliated university extremely heartbroken jay founder university chapter told cnn affiliate want house want people wear letters claiming represent problem couple guys bus problem house cancer needs cut local apologized behalf members saying fraternity problems years board discovered horrible cancer entered chapter three four years ago immediately totally stopped organization said statement wednesday fraternity said investigating incidents involving brought attention national office unclear whether students punished video said fraternity return help cnn smith steve contributed report \n",
      "Original summary: make two months ago video university made nationwide week \n",
      "Predicted summary:  explorers explorers explorers explorers explorers explorers explorers donated resolution\n",
      "\n",
      "\n",
      "Review: likes former italian prime minister silvio berlusconi chelsea manager jose mourinho like experts victims even seem everything going bar position stars perfected expression sympathy forgiveness makes success convince us achieved face waiting bbc deliver verdict article sun whose time run knowing full well followers protest course britain needs stand johnny almost wonder whether might political role ahead decide give push romans good bad badly massed forces media course pleased good copy already assured youtube equivalent waiting shuffle like acts divinity chain audience allow act way without east india holy intermediaries called beat canes pain receive blessing contestants x factor night opportunity abused simon actual worn pride whether delivered cane blessed touched celebrity producer according daily telegraph seek hospital treatment cut lip following presented poor nice steak arrival evening would still languishing unknown feel sorry hotel owner either watch hall hotel alleged incident took place go roof may well start blue \n",
      "Original summary: like many celebrities says david already says like celebrities \n",
      "Predicted summary:  explorers explorers explorers explorers explorers explorers donated resolution resolution\n",
      "\n",
      "\n",
      "Review: branded students actions students legitimate concerns perhaps first amendment question certainly legal scholars concerns bigger picture shifting social might consider statement real said real bigots believe equal opportunity treat people respect love like family might say state white red known flying banner anti indeed original white raced claim land native americans point real describe today reality issue challenge people standard belief easy assert hard achieve unlike true patriot begins longer term another opportunity lead example david examine institution works ask attitudes could ever take root among people young explore ways everyone obviously guilty parties party touched unconscious ask community face history race howard schultz ceo starbucks company moved incidents ferguson island hold truly open forums employees pain racial division college president ceo white man charge start tough whoever start new kind conversation neighborhood campus house worship ask history ask power voice ask would take truly word start answering questions better \n",
      "Original summary: david president university video rare public life today acted \n"
     ]
    },
    {
     "name": "stdout",
     "output_type": "stream",
     "text": [
      "Predicted summary:  explorers explorers explorers explorers explorers explorers donated donated resolution\n",
      "\n",
      "\n",
      "Review: palestinian man four israeli border police driving friday authorities first said witnesses said man drove side road hit victims taken hospital light injuries authorities incident terror attack according police spokesman suspect tried escape shot security guard severely wounded taken custody police said israeli police identified palestinian man early east attack movement blesses act considers natural response crimes abu spokesman posted facebook regional tensions tensions killings israeli teens palestinian boys marked run conflict israel summer took dozens israeli lives palestinian lives cnn michael contributed report \n",
      "Original summary: four border police hit suspect shot \n",
      "Predicted summary:  says says says says says says says says says\n",
      "\n",
      "\n",
      "Review: want take self portrait using new stick front london national gallery fine try use inside museum national gallery become latest museum ban device turn museums day british museum joins new york museum modern art host institutions around world banning new york museum calls camera extension ban going day next year know mar day supports ban photos museums memory personal memory visit wrote email sticks says allow invade people personal space bad opening umbrella also risk shot stuck inside museum gallery knocking people around worse art wrote sticks brilliant get wrong inside museums galleries outside attractions perfect \n",
      "Original summary: london national latest museum ban day ban \n",
      "Predicted summary:  one one one one one one one one one\n",
      "\n",
      "\n",
      "Review: placed great amount trust republicans gave complete control congress voters bought republican congress would effectively help middle class focus important issues like jobs economy two months shattered last two weeks seen republican congress political crisis threatening shut department homeland security government task basic keeping citizens safe yet republicans putting national security risk protect political security failing full extension funding holding hostage demands legislation roll back president immigration actions republicans leaving uncertain men women serve employees border patrol transportation security administration agencies local law enforcement continue denied access grants help keep streets safe federal emergency management agency agencies respond natural disasters like major winter storms would operations disrupted republicans try score political points base crisis scary even dysfunctional governing style becoming pattern republican party republican congress seems intent pushing agenda help special interests extreme wing party working middle class last two months country american people soon forget disaster republicans congress turned \n",
      "Original summary: americans gop congress effective middle class says funding gop \n",
      "Predicted summary:  explorers explorers explorers explorers explorers explorers donated resolution resolution\n",
      "\n",
      "\n",
      "Review: star austin texas week performing united nations brunch simpson spokesman promoting u n international day happiness friday march singer tracks honestly nothing think like make people happy live music said simpson perform tracks brunch international day happiness global celebration came u n general assembly adopted resolution happiness fundamental human goal first u n conference happiness first day happiness held march simpson said makes sense music important part day want able share message happiness singer said think music escape people bob three little britney spears prince picked talking heads must place ed david john legend james blunt also among taking part simpson recently released cover woman cry said legendary reggae artist personal inspiration majority music today substance said simpson independent artist want able feel something true makes simpson happiest said simple things like family happiness kind taken mind busy said present moment fans encouraged post song makes happiest using social media \n",
      "Original summary: simpson helped international day day share songs make happy \n",
      "Predicted summary:  explorers explorers explorers explorers explorers explorers explorers donated resolution\n",
      "\n",
      "\n",
      "Review: cameras rolling one point obama clad white tie predicted would get laughs year past saying funnier saying legal c said voters district columbia small amounts marijuana last year much chagrin congress president also touched controversy clinton emails secretary state obama tech savvy candidate clinton seemed speed yesterday news hillary got house even know could one house far behind know would gotten one joked name clinton private email address com obama politician attending year dinner wisconsin gov scott also dropped course contention run president republican acknowledged headlines like rudy giuliani said event last month think obama loves america date said whether agreed giuliani want get way believe president obama loves america every single american except rudy giuliani said according transcript provided staff love america would moved kenya obama later reference theories born united states every president since except attended year old organization dinner obama attended three times president last attended back \n",
      "Original summary: would obama club \n",
      "Predicted summary:  explorers explorers explorers explorers explorers explorers explorers donated resolution\n",
      "\n",
      "\n",
      "Review: normal procedures spokesperson told state run xinhua news agency sunday currently possession dutch private collector housed natural history museum part european tour museum announced originally scheduled display may pulled exhibition request partner museum unclear exactly made way market private buyer bought museum said owner remain anonymous bought legally discovered owner brought expert team researchers scientists ct scan three x ray image last year discover organs missing thought would lung tissue instead found little paper covered chinese said vincent van curator museum found sitting covered chinese identity buddhist monk called may self prepare life death process self known tradition countries like japan china thailand thousand years ago elaborate process includes eating special diet drinking tea body would toxic eaten monks able successfully complete process highly suspect first years exposed buddhist temple china th century work transform nice said van researchers still waiting dna analysis results help trace back exact location china \n",
      "Original summary: chinese experts bought market believe \n",
      "Predicted summary:  explorers explorers explorers explorers explorers explorers explorers donated resolution\n",
      "\n",
      "\n",
      "Review: sales according copy police affidavit drugs allegedly included marijuana add medication cocaine affidavit said former member tipped police told authorities second facebook page called allegedly created around april following woman whose photo posted affidavit said earlier version page titled covert business rape nude photos behavior fraternities make men badly ex member told police victim visiting fraternity saw photo member accidentally left facebook page affidavit said affidavit included photos women screen shots text including one woman allegedly sexual encounter whether birth control used case trial testimony eight young men said sexually abused either car shower sexually assaulted scandal nation ended chapter victims state football program including dismissal late legendary coach joe one america highest paid university presidents graham also state celebrated reputation hope state officials stop back start real reforms make campus students said whose group includes members allegedly religious figures attempts reach university council unsuccessful cnn laura sara contributed report \n",
      "Original summary: state university suspended alleged private allegedly photos partially women \n",
      "Predicted summary:  explorers explorers explorers explorers explorers explorers explorers donated resolution\n",
      "\n",
      "\n",
      "Review: march wednesday u maintain troop levels afghanistan rest year israel denies accusations u led negotiations iran passenger plane french feature character study involving cnn hero helping young people keep eyes ears healthy page find today show transcript place request cnn student news roll call transcript click access transcript today cnn student news program please note may delay time video available transcript published cnn student news created team journalists consider common core state standards national standards different subject areas state standards producing show roll call chance mentioned next cnn student news comment bottom page school name mascot city state schools comments previous show must teacher student age older request mention cnn student news roll call thank using cnn student news \n",
      "Original summary: news must teacher student request cnn student news call \n"
     ]
    },
    {
     "name": "stdout",
     "output_type": "stream",
     "text": [
      "Predicted summary:  becomes explorers explorers explorers explorers explorers bremen bremen bremen\n",
      "\n",
      "\n",
      "Review: organizations governments added world away computer free home chicago daughter iranian american doctor father polish american mother little contact computers started studying college across line security staff today find women like far though last years hired female tech admits obvious valley fault clearly numbers make think problem women working security women working technology said make think problem culture atmosphere enough training sessions first asks new recruits computer machine idea need super genius computer reality think anybody real world think non software examples said lot people ask best answer given machine problem real answer none people think would steal favorite snack people figure steal entire machine people figure could add sort machine job much know understanding psychology attackers anybody working defense police officers security law enforcement stop think enemy going said always want stay one step ahead read make create world largest machine gets ready soon able swallow doctor end know \n",
      "Original summary: year old computer paid security princess finds \n",
      "Predicted summary:  explorers explorers explorers explorers explorers explorers explorers donated resolution\n",
      "\n",
      "\n",
      "Review: threat marine corps spokesman said navy reminded service members make sure limit amount personal information available online army said statement sunday working defense department determine potential threats echoed navy soldiers take measures limit sharing personal information online u law enforcement official said troops named file contacted believed members social media sites trying much information possible service members even threatened spouses military personnel online file appeared include information already available publicly social media accounts online phone accessible public records late november fbi issued warning u military members calling attacks law enforcement source told cnn source said overseas based individuals looking like minded individuals u carry attacks warning asked members military review online social media presence information might attract attention violent extremists bulletin also said authorities concerned members individuals united states may interested carrying attacks inside country members military u official told cnn cnn barbara starr brown kevin mary kay contributed report \n",
      "Original summary: group threat u troops threat group \n",
      "Predicted summary:  explorers explorers explorers explorers explorers explorers explorers donated resolution\n",
      "\n",
      "\n",
      "Review: bigger fight williams wrote time magazine february seemed easier stay away speaks st match back indian roller ride back indian started williams accepted wild card play year tournament difficult decision recounted time father sister still stayed away sport biggest stage well decade world ranked played admitted nervous weeks days hours leading opening match feelings broke open walked onto court response called overwhelming said really prepared match easy either born monica world th ranked player challenged two hours still williams managed emotions win straight sets reflect past williams simply said afterward today wonderful day women tennis tennis general everyone year old still lot matches ahead includes indian whose talented field includes maria caroline still competitive fire williams feeling much pressure win feels like already feel like actually hold trophy end said feel like already holding trophy never felt way feel like huge win many people wonderful feeling cnn ravi contributed report \n",
      "Original summary: father claimed racially abused event friday night met \n",
      "Predicted summary:  explorers explorers explorers explorers explorers explorers donated donated resolution\n",
      "\n",
      "\n",
      "Review: street named chuck change name nobody crosses chuck lives chuck counted twice death near chuck experience chuck celebrating th birthday calendar allowed turn last one true actor martial arts star world favorite tough guy joke subject born march makes today perhaps maybe cannot beat time chuck beat anything happy birthday \n",
      "Original summary: tuesday th actor master known tough guy one \n",
      "Predicted summary:  says says says says says says says says says\n",
      "\n",
      "\n",
      "Review: played tennis tournament since end friday williams world faces monica th ranked player second round match end took lot conversations lot people williams told reporters thursday two important parents really time said saying prospect talks made little nervous told would go back want go said play dad said would big mistake come back said williams said mother said williams player playing tournament williams said older sister behind happy even encouraged come williams said williams announced return event time magazine first person piece february writing would ended spirit forgiveness said thursday forgive fans indian order forgive able really let go everything kind let go long time ago kind point ready come back said seemed right year said added little nervous first match open still looking forward actually kind stepping center court letting whole world know matter face whether something right something hurt hurt family come strong cnn chris tom contributed report \n",
      "Original summary: said family played since says shows world strong face \n",
      "Predicted summary:  explorers explorers explorers explorers explorers explorers explorers donated resolution\n",
      "\n",
      "\n",
      "Review: day going extra special year symbolic march celebration little longer mark morning night little line celebrated number never ends places day diameter equal two whole numbers used many essential architecture construction used frequently early known years started called greek letter origin day day started years ago san francisco larry shaw worked group museum started celebrating march primarily museum staffers tradition grown embrace enthusiasts walks life celebrations year hosting day long celebration facility including servings pie pizza pie dough tossing event day also albert birthday new jersey lived two decades signs scientist day festivities birthday parties historical society contest plus pie eating pie throwing pizza pie creation visit www org cnn elizabeth contributed report \n",
      "Original summary: day number san new jersey go \n",
      "Predicted summary:  battle battle battle wickets shifts shifts snuffed snuffed snuffed\n",
      "\n",
      "\n",
      "Review: suffering infection died researchers examining soil samples spotted area dead monarch would case via contaminated food water soil hatched worms grow foot long despite richard noble background appears lifestyle completely protect infection would common time said dr university king remains would expect nobles period eaten beef pork regularly evidence beef pork said dr mitchell university adding lack suggested food richard iii ate cooked read richard iii infection richard iii last english king die battle august italian recorded king richard alone killed fighting press enemies studied remains found evidence wounds around time death nine two parts body position injuries richard lost set upon opposition troops likely injuries caused king death two aspect large sharp force trauma possibly staff weapon bill injury tip weapon said professor guy said wounds consistent accounts happened tests also found injury inside richard iii supports contemporary reports body subjected acts death read richard iii fatal wounds revealed \n",
      "Original summary: found english august remains king last english die battle \n",
      "Predicted summary:  explorers explorers explorers explorers explorers explorers explorers donated resolution\n",
      "\n",
      "\n",
      "Review: idea much would really really really really like tom lip song really shows new video really like singing part throughout oscar winning actor apparently playing signing fans generally movie star take part exactly tom video first place turns good friends manager even wedding abc reported suggested play role said would man lip song result see kind magical \n",
      "Original summary: makes surprise appearance video friends manager video \n",
      "Predicted summary:  says says says says says says says says says\n",
      "\n",
      "\n",
      "Review: protected national security documents act aclu argued defense department must individually review photo explain release would put americans danger aclu deputy legal director said statement photos best evidence took place military detention centers would help public better understand implications bush administration policies response pentagon judge decision immediately available pentagon refused release photos requested aclu saying publication could endanger american soldiers civilians overseas several u military leaders saw pictures made argument december filing lawsuit pointed public demonstrations mideast countries followed reports quran release video muslims release video showed americans soldiers dead enemy navy rear harris joint chiefs staff said islamist groups like use imagery associated united states detention practices part recruiting efforts aclu responded saying military leaders see photos sampling army lawyer aclu also said leaders explain photos prediction anti american violence speculation aclu said allow government image might someone somewhere violence would give government power evidence agents misconduct aclu said \n",
      "Original summary: iraq afghanistan government said photos could american civilians overseas \n"
     ]
    },
    {
     "name": "stdout",
     "output_type": "stream",
     "text": [
      "Predicted summary:  explorers explorers explorers explorers explorers explorers explorers donated resolution\n",
      "\n",
      "\n",
      "Review: singer david hit car sunday evening spokesman said accident happened santa california near lives driving approximately mph struck according california highway patrol spokesman posted speed limit suffered multiple hospital santa barbara said injuries believed life threatening mr cooperative authorities way mr see sun said according spokesman side road supposed left side road walking toward traffic said considered known sweet belongs celebrated rock group nash david obviously upset accidentally hit anyone based initial reports relieved injuries life threatening said michael spokesman wishes recovery \n",
      "Original summary: santa california near suffered multiple injuries believed life \n",
      "Predicted summary:  says says says says says says says says says\n",
      "\n",
      "\n",
      "Review: started wednesday iraqi coalition forces battling control strikes intended destroy saving innocent iraqi lives collateral damage infrastructure said lt gen james l terry general international coalition led united states iraqi forces iraqi command defeat vicinity said using alternative request prime minister al coalition providing airborne intelligence capabilities assist support iraqi security force headquarters elements said according u official spoke condition anonymity first wave intended hit dozen targets best known former iraqi dictator saddam hussein fell june captured large areas iraq syria says islamic march al ordered iraqi forces province several failed attempts since second half iraq control city could mean city times bigger possible cnn barbara starr contributed report \n",
      "Original summary: general says coalition providing help asked iraqi minister al \n",
      "Predicted summary:  wickets wickets responsibility responsibility responsibility responsibility responsibility responsibility responsibility\n",
      "\n",
      "\n",
      "Review: michael made appeal cnn affiliate tv san francisco directed hurt please hurt biggest fear horror might going biggest fear horror deserve anybody like nightmare cannot wake father told affiliate supposed happen police ruled anyone potential suspect park told reporters give much information case including whether ransom paid said unaware relationship man woman park say man witness potential victim michael said couple dating seven months asked whether police considered might kidnapping park said looking possible fbi involved said posted clip says father confirmed voice recording says name kidnapped otherwise fine earlier today plane crash people died one thing people know went first concert mom blink editor chief cooper said written statement newspaper received link file email reported anonymous email said would returned send link location dropped good health safe waits advance us associates create dangerous situation wait recovered proceed ready cnn dan simon tony marco faith michael chan paul contributed report \n",
      "Original summary: treated father missing woman tells called monday told authorities \n",
      "Predicted summary:  explorers explorers explorers explorers explorers explorers explorers donated resolution\n",
      "\n",
      "\n",
      "Review: retired nfl star darren changed course pleaded guilty monday one count sexual assault one count attempted sexual assault jail los angeles since last year case arizona attorney telephone meeting judge warren former player television analyst changed plea judge sentenced nine years prison eligibility early release county attorney office spokesman jerry cobb said also placed probation afterward five time pro bowl player originally faced five counts drugging raping three women arizona november indicted arizona arrested california charges drugging raping two women state also investigation states florida prosecutors announced last year would similar allegations faces federal charges louisiana played green bay minnesota new orleans saints season five time pro bowl player passes career seventh time tied second time returned according pro football reference com later worked analyst nfl network get days credit time already served california cobb said cnn steve contributed report \n",
      "Original summary: nfl star guilty assault initially guilty additional charges states \n",
      "Predicted summary:  explorers explorers explorers explorers explorers explorers explorers donated resolution\n",
      "\n",
      "\n",
      "Review: pilot alert someone emergency hint pilot might sound calling help first thing pilot things go wrong said principle pilot follows emergency communicate words turning distress call pilot first concern fly plane find option crash landing comes pilot definitely tell said pilot looking place try land said distress call happened could signaled different story explained pilots certain words pilot indicate air traffic hijacking initial reports code transmitted plane big part determining cause crash whether code sent think would rule anything point cnn aviation analyst miles brien said like appears flight going going talking coming days brien pointed known details crash rapid radio call flight continues mountains part emergency scenario reported weather issues plane flight mean rule possible cause pilot cnn aviation analyst said one thing looking cold front area plane indicated lower may bad weather lower beginning may obscured said reduced huge issue weather may deteriorated plane possible factor crash said \n",
      "Original summary: emergency incident part probe behind crash plane early key \n",
      "Predicted summary:  explorers explorers explorers explorers explorers explorers explorers donated resolution\n",
      "\n",
      "\n",
      "Review: national health said thursday plans admit maryland hospital american health care worker person treatment center flown back united states aircraft admitted friday said details immediately available patient second admitted hospital nina texas health hospital dallas admitted october disease national thomas eric duncan recovered released free disease duncan died hospital company one four hospitals united states units practicing years treat highly disease people died according latest figures world health organization mostly countries guinea spread direct contact fluids infected person cnn jones contributed report \n",
      "Original summary: american africa hospital arrive friday one four u hospital \n",
      "Predicted summary:  says says says says says says says says says\n",
      "\n",
      "\n",
      "Review: access care thousands veterans across country facing frustration common sense backward take care veterans member senate veterans affairs committee questioned secretary bob officials months hearings personal meetings phone calls correspondence flawed mile rule done fix problem congress specifically included language choice act gives authority needs provide veterans access care outside care needed veteran either unavailable cost effective provide facility reason use authority congress gave put best interest veterans first enough enough action legislation would make certain veterans dismissed forgotten live veterans access community care act would require utilize authorities including choice act offer community care veterans currently unable receive health care services need medical facility within miles live legislation enjoys broad bipartisan support congress numerous veterans organizations including american legion veterans foreign wars vietnam veterans america national guard association united states congress passed choice act called live commitment care country back ought always side best veteran best department veterans affairs \n",
      "Original summary: veterans signed law august access law provide \n",
      "Predicted summary:  explorers explorers explorers explorers explorers explorers donated donated resolution\n",
      "\n",
      "\n",
      "Review: much know live matters peaceful wrote tests came back negative tumors jolie wrote still chance early stage cancer minor compared full tumor relief still option removing chose jolie stresses women feel must automatically surgery urges explore options take control family history lost aunt cancer well mother combined meant case removal seemed best course complex surgery effects severe jolie said since puts woman forced must take order keep balance able children physical changes said jolie acknowledged lucky already family unlike women face difficult decision possible remove risk fact remain prone cancer said look natural ways strengthen system feel grounded making family know children never say mom died cancer opinion know jolie feels actress relationship pitt since mid three three adopted children wrote two years ago double cut risk developing breast cancer jolie serves special envoy united nations high commissioner refugees visited refugee camps around world also global issue sexual violence women \n",
      "Original summary: take control know children never say mom died cancer \n"
     ]
    },
    {
     "name": "stdout",
     "output_type": "stream",
     "text": [
      "Predicted summary:  explorers explorers explorers explorers explorers explorers explorers donated resolution\n",
      "\n",
      "\n",
      "Review: bbc suspended host car show top gear following bbc producer broadcaster said statement suspended pending investigation said one else suspended top gear broadcast sunday fans expressed decision time writing people signed petition seeking using users show would without also took posting leader ed miliband knocking news agenda save co host james may save empty boxes cuts string far first time center controversy may year television asked forgiveness using term show n word children version take never aired last year bbc show hit headlines argentina complained top gear special filmed country number plate h used reference war forced stop filming leave country said bbc use plate previous article bbc said man given considered opinion statement corporation comment hated loved elite \n",
      "Original summary: involved top due air sunday schedule \n",
      "Predicted summary:  becomes explorers explorers explorers explorers explorers bremen bremen bremen\n",
      "\n",
      "\n",
      "Review: written letter knowing later found lawsuit charged young boys charge later sexual molestation eventually convicted novak prison violating probation novak case novak lawyer said happened case outrageous case probably cases church reason say church knew already kicked boy america said however church attorney david said boy organization done something boy bishop information way would ever become would subject church said statement cnn boy america said removed reasons unrelated child abuse group added efforts protect youth inappropriate wrong extend victims families read full response boy case ended last year settlement paid novak one five filed church boy america settled sentenced probation guilty assaulting novak probation arrested possession child pornography sentenced years prison case alarming tragedy said father seven children four boys three girls thought one child youth abused absolutely asked would say novak said say anyone else abused church churches sorry gone gone horrible thing anyone abused child youth ever go \n",
      "Original summary: cnn abuse least five day largest boy troops u \n",
      "Predicted summary:  explorers explorers explorers explorers explorers explorers explorers donated resolution\n",
      "\n",
      "\n",
      "Review: cannot see harry potter gay harry potter author j k message revealed school headmaster gay harry potter final book boy wizard series released fan ana started exchange asking author wonder said gay cannot see way maybe gay people look like people wrote march reply fans loved \n",
      "Original summary: fan took social say see gay j response day \n",
      "Predicted summary:  says says says says says says says says says\n",
      "\n",
      "\n",
      "Review: otherwise fine voice says earlier today plane crash people died one thing people know went first concert mom blink editor chief cooper said newspaper received link file email reported anonymous email said would returned send link location dropped good health safe waits advance us associates create dangerous situation wait recovered proceed ready came wednesday reported father said received voice mail daughter saying dropped apartment called police ask authorities pick make sure safe told newspaper almost heart attack said according tried get authorities pick kept asking bunch questions said send squad car authorities unclear exactly going know saying police said requested ransom amount fbi investigating financial records detectives various agencies support personnel worked around clock case leaving community edge park said tell investigation concluded none claims said go one step say random act members community safe nothing fear disappointing said cnn dan simon tony marco faith michael chan paul contributed report \n",
      "Original summary: police call case monday told authorities \n",
      "Predicted summary:  explorers explorers explorers explorers explorers explorers explorers donated resolution\n",
      "\n",
      "\n",
      "Review: youngster nickname perfectly even little girl growing malaysia future ceo billion media company small deadly born independent fiercely year old told cnn always chip shoulder prove everyone independent today proved heads malaysia one biggest media entertainment region charge producing hours original content year ranging radio hits silver screen women working one things passionate woman best person job grow good muslim girl one things learn kid block want cannot want without work want yet understand going easy patricia rallying cry get involved international women day events would crazy miss \n",
      "Original summary: meet boss billion dollar says success audience \n",
      "Predicted summary:  one says says says says says says says says\n",
      "\n",
      "\n",
      "Review: actor jon plays hard drinking hit show mad men recently completed day stint rehab alcohol abuse tmz reports celebrity news site says checked high end silver hill hospital new connecticut end february support longtime partner jon recently completed treatment struggle alcohol addiction said representatives statement tmz people media outlets asked privacy sensitivity going forward news comes less two weeks mad men explores lives new york advertising executives begins final eight episode run april filming final completed months ago missouri native near years hollywood finding fame golden globe best actor tv drama nominated acting emmy seven times mad men never \n",
      "Original summary: actor men day alcohol abuse men final eight run \n",
      "Predicted summary:  one one one one one one one one says\n",
      "\n",
      "\n",
      "Review: transport pastors dollar member dollars church around globe help spread gospel gospel theology wealth health income church video includes pilot project manager even president johnson behalf pastor video pastor incidents involving current jet service three decades right engine went en route australia plane able land destination thanks experience pilot crew another trip mechanical failure caused jet runway london dollar three daughters aboard dollar attributed family safe arrival grace working brought girls back home understand saying said thunderous applause dollar said incidents knew time begin believe god new g would allow ministry make way around world seats passengers six according com jet comes two engines high speed internet two allows four half hour new york los angeles g biggest fastest longest range advanced jet far according site donations dollar site states need help continue reaching lost dying world lord jesus christ love gift amount greatly attempts contact dollar ministry comment unsuccessful \n",
      "Original summary: one years old jet would used help dollar says \n",
      "Predicted summary:  explorers explorers explorers explorers explorers explorers explorers donated resolution\n",
      "\n",
      "\n",
      "Review: next time someone accuses acting like say thank new study published month suggests advanced give credit kansas university david said release professor part study published journal one looks eagle found present day among thousands human remains animal bones tools originally area croatian scientist recently however identify cut marks year old bones ones humans stunned said discovery obvious cut including areas bones together show manipulated piece jewelry said co wrote evidence jewelry white eagle three croatian scientists research like commercials sophisticated concerned possibly even advanced level according cannot prove suspect said even modern technology eagle difficult thing believes must planning skills would used often thought simple minded said know sophisticated become \n",
      "Original summary: say marking made used study years old shows level \n",
      "Predicted summary:  battle battle wickets wickets wickets wickets wickets wickets cancer\n",
      "\n",
      "\n",
      "Review: says enjoy playing video games watching movies together rice apologized video calling actions wrong made horrible mistake joining singing encouraging others said statement tuesday family fled home protesters gathered wednesday also wiped social media accounts university tries days controversy rallying rice defense matthew lopez friend fellow student university said video video represent core personality lopez said unfortunately though things might define define personally feel lopez described good person good soul good spirit experienced lapse judgment behavior result influence fraternity system traditions embedded since pre civil war times fraternity made obviously times lopez said second student expelled much digital appears page mainly focuses college football played golf alma park high school dallas morning news reported statement parents said son made horrible mistake apologized african americans students university good boy saw videos said may difficult know levi video understand know heart cnn reached students heard back rice spokesman family cnn request interview \n",
      "Original summary: video rice says second student mainly college football social \n"
     ]
    },
    {
     "name": "stdout",
     "output_type": "stream",
     "text": [
      "Predicted summary:  explorers explorers explorers explorers explorers explorers explorers donated resolution\n",
      "\n",
      "\n",
      "Review: son thought idea walking home school idea going christian grey said first laughed discussed friends saw side decided quite good costume idea school called say costume appropriate would take part book day event appear told paper teacher school dressed killer said see sex offensive murder told bbc news son read book watched movie spin aware media around tale cable ties supposed represent children age told bbc costume light laugh cheek offense friday image offensive book day costume inappropriate told change character would include photos also required phone call home regarding matter yet appropriate teacher dress killer students come guns thought christian grey talked book character past years sale high school issued statement saying actions high standards terms student behavior welfare safeguarding student taking part activities reported costume able fully participate enjoy day peers lynn said aim world book day events celebrate encourage reading disappointed fantastic day students issue statement concluded \n",
      "Original summary: christian grey world day school said mother told british \n",
      "Predicted summary:  explorers explorers explorers explorers explorers explorers donated resolution resolution\n",
      "\n",
      "\n",
      "Review: call interesting traffic ticket world washington state trooper caught driver using jonathan beer known interesting man world driver attempting use lane trooper immediately recognized passenger trooper guy told new york daily news trooper approached driver actually laughing sent photo clad looked like shirt far cry usual unnamed laughing driver always violate lane law get ticket give creativity driver caught interstate near washington outside could picked less recognizable face put told daily news see lot usually sleeping bag creative \n",
      "Original summary: driver man \n",
      "Predicted summary:  says says says says says says says says says\n",
      "\n",
      "\n",
      "Review: toured damage sand springs thursday declared state emergency counties hearts prayers go family lost loved one certainly injured lost home business said severe weather also city area including moore seen share devastating storms massive tornado hit moore nearly two years ago killing people injuring hundreds others moore police department said mile square area significant damage mainly homes downed trees trees cleared law enforcement emergency vehicles could get know first time done unfortunately gotten pretty good getting people back residences quick said sgt lewis city police wednesday single report tornado united states march cnn meteorologist jones said preliminary reports seven wednesday average year would produce march said march typically transitional month warm moist air gulf mexico cold arctic air produce severe year however jet stream pattern responsible cold air snow east remained stuck winter mode changed week arctic cold front began crashing south bringing together mix cnn sean dave contributed report \n",
      "Original summary: service reports looks like little war around resident says \n",
      "Predicted summary:  explorers explorers explorers explorers explorers explorers explorers donated resolution\n",
      "\n",
      "\n",
      "Review: expected era peace think saving money long run end paying creating risk uncertainty afford military need must make priority reason introduced amendment senate budget resolution week address dangerous funding gap military currently faces believe must increase resources available military levels proposed defense secretary robert gates budget last defense budget based solely assessment threats face military needs deal threats budget bipartisan mandated national defense panel stated minimum required reverse course set military stable republicans control house congress time support defense budget actually reflects world live world way wish approach country party since budget control act one american strength continuing current path war conflict weakness need bipartisan warnings nation military leaders get back track toward defense budget reflects realities challenges face worthy brave men women uniform end suffer equipment continues members congress obligation ensure best possible training equipment successfully complete missions despite fiscal constraints imposed military part holding end bargain time hold \n",
      "Original summary: threats u defense budget faced say spending u forces \n",
      "Predicted summary:  explorers explorers explorers explorers explorers explorers donated donated resolution\n",
      "\n",
      "\n",
      "Review: thursday dc snow emergency go effect thursday move vehicles routes fox dc enough snow eat ice cream celebrated coming snow bowl moose tracks country music legend charlie enough snow actually new mexico fame likes white stuff snow likes hunting use judgment enough snow snow day snow day tomorrow stay safe stay warm everybody sean principal christian brothers academy enough snow rain cause problems area get inches rain turns snow national weather service warned flooding could issue especially across lower ohio valley western mid atlantic regions cnn affiliate reports county west virginia sent one woman hospital enough snow go totally far season seen inches almost feet snow inches short record set nine years ago snow expected system likely enough break record forecast models indicate majority snow stay south city chance snow thursday followed days temperatures near monday enough cold wrap blankets another auto recommends cnn meteorologists dave matt daniel contributed report \n",
      "Original summary: kentucky close season snow record system provide enough top \n",
      "Predicted summary:  explorers explorers explorers explorers explorers explorers donated donated resolution\n",
      "\n",
      "\n",
      "Review: police detroit made gruesome discovery tuesday performing home east side detroit called discovering body female child inside investigating body authorities found second body male according release detroit police department bodies inside plastic bag detroit police chief james craig said plans begin autopsy tomorrow said ryan spokesman wayne county medical examiner office added office waiting allow bodies naturally order preserve evidence mother children apprehended separate location later arrested child abuse charges pending results medical examiner report release police department said police yet released name names children also released craig said boy approximately years old girl approximately two older children living home placed protective custody according craig chief said early investigation determine happened unknown factors involved said said department asking public help come forward information pertaining crime cnn john contributed report \n",
      "Original summary: makes initial mom arrested child abuse charges results medical \n",
      "Predicted summary:  explorers explorers explorers explorers explorers explorers explorers explorers resolution\n",
      "\n",
      "\n",
      "Review: sought questions telling russian radio station echo moscow people worry putin absolutely healthy need worry everything right working meetings time meetings public said thursday also dismissed european media reports putin love child going ask people money contest best media rumor kremlin spokesman said putin began last week meeting capital russian leader presidents kazakhstan short notice official told reuters putin fallen ill thursday missed meeting federal security service russia agency putin last public appearance supposedly march international women day keeping track say seen since even earlier march course many years power putin image strong leader captured film released media many enjoys approval although critics question say carried climate people afraid voice opposition putin government moscow always center rumors speculation said expert russia wilson international center scholars former cnn correspondent soon president show really kind rare people begin question look terms one problems people nervous putin charge cnn matthew chance contributed report \n",
      "Original summary: saying would without russian president president st petersburg russia \n",
      "Predicted summary:  explorers explorers explorers explorers explorers explorers donated resolution resolution\n",
      "\n",
      "\n",
      "Review: system bit neighborhood systems around star similar sun look different generally least one planet significantly larger earth closer orbit many objects farther maybe early history system reason think dominant mode planet throughout galaxy occurred said likely subsequent changes original makeup co author university california santa cruz building scenario previously put forward scientists known grand scenario describes getting drawn toward sun early era system thanks huge mass stops sucked right sun saturn two gas giants start influence one another entering eventually sends back farther system journey dragged load building blocks known along sent smashing debris inner system causing break apart fall sun faster rate scientists say ran simulation would happen also number super vicinity well found wave would super sun course years effective physical process said need earth masses worth material drive tens earth masses worth sun way back left remaining wake building blocks millions years would come form earth mars \n",
      "Original summary: scientists super planet earth say \n"
     ]
    },
    {
     "name": "stdout",
     "output_type": "stream",
     "text": [
      "Predicted summary:  explorers explorers explorers explorers explorers explorers donated resolution resolution\n",
      "\n",
      "\n",
      "Review: said statement booked airline travel wednesday chicago arrive thursday presented undercover informant plans attacks military facility prosecutors said west one defendants currently wears uniform allegedly planned attack said statement conspiring provide material support foreign terrorist organization carries maximum penalty years prison fine number foreign fighters traveling join ranks increasing alarming rate top u official said last month fighters countries traveled battlefield according testimony nicholas director national center house homeland security committee rate foreign fighters traveling syria exceeds rate travelers went afghanistan pakistan iraq yemen somalia point last years said fighters estimated believed come western countries including united states officials said u air force veteran allegedly tried join turned back authorities could get syria pleaded guilty earlier month terror related charges federal court new york accused making attempt january indicted grand jury charges trying give material support terror group justice u justice department said two count indictment cnn evan contributed report \n",
      "Original summary: support army national guard arrested international cousin arrested home \n",
      "Predicted summary:  explorers explorers explorers explorers explorers explorers donated resolution resolution\n",
      "\n",
      "\n",
      "Review: actually used word trying mortified horrified word said among worded statement downing street office uk prime minister david cameron friend saying would certainly use n word according bbc spokesperson added felt absolutely right uk prime minister homes affluent rural part central england known part wealthy group media politics live around cameron constituency dubbed set among former news international ceo editor sun news world came news international phone scandal acquitted also include former blur musician alex james daughter news corp ceo article daily telegraph former chief political peter described set collection affluent power hungry popularity also comes regular newspaper sunday times sun recent sunday times column headline tick local currency tick tracksuit tick north attracted people northern english city liverpool wrote people earn less die quickly fewer jobs live houses worth square root local newspaper liverpool echo pointed published series piece local people described stuck past fake whose comments dated double \n",
      "Original summary: broadcaster caused past friends uk david former news head \n",
      "Predicted summary:  explorers explorers explorers explorers explorers explorers explorers donated resolution\n",
      "\n",
      "\n",
      "Review: dying cancer cook offered boss piece liver jobs refused saying never let likely last movie jobs watched death choice remember disney drama racially integrated high school football team surprised wanted watch movie cook recalled like sure steve interested sports jobs famous speech stanford university almost got started police officer turned family away campus saying parking lot full expressed skepticism jobs wearing usual jeans black shirt really event speaker aside early reviews becoming steve jobs mixed becoming steve jobs offers rounded portrait man lean heavily interviews stretch historical weight like book brings personal interactions co founder wrote wright next web connection jobs also problematic added wright saying sense seeking explain away bad behavior book never attempts portray jobs saint provides ample evidence young learned control worst eventually becoming loving father respected wrote mac like good books written jobs provide story life instead adds new interesting details worth considering alongside previously known \n",
      "Original summary: new jobs ceo new among new jobs cook offered \n",
      "Predicted summary:  explorers explorers explorers explorers explorers explorers donated resolution resolution\n",
      "\n",
      "\n",
      "Review: show empire said son johnson racially glendale university southern california accused campus police stopping hands son claim vowed send howard university washington instead paying k cannot sleep night wondering night son getting racially campus said even university southern california stepped public safety director john thomas saying disturbed report investigating encourage reporting allegations hope opportunity conversation young man mother thomas said accusations friday publicly apologized glendale police department mother job easy neither police officer said post sometimes humans without gathering facts mother case thank officer kind son police chief robert castro said agency traffic stop comments magazine incident started glendale officer pulled johnson october failing cross walk traffic stop johnson admitted marijuana without prescription felony according castro search vehicle officers found marijuana honey oil marijuana knife castro said johnson driving cited possession marijuana said reported story magazine p relationships law enforcement communities castro said glendale police department said friday sharing officers \n",
      "Original summary: authorities release video son claims \n",
      "Predicted summary:  explorers explorers explorers explorers explorers explorers donated donated resolution\n",
      "\n",
      "\n",
      "Review: asked viewers questions crash flight received hundreds put experts answers six interesting ones rate tell anything co pilot determined crash would set slow new cars stop crash tech prevent plane landing anywhere runway live cameras planes something wrong help innocent take help possibility plane co pilot plane presumably full fuel fiery explosion upon impact wreckage show burn marks influence medication drugs often go drug screening \n",
      "Original summary: cnn received hundreds questions plane crash reporters experts \n",
      "Predicted summary:  says says says says says says says says says\n",
      "\n",
      "\n",
      "Review: qualification taking top group course first major finals since world cup real madrid striker dominated game northern city setting arsenal ramsay first goal scoring twice second half help wales easily beat israel team early group club v country much build focused impressive first season madrid come attack spanish press putting country club awarded spanish newspaper following barcelona recent el win saw two fans attack car left ground match appear showing signs took israel apart team lost competitive game two half years come top amazing first half hard lot running closed well luckily got goal gave us lot confidence told british broadcaster sky sports game came second half showed good team added italy republic held meanwhile italy avoided defeat first half goals given lead lead looked held late game brazilian born striker scored debut spare italy republic also avoided defeat last minute equalizer enough keep top group hot heels victory kazakhstan \n",
      "Original summary: euro qualification would criticized real madrid country club italy \n",
      "Predicted summary:  explorers explorers explorers explorers explorers explorers donated resolution resolution\n",
      "\n",
      "\n",
      "Review: simply owners unable unwilling foot bill racing days looking grow current stock three ex prepared new role wife former coach train horses basic explains important responsive trust trust aids basic training helps lot make responsive fun ride well horses spend minimum two years purpose built riding arena farm also bush learn deal nature ex sees lion explains feel saddle soon cool breed horses extremely dangerous fits lions perfectly well trained well react like animal would lions get quite confused along big five game wait little guests expect come across amid game park seeing close saddle everyone idea good time people scared cannot say safe safe go huge experience says gives horses lot confidence sometimes horses need always say animals least dangerous dangerous thing riding horses course transport anything trains ready carry bush tourists still traditional four wheel drive vehicles would anything else lovely says long able bush wonderful keeps smiling \n",
      "Original summary: tours game husband wife team game including keep lions \n",
      "Predicted summary:  explorers explorers explorers explorers explorers explorers donated donated resolution\n",
      "\n",
      "\n",
      "Review: repeat official policy nigeria police amnesty report contained earlier month said welcomed latter pledged message spokesman group announced accepted pledge supporters posted online cnn cannot minute message message said calls islamic state expanded west africa congratulated brothers followed posting online message leader march speaker announced terror group wanted join since whose name western education sin waged campaign terror aimed version law nigeria tactics recent years battling nigerian government soldiers acts disproportionately affecting civilians raids villages mass assassinations market bombings attacks churches much violence taken place nigeria neighboring countries cameroon chad also hit increasingly hard committed troops fight militants african union mandated joint task force also formed involving troops cameroon chad well nigeria friday uk foreign office announced britain would provide million pounds help task force tackle foreign secretary expressed hope united nations security council would adopt resolution currently endorse task force contributed report atlanta wrote london christian purefoy contributed lagos \n",
      "Original summary: northeastern town comes west african nation general last august \n"
     ]
    },
    {
     "name": "stdout",
     "output_type": "stream",
     "text": [
      "Predicted summary:  explorers explorers explorers explorers explorers explorers donated resolution resolution\n",
      "\n",
      "\n",
      "Review: spokesman main opposition party congress congress says vote voters intimidated demanded elections held rivers state canceled ruling party democratic party accusation saying election credible result reflects overwhelming wish people rivers state support president jonathan heavy rain eventually forced protesters home fears take rain stop protests violence concerned seems happening said nigeria election chairman events rivers state nigeria held thought closest elections since return democracy decades military rule two main candidates incumbent president jonathan retired general stake protests rivers state whether nigeria hold election hold close election voting results counted says final result likely announced within hours fear results may accepted opposition believes victory ruling party protests rivers state could spread northern nigeria people killed post election violence across north elections thought candidates taken social media call calm want urge also wait patiently independent national electoral commission announce results stated jonathan facebook account fellow urge exercise vigilance wait results announced said \n",
      "Original summary: election could since return democracy decades military results may \n",
      "Predicted summary:  explorers explorers explorers explorers explorers explorers donated donated resolution\n",
      "\n",
      "\n",
      "Review: early led arrest would likely much case initially admitted role crime would likely win suspect lies investigators arrested difficult prove says one initial interrogations told investigators house killed time accused patrick boss pub worked murder later recanted statement spent two weeks prison false claim italy high court ruled charge false accusation upheld three year prison term ordered pay euro lawyer told cnn feel revenge towards italy fact said go back one day nightmare finally got right decision said always thought decision possible lawyers equally pleased outcome verdict received prove us partly right us completely right told reporters outside court two possible overturn verdict go back later instead overturn without among possible overturning options one says advised ever even make raffaele case ever enough enough enough made statement mother home seattle hearing news thanked supported said needed take time free really means asked message daughter said deserved much life lucky one \n",
      "Original summary: family expected italian judicial system lawyer says feel italy \n",
      "Predicted summary:  explorers explorers explorers explorers explorers explorers donated donated resolution\n",
      "\n",
      "\n",
      "Review: capital lack electricity running water stopped residents starting hard work clearing away fallen trees well corrugated metal ripped thousands buildings sound chainsaws heard throughout shocked community main airport back business allowing military aircraft australia new zealand bring aid workers supplies first commercial flight since storm landed monday big unknown remains scale destruction huge storm islands north south capital certainly deeply concerning islands hard hit said tom perry spokesman aid organization care international many people lack life clean water food shelter homes lost crops destroyed damage enormous people need help said head red cross pacific yet still take time really understand full extent damage children need assistance unicef reported sunday declared state emergency opening door countries help country remote location adds challenges facing international response port kilometers northeast australia east coast kilometers north closest city new zealand cnn ivan reported port reported wrote hong kong cnn madison park lynda contributed report \n",
      "Original summary: set nation back years aid agencies say fear islands \n",
      "Predicted summary:  explorers explorers explorers explorers explorers explorers donated resolution resolution\n",
      "\n",
      "\n",
      "Review: mark senior vice president industries every issue brothers still fierce opponents doubt ever agree tax policy campaign finance reform environmental rules pipeline name criminal justice reform different mark speaks way criminal justice system bill rights result prison terms alone right fiscal conservatives money wasted system expensive produces poor results one reason red state like georgia deal acted leaders roots religious right including summit co host pat insist christian value second chances behind bars values may always find common expression broken prison system conservatives trust even like vote together issue usually another word political often one side simply gain advantage cloak narrow set interests criminal justice reform something different happening criminal justice reform one place many republicans democrats actually agree willing work together get something done last years parties helped lead us path mass incarceration take political parties reverse course perhaps march bipartisan summit represent first major bend road back toward \n",
      "Original summary: many citizens change says president obama others \n",
      "Predicted summary:  explorers explorers explorers explorers explorers explorers explorers donated resolution\n",
      "\n",
      "\n",
      "Review: sound heard crash hearts breaking world leaving one direction five incredible years decided leave one direction band said facebook page million followers harry louis continue four piece look forward concerts world tour recording fifth album due released later year rumors move started since left band tour last week time rep told rolling stone signed stress scandal erupted following publication photo showing holding hands someone fiancee fans immediately responded videos even girl got act sweet singer band page also quickly sentence formerly member said global streams one direction songs wednesday hour news announced spike sadness music service called u alone streams band music mark occasion created special songs part popular british boy band since formed members uk version x factor became signed label group put four albums hits include best song ever story life latest album four came november \n",
      "Original summary: band tour last week one direction one popular world \n",
      "Predicted summary:  explorers explorers explorers explorers explorers explorers explorers donated resolution\n",
      "\n",
      "\n",
      "Review: former one direction member spoke first time since leaving group week said sorry pain caused feel like let fans cannot anymore told uk sun turned back anything cannot anymore real said feeling uncomfortable recent months departure best everyone concerned try something happy sake people happiness year old said added never felt control life feel like right right right boys feel good fan says need getting along fine members band according us magazine started working solo project one direction also included harry louis payne continue group hits include best song ever band announcement wednesday leaving caused mass among fans world many taking internet express sadness devastation \n",
      "Original summary: one direction real told uk like band wednesday leaving \n",
      "Predicted summary:  shop shop shop shop shop defender shop shop shop\n",
      "\n",
      "\n",
      "Review: james bond latest mission revealed first trailer released friday daniel craig role everyone favorite th bond film scheduled release november l monica david andrew scott also star director second bond film stands special executive counter intelligence terrorism revenge extortion global terrorist organization bond attempts message past returns haunt though stunts explosions come expect bond first look packed clues movie closely guarded plot picks last chapter left shot smoldering remains bombed mi headquarters bond assistant personal effects recovered ruins house old photo two boys man temporary got secret something cannot tell anyone trust anyone says abandoned home mountains new aston martin secret meeting men including one addresses bond james mean see let speculation begin weigh facebook page \n",
      "Original summary: release november new trailer bond past mission uncover group \n",
      "Predicted summary:  explorers explorers explorers explorers explorers shifts bremen bremen bremen\n",
      "\n",
      "\n",
      "Review: propaganda image control needs putin larger life recent murder boris putin foremost critic fears hit list putin critics whose days numbered rampant rumors inside kremlin level fear said higher years term became study power dark systems russia long history concealing illnesses leaders soviet era followed days usually succession plan post stalin days passing one leader meant party chose next last leader went summer home visited group high ranking soviet officials next day russian people told ill could perform duties held coup progress putin president boris also history view really ill drunk even putin perfect health social media turns creativity talk putin disappearance important questions would russia become suddenly left power successor place anyone would continue putin policies power scenario given putin dominates would consequences whatever putin exact moment whether hunting visiting friends illness matter days ahead internet past days reminder man today russian state country fledgling democracy around forever question \n",
      "Original summary: president vladimir putin went russian officials posted old photos \n"
     ]
    },
    {
     "name": "stdout",
     "output_type": "stream",
     "text": [
      "Predicted summary:  explorers explorers explorers explorers explorers explorers explorers donated resolution\n",
      "\n",
      "\n",
      "Review: said endured article also suggested school failed respond alleged assault released statement monday saying story done significant damage importance sexual assault issues america college campuses fraternity asked rolling stone fully story rolling stone editors said chose contact man allegedly attack jackie men said participated alleged assault editors feared magazine said adding regretted decision face new information appear jackie account come conclusion trust rolling stone said december rolling stone managing editor dana later truth would better served getting side story rolling stone issued article began fact check steve columbia university graduate school leading independent review cnn senior media correspondent brian reported sunday said much speculation findings columbia university review published early april magazine cannot really say surprised since much evidence already called question former friend jackie said response police found think great staying open considering new evidence comes ryan added resigned realize might never know happen cnn sara michael contributed report \n",
      "Original summary: evidence found support claims made student raped school underway \n",
      "Predicted summary:  explorers explorers explorers explorers explorers explorers donated resolution resolution\n",
      "\n",
      "\n",
      "Review: multi award winning singer fashion icon designer actress far unleashing dubai internationally renowned event year old pop star performing minute show hits world day racing th dubai world cup hosted saturday march prize money million variety races top prize dubai world cup race lucky would certainly apt luxury brands sponsoring two races well giving prizes best dressed lady lady night offering diamond watch f type coup winners australia worth approximately million charging fame following role almost years ago growing melbourne racing major exciting part annual calendar able bring show dubai world cup something much looking forward said star currently performing th concert tour titled since scoring first top ten uk hit released eleven studio albums sold million records certainly experience said event \n",
      "Original summary: cup event world day see worth approximately show event \n",
      "Predicted summary:  becomes explorers explorers explorers explorers explorers explorers explorers bremen\n",
      "\n",
      "\n",
      "Review: tunisia thousands demonstrators marched tunisia capital sunday protesting terrorism less two weeks gunmen attacked museum killed people came express support fight danger threatening society stability said rafik tunisia former foreign minister among crowd fortunately united today able defeat terrorism threatening tunisia neighboring countries heavy police presence stood guard president marched alongside dignitaries world leaders including french president francois italian prime minister matteo led crowd steps museum protesters held said afraid chanted tunisia free terrorism march art culture history museum site different scene gunmen opened fire tourists siege also forced evacuation neighboring parliament claimed responsibility attack message posted online next day hours sunday demonstration began tunisia prime minister announced algerian national alleged architect museum assault one nine suspected militants killed raid south country arab spring aftermath give way violence unrest cnn catherine e contributed report \n",
      "Original summary: capital signs say minister says suspect museum attack killed \n",
      "Predicted summary:  explorers explorers explorers explorers explorers explorers explorers donated resolution\n",
      "\n",
      "\n",
      "Review: iii leave laboratory university kept since found taken back scene death ceremony returned ahead next week body last made trip slung back time journey done style carried made great inside smaller bones hands feet tucked linen bags one rose representing house york richard iii family children king richard iii school feel proud never made bag king said helped make like something king added irfan sheikh lead specialist jon previously helped restore rock last person set eyes inside casket shut well expected line route winds stopping several churches along way prayers religious services making way back cathedral near site dig new built king john hill discovered link richard iii michael says important king beliefs recognized hill shares richard iii faith featuring white rose like one thought owned richard iii mother made placed inside celebrations key past damage aim project give richard get says reason wanted went past repeat make peace history \n",
      "Original summary: car long lost king city later week made michael \n",
      "Predicted summary:  explorers explorers explorers explorers explorers explorers explorers donated resolution\n",
      "\n",
      "\n",
      "Review: whose include supreme court justice sen bernie sanders ex sen minnesota schumer political long term work progress emerged national stage prime sponsor violent crime control law enforcement act law banned assault weapons run final vote new could turn television without seeing schumer congressman floor house waving head argued ban higher profile served well years later schumer took defeated three term incumbent sen senator rise schumer attracted politically staffers moved high profile positions help former list includes howard wolfson phil singer went help run hillary clinton campaign ben shaking world finance new york top banking become anti corruption u attorney executive director state democratic party allies money blessing reid schumer prime position ideas contained important book positively american lays vision democrats lead america like schumer book savvy hopeful politically desires middle class voters wonder schumer senate leadership would look like take look democrats prepare could well start schumer era capitol hill \n",
      "Original summary: post says schumer middle class could new democratic era \n",
      "Predicted summary:  explorers explorers explorers explorers explorers explorers donated resolution resolution\n",
      "\n",
      "\n",
      "Review: thomas drive main drag beach town several victims students alabama university visiting town spring break sheriff office said years age february march six million young people visit city beach dubbed spring break capital world town resident population young people shot multiple times taken area hospitals three listed critical condition three stable condition sheriff office said seventh person surgery press release issued update condition provided authorities arrested david mobile alabama seven counts attempted murder caliber found residence officials mention possible motive shooting one six firearms related incidents night four guns seized drug cases sheriff office said press release details provided saturday night city beach city council held special meeting talk violence time stop said council member keith according lucky seven dead people hostile attempt hostile said owner beach club anyone think going hostile ride street council considered banning alcohol beach mid april measure voted said council approved funding extra enforcement beach \n",
      "Original summary: number spring made investigation difficult time stop city says \n",
      "Predicted summary:  explorers explorers explorers explorers explorers explorers explorers donated resolution\n",
      "\n",
      "\n",
      "Review: plane reached feet dropped eight minutes plane lost contact french radar height approximately feet crashed could indicate pilot still controlling plane extent said engine plane would crashed matter minutes said small piece information means pilot could trying make emergency landing plane pilot said scenario plane potentially dangerous wide fields landing would hard come mountains said crash spurred officials several countries offer condolences pledge help affected determine happened thoughts prayers friends europe especially people germany spain following terrible crash france u president barack obama told reporters particularly heartbreaking apparently includes loss many children infants germany merkel said sending two ministers france tuesday would travel crash site wednesday see think victims families friends said german foreign minister frank walter said german government set crisis center response terrible news close contact french authorities difficult hours thoughts fear close ones among passengers crew said cnn mariano laura lindsay isaac josh richard sara contributed report \n",
      "Original summary: says victims france turkey australia one found plane crashed \n"
     ]
    },
    {
     "name": "stdout",
     "output_type": "stream",
     "text": [
      "Predicted summary:  explorers explorers explorers explorers explorers explorers explorers donated resolution\n",
      "\n",
      "\n",
      "Review: news comes companion went development season picked series second season code names including cobalt fear walking dead march announced series pickup series created walking dead comic series co wrote pilot dave erickson sons anarchy erickson executive produce alongside walking dead dave erickson serve adam direct pilot walking dead visual effects guru also executive produce series tight series premise sources tell hollywood reporter drama takes place los angeles confirmed companion series set los angeles revealed nothing beyond focus new read walking dead shocking deaths stars sean teacher shares son ex wife sons anarchy kim set co star nancy counselor works school sean seeing frank co stars nancy son nick battled drug problem play nancy daughter opposite nick dreams leaving los angeles strikes fear walking dead premiere late summer season two set official premiere date yet announced season five finale series airs sunday p read walking dead season hollywood reporter rights reserved \n",
      "Original summary: show star related \n",
      "Predicted summary:  explorers explorers explorers explorers explorers explorers donated resolution resolution\n",
      "\n",
      "\n",
      "Review: left went saw six different players score lead grew double digits jackson started run back back three led irish points two sport star pat steve one cbs analyst called baby faced assassin chipped points grant national player year candidate rough night shooting set buckets instead nine points junior fred led points carter inside wisconsin played cool shot hot free throw line holding north carolina heels concerned wisconsin forward trouble scoring fourth heels guarded heels best defender j p way first half points keep game junior career high points night frank one best players country struggled foot tall center hit big three big free minutes wound free throw line hit eight attempts folks also got worked seeing green bay quarterback actress girlfriend olivia game seems like cut shot two every break action like guy next two u open golf titles yet famous enough get way celebrity fan shot ok andy north \n",
      "Original summary: hot second half holds north carolina superb free shooting \n",
      "Predicted summary:  explorers explorers explorers explorers explorers explorers donated resolution resolution\n",
      "\n",
      "\n",
      "Review: lewis hamilton begin sunday grand prix pole position dominating qualifying torrential conditions mercedes driver current world champion beat ferrari sebastian vettel second place snatched front row away countryman final seconds qualifying fantastic job team us hamilton said referring third place finish tension initially appeared tensions marked last season title race emerged hamilton flying lap looked like blocked men played incident post qualifying press conference part vettel managed steal second place death drive well enough said third place good enough qualifying took place amid spectacular delayed qualifying half hour indeed malaysia become known conditions race hour abandoned altogether awarded jenson button laps hamilton made light work conditions looked throughout try build season opening win australia yet perhaps impressive performance day came grid toro rosso year old driver max start race sixth second race team \n",
      "Original summary: position beat ferrari second place torrential rain sixth \n",
      "Predicted summary:  explorers explorers explorers explorers explorers explorers explorers donated resolution\n",
      "\n",
      "\n",
      "Review: neighboring saudi arabia sees tehran saudi arabia bitter rival gulf iran armed intervention united states hand strongly supporting aiding coalition forces targets participating active battle small u forces yemen help fight al qaeda arabian peninsula left rebels took capital dozens people died strikes saturday human rights watch said many victims civilians perhaps many reports air strikes anti aircraft weapons heavily areas raise serious concerns enough done ensure safety regional spokesman joe said saudi arabia defense official blamed civilian deaths saying using human brig gen ahmed bin said kingdom military using weapons avoid collateral damage state run saudi news agency reported media outlets come fire well hour ordered controlled media including yemen tv tv raided two tv channels prominent al newspaper al office sanaa also targeted qatar based network said security cameras equipment opinion yemen come journalist reported yemen cnn ben wrote story atlanta cnn becky anderson al arab contributed report \n",
      "Original summary: saturday egypt arab league military action may set ground \n",
      "Predicted summary:  explorers explorers explorers explorers explorers explorers explorers donated resolution\n",
      "\n",
      "\n",
      "Review: twenty one people injured saturday train car near university southern california campus los angeles authorities said happened near boulevard watt way hyundai turned north onto tracks light train approached said sgt michael los angeles county sheriff department vehicle got pole train causing train said injured people transported hospitals treatment according los angeles fire department account one critical condition one grave condition said expected cause traffic problems p saturday soccer game mexico ecuador los angeles memorial across usc campus los angeles transportation agency los angeles county said requested shuttle buses accommodate crowds \n",
      "Original summary: car near usc campus people hurt taken hospital \n",
      "Predicted summary:  one says says says says says says says says\n",
      "\n",
      "\n",
      "Review: flight ahead passengers could known co pilot identified year old manipulated flight monitoring system aircraft pilot marseille prosecutor robin said thursday around like plane suddenly straight ground authorities described steady rate feet per minute still kind would expect airport passengers notice fall might caught wind happening front plane students among victims inside sound breathing steadily outside apparently grew pilot tried open door could get likely knocked door used video conference system talk co pilot robin said none worked last attempt recounted senior french military official involved crash investigation new york times hear trying door official said passengers hear commotion hard imagine reason enough cause worry look outside mountain chain far instead getting closer closer closer voice recorder indicate noise cabin final moments still even passengers know time took eight minutes seemingly normal flight become nightmare nightmare ended violent crash remote terrain screams lives people flight death robin described co pilot \n",
      "Original summary: flight taking barcelona plane plane minutes crash according \n",
      "Predicted summary:  explorers explorers explorers explorers explorers explorers donated resolution resolution\n",
      "\n",
      "\n",
      "Review: clear whether authority offer use track auction words seem expect bbc career continue even decision expected next week would like one last lap said go one last lap track f b sack whoever placed winning bid would able ride car lap said rare owned friend show since late added bit controversial star least one influential ally uk prime minister david cameron know exactly happened cameron told bbc last week mine friend mine huge huge many people including children would heartbroken top gear taken air hope great program great opinion abuse first time center controversy last may television star asked forgiveness using term show n word children version take never aired last year bbc show hit headlines argentina complained top gear special filmed country number plate h used reference war forced stop filming leave country said bbc use plate previous article bbc said man given considered opinion journalist monica contributed report \n",
      "Original summary: top petition nearly million calling \n",
      "Predicted summary:  explorers explorers explorers explorers explorers explorers explorers donated resolution\n",
      "\n",
      "\n",
      "Review: long lines waited opportunity least offer condolences family members twenty one funeral services period several days left many community without tears cry within couple months memorial service held local athletic field attended thousands hope bring community could attempt return somewhat normal daily routine helped families experienced direct loss still long painful journey ahead parent someone serving parent child empty spot occurs heart never may find comfort thought child arms loving god assurance broken heart time various families lost children tragedy formed support groups share loss many folks reached others going similar type loss offer comfort found little bit personal healing process years since crash many pastors served families moved away retired service us beginning times needed support one another restore strength able serve beginning long journey willing serve great pain time writing tears events started almost years ago experiences assist community see getting horrible event know pain achieve greatest victories \n",
      "Original summary: see lost students flight find reaching others long one \n"
     ]
    },
    {
     "name": "stdout",
     "output_type": "stream",
     "text": [
      "Predicted summary:  explorers explorers explorers explorers explorers explorers donated resolution resolution\n",
      "\n",
      "\n",
      "Review: brave trash souls common humans earned feel safe even seems impossible us understand apparently anyone explain keeps huge metal air truth history accidents pilots different people careless lazy drink much pilots talk among mistakes close calls disasters averted sheer luck favorite pilots slip little ways time time drama aviation actors audience besides flying routine hours boredom clich goes moments sheer terror long since airplanes wonderfully usually protect even worst pilot pilots higher moral type rest us despite occasionally utter pilots shoulder burden hundreds lives feel responsible full empty one pilots large proud identify extension self pilot feels motive deliver destination feel driving car crowded pilot values smooth landing skill people back still alive greatest guarantee pilot devoted safety fact time time pilot something completely confidence pilots drawn human types human mind boxes one neither colleague inside desperate acts almost daily world long perhaps time understand better today still know little \n",
      "Original summary: experts suspect first officer pilot plane plane human \n",
      "Predicted summary:  explorers explorers explorers explorers explorers explorers donated donated resolution\n",
      "\n",
      "\n",
      "Review: march monday cnn student news find issues minds voters africa largest democracy went polls discover day mission international space station become one conducted lend ears fires low sound waves page find today show transcript place request cnn student news roll call transcript click access transcript today cnn student news program please note may delay time video available transcript published cnn student news created team journalists consider common core state standards national standards different subject areas state standards producing show roll call chance mentioned next cnn student news comment bottom page school name mascot city state schools comments previous show must teacher student age older request mention cnn student news roll call thank using cnn student news \n",
      "Original summary: news must teacher student request cnn student news call \n",
      "Predicted summary:  explorers explorers explorers explorers explorers shifts bremen bremen bremen\n",
      "\n",
      "\n"
     ]
    }
   ],
   "source": [
    "for i in range(len(X_val_pad)):\n",
    "    print(\"Review:\",seq2text(X_val_pad[i]))\n",
    "    print(\"Original summary:\",seq2summary(y_val_pad[i]))\n",
    "    print(\"Predicted summary:\",decode_sequence(X_val_pad[i].reshape(1,max_len_text)))\n",
    "    print(\"\\n\")"
   ]
  },
  {
   "cell_type": "code",
   "execution_count": null,
   "metadata": {
    "id": "zQqNZb9ru6kt"
   },
   "outputs": [],
   "source": []
  },
  {
   "cell_type": "code",
   "execution_count": null,
   "metadata": {
    "id": "6wJnyNWvu6vL"
   },
   "outputs": [],
   "source": []
  }
 ],
 "metadata": {
  "colab": {
   "provenance": []
  },
  "gpuClass": "standard",
  "kernelspec": {
   "display_name": "Python 3 (ipykernel)",
   "language": "python",
   "name": "python3"
  },
  "language_info": {
   "codemirror_mode": {
    "name": "ipython",
    "version": 3
   },
   "file_extension": ".py",
   "mimetype": "text/x-python",
   "name": "python",
   "nbconvert_exporter": "python",
   "pygments_lexer": "ipython3",
   "version": "3.8.12"
  },
  "toc": {
   "base_numbering": 1,
   "nav_menu": {},
   "number_sections": true,
   "sideBar": true,
   "skip_h1_title": false,
   "title_cell": "Table of Contents",
   "title_sidebar": "Contents",
   "toc_cell": false,
   "toc_position": {},
   "toc_section_display": true,
   "toc_window_display": false
  }
 },
 "nbformat": 4,
 "nbformat_minor": 1
}
