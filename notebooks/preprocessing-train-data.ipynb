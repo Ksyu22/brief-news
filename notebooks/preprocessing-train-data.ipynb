{
 "cells": [
  {
   "cell_type": "code",
   "execution_count": 2,
   "id": "2915ef39",
   "metadata": {},
   "outputs": [],
   "source": [
    "import pandas as pd\n",
    "\n",
    "import re\n",
    "import string\n",
    "import contractions\n",
    "from nltk.corpus import stopwords\n",
    "from nltk.tokenize import word_tokenize\n"
   ]
  },
  {
   "cell_type": "code",
   "execution_count": 3,
   "id": "57d6c66c",
   "metadata": {},
   "outputs": [],
   "source": [
    "pd.set_option('display.max_colwidth', None)"
   ]
  },
  {
   "cell_type": "markdown",
   "id": "1d400c07",
   "metadata": {},
   "source": [
    "## EDA"
   ]
  },
  {
   "cell_type": "code",
   "execution_count": 4,
   "id": "f2d81df5",
   "metadata": {},
   "outputs": [],
   "source": [
    "train_data = pd.read_csv('../raw_data/train.csv')\n",
    "train_data = train_data.drop(['id', 'orig_id'], axis=1)"
   ]
  },
  {
   "cell_type": "code",
   "execution_count": 17,
   "id": "4c9f2458",
   "metadata": {},
   "outputs": [],
   "source": [
    "val_data = pd.read_csv('../raw_data/validation.csv')\n",
    "val_data = val_data.drop(['id', 'orig_id'], axis=1)"
   ]
  },
  {
   "cell_type": "code",
   "execution_count": 18,
   "id": "1906e2ee-4f7b-4797-be9a-89eaccf5237c",
   "metadata": {},
   "outputs": [],
   "source": [
    "test_data = pd.read_csv('../raw_data/test.csv')\n",
    "test_data = test_data.drop(['id', 'orig_id'], axis=1)"
   ]
  },
  {
   "cell_type": "code",
   "execution_count": 19,
   "id": "0bc1dd4e",
   "metadata": {},
   "outputs": [
    {
     "data": {
      "text/html": [
       "<div>\n",
       "<style scoped>\n",
       "    .dataframe tbody tr th:only-of-type {\n",
       "        vertical-align: middle;\n",
       "    }\n",
       "\n",
       "    .dataframe tbody tr th {\n",
       "        vertical-align: top;\n",
       "    }\n",
       "\n",
       "    .dataframe thead th {\n",
       "        text-align: right;\n",
       "    }\n",
       "</style>\n",
       "<table border=\"1\" class=\"dataframe\">\n",
       "  <thead>\n",
       "    <tr style=\"text-align: right;\">\n",
       "      <th></th>\n",
       "      <th>article</th>\n",
       "      <th>highlights</th>\n",
       "    </tr>\n",
       "  </thead>\n",
       "  <tbody>\n",
       "    <tr>\n",
       "      <th>0</th>\n",
       "      <td>LONDON, England (Reuters) -- Harry Potter star Daniel Radcliffe gains access to a reported £20 million ($41.1 million) fortune as he turns 18 on Monday, but he insists the money won't cast a spell on him. Daniel Radcliffe as Harry Potter in \"Harry Potter and the Order of the Phoenix\" To the disappointment of gossip columnists around the world, the young actor says he has no plans to fritter his cash away on fast cars, drink and celebrity parties. \"I don't plan to be one of those people who, as soon as they turn 18, suddenly buy themselves a massive sports car collection or something similar,\" he told an Australian interviewer earlier this month. \"I don't think I'll be particularly extravagant. \"The things I like buying are things that cost about 10 pounds -- books and CDs and DVDs.\" At 18, Radcliffe will be able to gamble in a casino, buy a drink in a pub or see the horror film \"Hostel: Part II,\" currently six places below his number one movie on the UK box office chart. Details of how he'll mark his landmark birthday are under wraps. His agent and publicist had no comment on his plans. \"I'll definitely have some sort of party,\" he said in an interview. \"Hopefully none of you will be reading about it.\" Radcliffe's earnings from the first five Potter films have been held in a trust fund which he has not been able to touch. Despite his growing fame and riches, the actor says he is keeping his feet firmly on the ground. \"People are always looking to say 'kid star goes off the rails,'\" he told reporters last month. \"But I try very hard not to go that way because it would be too easy for them.\" His latest outing as the boy wizard in \"Harry Potter and the Order of the Phoenix\" is breaking records on both sides of the Atlantic and he will reprise the role in the last two films.  Watch I-Reporter give her review of Potter's latest » . There is life beyond Potter, however. The Londoner has filmed a TV movie called \"My Boy Jack,\" about author Rudyard Kipling and his son, due for release later this year. He will also appear in \"December Boys,\" an Australian film about four boys who escape an orphanage. Earlier this year, he made his stage debut playing a tortured teenager in Peter Shaffer's \"Equus.\" Meanwhile, he is braced for even closer media scrutiny now that he's legally an adult: \"I just think I'm going to be more sort of fair game,\" he told Reuters. E-mail to a friend . Copyright 2007 Reuters. All rights reserved.This material may not be published, broadcast, rewritten, or redistributed.</td>\n",
       "      <td>Harry Potter star Daniel Radcliffe gets £20M fortune as he turns 18 Monday .\\nYoung actor says he has no plans to fritter his cash away .\\nRadcliffe's earnings from first five Potter films have been held in trust fund .</td>\n",
       "    </tr>\n",
       "    <tr>\n",
       "      <th>1</th>\n",
       "      <td>Editor's note: In our Behind the Scenes series, CNN correspondents share their experiences in covering news and analyze the stories behind the events. Here, Soledad O'Brien takes users inside a jail where many of the inmates are mentally ill. An inmate housed on the \"forgotten floor,\" where many mentally ill inmates are housed in Miami before trial. MIAMI, Florida (CNN) -- The ninth floor of the Miami-Dade pretrial detention facility is dubbed the \"forgotten floor.\" Here, inmates with the most severe mental illnesses are incarcerated until they're ready to appear in court. Most often, they face drug charges or charges of assaulting an officer --charges that Judge Steven Leifman says are usually \"avoidable felonies.\" He says the arrests often result from confrontations with police. Mentally ill people often won't do what they're told when police arrive on the scene -- confrontation seems to exacerbate their illness and they become more paranoid, delusional, and less likely to follow directions, according to Leifman. So, they end up on the ninth floor severely mentally disturbed, but not getting any real help because they're in jail. We toured the jail with Leifman. He is well known in Miami as an advocate for justice and the mentally ill. Even though we were not exactly welcomed with open arms by the guards, we were given permission to shoot videotape and tour the floor.  Go inside the 'forgotten floor' » . At first, it's hard to determine where the people are. The prisoners are wearing sleeveless robes. Imagine cutting holes for arms and feet in a heavy wool sleeping bag -- that's kind of what they look like. They're designed to keep the mentally ill patients from injuring themselves. That's also why they have no shoes, laces or mattresses. Leifman says about one-third of all people in Miami-Dade county jails are mentally ill. So, he says, the sheer volume is overwhelming the system, and the result is what we see on the ninth floor. Of course, it is a jail, so it's not supposed to be warm and comforting, but the lights glare, the cells are tiny and it's loud. We see two, sometimes three men -- sometimes in the robes, sometimes naked, lying or sitting in their cells. \"I am the son of the president. You need to get me out of here!\" one man shouts at me. He is absolutely serious, convinced that help is on the way -- if only he could reach the White House. Leifman tells me that these prisoner-patients will often circulate through the system, occasionally stabilizing in a mental hospital, only to return to jail to face their charges. It's brutally unjust, in his mind, and he has become a strong advocate for changing things in Miami. Over a meal later, we talk about how things got this way for mental patients. Leifman says 200 years ago people were considered \"lunatics\" and they were locked up in jails even if they had no charges against them. They were just considered unfit to be in society. Over the years, he says, there was some public outcry, and the mentally ill were moved out of jails and into hospitals. But Leifman says many of these mental hospitals were so horrible they were shut down. Where did the patients go? Nowhere. The streets. They became, in many cases, the homeless, he says. They never got treatment. Leifman says in 1955 there were more than half a million people in state mental hospitals, and today that number has been reduced 90 percent, and 40,000 to 50,000 people are in mental hospitals. The judge says he's working to change this. Starting in 2008, many inmates who would otherwise have been brought to the \"forgotten floor\"  will instead be sent to a new mental health facility -- the first step on a journey toward long-term treatment, not just punishment. Leifman says it's not the complete answer, but it's a start. Leifman says the best part is that it's a win-win solution. The patients win, the families are relieved, and the state saves money by simply not cycling these prisoners through again and again. And, for Leifman, justice is served. E-mail to a friend .</td>\n",
       "      <td>Mentally ill inmates in Miami are housed on the \"forgotten floor\"\\nJudge Steven Leifman says most are there as a result of \"avoidable felonies\"\\nWhile CNN tours facility, patient shouts: \"I am the son of the president\"\\nLeifman says the system is unjust and he's fighting for change .</td>\n",
       "    </tr>\n",
       "    <tr>\n",
       "      <th>2</th>\n",
       "      <td>MINNEAPOLIS, Minnesota (CNN) -- Drivers who were on the Minneapolis bridge when it collapsed told harrowing tales of survival. \"The whole bridge from one side of the Mississippi to the other just completely gave way, fell all the way down,\" survivor Gary Babineau told CNN. \"I probably had a 30-, 35-foot free fall. And there's cars in the water, there's cars on fire. The whole bridge is down.\" He said his back was injured but he determined he could move around. \"I realized there was a school bus right next to me, and me and a couple of other guys went over and started lifting the kids off the bridge. They were yelling, screaming, bleeding. I think there were some broken bones.\"  Watch a driver describe his narrow escape » . At home when he heard about the disaster, Dr. John Hink, an emergency room physician, jumped into his car and rushed to the scene in 15 minutes. He arrived at the south side of the bridge, stood on the riverbank and saw dozens of people lying dazed on an expansive deck. They were in the middle of the Mississippi River, which was churning fast, and he had no way of getting to them. He went to the north side, where there was easier access to people. Ambulances were also having a hard time driving down to the river to get closer to the scene. Working feverishly, volunteers, EMTs and other officials managed to get 55 people into ambulances in less than two hours. Occasionally, a pickup truck with a medic inside would drive to get an injured person and bring him back up even ground, Hink told CNN. The rescue effort was controlled and organized, he said; the opposite of the lightning-quick collapse. \"I could see the whole bridge as it was going down, as it was falling,\" Babineau said. \"It just gave a rumble real quick, and it all just gave way, and it just fell completely, all the way to the ground. And there was dust everywhere and it was just like everyone has been saying: It was just like out of the movies.\" Babineau said the rear of his pickup truck was dangling over the edge of a broken-off section of the bridge. He said several vehicles slid past him into the water. \"I stayed in my car for one or two seconds. I saw a couple cars fall,\" he said. \"So I stayed in my car until the cars quit falling for a second, then I got out real quick, ran in front of my truck -- because behind my truck was just a hole -- and I helped a woman off of the bridge with me. \"I just wanted off the bridge, and then I ran over to the school bus. I started grabbing kids and handing them down. It was just complete chaos.\" He said most of the children were crying or screaming. He and other rescuers set them on the ground and told them to run to the river bank, but a few needed to be carried because of their injuries.  See rescuers clamber over rubble » . Babineau said he had no rescue training. \"I just knew what I had to do at the moment.\" Melissa Hughes, 32, of Minneapolis, told The Associated Press that she was driving home when the western edge of the bridge collapsed under her. \"You know that free-fall feeling? I felt that twice,\" Hughes said. A pickup landed on top of her car, but she was not hurt. \"I had no idea there was a vehicle on my car,\" she told AP. \"It's really very surreal.\" Babineau told the Minneapolis Star-Tribune: \"On the way down, I thought I was dead. I literally thought I was dead. \"My truck was completely face down, pointed toward the ground, and my truck got ripped in half. It was folded in half, and I can't believe I'm alive.\"  See and hear eyewitness accounts » . Bernie Toivonen told CNN's \"American Morning\" that his vehicle was on a part of the bridge that ended up tilted at a 45-degree angle. \"I knew the deck was going down, there was no question about it, and I thought I was going to die,\" he said. After the bridge settled and his car remained upright, \"I just put in park, turned the key off and said, 'Oh, I'm alive,' \" he said. E-mail to a friend .</td>\n",
       "      <td>NEW: \"I thought I was going to die,\" driver says .\\nMan says pickup truck was folded in half; he just has cut on face .\\nDriver: \"I probably had a 30-, 35-foot free fall\"\\nMinnesota bridge collapsed during rush hour Wednesday .</td>\n",
       "    </tr>\n",
       "  </tbody>\n",
       "</table>\n",
       "</div>"
      ],
      "text/plain": [
       "                                                                                                                                                                                                                                                                                                                                                                                                                                                                                                                                                                                                                                                                                                                                                                                                                                                                                                                                                                                                                                                                                                                                                                                                                                                                                                                                                                                                                                                                                                                                                                                                                                                                                                                                                                                                                                                                                                                                                                                                                                                                                                                                                                                                                                                                                                                                                                                                                                                                                                                                                                                                                                                                                                                                                                                                                                                                                                                                                                                                                                                                                                                                                                                                                                                                                                                                                                                                                                                                                                                                                                                                                                                                                                                                                                                                                                                                                                                                                                                                                                                                                                                                                                                                               article  \\\n",
       "0                                                                                                                                                                                                                                                                                                                                                                                                                                                                                                                                                                                                                                                                                                                                                                                                                                                                                                                                                                                                                                                                                                                                                                                                                                                                                                                                                                                                                                                                                                                                                                                      LONDON, England (Reuters) -- Harry Potter star Daniel Radcliffe gains access to a reported £20 million ($41.1 million) fortune as he turns 18 on Monday, but he insists the money won't cast a spell on him. Daniel Radcliffe as Harry Potter in \"Harry Potter and the Order of the Phoenix\" To the disappointment of gossip columnists around the world, the young actor says he has no plans to fritter his cash away on fast cars, drink and celebrity parties. \"I don't plan to be one of those people who, as soon as they turn 18, suddenly buy themselves a massive sports car collection or something similar,\" he told an Australian interviewer earlier this month. \"I don't think I'll be particularly extravagant. \"The things I like buying are things that cost about 10 pounds -- books and CDs and DVDs.\" At 18, Radcliffe will be able to gamble in a casino, buy a drink in a pub or see the horror film \"Hostel: Part II,\" currently six places below his number one movie on the UK box office chart. Details of how he'll mark his landmark birthday are under wraps. His agent and publicist had no comment on his plans. \"I'll definitely have some sort of party,\" he said in an interview. \"Hopefully none of you will be reading about it.\" Radcliffe's earnings from the first five Potter films have been held in a trust fund which he has not been able to touch. Despite his growing fame and riches, the actor says he is keeping his feet firmly on the ground. \"People are always looking to say 'kid star goes off the rails,'\" he told reporters last month. \"But I try very hard not to go that way because it would be too easy for them.\" His latest outing as the boy wizard in \"Harry Potter and the Order of the Phoenix\" is breaking records on both sides of the Atlantic and he will reprise the role in the last two films.  Watch I-Reporter give her review of Potter's latest » . There is life beyond Potter, however. The Londoner has filmed a TV movie called \"My Boy Jack,\" about author Rudyard Kipling and his son, due for release later this year. He will also appear in \"December Boys,\" an Australian film about four boys who escape an orphanage. Earlier this year, he made his stage debut playing a tortured teenager in Peter Shaffer's \"Equus.\" Meanwhile, he is braced for even closer media scrutiny now that he's legally an adult: \"I just think I'm going to be more sort of fair game,\" he told Reuters. E-mail to a friend . Copyright 2007 Reuters. All rights reserved.This material may not be published, broadcast, rewritten, or redistributed.   \n",
       "1  Editor's note: In our Behind the Scenes series, CNN correspondents share their experiences in covering news and analyze the stories behind the events. Here, Soledad O'Brien takes users inside a jail where many of the inmates are mentally ill. An inmate housed on the \"forgotten floor,\" where many mentally ill inmates are housed in Miami before trial. MIAMI, Florida (CNN) -- The ninth floor of the Miami-Dade pretrial detention facility is dubbed the \"forgotten floor.\" Here, inmates with the most severe mental illnesses are incarcerated until they're ready to appear in court. Most often, they face drug charges or charges of assaulting an officer --charges that Judge Steven Leifman says are usually \"avoidable felonies.\" He says the arrests often result from confrontations with police. Mentally ill people often won't do what they're told when police arrive on the scene -- confrontation seems to exacerbate their illness and they become more paranoid, delusional, and less likely to follow directions, according to Leifman. So, they end up on the ninth floor severely mentally disturbed, but not getting any real help because they're in jail. We toured the jail with Leifman. He is well known in Miami as an advocate for justice and the mentally ill. Even though we were not exactly welcomed with open arms by the guards, we were given permission to shoot videotape and tour the floor.  Go inside the 'forgotten floor' » . At first, it's hard to determine where the people are. The prisoners are wearing sleeveless robes. Imagine cutting holes for arms and feet in a heavy wool sleeping bag -- that's kind of what they look like. They're designed to keep the mentally ill patients from injuring themselves. That's also why they have no shoes, laces or mattresses. Leifman says about one-third of all people in Miami-Dade county jails are mentally ill. So, he says, the sheer volume is overwhelming the system, and the result is what we see on the ninth floor. Of course, it is a jail, so it's not supposed to be warm and comforting, but the lights glare, the cells are tiny and it's loud. We see two, sometimes three men -- sometimes in the robes, sometimes naked, lying or sitting in their cells. \"I am the son of the president. You need to get me out of here!\" one man shouts at me. He is absolutely serious, convinced that help is on the way -- if only he could reach the White House. Leifman tells me that these prisoner-patients will often circulate through the system, occasionally stabilizing in a mental hospital, only to return to jail to face their charges. It's brutally unjust, in his mind, and he has become a strong advocate for changing things in Miami. Over a meal later, we talk about how things got this way for mental patients. Leifman says 200 years ago people were considered \"lunatics\" and they were locked up in jails even if they had no charges against them. They were just considered unfit to be in society. Over the years, he says, there was some public outcry, and the mentally ill were moved out of jails and into hospitals. But Leifman says many of these mental hospitals were so horrible they were shut down. Where did the patients go? Nowhere. The streets. They became, in many cases, the homeless, he says. They never got treatment. Leifman says in 1955 there were more than half a million people in state mental hospitals, and today that number has been reduced 90 percent, and 40,000 to 50,000 people are in mental hospitals. The judge says he's working to change this. Starting in 2008, many inmates who would otherwise have been brought to the \"forgotten floor\"  will instead be sent to a new mental health facility -- the first step on a journey toward long-term treatment, not just punishment. Leifman says it's not the complete answer, but it's a start. Leifman says the best part is that it's a win-win solution. The patients win, the families are relieved, and the state saves money by simply not cycling these prisoners through again and again. And, for Leifman, justice is served. E-mail to a friend .   \n",
       "2                                                                                                                 MINNEAPOLIS, Minnesota (CNN) -- Drivers who were on the Minneapolis bridge when it collapsed told harrowing tales of survival. \"The whole bridge from one side of the Mississippi to the other just completely gave way, fell all the way down,\" survivor Gary Babineau told CNN. \"I probably had a 30-, 35-foot free fall. And there's cars in the water, there's cars on fire. The whole bridge is down.\" He said his back was injured but he determined he could move around. \"I realized there was a school bus right next to me, and me and a couple of other guys went over and started lifting the kids off the bridge. They were yelling, screaming, bleeding. I think there were some broken bones.\"  Watch a driver describe his narrow escape » . At home when he heard about the disaster, Dr. John Hink, an emergency room physician, jumped into his car and rushed to the scene in 15 minutes. He arrived at the south side of the bridge, stood on the riverbank and saw dozens of people lying dazed on an expansive deck. They were in the middle of the Mississippi River, which was churning fast, and he had no way of getting to them. He went to the north side, where there was easier access to people. Ambulances were also having a hard time driving down to the river to get closer to the scene. Working feverishly, volunteers, EMTs and other officials managed to get 55 people into ambulances in less than two hours. Occasionally, a pickup truck with a medic inside would drive to get an injured person and bring him back up even ground, Hink told CNN. The rescue effort was controlled and organized, he said; the opposite of the lightning-quick collapse. \"I could see the whole bridge as it was going down, as it was falling,\" Babineau said. \"It just gave a rumble real quick, and it all just gave way, and it just fell completely, all the way to the ground. And there was dust everywhere and it was just like everyone has been saying: It was just like out of the movies.\" Babineau said the rear of his pickup truck was dangling over the edge of a broken-off section of the bridge. He said several vehicles slid past him into the water. \"I stayed in my car for one or two seconds. I saw a couple cars fall,\" he said. \"So I stayed in my car until the cars quit falling for a second, then I got out real quick, ran in front of my truck -- because behind my truck was just a hole -- and I helped a woman off of the bridge with me. \"I just wanted off the bridge, and then I ran over to the school bus. I started grabbing kids and handing them down. It was just complete chaos.\" He said most of the children were crying or screaming. He and other rescuers set them on the ground and told them to run to the river bank, but a few needed to be carried because of their injuries.  See rescuers clamber over rubble » . Babineau said he had no rescue training. \"I just knew what I had to do at the moment.\" Melissa Hughes, 32, of Minneapolis, told The Associated Press that she was driving home when the western edge of the bridge collapsed under her. \"You know that free-fall feeling? I felt that twice,\" Hughes said. A pickup landed on top of her car, but she was not hurt. \"I had no idea there was a vehicle on my car,\" she told AP. \"It's really very surreal.\" Babineau told the Minneapolis Star-Tribune: \"On the way down, I thought I was dead. I literally thought I was dead. \"My truck was completely face down, pointed toward the ground, and my truck got ripped in half. It was folded in half, and I can't believe I'm alive.\"  See and hear eyewitness accounts » . Bernie Toivonen told CNN's \"American Morning\" that his vehicle was on a part of the bridge that ended up tilted at a 45-degree angle. \"I knew the deck was going down, there was no question about it, and I thought I was going to die,\" he said. After the bridge settled and his car remained upright, \"I just put in park, turned the key off and said, 'Oh, I'm alive,' \" he said. E-mail to a friend .   \n",
       "\n",
       "                                                                                                                                                                                                                                                                                     highlights  \n",
       "0                                                                   Harry Potter star Daniel Radcliffe gets £20M fortune as he turns 18 Monday .\\nYoung actor says he has no plans to fritter his cash away .\\nRadcliffe's earnings from first five Potter films have been held in trust fund .  \n",
       "1  Mentally ill inmates in Miami are housed on the \"forgotten floor\"\\nJudge Steven Leifman says most are there as a result of \"avoidable felonies\"\\nWhile CNN tours facility, patient shouts: \"I am the son of the president\"\\nLeifman says the system is unjust and he's fighting for change .  \n",
       "2                                                           NEW: \"I thought I was going to die,\" driver says .\\nMan says pickup truck was folded in half; he just has cut on face .\\nDriver: \"I probably had a 30-, 35-foot free fall\"\\nMinnesota bridge collapsed during rush hour Wednesday .  "
      ]
     },
     "execution_count": 19,
     "metadata": {},
     "output_type": "execute_result"
    }
   ],
   "source": [
    "train_data.head(3)"
   ]
  },
  {
   "cell_type": "code",
   "execution_count": 20,
   "id": "59a18676",
   "metadata": {},
   "outputs": [
    {
     "name": "stdout",
     "output_type": "stream",
     "text": [
      "train_data.shape: (284015, 2)\n"
     ]
    }
   ],
   "source": [
    "print(f\"train_data.shape: {train_data.shape}\")"
   ]
  },
  {
   "cell_type": "code",
   "execution_count": 21,
   "id": "229056a9",
   "metadata": {},
   "outputs": [
    {
     "data": {
      "text/plain": [
       "article       0\n",
       "highlights    0\n",
       "dtype: int64"
      ]
     },
     "execution_count": 21,
     "metadata": {},
     "output_type": "execute_result"
    }
   ],
   "source": [
    "train_data.isna().sum()"
   ]
  },
  {
   "cell_type": "code",
   "execution_count": 22,
   "id": "8dbfdcf7",
   "metadata": {},
   "outputs": [
    {
     "data": {
      "text/plain": [
       "article       0\n",
       "highlights    0\n",
       "dtype: int64"
      ]
     },
     "execution_count": 22,
     "metadata": {},
     "output_type": "execute_result"
    }
   ],
   "source": [
    "val_data.isna().sum()"
   ]
  },
  {
   "cell_type": "code",
   "execution_count": 23,
   "id": "878d59bd-118f-44d5-928e-1d7377ab0f7a",
   "metadata": {},
   "outputs": [
    {
     "data": {
      "text/plain": [
       "article       0\n",
       "highlights    0\n",
       "dtype: int64"
      ]
     },
     "execution_count": 23,
     "metadata": {},
     "output_type": "execute_result"
    }
   ],
   "source": [
    "test_data.isna().sum()"
   ]
  },
  {
   "cell_type": "markdown",
   "id": "84fca20f",
   "metadata": {},
   "source": [
    "### Dealing with duplicates"
   ]
  },
  {
   "cell_type": "code",
   "execution_count": 24,
   "id": "633ab416",
   "metadata": {},
   "outputs": [
    {
     "data": {
      "text/plain": [
       "0"
      ]
     },
     "execution_count": 24,
     "metadata": {},
     "output_type": "execute_result"
    }
   ],
   "source": [
    "train_data.duplicated(subset=['article', 'highlights']).sum()"
   ]
  },
  {
   "cell_type": "code",
   "execution_count": 25,
   "id": "bc6db8f3",
   "metadata": {},
   "outputs": [
    {
     "data": {
      "text/plain": [
       "(284015, 2)"
      ]
     },
     "execution_count": 25,
     "metadata": {},
     "output_type": "execute_result"
    }
   ],
   "source": [
    "train_data = train_data.drop_duplicates(subset=['article', 'highlights'])\n",
    "train_data.shape"
   ]
  },
  {
   "cell_type": "code",
   "execution_count": 26,
   "id": "2a71e904",
   "metadata": {},
   "outputs": [
    {
     "data": {
      "text/plain": [
       "0"
      ]
     },
     "execution_count": 26,
     "metadata": {},
     "output_type": "execute_result"
    }
   ],
   "source": [
    "val_data.duplicated(subset=['article', 'highlights']).sum()"
   ]
  },
  {
   "cell_type": "code",
   "execution_count": 27,
   "id": "0a605c5b-ae2b-4725-b87d-a9c33494c3a6",
   "metadata": {},
   "outputs": [
    {
     "data": {
      "text/plain": [
       "2"
      ]
     },
     "execution_count": 27,
     "metadata": {},
     "output_type": "execute_result"
    }
   ],
   "source": [
    "test_data.duplicated(subset=['article', 'highlights']).sum()"
   ]
  },
  {
   "cell_type": "code",
   "execution_count": 28,
   "id": "d22055ef-db7f-40aa-9187-0326799b223b",
   "metadata": {},
   "outputs": [
    {
     "data": {
      "text/plain": [
       "(11488, 2)"
      ]
     },
     "execution_count": 28,
     "metadata": {},
     "output_type": "execute_result"
    }
   ],
   "source": [
    "test_data = test_data.drop_duplicates(subset=['article', 'highlights'])\n",
    "test_data.shape"
   ]
  },
  {
   "cell_type": "markdown",
   "id": "69802c50",
   "metadata": {},
   "source": [
    "### Cleaning data"
   ]
  },
  {
   "cell_type": "code",
   "execution_count": 29,
   "id": "f5673a4f",
   "metadata": {},
   "outputs": [],
   "source": [
    "def preprocessing(sentence, remove_stopwords=True):\n",
    "    '''\n",
    "    Preprocessing text: lower case, \n",
    "                        deleting punctuation, \n",
    "                        replacing contructions with equivalent,\n",
    "                        deleting stop words\n",
    "    '''\n",
    "\n",
    "    # Lowercasing\n",
    "    sentence = sentence.lower()\n",
    "   \n",
    "    # Removing numbers\n",
    "    #sentence = ''.join(char for char in sentence if not char.isdigit())\n",
    " \n",
    "    # Removing punctuation\n",
    "    sentence = re.sub(r'https?:\\/\\/.*[\\r\\n]*', '', sentence, flags=re.MULTILINE)\n",
    "    sentence = re.sub(r'\\n', ' ', sentence)\n",
    "    sentence = re.sub(r'\\<a href', ' ', sentence)\n",
    "    sentence = re.sub(r'&amp;', '', sentence) \n",
    "    sentence = re.sub(r'[~^_`\"\\-;%(){|}\\+&<=>\\*%.,!\\?:#$@\\[\\]/]', ' ', sentence)\n",
    "    sentence = re.sub(r'<br />', ' ', sentence)\n",
    "    \n",
    "    expanded = []   \n",
    "    for word in sentence.split():\n",
    "      # using contractions.fix to expand the shortened words\n",
    "      expanded.append(contractions.fix(word, slang=False))\n",
    "        \n",
    "    expanded_sentence = ' '.join(expanded)\n",
    "    sentence = re.sub(r'\\'', ' ', expanded_sentence)\n",
    "    \n",
    "    # Removing whitespaces\n",
    "    sentence = sentence.strip()\n",
    "            \n",
    "    tokenized_sentence = word_tokenize(sentence) ## tokenizing \n",
    "    \n",
    "    if remove_stopwords:\n",
    "        stop_words = set(stopwords.words('english')) ## defining stopwords\n",
    "        tokenized_sentence = [w for w in tokenized_sentence \n",
    "                                  if not w in stop_words] ## remove stopwords\n",
    "    \n",
    "    return tokenized_sentence\n",
    "    \n"
   ]
  },
  {
   "cell_type": "code",
   "execution_count": 32,
   "id": "5aabc68f",
   "metadata": {},
   "outputs": [
    {
     "name": "stdout",
     "output_type": "stream",
     "text": [
      "Cleaning Articles Complete\n"
     ]
    },
    {
     "name": "stderr",
     "output_type": "stream",
     "text": [
      "/var/folders/xt/8t3t9kmn787_rthnt36ggbyc0000gn/T/ipykernel_2546/2727114845.py:2: FutureWarning: The behavior of `series[i:j]` with an integer-dtype index is deprecated. In a future version, this will be treated as *label-based* indexing, consistent with e.g. `series[i]` lookups. To retain the old behavior, use `series.iloc[i:j]`. To get the future behavior, use `series.loc[i:j]`.\n",
      "  for summary in train_data['article'][:4]:\n"
     ]
    }
   ],
   "source": [
    "clean_articles = []\n",
    "for summary in train_data['article'][:4]:\n",
    "    clean_articles.append(preprocessing(summary, remove_stopwords=True))\n",
    "print('Cleaning Articles Complete')\n"
   ]
  },
  {
   "cell_type": "code",
   "execution_count": 33,
   "id": "cc2fb0f0-52f8-40ee-896b-0196a165675e",
   "metadata": {},
   "outputs": [
    {
     "data": {
      "text/plain": [
       "['editor',\n",
       " 'note',\n",
       " 'behind',\n",
       " 'scenes',\n",
       " 'series',\n",
       " 'cnn',\n",
       " 'correspondents',\n",
       " 'share',\n",
       " 'experiences',\n",
       " 'covering',\n",
       " 'news',\n",
       " 'analyze',\n",
       " 'stories',\n",
       " 'behind',\n",
       " 'events',\n",
       " 'soledad',\n",
       " 'brien',\n",
       " 'takes',\n",
       " 'users',\n",
       " 'inside',\n",
       " 'jail',\n",
       " 'many',\n",
       " 'inmates',\n",
       " 'mentally',\n",
       " 'ill',\n",
       " 'inmate',\n",
       " 'housed',\n",
       " 'forgotten',\n",
       " 'floor',\n",
       " 'many',\n",
       " 'mentally',\n",
       " 'ill',\n",
       " 'inmates',\n",
       " 'housed',\n",
       " 'miami',\n",
       " 'trial',\n",
       " 'miami',\n",
       " 'florida',\n",
       " 'cnn',\n",
       " 'ninth',\n",
       " 'floor',\n",
       " 'miami',\n",
       " 'dade',\n",
       " 'pretrial',\n",
       " 'detention',\n",
       " 'facility',\n",
       " 'dubbed',\n",
       " 'forgotten',\n",
       " 'floor',\n",
       " 'inmates',\n",
       " 'severe',\n",
       " 'mental',\n",
       " 'illnesses',\n",
       " 'incarcerated',\n",
       " 'ready',\n",
       " 'appear',\n",
       " 'court',\n",
       " 'often',\n",
       " 'face',\n",
       " 'drug',\n",
       " 'charges',\n",
       " 'charges',\n",
       " 'assaulting',\n",
       " 'officer',\n",
       " 'charges',\n",
       " 'judge',\n",
       " 'steven',\n",
       " 'leifman',\n",
       " 'says',\n",
       " 'usually',\n",
       " 'avoidable',\n",
       " 'felonies',\n",
       " 'says',\n",
       " 'arrests',\n",
       " 'often',\n",
       " 'result',\n",
       " 'confrontations',\n",
       " 'police',\n",
       " 'mentally',\n",
       " 'ill',\n",
       " 'people',\n",
       " 'often',\n",
       " 'told',\n",
       " 'police',\n",
       " 'arrive',\n",
       " 'scene',\n",
       " 'confrontation',\n",
       " 'seems',\n",
       " 'exacerbate',\n",
       " 'illness',\n",
       " 'become',\n",
       " 'paranoid',\n",
       " 'delusional',\n",
       " 'less',\n",
       " 'likely',\n",
       " 'follow',\n",
       " 'directions',\n",
       " 'according',\n",
       " 'leifman',\n",
       " 'end',\n",
       " 'ninth',\n",
       " 'floor',\n",
       " 'severely',\n",
       " 'mentally',\n",
       " 'disturbed',\n",
       " 'getting',\n",
       " 'real',\n",
       " 'help',\n",
       " 'jail',\n",
       " 'toured',\n",
       " 'jail',\n",
       " 'leifman',\n",
       " 'well',\n",
       " 'known',\n",
       " 'miami',\n",
       " 'advocate',\n",
       " 'justice',\n",
       " 'mentally',\n",
       " 'ill',\n",
       " 'even',\n",
       " 'though',\n",
       " 'exactly',\n",
       " 'welcomed',\n",
       " 'open',\n",
       " 'arms',\n",
       " 'guards',\n",
       " 'given',\n",
       " 'permission',\n",
       " 'shoot',\n",
       " 'videotape',\n",
       " 'tour',\n",
       " 'floor',\n",
       " 'go',\n",
       " 'inside',\n",
       " 'forgotten',\n",
       " 'floor',\n",
       " '»',\n",
       " 'first',\n",
       " 'hard',\n",
       " 'determine',\n",
       " 'people',\n",
       " 'prisoners',\n",
       " 'wearing',\n",
       " 'sleeveless',\n",
       " 'robes',\n",
       " 'imagine',\n",
       " 'cutting',\n",
       " 'holes',\n",
       " 'arms',\n",
       " 'feet',\n",
       " 'heavy',\n",
       " 'wool',\n",
       " 'sleeping',\n",
       " 'bag',\n",
       " 'kind',\n",
       " 'look',\n",
       " 'like',\n",
       " 'designed',\n",
       " 'keep',\n",
       " 'mentally',\n",
       " 'ill',\n",
       " 'patients',\n",
       " 'injuring',\n",
       " 'also',\n",
       " 'shoes',\n",
       " 'laces',\n",
       " 'mattresses',\n",
       " 'leifman',\n",
       " 'says',\n",
       " 'one',\n",
       " 'third',\n",
       " 'people',\n",
       " 'miami',\n",
       " 'dade',\n",
       " 'county',\n",
       " 'jails',\n",
       " 'mentally',\n",
       " 'ill',\n",
       " 'says',\n",
       " 'sheer',\n",
       " 'volume',\n",
       " 'overwhelming',\n",
       " 'system',\n",
       " 'result',\n",
       " 'see',\n",
       " 'ninth',\n",
       " 'floor',\n",
       " 'course',\n",
       " 'jail',\n",
       " 'supposed',\n",
       " 'warm',\n",
       " 'comforting',\n",
       " 'lights',\n",
       " 'glare',\n",
       " 'cells',\n",
       " 'tiny',\n",
       " 'loud',\n",
       " 'see',\n",
       " 'two',\n",
       " 'sometimes',\n",
       " 'three',\n",
       " 'men',\n",
       " 'sometimes',\n",
       " 'robes',\n",
       " 'sometimes',\n",
       " 'naked',\n",
       " 'lying',\n",
       " 'sitting',\n",
       " 'cells',\n",
       " 'son',\n",
       " 'president',\n",
       " 'need',\n",
       " 'get',\n",
       " 'one',\n",
       " 'man',\n",
       " 'shouts',\n",
       " 'absolutely',\n",
       " 'serious',\n",
       " 'convinced',\n",
       " 'help',\n",
       " 'way',\n",
       " 'could',\n",
       " 'reach',\n",
       " 'white',\n",
       " 'house',\n",
       " 'leifman',\n",
       " 'tells',\n",
       " 'prisoner',\n",
       " 'patients',\n",
       " 'often',\n",
       " 'circulate',\n",
       " 'system',\n",
       " 'occasionally',\n",
       " 'stabilizing',\n",
       " 'mental',\n",
       " 'hospital',\n",
       " 'return',\n",
       " 'jail',\n",
       " 'face',\n",
       " 'charges',\n",
       " 'brutally',\n",
       " 'unjust',\n",
       " 'mind',\n",
       " 'become',\n",
       " 'strong',\n",
       " 'advocate',\n",
       " 'changing',\n",
       " 'things',\n",
       " 'miami',\n",
       " 'meal',\n",
       " 'later',\n",
       " 'talk',\n",
       " 'things',\n",
       " 'got',\n",
       " 'way',\n",
       " 'mental',\n",
       " 'patients',\n",
       " 'leifman',\n",
       " 'says',\n",
       " '200',\n",
       " 'years',\n",
       " 'ago',\n",
       " 'people',\n",
       " 'considered',\n",
       " 'lunatics',\n",
       " 'locked',\n",
       " 'jails',\n",
       " 'even',\n",
       " 'charges',\n",
       " 'considered',\n",
       " 'unfit',\n",
       " 'society',\n",
       " 'years',\n",
       " 'says',\n",
       " 'public',\n",
       " 'outcry',\n",
       " 'mentally',\n",
       " 'ill',\n",
       " 'moved',\n",
       " 'jails',\n",
       " 'hospitals',\n",
       " 'leifman',\n",
       " 'says',\n",
       " 'many',\n",
       " 'mental',\n",
       " 'hospitals',\n",
       " 'horrible',\n",
       " 'shut',\n",
       " 'patients',\n",
       " 'go',\n",
       " 'nowhere',\n",
       " 'streets',\n",
       " 'became',\n",
       " 'many',\n",
       " 'cases',\n",
       " 'homeless',\n",
       " 'says',\n",
       " 'never',\n",
       " 'got',\n",
       " 'treatment',\n",
       " 'leifman',\n",
       " 'says',\n",
       " '1955',\n",
       " 'half',\n",
       " 'million',\n",
       " 'people',\n",
       " 'state',\n",
       " 'mental',\n",
       " 'hospitals',\n",
       " 'today',\n",
       " 'number',\n",
       " 'reduced',\n",
       " '90',\n",
       " 'percent',\n",
       " '40',\n",
       " '000',\n",
       " '50',\n",
       " '000',\n",
       " 'people',\n",
       " 'mental',\n",
       " 'hospitals',\n",
       " 'judge',\n",
       " 'says',\n",
       " 'working',\n",
       " 'change',\n",
       " 'starting',\n",
       " '2008',\n",
       " 'many',\n",
       " 'inmates',\n",
       " 'would',\n",
       " 'otherwise',\n",
       " 'brought',\n",
       " 'forgotten',\n",
       " 'floor',\n",
       " 'instead',\n",
       " 'sent',\n",
       " 'new',\n",
       " 'mental',\n",
       " 'health',\n",
       " 'facility',\n",
       " 'first',\n",
       " 'step',\n",
       " 'journey',\n",
       " 'toward',\n",
       " 'long',\n",
       " 'term',\n",
       " 'treatment',\n",
       " 'punishment',\n",
       " 'leifman',\n",
       " 'says',\n",
       " 'complete',\n",
       " 'answer',\n",
       " 'start',\n",
       " 'leifman',\n",
       " 'says',\n",
       " 'best',\n",
       " 'part',\n",
       " 'win',\n",
       " 'win',\n",
       " 'solution',\n",
       " 'patients',\n",
       " 'win',\n",
       " 'families',\n",
       " 'relieved',\n",
       " 'state',\n",
       " 'saves',\n",
       " 'money',\n",
       " 'simply',\n",
       " 'cycling',\n",
       " 'prisoners',\n",
       " 'leifman',\n",
       " 'justice',\n",
       " 'served',\n",
       " 'e',\n",
       " 'mail',\n",
       " 'friend']"
      ]
     },
     "execution_count": 33,
     "metadata": {},
     "output_type": "execute_result"
    }
   ],
   "source": [
    "clean_articles[1]"
   ]
  },
  {
   "cell_type": "code",
   "execution_count": 34,
   "id": "11f53ed0",
   "metadata": {},
   "outputs": [
    {
     "name": "stdout",
     "output_type": "stream",
     "text": [
      "Cleaning Summaries Complete\n"
     ]
    },
    {
     "name": "stderr",
     "output_type": "stream",
     "text": [
      "/var/folders/xt/8t3t9kmn787_rthnt36ggbyc0000gn/T/ipykernel_2546/1731836068.py:2: FutureWarning: The behavior of `series[i:j]` with an integer-dtype index is deprecated. In a future version, this will be treated as *label-based* indexing, consistent with e.g. `series[i]` lookups. To retain the old behavior, use `series.iloc[i:j]`. To get the future behavior, use `series.loc[i:j]`.\n",
      "  for summary in train_data['highlights'][:4]:\n"
     ]
    }
   ],
   "source": [
    "clean_summaries = []\n",
    "for summary in train_data['highlights'][:4]:\n",
    "    clean_summaries.append(preprocessing(summary, remove_stopwords=False))\n",
    "print('Cleaning Summaries Complete')\n"
   ]
  },
  {
   "cell_type": "code",
   "execution_count": 36,
   "id": "33857f35",
   "metadata": {},
   "outputs": [
    {
     "data": {
      "text/plain": [
       "['mentally',\n",
       " 'ill',\n",
       " 'inmates',\n",
       " 'in',\n",
       " 'miami',\n",
       " 'are',\n",
       " 'housed',\n",
       " 'on',\n",
       " 'the',\n",
       " 'forgotten',\n",
       " 'floor',\n",
       " 'judge',\n",
       " 'steven',\n",
       " 'leifman',\n",
       " 'says',\n",
       " 'most',\n",
       " 'are',\n",
       " 'there',\n",
       " 'as',\n",
       " 'a',\n",
       " 'result',\n",
       " 'of',\n",
       " 'avoidable',\n",
       " 'felonies',\n",
       " 'while',\n",
       " 'cnn',\n",
       " 'tours',\n",
       " 'facility',\n",
       " 'patient',\n",
       " 'shouts',\n",
       " 'i',\n",
       " 'am',\n",
       " 'the',\n",
       " 'son',\n",
       " 'of',\n",
       " 'the',\n",
       " 'president',\n",
       " 'leifman',\n",
       " 'says',\n",
       " 'the',\n",
       " 'system',\n",
       " 'is',\n",
       " 'unjust',\n",
       " 'and',\n",
       " 'he',\n",
       " 'is',\n",
       " 'fighting',\n",
       " 'for',\n",
       " 'change']"
      ]
     },
     "execution_count": 36,
     "metadata": {},
     "output_type": "execute_result"
    }
   ],
   "source": [
    "clean_summaries[1]"
   ]
  },
  {
   "cell_type": "code",
   "execution_count": null,
   "id": "9d9884bd",
   "metadata": {},
   "outputs": [],
   "source": []
  },
  {
   "cell_type": "code",
   "execution_count": null,
   "id": "6ac3af32",
   "metadata": {},
   "outputs": [],
   "source": []
  }
 ],
 "metadata": {
  "kernelspec": {
   "display_name": "Python 3 (ipykernel)",
   "language": "python",
   "name": "python3"
  },
  "language_info": {
   "codemirror_mode": {
    "name": "ipython",
    "version": 3
   },
   "file_extension": ".py",
   "mimetype": "text/x-python",
   "name": "python",
   "nbconvert_exporter": "python",
   "pygments_lexer": "ipython3",
   "version": "3.8.12"
  },
  "toc": {
   "base_numbering": 1,
   "nav_menu": {},
   "number_sections": true,
   "sideBar": true,
   "skip_h1_title": false,
   "title_cell": "Table of Contents",
   "title_sidebar": "Contents",
   "toc_cell": false,
   "toc_position": {},
   "toc_section_display": true,
   "toc_window_display": false
  }
 },
 "nbformat": 4,
 "nbformat_minor": 5
}
