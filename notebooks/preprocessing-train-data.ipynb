{
 "cells": [
  {
   "cell_type": "code",
   "execution_count": 1,
   "id": "2915ef39",
   "metadata": {},
   "outputs": [],
   "source": [
    "import pandas as pd\n",
    "import matplotlib.pyplot as plt\n",
    "\n",
    "import re\n",
    "import string\n",
    "import contractions\n",
    "from nltk.corpus import stopwords\n",
    "from nltk.tokenize import word_tokenize\n",
    "\n",
    "from tensorflow.keras.preprocessing.text import Tokenizer \n",
    "from tensorflow.keras.preprocessing.sequence import pad_sequences"
   ]
  },
  {
   "cell_type": "code",
   "execution_count": 2,
   "id": "57d6c66c",
   "metadata": {},
   "outputs": [],
   "source": [
    "pd.set_option('display.max_colwidth', None)"
   ]
  },
  {
   "cell_type": "markdown",
   "id": "1d400c07",
   "metadata": {},
   "source": [
    "## EDA"
   ]
  },
  {
   "cell_type": "code",
   "execution_count": 3,
   "id": "f2d81df5",
   "metadata": {},
   "outputs": [],
   "source": [
    "#loading the datasets\n",
    "train_set = pd.read_csv('../raw_data/train.csv')\n",
    "validation_set = pd.read_csv('../raw_data/validation.csv')\n",
    "test_set = pd.read_csv('../raw_data/test.csv')"
   ]
  },
  {
   "cell_type": "code",
   "execution_count": 4,
   "id": "4c9f2458",
   "metadata": {},
   "outputs": [],
   "source": [
    "# droppping useless columns\n",
    "train_data = train_set.drop(['id', 'orig_id'], axis=1)[:800]\n",
    "val_data = validation_set.drop(['id', 'orig_id'], axis=1)[:200]\n",
    "test_data = test_set.drop(['id', 'orig_id'], axis=1)[:100]"
   ]
  },
  {
   "cell_type": "code",
   "execution_count": 5,
   "id": "f227816e-b5ef-42a1-8f50-7c279b93ef40",
   "metadata": {},
   "outputs": [
    {
     "data": {
      "text/plain": [
       "(800, 2)"
      ]
     },
     "execution_count": 5,
     "metadata": {},
     "output_type": "execute_result"
    }
   ],
   "source": [
    "train_data.shape"
   ]
  },
  {
   "cell_type": "code",
   "execution_count": 6,
   "id": "0bc1dd4e",
   "metadata": {},
   "outputs": [
    {
     "data": {
      "text/html": [
       "<div>\n",
       "<style scoped>\n",
       "    .dataframe tbody tr th:only-of-type {\n",
       "        vertical-align: middle;\n",
       "    }\n",
       "\n",
       "    .dataframe tbody tr th {\n",
       "        vertical-align: top;\n",
       "    }\n",
       "\n",
       "    .dataframe thead th {\n",
       "        text-align: right;\n",
       "    }\n",
       "</style>\n",
       "<table border=\"1\" class=\"dataframe\">\n",
       "  <thead>\n",
       "    <tr style=\"text-align: right;\">\n",
       "      <th></th>\n",
       "      <th>article</th>\n",
       "      <th>highlights</th>\n",
       "    </tr>\n",
       "  </thead>\n",
       "  <tbody>\n",
       "    <tr>\n",
       "      <th>6</th>\n",
       "      <td>BAGHDAD, Iraq (CNN) -- The women are too afraid and ashamed to show their faces or have their real names used. They have been driven to sell their bodies to put food on the table for their children -- for as little as $8 a day. Suha, 37, is a mother of three. She says her husband thinks she is cleaning houses when she leaves home. \"People shouldn't criticize women, or talk badly about them,\" says 37-year-old Suha as she adjusts the light colored scarf she wears these days to avoid extremists who insist women cover themselves. \"They all say we have lost our way, but they never ask why we had to take this path.\" A mother of three, she wears light makeup, a gold pendant of Iraq around her neck, and an unexpected air of elegance about her. \"I don't have money to take my kid to the doctor. I have to do anything that I can to preserve my child, because I am a mother,\" she says, explaining why she prostitutes herself. Anger and frustration rise in her voice as she speaks. \"No matter what else I may be, no matter how off the path I may be, I am a mother!\"  Watch a woman describe turning to prostitution to \"save my child\" » . Her clasped hands clench and unclench nervously. Suha's husband thinks that she is cleaning houses when she goes away. So does Karima's family. \"At the start I was cleaning homes, but I wasn't making much. No matter how hard I worked it just wasn't enough,\" she says. Karima, clad in all black, adds, \"My husband died of lung cancer nine months ago and left me with nothing.\" She has five children, ages 8 to 17. Her eldest son could work, but she's too afraid for his life to let him go into the streets, preferring to sacrifice herself than risk her child. She was solicited the first time when she was cleaning an office. \"They took advantage of me,\" she says softly. \"At first I rejected it, but then I realized I have to do it.\" Both Suha and Karima have clients that call them a couple times a week. Other women resort to trips to the market to find potential clients. Or they flag down vehicles. Prostitution is a choice more and more Iraqi women are making just to survive. \"It's increasing,\" Suha says. \"I found this 'thing' through my friend, and I have another friend in the same predicament as mine. Because of the circumstance, she is forced to do such things.\" Violence, increased cost of living, and lack of any sort of government aid leave women like these with few other options, according to humanitarian workers. \"At this point there is a population of women who have to sell their bodies in order to keep their children alive,\" says Yanar Mohammed, head and founder of the Organization for Women's Freedom in Iraq. \"It's a taboo that no one is speaking about.\" She adds, \"There is a huge population of women who were the victims of war who had to sell their bodies, their souls and they lost it all. It crushes us to see them, but we have to work on it and that's why we started our team of women activists.\" Her team pounds the streets of Baghdad looking for these victims often too humiliated to come forward. \"Most of the women that we find at hospitals [who] have tried to commit suicide\" have been involved in prostitution, said Basma Rahim, a member of Mohammed's team. The team's aim is to compile information on specific cases and present it to Iraq's political parties -- to have them, as Mohammed puts it, \"come tell us what [they] are ... going to do about this.\" Rahim tells the heartbreaking story of one woman they found who lives in a room with three of her children: \"She has sex while her three children are in the room, but she makes them stand in separate corners.\" According to Rahim and Mohammed, most of the women they encounter say they are driven to prostitution by a desperate desire for survival in the dangerously violent and unforgiving circumstances in Iraq. \"They took this path but they are not pleased,\" Rahim says. Karima says when she sees her children with food on the table, she is able to convince herself that it's worth it. \"Everything is for the children. They are the beauty in life and, without them, we cannot live.\" But she says, \"I would never allow my daughter to do this. I would rather marry her off at 13 than have her go through this.\" Karima's last happy memory is of her late husband, when they were a family and able to shoulder the hardships of life in today's Iraq together. Suha says as a young girl she dreamed of being a doctor, with her mom boasting about her potential in that career. Life couldn't have taken her further from that dream. \"It's not like we were born into this, nor was it ever in my blood,\" she says. What she does for her family to survive now eats away at her. \"I lay on my pillow and my brain is spinning, and it all comes back to me as if I am watching a movie.\" E-mail to a friend .</td>\n",
       "      <td>Aid workers: Violence, increased cost of living drive women to prostitution .\\nGroup is working to raise awareness of the problem with Iraq's political leaders .\\nTwo Iraqi mothers tell CNN they turned to prostitution to help feed their children .\\n\"Everything is for the children,\" one woman says .</td>\n",
       "    </tr>\n",
       "    <tr>\n",
       "      <th>7</th>\n",
       "      <td>BOGOTA, Colombia (CNN) -- A key rebel commander and fugitive from a U.S. drug trafficking indictment was killed over the weekend in an air attack on a guerrilla encampment, the Colombian military said Monday. Alleged cocaine trafficker and FARC rebel Tomas Medina Caracas in an Interpol photo. Tomas Medina Caracas, known popularly as \"El Negro Acacio,\" was a member of the high command of the Fuerzas Armadas Revolucionarias de Colombia and, according to Colombian and U.S. officials, helped manage the group's extensive cocaine trafficking network. He had been in the cross-hairs of the U.S. Justice Department since 2002. He was charged with conspiracy to import cocaine into the United States and manufacturing and distributing cocaine within Colombia to fund the FARC's 42-year insurgency against the government. U.S. officials alleged Medina Caracas managed the rebel group's sales of cocaine to international drug traffickers, who in turn smuggled it into the United States. He was also indicted in the United States along with two other FARC commanders in November 2002 on charges of conspiring to kidnap two U.S. oil workers from neighboring Venezuela in 1997 and holding one of them for nine months until a $1 million ransom was paid. Officials said the army's Rapid Response Force, backed by elements of the Colombian Air Force, tracked Medina Caracas down at a FARC camp in the jungle in the south of the country. \"After a bombardment, the troops occupied the camp, and they've found 14 dead rebels so far, along with rifles, pistols, communications equipment and ... four GPS systems,\" Defense Minister Juan Manuel Santos said at a news conference. \"The death of 'El Negro Acacio' was confirmed by various sources, including members of FARC itself.\" Medina Caracas commanded FARC's 16th Front in the southern departments of Vichada and Guainia. Established in 1964 as the military wing of the Colombian Communist Party, FARC is Colombia's oldest, largest, most capable and best-equipped Marxist rebel group, according to the U.S. Department of State. E-mail to a friend . Journalist Fernando Ramos contributed to this report.</td>\n",
       "      <td>Tomas Medina Caracas was a fugitive from a U.S. drug trafficking indictment .\\n\"El Negro Acacio\" allegedly helped manage extensive cocaine network .\\nU.S. Justice Department indicted him in 2002 .\\nColombian military: He was killed in an attack on a guerrilla encampment .</td>\n",
       "    </tr>\n",
       "  </tbody>\n",
       "</table>\n",
       "</div>"
      ],
      "text/plain": [
       "                                                                                                                                                                                                                                                                                                                                                                                                                                                                                                                                                                                                                                                                                                                                                                                                                                                                                                                                                                                                                                                                                                                                                                                                                                                                                                                                                                                                                                                                                                                                                                                                                                                                                                                                                                                                                                                                                                                                                                                                                                                                                                                                                                                                                                                                                                                                                                                                                                                                                                                                                                                                                                                                                                                                                                                                                                                                                                                                                                                                                                                                                                                                                                                                                                                                                                                                                                                                                                                                                                                                                                                                                                                                                                                                                                                                                                                                                                                                                                                                                                                                                                                                                                                                                                                                                                                                                                                                                                                                                                                                                                                                                                                                                                                                                                                                                                                                                                                                                                                                               article  \\\n",
       "6  BAGHDAD, Iraq (CNN) -- The women are too afraid and ashamed to show their faces or have their real names used. They have been driven to sell their bodies to put food on the table for their children -- for as little as $8 a day. Suha, 37, is a mother of three. She says her husband thinks she is cleaning houses when she leaves home. \"People shouldn't criticize women, or talk badly about them,\" says 37-year-old Suha as she adjusts the light colored scarf she wears these days to avoid extremists who insist women cover themselves. \"They all say we have lost our way, but they never ask why we had to take this path.\" A mother of three, she wears light makeup, a gold pendant of Iraq around her neck, and an unexpected air of elegance about her. \"I don't have money to take my kid to the doctor. I have to do anything that I can to preserve my child, because I am a mother,\" she says, explaining why she prostitutes herself. Anger and frustration rise in her voice as she speaks. \"No matter what else I may be, no matter how off the path I may be, I am a mother!\"  Watch a woman describe turning to prostitution to \"save my child\" » . Her clasped hands clench and unclench nervously. Suha's husband thinks that she is cleaning houses when she goes away. So does Karima's family. \"At the start I was cleaning homes, but I wasn't making much. No matter how hard I worked it just wasn't enough,\" she says. Karima, clad in all black, adds, \"My husband died of lung cancer nine months ago and left me with nothing.\" She has five children, ages 8 to 17. Her eldest son could work, but she's too afraid for his life to let him go into the streets, preferring to sacrifice herself than risk her child. She was solicited the first time when she was cleaning an office. \"They took advantage of me,\" she says softly. \"At first I rejected it, but then I realized I have to do it.\" Both Suha and Karima have clients that call them a couple times a week. Other women resort to trips to the market to find potential clients. Or they flag down vehicles. Prostitution is a choice more and more Iraqi women are making just to survive. \"It's increasing,\" Suha says. \"I found this 'thing' through my friend, and I have another friend in the same predicament as mine. Because of the circumstance, she is forced to do such things.\" Violence, increased cost of living, and lack of any sort of government aid leave women like these with few other options, according to humanitarian workers. \"At this point there is a population of women who have to sell their bodies in order to keep their children alive,\" says Yanar Mohammed, head and founder of the Organization for Women's Freedom in Iraq. \"It's a taboo that no one is speaking about.\" She adds, \"There is a huge population of women who were the victims of war who had to sell their bodies, their souls and they lost it all. It crushes us to see them, but we have to work on it and that's why we started our team of women activists.\" Her team pounds the streets of Baghdad looking for these victims often too humiliated to come forward. \"Most of the women that we find at hospitals [who] have tried to commit suicide\" have been involved in prostitution, said Basma Rahim, a member of Mohammed's team. The team's aim is to compile information on specific cases and present it to Iraq's political parties -- to have them, as Mohammed puts it, \"come tell us what [they] are ... going to do about this.\" Rahim tells the heartbreaking story of one woman they found who lives in a room with three of her children: \"She has sex while her three children are in the room, but she makes them stand in separate corners.\" According to Rahim and Mohammed, most of the women they encounter say they are driven to prostitution by a desperate desire for survival in the dangerously violent and unforgiving circumstances in Iraq. \"They took this path but they are not pleased,\" Rahim says. Karima says when she sees her children with food on the table, she is able to convince herself that it's worth it. \"Everything is for the children. They are the beauty in life and, without them, we cannot live.\" But she says, \"I would never allow my daughter to do this. I would rather marry her off at 13 than have her go through this.\" Karima's last happy memory is of her late husband, when they were a family and able to shoulder the hardships of life in today's Iraq together. Suha says as a young girl she dreamed of being a doctor, with her mom boasting about her potential in that career. Life couldn't have taken her further from that dream. \"It's not like we were born into this, nor was it ever in my blood,\" she says. What she does for her family to survive now eats away at her. \"I lay on my pillow and my brain is spinning, and it all comes back to me as if I am watching a movie.\" E-mail to a friend .   \n",
       "7                                                                                                                                                                                                                                                                                                                                                                                                                                                                                                                                                                                                                                                                                                                                                                                                                                                                                                                                                                                                                                                                                                                                                                                                                                                                                                                                                                                                                                                                                                                                                                                                                                                                                                                                                                                                                                                                                                                                                                                                                                                                                                                                                                                                                                                                                                                                                                                                                                                                                                                                                                                                                                                                                                                                                                                           BOGOTA, Colombia (CNN) -- A key rebel commander and fugitive from a U.S. drug trafficking indictment was killed over the weekend in an air attack on a guerrilla encampment, the Colombian military said Monday. Alleged cocaine trafficker and FARC rebel Tomas Medina Caracas in an Interpol photo. Tomas Medina Caracas, known popularly as \"El Negro Acacio,\" was a member of the high command of the Fuerzas Armadas Revolucionarias de Colombia and, according to Colombian and U.S. officials, helped manage the group's extensive cocaine trafficking network. He had been in the cross-hairs of the U.S. Justice Department since 2002. He was charged with conspiracy to import cocaine into the United States and manufacturing and distributing cocaine within Colombia to fund the FARC's 42-year insurgency against the government. U.S. officials alleged Medina Caracas managed the rebel group's sales of cocaine to international drug traffickers, who in turn smuggled it into the United States. He was also indicted in the United States along with two other FARC commanders in November 2002 on charges of conspiring to kidnap two U.S. oil workers from neighboring Venezuela in 1997 and holding one of them for nine months until a $1 million ransom was paid. Officials said the army's Rapid Response Force, backed by elements of the Colombian Air Force, tracked Medina Caracas down at a FARC camp in the jungle in the south of the country. \"After a bombardment, the troops occupied the camp, and they've found 14 dead rebels so far, along with rifles, pistols, communications equipment and ... four GPS systems,\" Defense Minister Juan Manuel Santos said at a news conference. \"The death of 'El Negro Acacio' was confirmed by various sources, including members of FARC itself.\" Medina Caracas commanded FARC's 16th Front in the southern departments of Vichada and Guainia. Established in 1964 as the military wing of the Colombian Communist Party, FARC is Colombia's oldest, largest, most capable and best-equipped Marxist rebel group, according to the U.S. Department of State. E-mail to a friend . Journalist Fernando Ramos contributed to this report.   \n",
       "\n",
       "                                                                                                                                                                                                                                                                                                    highlights  \n",
       "6  Aid workers: Violence, increased cost of living drive women to prostitution .\\nGroup is working to raise awareness of the problem with Iraq's political leaders .\\nTwo Iraqi mothers tell CNN they turned to prostitution to help feed their children .\\n\"Everything is for the children,\" one woman says .  \n",
       "7                             Tomas Medina Caracas was a fugitive from a U.S. drug trafficking indictment .\\n\"El Negro Acacio\" allegedly helped manage extensive cocaine network .\\nU.S. Justice Department indicted him in 2002 .\\nColombian military: He was killed in an attack on a guerrilla encampment .  "
      ]
     },
     "execution_count": 6,
     "metadata": {},
     "output_type": "execute_result"
    }
   ],
   "source": [
    "train_data[6:8]"
   ]
  },
  {
   "cell_type": "code",
   "execution_count": 7,
   "id": "59a18676",
   "metadata": {},
   "outputs": [
    {
     "name": "stdout",
     "output_type": "stream",
     "text": [
      "train_data.shape: (800, 2)\n"
     ]
    }
   ],
   "source": [
    "print(f\"train_data.shape: {train_data.shape}\")"
   ]
  },
  {
   "cell_type": "code",
   "execution_count": 8,
   "id": "229056a9",
   "metadata": {},
   "outputs": [
    {
     "data": {
      "text/plain": [
       "article       0\n",
       "highlights    0\n",
       "dtype: int64"
      ]
     },
     "execution_count": 8,
     "metadata": {},
     "output_type": "execute_result"
    }
   ],
   "source": [
    "train_data.isna().sum()"
   ]
  },
  {
   "cell_type": "code",
   "execution_count": 9,
   "id": "8dbfdcf7",
   "metadata": {},
   "outputs": [],
   "source": [
    "#val_data.isna().sum()"
   ]
  },
  {
   "cell_type": "code",
   "execution_count": 10,
   "id": "878d59bd-118f-44d5-928e-1d7377ab0f7a",
   "metadata": {},
   "outputs": [
    {
     "data": {
      "text/plain": [
       "article       0\n",
       "highlights    0\n",
       "dtype: int64"
      ]
     },
     "execution_count": 10,
     "metadata": {},
     "output_type": "execute_result"
    }
   ],
   "source": [
    "test_data.isna().sum()"
   ]
  },
  {
   "cell_type": "markdown",
   "id": "84fca20f",
   "metadata": {},
   "source": [
    "### Dealing with duplicates"
   ]
  },
  {
   "cell_type": "code",
   "execution_count": 11,
   "id": "c408f1ff-5b52-4514-892d-d0c32801dd06",
   "metadata": {},
   "outputs": [
    {
     "data": {
      "text/plain": [
       "31"
      ]
     },
     "execution_count": 11,
     "metadata": {},
     "output_type": "execute_result"
    }
   ],
   "source": [
    "train_data.duplicated(subset=['article', 'highlights']).sum()"
   ]
  },
  {
   "cell_type": "code",
   "execution_count": 12,
   "id": "42970bc2-607b-4509-945a-63928c2f48f4",
   "metadata": {},
   "outputs": [
    {
     "data": {
      "text/plain": [
       "0"
      ]
     },
     "execution_count": 12,
     "metadata": {},
     "output_type": "execute_result"
    }
   ],
   "source": [
    "val_data.duplicated(subset=['article', 'highlights']).sum()"
   ]
  },
  {
   "cell_type": "code",
   "execution_count": 13,
   "id": "4de05717-847d-451a-b7d7-6e43a30cba02",
   "metadata": {},
   "outputs": [
    {
     "data": {
      "text/plain": [
       "0"
      ]
     },
     "execution_count": 13,
     "metadata": {},
     "output_type": "execute_result"
    }
   ],
   "source": [
    "test_data.duplicated(subset=['article', 'highlights']).sum()"
   ]
  },
  {
   "cell_type": "code",
   "execution_count": 14,
   "id": "633ab416",
   "metadata": {},
   "outputs": [],
   "source": [
    "def del_duplicates(dataset, columns_to_compare):\n",
    "    '''\n",
    "    Function that deletes duplicated lines comapres according to indicated columns\n",
    "    '''\n",
    "    return dataset.drop_duplicates(subset=columns_to_compare)\n",
    "\n",
    "    "
   ]
  },
  {
   "cell_type": "code",
   "execution_count": 15,
   "id": "f18706ef-860c-47b4-b92b-4b2068b524d3",
   "metadata": {},
   "outputs": [
    {
     "data": {
      "text/plain": [
       "(769, 2)"
      ]
     },
     "execution_count": 15,
     "metadata": {},
     "output_type": "execute_result"
    }
   ],
   "source": [
    "cols = ['article', 'highlights']\n",
    "\n",
    "train = del_duplicates(train_data, columns_to_compare=cols)\n",
    "train.shape"
   ]
  },
  {
   "cell_type": "code",
   "execution_count": 16,
   "id": "bc6db8f3",
   "metadata": {},
   "outputs": [
    {
     "data": {
      "text/plain": [
       "(200, 2)"
      ]
     },
     "execution_count": 16,
     "metadata": {},
     "output_type": "execute_result"
    }
   ],
   "source": [
    "val = del_duplicates(val_data, columns_to_compare=cols)\n",
    "val.shape"
   ]
  },
  {
   "cell_type": "code",
   "execution_count": 17,
   "id": "2a71e904",
   "metadata": {},
   "outputs": [
    {
     "data": {
      "text/plain": [
       "(100, 2)"
      ]
     },
     "execution_count": 17,
     "metadata": {},
     "output_type": "execute_result"
    }
   ],
   "source": [
    "test = del_duplicates(test_data, columns_to_compare=cols)\n",
    "test.shape"
   ]
  },
  {
   "cell_type": "markdown",
   "id": "b96defd4-a38f-46bd-b287-a8e0737abd9b",
   "metadata": {},
   "source": [
    "### Potential threshhold for news extraction\n",
    "\n",
    " For API/scrapping part can be useful to define what we consider as an article"
   ]
  },
  {
   "cell_type": "code",
   "execution_count": 18,
   "id": "10d5c847-99b8-4d2e-84e3-6f47dd863644",
   "metadata": {},
   "outputs": [
    {
     "data": {
      "image/png": "[encoded data removed]",
      "text/plain": [
       "<Figure size 640x480 with 2 Axes>"
      ]
     },
     "metadata": {},
     "output_type": "display_data"
    }
   ],
   "source": [
    "# word count\n",
    "article_wc = []\n",
    "summary_wc = []\n",
    "\n",
    "# populate the lists with sentence lengths\n",
    "for i in train.article:\n",
    "      article_wc.append(len(i.split()))\n",
    "\n",
    "for i in train.highlights:\n",
    "      summary_wc.append(len(i.split()))\n",
    "\n",
    "length_df = pd.DataFrame({'text':article_wc, 'summary':summary_wc})\n",
    "\n",
    "plt.subplot(1, 2, 1)\n",
    "plt.hist(length_df.text, bins=40)\n",
    "plt.xlabel(\"Word count\")\n",
    "plt.ylabel(\"Number of articles\")\n",
    "\n",
    "\n",
    "plt.subplot(1, 2, 2)\n",
    "plt.hist(length_df.summary, bins=40)\n",
    "plt.xlabel(\"Word count\")\n",
    "\n",
    "\n",
    "plt.show()"
   ]
  },
  {
   "cell_type": "markdown",
   "id": "69802c50",
   "metadata": {},
   "source": [
    "## Cleaning the data"
   ]
  },
  {
   "cell_type": "code",
   "execution_count": 47,
   "id": "f5673a4f",
   "metadata": {},
   "outputs": [],
   "source": [
    "def preprocessing(sentence: string, remove_stopwords=True) -> string: \n",
    "    \n",
    "    '''\n",
    "    Preprocessing text: lower case, \n",
    "                        deleting punctuation, \n",
    "                        replacing contructions with equivalent,\n",
    "                        deleting stop words,\n",
    "                        removing special characters\n",
    "    '''\n",
    "\n",
    "    # Lowercase\n",
    "    sentence = sentence.lower()\n",
    "   \n",
    "    # Remove return characters, url and html tags\n",
    "    code_list = ['\\n', '\\S*(http|https)\\S*', '\\<a href', '&amp;', '<br />']\n",
    "    for code in code_list:\n",
    "        sentence = re.sub(code, ' ',sentence, flags=re.MULTILINE)\n",
    "    \n",
    "    # expand the shortened words (can't => can not)\n",
    "    # after they will be deleted in stopwords\n",
    "    expanded = []   \n",
    "    for word in sentence.split():\n",
    "        expanded.append(contractions.fix(word, slang=False))\n",
    "        \n",
    "    expanded_sentence = ' '.join(expanded)\n",
    "    \n",
    "    # remove any parenthisis with text inside\n",
    "    sentence = re.sub(r'\\([^)]*\\)', '', expanded_sentence)\n",
    "    \n",
    "    # Removing punctuation, url and html tags\n",
    "    for punctuation in string.punctuation + '[\\'\\\"]':\n",
    "        sentence = sentence.replace(punctuation, ' ')\n",
    "        \n",
    "    # remove special characters \n",
    "    sentence = re.sub(\"[^a-zA-Z]\", ' ', sentence)\n",
    "    sentence = re.sub(\"\\s+\", ' ', sentence)\n",
    "\n",
    "    # Removing whitespaces\n",
    "    sentence = sentence.strip()\n",
    "                \n",
    "    if remove_stopwords:\n",
    "        stop_words = set(stopwords.words('english')) ## defining stopwords    \n",
    "        sentence_list = [w for w in sentence.split() if not w in stop_words]\n",
    "        sentence = (' '.join(sentence_list)).strip()\n",
    "        \n",
    "    return sentence"
   ]
  },
  {
   "cell_type": "markdown",
   "id": "22f745a1-7a54-4cfc-b057-f4a3b4dcf1f4",
   "metadata": {},
   "source": [
    "**testing all on a subset of data**"
   ]
  },
  {
   "cell_type": "code",
   "execution_count": 52,
   "id": "3a50611c-de91-4689-b98d-afc3a7b68bc1",
   "metadata": {},
   "outputs": [],
   "source": [
    "def cleaning(dataset: pd.Series, remove_stopwords=True) -> list:\n",
    "    '''\n",
    "    This function creates a cleaned version of each dataset.\n",
    "    Calls the preprocessing function.\n",
    "    '''\n",
    "    rmv_stop = remove_stopwords\n",
    "    clean = []\n",
    "    for text in dataset:\n",
    "        clean.append(preprocessing(text, remove_stopwords=rmv_stop))\n",
    "    return clean"
   ]
  },
  {
   "cell_type": "code",
   "execution_count": 53,
   "id": "d87a6c6a-eb15-4a09-b649-a97736debfde",
   "metadata": {
    "tags": []
   },
   "outputs": [
    {
     "name": "stdout",
     "output_type": "stream",
     "text": [
      "CPU times: user 1.79 s, sys: 65.5 ms, total: 1.85 s\n",
      "Wall time: 1.95 s\n"
     ]
    }
   ],
   "source": [
    "%%time\n",
    "\n",
    "X_train = cleaning(train.article)\n",
    "y_train = cleaning(train.highlights, remove_stopwords=False)"
   ]
  },
  {
   "cell_type": "code",
   "execution_count": 54,
   "id": "d5f81396",
   "metadata": {},
   "outputs": [
    {
     "data": {
      "text/plain": [
       "['harry potter star daniel radcliffe gets    m fortune as he turns    monday   young actor says he has no plans to fritter his cash away   radcliffe s earnings from first five potter films have been held in trust fund  ',\n",
       " 'mentally ill inmates in miami are housed on the  forgotten floor  judge steven leifman says most are there as a result of  avoidable felonies  while cnn tours facility  patient shouts   i am the son of the president  leifman says the system is unjust and he is fighting for change  ',\n",
       " 'new   i thought i was going to die   driver says   man says pickup truck was folded in half  he just has cut on face   driver   i probably had a         foot free fall  minnesota bridge collapsed during rush hour wednesday  ']"
      ]
     },
     "execution_count": 54,
     "metadata": {},
     "output_type": "execute_result"
    }
   ],
   "source": [
    "y_train[:3]"
   ]
  },
  {
   "cell_type": "code",
   "execution_count": 51,
   "id": "d0cfb964",
   "metadata": {},
   "outputs": [
    {
     "name": "stdout",
     "output_type": "stream",
     "text": [
      "0                                                                     harry potter star daniel radcliffe gets    m fortune as he turns    monday   young actor says he has no plans to fritter his cash away   radcliffe s earnings from first five potter films have been held in trust fund  \n",
      "1    mentally ill inmates in miami are housed on the  forgotten floor  judge steven leifman says most are there as a result of  avoidable felonies  while cnn tours facility  patient shouts   i am the son of the president  leifman says the system is unjust and he is fighting for change  \n",
      "2                                                              new   i thought i was going to die   driver says   man says pickup truck was folded in half  he just has cut on face   driver   i probably had a         foot free fall  minnesota bridge collapsed during rush hour wednesday  \n",
      "Name: highlights, dtype: object\n"
     ]
    },
    {
     "name": "stderr",
     "output_type": "stream",
     "text": [
      "/var/folders/xt/8t3t9kmn787_rthnt36ggbyc0000gn/T/ipykernel_11374/688880914.py:1: FutureWarning: The behavior of `series[i:j]` with an integer-dtype index is deprecated. In a future version, this will be treated as *label-based* indexing, consistent with e.g. `series[i]` lookups. To retain the old behavior, use `series.iloc[i:j]`. To get the future behavior, use `series.loc[i:j]`.\n",
      "  print(train.highlights[:3].apply(preprocessing, remove_stopwords=False))\n"
     ]
    }
   ],
   "source": [
    "print(train.highlights[:3].apply(preprocessing, remove_stopwords=False))"
   ]
  },
  {
   "cell_type": "code",
   "execution_count": 33,
   "id": "11feebfc",
   "metadata": {},
   "outputs": [
    {
     "name": "stdout",
     "output_type": "stream",
     "text": [
      "0                                                                     harry potter star daniel radcliffe gets    m fortune as he turns    monday   young actor says he has no plans to fritter his cash away   radcliffe s earnings from first five potter films have been held in trust fund\n",
      "1    mentally ill inmates in miami are housed on the  forgotten floor  judge steven leifman says most are there as a result of  avoidable felonies  while cnn tours facility  patient shouts   i am the son of the president  leifman says the system is unjust and he is fighting for change\n",
      "2                                                              new   i thought i was going to die   driver says   man says pickup truck was folded in half  he just has cut on face   driver   i probably had a         foot free fall  minnesota bridge collapsed during rush hour wednesday\n",
      "Name: highlights, dtype: object\n"
     ]
    },
    {
     "name": "stderr",
     "output_type": "stream",
     "text": [
      "/var/folders/xt/8t3t9kmn787_rthnt36ggbyc0000gn/T/ipykernel_11374/3346925275.py:1: FutureWarning: The behavior of `series[i:j]` with an integer-dtype index is deprecated. In a future version, this will be treated as *label-based* indexing, consistent with e.g. `series[i]` lookups. To retain the old behavior, use `series.iloc[i:j]`. To get the future behavior, use `series.loc[i:j]`.\n",
      "  print(train.highlights[:3].apply(lambda x: preprocessing(x, remove_stopwords=False)))\n"
     ]
    }
   ],
   "source": [
    "print(train.highlights[:3].apply(lambda x: preprocessing(x, remove_stopwords=False)))"
   ]
  },
  {
   "cell_type": "code",
   "execution_count": 22,
   "id": "318efb69",
   "metadata": {},
   "outputs": [
    {
     "data": {
      "text/plain": [
       "list"
      ]
     },
     "execution_count": 22,
     "metadata": {},
     "output_type": "execute_result"
    }
   ],
   "source": [
    "type(X_train)"
   ]
  },
  {
   "cell_type": "code",
   "execution_count": 22,
   "id": "ad7c8108-709c-4e4e-8f47-9c9b6bb86110",
   "metadata": {},
   "outputs": [
    {
     "name": "stdout",
     "output_type": "stream",
     "text": [
      "Clean article : london england harry potter star daniel radcliffe gains access reported million fortune turns monday insists money cast spell daniel radcliffe harry potter harry potter order phoenix disappointment gossip columnists around world young actor says plans fritter cash away fast cars drink celebrity parties plan one people soon turn suddenly buy massive sports car collection something similar told australian interviewer earlier month think particularly extravagant things like buying things cost pounds books cds dvds radcliffe able gamble casino buy drink pub see horror film hostel part ii currently six places number one movie uk box office chart details mark landmark birthday wraps agent publicist comment plans definitely sort party said interview hopefully none reading radcliffe earnings first five potter films held trust fund able touch despite growing fame riches actor says keeping feet firmly ground people always looking say kid star goes rails told reporters last month try hard go way would easy latest outing boy wizard harry potter order phoenix breaking records sides atlantic reprise role last two films watch reporter give review potter latest life beyond potter however londoner filmed tv movie called boy jack author rudyard kipling son due release later year also appear december boys australian film four boys escape orphanage earlier year made stage debut playing tortured teenager peter shaffer equus meanwhile braced even closer media scrutiny legally adult think going sort fair game told reuters e mail friend copyright reuters rights reserved material may published broadcast rewritten redistributed\n",
      "\n",
      "\n",
      "Clean summary : harry potter star daniel radcliffe gets fortune turns monday young actor says plans fritter cash away radcliffe earnings first five potter films held trust fund\n"
     ]
    }
   ],
   "source": [
    "print(f'Clean article : {X_train[0]}')\n",
    "print('\\n')\n",
    "print(f'Clean summary : {y_train[0]}')"
   ]
  },
  {
   "cell_type": "code",
   "execution_count": 23,
   "id": "f01681a5-712a-4011-b2c5-aaf22443b421",
   "metadata": {
    "tags": []
   },
   "outputs": [
    {
     "name": "stdout",
     "output_type": "stream",
     "text": [
      "CPU times: user 446 ms, sys: 15.7 ms, total: 462 ms\n",
      "Wall time: 464 ms\n"
     ]
    }
   ],
   "source": [
    "%%time\n",
    "\n",
    "X_val = cleaning(val.article)\n",
    "y_val = cleaning(val.highlights, remove_stopwords=False)"
   ]
  },
  {
   "cell_type": "code",
   "execution_count": 24,
   "id": "077c1a46-1651-4aa3-96cb-ba01eaaf7550",
   "metadata": {},
   "outputs": [
    {
     "name": "stdout",
     "output_type": "stream",
     "text": [
      "CPU times: user 221 ms, sys: 10.2 ms, total: 232 ms\n",
      "Wall time: 233 ms\n"
     ]
    }
   ],
   "source": [
    "%%time\n",
    "\n",
    "X_test = cleaning(test.highlights, remove_stopwords=False)\n",
    "y_test = cleaning(test.article)"
   ]
  },
  {
   "cell_type": "markdown",
   "id": "473c3570-722b-4bd8-bca8-07cbb1441607",
   "metadata": {},
   "source": [
    "### !!! Only for target data => adding start and stop to sequence\n"
   ]
  },
  {
   "cell_type": "code",
   "execution_count": 25,
   "id": "3f2f7614-7b3f-4e71-bd7f-7dc80f79fedc",
   "metadata": {},
   "outputs": [],
   "source": [
    "def adding_decoder_tokens(data: pd.Series) -> pd.Series:\n",
    "    '''\n",
    "    Adding special tokens for the decoder only to target string\n",
    "    '''\n",
    "    \n",
    "    return pd.Series(data).apply(lambda x : '_START_ '+ x + ' _END_')\n",
    "\n",
    "y_train = adding_decoder_tokens(y_train)\n",
    "y_val = adding_decoder_tokens(y_val)"
   ]
  },
  {
   "cell_type": "code",
   "execution_count": 26,
   "id": "6bfb03b7-3f06-4f18-b1e3-6ebb76d0d74a",
   "metadata": {},
   "outputs": [
    {
     "data": {
      "text/plain": [
       "'_START_ harry potter star daniel radcliffe gets fortune turns monday young actor says plans fritter cash away radcliffe earnings first five potter films held trust fund _END_'"
      ]
     },
     "execution_count": 26,
     "metadata": {},
     "output_type": "execute_result"
    }
   ],
   "source": [
    "y_train[0]"
   ]
  },
  {
   "cell_type": "markdown",
   "id": "1579657b-9e6a-4614-9b49-6a6661d3c6cc",
   "metadata": {},
   "source": [
    "## Tokenization"
   ]
  },
  {
   "cell_type": "markdown",
   "id": "ac520b96-91ce-48cc-be3a-0e86412c9e8c",
   "metadata": {},
   "source": [
    "We need to provide different tokenizer vocabularies for article and summary"
   ]
  },
  {
   "cell_type": "code",
   "execution_count": 27,
   "id": "1647d7f4-6dff-43dc-b9b8-26883a1a57bc",
   "metadata": {},
   "outputs": [],
   "source": [
    "# initialize the max len for article and summary\n",
    "max_len_text = 700\n",
    "max_len_summary= 50"
   ]
  },
  {
   "cell_type": "markdown",
   "id": "adb5685b-25dd-42ec-9d65-d1d44e9005ec",
   "metadata": {},
   "source": [
    "### Article tokenization"
   ]
  },
  {
   "cell_type": "code",
   "execution_count": 28,
   "id": "87888620-b475-4306-aee6-62de04b27b72",
   "metadata": {},
   "outputs": [],
   "source": [
    "# learning the dictionnary from train articles\n",
    "X_tokenizer = Tokenizer()\n",
    "X_tokenizer.fit_on_texts(list(X_train))\n",
    "\n",
    "# Transforms each article in articles to a sequence of integers.\n",
    "X_train_tok = X_tokenizer.texts_to_sequences(X_train) \n",
    "X_val_tok = X_tokenizer.texts_to_sequences(X_val)"
   ]
  },
  {
   "cell_type": "code",
   "execution_count": 29,
   "id": "19238f8c-3662-4e00-ab83-63ae3bc992eb",
   "metadata": {},
   "outputs": [
    {
     "name": "stdout",
     "output_type": "stream",
     "text": [
      "Tokenized article looks like this : \n",
      "[226, 334, 1145, 4571, 608, 1733, 4572, 3940, 1175, 103, 88, 4573, 2458, 73, 5429, 257, 1927, 4976, 1733, 4572, 1145, 4571, 1145, 4571, 538, 3294, 4224, 11147, 14881, 115, 33, 282, 2159, 25, 490, 14882, 1680, 160, 1211, 888, 3475, 2359, 1611, 409, 2, 3, 589, 644, 4225, 982, 1212, 1612, 157, 2459, 171, 1039, 11, 1176, 11148, 162, 117, 38, 1007, 14883, 203, 23, 3476, 203, 799, 1520, 2073, 11149, 9049, 4572, 255, 11150, 4574, 982, 3475, 11151, 53, 3941, 1213, 11152, 101, 1803, 1476, 124, 1040, 185, 2, 950, 843, 1316, 152, 6720, 1248, 861, 5976, 1997, 7752, 1389, 9050, 914, 490, 2568, 1568, 111, 1, 583, 3694, 1430, 2460, 4572, 7753, 18, 121, 4571, 2960, 228, 951, 1431, 255, 2360, 596, 830, 4977, 7754, 2159, 25, 1928, 706, 7755, 417, 3, 283, 500, 46, 2461, 608, 844, 14884, 11, 501, 19, 117, 491, 340, 89, 65, 4, 952, 889, 6721, 590, 11153, 1145, 4571, 538, 3294, 1613, 1317, 1477, 2569, 14885, 479, 19, 6, 2960, 26, 1064, 284, 1734, 4571, 889, 76, 1249, 4571, 247, 14886, 3942, 766, 950, 80, 590, 1041, 2252, 14887, 14888, 223, 928, 341, 134, 9, 7, 983, 609, 1998, 1176, 1213, 70, 1998, 1614, 6722, 162, 9, 45, 1288, 4978, 813, 4979, 2074, 2253, 14889, 14890, 645, 14891, 84, 1999, 280, 3477, 3113, 1390, 38, 68, 1568, 1115, 233, 11, 1478, 12, 16, 13, 781, 1478, 172, 800, 876, 48, 716, 984, 1352, 1353]\n"
     ]
    }
   ],
   "source": [
    "print('Tokenized article looks like this : ')\n",
    "print(X_train_tok[0])"
   ]
  },
  {
   "cell_type": "code",
   "execution_count": 30,
   "id": "5ae2cc55-3285-4561-a624-53b27f8b2b6a",
   "metadata": {},
   "outputs": [],
   "source": [
    "# post-padding with zeros up to maximum length\n",
    "X_train_pad = pad_sequences(X_train_tok, dtype='float32', maxlen=max_len_text, padding='post') \n",
    "X_val_pad = pad_sequences(X_val_tok, dtype='float32', maxlen=max_len_text, padding='post')\n",
    "\n",
    "X_vocab = len(X_tokenizer.word_index) + 1"
   ]
  },
  {
   "cell_type": "code",
   "execution_count": 31,
   "id": "b06f43d4-0cc9-42c6-a8a2-e89a3f8648cf",
   "metadata": {},
   "outputs": [
    {
     "name": "stdout",
     "output_type": "stream",
     "text": [
      "The size of train articles vocabulary is 24267\n"
     ]
    }
   ],
   "source": [
    "print(f'The size of train articles vocabulary is {X_vocab}')"
   ]
  },
  {
   "cell_type": "markdown",
   "id": "9e67abf4-3a81-4f70-b964-6e0c15b190ef",
   "metadata": {},
   "source": [
    "### Summary tokenization"
   ]
  },
  {
   "cell_type": "code",
   "execution_count": 32,
   "id": "8d21d0db-4535-4de1-a58c-82ce9b2e63e2",
   "metadata": {},
   "outputs": [],
   "source": [
    "# learning the dictionnary from train summaries\n",
    "y_tokenizer = Tokenizer()\n",
    "y_tokenizer.fit_on_texts(list(y_train))\n",
    "\n",
    "# Transforms each summary in summaries to a sequence of integers.\n",
    "y_train_tok = y_tokenizer.texts_to_sequences(y_train) \n",
    "y_val_tok = y_tokenizer.texts_to_sequences(y_val) "
   ]
  },
  {
   "cell_type": "code",
   "execution_count": 33,
   "id": "654daefa-2ca0-487f-aa5a-45f96f16c1d2",
   "metadata": {},
   "outputs": [],
   "source": [
    "# post-padding with zeros up to maximum length\n",
    "y_train_pad = pad_sequences(y_train_tok, dtype='float32', maxlen=max_len_summary, padding='post')\n",
    "y_val_pad = pad_sequences(y_val_tok,  dtype='float32', maxlen=max_len_summary, padding='post')\n",
    "\n",
    "y_vocab = len(y_tokenizer.word_index) + 1"
   ]
  },
  {
   "cell_type": "code",
   "execution_count": 34,
   "id": "b1fca8e3-6d85-40a0-9c52-39115ec95641",
   "metadata": {},
   "outputs": [
    {
     "name": "stdout",
     "output_type": "stream",
     "text": [
      "The size of train summary vocabulary is 6821\n"
     ]
    }
   ],
   "source": [
    "print(f'The size of train summary vocabulary is {y_vocab}')"
   ]
  },
  {
   "cell_type": "markdown",
   "id": "27fe5769",
   "metadata": {},
   "source": [
    "# Test with scraper"
   ]
  },
  {
   "cell_type": "code",
   "execution_count": 40,
   "id": "caf3b6a3",
   "metadata": {},
   "outputs": [],
   "source": [
    "from dotenv import load_dotenv, find_dotenv\n",
    "from bs4 import BeautifulSoup\n",
    "import requests, os\n",
    "from datetime import datetime\n",
    "import numpy as np"
   ]
  },
  {
   "cell_type": "code",
   "execution_count": 41,
   "id": "d9ca933d",
   "metadata": {},
   "outputs": [],
   "source": [
    "url_list = ['https://edition.cnn.com/2022/11/17/tech/twitter-employees-ultimatum-deadline/index.html',\n",
    "'https://edition.cnn.com/2022/11/17/india/modi-india-g20-influence-intl-hnk/index.html',\n",
    "'https://www.dailymail.co.uk/sport/sportsnews/article-11442203/Qatar-want-alcohol-sales-World-Cup-stadiums-BANNED.html',\n",
    "'http://edition.cnn.com/2022/11/18/us/five-things-november-18-trnd/index.html',\n",
    "'https://www.dailymail.co.uk/sport/sportsnews/article-11443573/Man-United-respond-Cristiano-Ronaldo-interview-Piers-Morgan.html',\n",
    "'https://www.dailymail.co.uk/femail/article-11443077/This-buttons-left-womens-shirts.html',\n",
    "'https://www.dailymail.co.uk/tvshowbiz/article-11443607/Lorraine-Kelly-shocks-fellow-celebs-expletive-ridden-rant-hilarious-Children-Need-sketch.html']"
   ]
  },
  {
   "cell_type": "code",
   "execution_count": 42,
   "id": "aa3905c6",
   "metadata": {},
   "outputs": [],
   "source": [
    "def get_newskey():\n",
    "    \"\"\"\n",
    "    This function will fetch your NEWS_API from the .env file in the root folder.\n",
    "    Your .env file should contain a like like: NEWS_API='asdfasdfasdfsadf'\n",
    "    \"\"\"\n",
    "    env_path = find_dotenv()\n",
    "    file = load_dotenv(env_path)\n",
    "    return os.getenv('NEWS_API')"
   ]
  },
  {
   "cell_type": "code",
   "execution_count": 43,
   "id": "e0f77fff",
   "metadata": {},
   "outputs": [],
   "source": [
    "def get_news(keyword):\n",
    "    \"\"\"\n",
    "    This function will fetch data from NEWS API based on the keyword entered. \n",
    "    The API Key required is taken from the function 'get_newskey'.\n",
    "    \n",
    "    Mandatory criteria to be included in the News API request:\n",
    "    \n",
    "    - personal api key\n",
    "    - base url \"https://newsapi.org/v2/everything?\"\n",
    "    \"\"\"\n",
    "       \n",
    "    #api_key taken from the get_newskey function\n",
    "    api_key = get_newskey()\n",
    "    \n",
    "    #base url of the API forming the basis for the request\n",
    "    base_url = \"https://newsapi.org/v2/everything?\"\n",
    "    \n",
    "    #parts of the news articles that the search shall refer to. It is possible to choose between \"content\", \"title\", \"content\"\n",
    "    search_in = \"content\"\n",
    "    \n",
    "    #criteria for sorting the output of the API\n",
    "    sort = \"popularity\" #relevancy, popularity, publishedAt\n",
    "    \n",
    "    #web sources to be used\n",
    "    sources = \"cnn\" #domains where we would like to search\n",
    "    \n",
    "    #date where the search shall start, default via datetime.today: the current date when the API request is made\n",
    "    date = datetime.today().strftime('%Y-%m-%d')\n",
    "    \n",
    "    # line of code to make the actual request based on the variables defined before\n",
    "    source_url = f'{base_url}q={keyword}&from=\"{date}\"&sortBy={sort}&sources={sources}&searchIn={search_in}&apiKey={api_key}'\n",
    "    \n",
    "    news = requests.get(source_url, allow_redirects=True).json()\n",
    "\n",
    "    return(news)"
   ]
  },
  {
   "cell_type": "code",
   "execution_count": 44,
   "id": "b71e11da",
   "metadata": {},
   "outputs": [],
   "source": [
    "def get_urls(keyword, limit=10):\n",
    "    \"\"\"\n",
    "    This function will filter the output of the API resulting in a list \n",
    "    of the URL's of the articles included in that output from NEWS API \n",
    "    based on the keyword entered. \n",
    "    \"\"\"\n",
    "    \n",
    "    api_result = get_news(keyword)\n",
    "    \n",
    "    list_of_urls = []\n",
    "    \n",
    "    for i in range(len(api_result['articles'])):\n",
    "        \n",
    "        list_of_urls.append(api_result['articles'][i]['url'])\n",
    "    \n",
    "    return list_of_urls[:limit]"
   ]
  },
  {
   "cell_type": "code",
   "execution_count": 45,
   "id": "72da88cf",
   "metadata": {},
   "outputs": [],
   "source": [
    "def General_scraper(url):\n",
    "    \"\"\"\n",
    "    Input: 'str'\n",
    "    Output: 'dict'\n",
    "    \n",
    "    The function recieve an url, fetch for the html and uses BS4 to extract the paragraph tags. Then it\n",
    "    counts the number of times that each paragraph is repeated and uses the most repeated (in a news must be text)\n",
    "    to scrape the news from the website. It returns a dictionary with the title and the text of the news.\n",
    "    \"\"\"\n",
    "    \n",
    "    response = requests.get(url)\n",
    "    soup = BeautifulSoup(response.content, 'html.parser')\n",
    "    text = soup.find_all('p')\n",
    "\n",
    "    attrs_list = [' '.join(item.attrs['class']) for item in text if len(item.attrs) > 0]\n",
    "    values, counts = np.unique(attrs_list, return_counts=True)\n",
    "    idx = np.where(counts == np.max(counts))\n",
    "    text_class = str(values[idx]).strip('[]\\'')\n",
    "\n",
    "    text = soup.find_all('p', class_=text_class)\n",
    "    text = [item.text.strip() for item in text]\n",
    "    text = ' '.join(text).replace('\\xa0', ' ')\n",
    "    title = soup.title.string.split('|')[0]\n",
    "\n",
    "    return {'title': title, 'article': text, 'id': 0, 'orig_id': 0}"
   ]
  },
  {
   "cell_type": "code",
   "execution_count": 46,
   "id": "750b7629",
   "metadata": {},
   "outputs": [],
   "source": [
    "def get_articles(keyword):\n",
    "    urls = get_urls(keyword)\n",
    "    articles = [General_scraper(url) for url in urls]\n",
    "    df = pd.DataFrame(articles)\n",
    "    return df    "
   ]
  },
  {
   "cell_type": "code",
   "execution_count": 47,
   "id": "6b438141",
   "metadata": {},
   "outputs": [],
   "source": [
    "df = get_articles('business')"
   ]
  },
  {
   "cell_type": "code",
   "execution_count": 48,
   "id": "b73a158d",
   "metadata": {},
   "outputs": [
    {
     "data": {
      "text/html": [
       "<div>\n",
       "<style scoped>\n",
       "    .dataframe tbody tr th:only-of-type {\n",
       "        vertical-align: middle;\n",
       "    }\n",
       "\n",
       "    .dataframe tbody tr th {\n",
       "        vertical-align: top;\n",
       "    }\n",
       "\n",
       "    .dataframe thead th {\n",
       "        text-align: right;\n",
       "    }\n",
       "</style>\n",
       "<table border=\"1\" class=\"dataframe\">\n",
       "  <thead>\n",
       "    <tr style=\"text-align: right;\">\n",
       "      <th></th>\n",
       "      <th>title</th>\n",
       "      <th>article</th>\n",
       "      <th>id</th>\n",
       "      <th>orig_id</th>\n",
       "    </tr>\n",
       "  </thead>\n",
       "  <tbody>\n",
       "    <tr>\n",
       "      <th>0</th>\n",
       "      <td>Retail sales surged by 1.3% in October as consumers continue to spend despite inflation</td>\n",
       "      <td>American shoppers spent more in October, showing continued resilience amid persistently high inflation and an early start to the holiday shopping season. US retail sales rose 1.3% in October, the Census Bureau reported Wednesday. That’s the biggest monthly gain since February and better than the 1% economists had expected. Consumer spending was flat in September. Retail sales, which are not adjusted for inflation, were up 8.3% for the 12 months ended in October, slightly down from September’s 8.6%. Consumer spending increased on items such as gas, groceries, furniture and cars, but shoppers pulled back on spending at electronics and appliance stores, sports goods retailers and department stores, according to the report. For much of the year, despite short-term spikes in gas prices and decades-high inflation, consumer spending has remained robust. The October retail sales report shows the pent-up desire to shop that was caused by the pandemic remains strong, said Eugenio Aleman, chief economist for Raymond James. “The fact that they were limited in their consumption alternatives before, for almost three years, is having a big impact on consumers’ decisions to continue to spend,” Aleman said. But to fund that spending, which has started to become more heavily geared toward experiences versus goods, consumers have leaned more heavily on debt. The New York Federal Reserve reported Tuesday that consumer credit card balances grew by 15% year over year in the third quarter — the highest in more than 20 years. But as the central bank hikes interest rates in its efforts to bring down stubbornly high inflation, that takes a toll on consumers, said Gregory Daco, chief economist for EY Parthenon. Consumer sentiment has fallen in recent months. “It’s becoming increasingly evident that households’ budgets are being stretched by persistently elevated inflation, forcing many to dip into their savings and use credit to finance outlays,” he wrote Wednesday. “This is by no means sustainable, especially for families at the lower-to-median end of the income spectrum. Hence, while aggregative excess savings remain elevated around $1.5 trillion, we expect we will soon see a notable pullback in consumer spending activity under the weight of inflation and elevated interest rates.” Still, the strength of consumer spending, while good for the economy, could present challenges for the Fed. “Even after adjusting for inflation, consumers are spending more,” Wells Fargo economists Tim Quinlan and Shannon Seery wrote in a note. “It is tempting to cheer on the ‘resilience’ of the consumer, but the staying power of spending gives businesses no incentive to forgo price increases, thereby making the task of getting inflation in check more difficult for policymakers.” The October retail sales report comes amid a slew of consumer-related economic data and retailer earnings reports ahead of the holiday shopping season. Two key inflation gauges, the Consumer Price Index and the Producer Price Index both showed price increases have been cooling. “The inflation relief consumers received in October that we saw in last week’s CPI report extended to this morning’s retail sales numbers,” said Scott Brave, head of economic analytics at Morning Consult. While inflation appears to have peaked, consumers’ behaviors have shifted, Claire Tassin, Morning Consult’s retail and e-commerce analyst, said during an interview Wednesday. “Everyone is more price sensitive lately,” she told Christine Romans, CNN Business’ chief business correspondent. “People are certainly changing the stores that they shop in, so I can absolutely see wealthier shoppers shopping at Walmart often, especially … to access some of those lower prices than maybe at other stores they would traditionally shop at.” On Tuesday, Walmart reported its US sales had increased 8.2% last quarter from the year before. The discount retailer noted it was making “strong grocery share gains,” including from high-income households. However, earlier on Wednesday, Target said its profit plunged 52% last quarter and revenue rose by just 3.4% as consumers started to feel the heat from inflation. The retailer warned of a sluggish holiday season ahead as shoppers hold out for bargains.</td>\n",
       "      <td>0</td>\n",
       "      <td>0</td>\n",
       "    </tr>\n",
       "    <tr>\n",
       "      <th>1</th>\n",
       "      <td>Jeff Bezos' top tips for managing the economic downturn</td>\n",
       "      <td>Amazon founder Jeff Bezos recently warned consumers and businesses they should consider postponing large purchases in the coming months as the global economy contends with a downturn and faces a possible recession. The business leader offered his starkest advice yet on a faltering economy in an exclusive sit-down interview with CNN’s Chloe Melas on Saturday at Bezos’ Washington, DC, home. Bezos urged people to put off expenditures for big-ticket items such as new cars, televisions and appliances, noting that delaying big purchases is the surest way to keep some “dry powder” in the event of a prolonged economic downturn. Meanwhile, small businesses may want to avoid making large capital expenditures or acquisitions during this uncertain time, Bezos added. If enough consumers follow through with Bezos’ advice, it could mean lower sales for Amazon, the e-commerce giant Bezos founded and that created the vast majority of the billionaire’s wealth. The New York Times reported Monday that Amazon plans to slash its workforce, laying off 10,000 workers, the largest reduction in the company’s history. That’s in addition to a previously announced hiring freeze in its corporate workforce. The company is second only to Walmart in the number of people it employs in the United States. Amazon\\n            \\n                (AMZN) said in October it expects sales for the final three months of the year to be significantly below Wall Street’s expectations. The weaker forecast came as rising inflation and looming recession fears weigh on consumer purchasing decisions as Americans focus more on travel and dining out and less on buying discretionary goods. The company’s stock has fallen more than 40% as surging prices and changing customer behavior weigh on Amazon and the broader tech sector. Bezos said the probability of economic conditions worsening makes it prudent to save some cash if it’s an option. “Take some risk off the table,” he said. “Just a little bit of risk reduction could make the difference.” Last month, Bezos tweeted a warning to his followers on Twitter, recommending that they “batten down the hatches.” The advice was meant for business owners and consumers alike, Bezos said in the interview. Many may be feeling the pinch now, he added, but argued that as an optimist he believes the American Dream “is and will be even more attainable in the future” — projecting that within his own lifetime, space travel could become broadly accessible to the public. Although the US economy is not, technically, in a recession, nearly 75% of likely voters in a recent CNN poll said they feel as though it is. Wages are up, but not enough to take the sting off inflation, most notably high prices of necessities like food, fuel and shelter. For those invested in stocks, it’s not been a great year, either, and that’s especially hard on retirees who are living off their investments. Other business leaders have issued similar messages about the economy in recent months. Tesla\\n            \\n                (TSLA) and Twitter CEO Elon Musk last month admitted demand for Tesla\\n            \\n                (TSLA)s was “a little harder” to come by, and noted that Europe and China are experiencing a “recession of sorts.” Musk also warned that Tesla\\n            \\n                (TSLA) would fall short of its sales growth target. JPMorgan Chase CEO Jamie Dimon in October spooked the stock market by saying a recession could hit the United States in as little as six to nine months.</td>\n",
       "      <td>0</td>\n",
       "      <td>0</td>\n",
       "    </tr>\n",
       "    <tr>\n",
       "      <th>2</th>\n",
       "      <td>Opinion: I wouldn't bet against Bob Iger's return to Disney</td>\n",
       "      <td>Bob Iger’s return to The Walt Disney Company immediately inspired two knee-jerk comparisons on social media. One: Tom Brady’s decision to jump back into the football arena just months after announcing his retirement. Two: Elon Musk’s move to take over Twitter and begin imposing his idiosyncratic (to use a generous word) personal vision on a worldwide franchise important to hundreds of millions of consumers. Iger resumed his Disney career late Sunday with the surprise announcement that the board had terminated Iger’s successor, Bob Chapek, and was bringing back its longtime champion, its leader of 15 years who, with inspired moves such as acquiring Marvel, Pixar and the “Star Wars” franchise, had fashioned a legend for habitual success. That does sound a bit like Brady’s resume, and if sports metaphors are your thing, Iger playing CEO like a quarterback certainly works – many long passes for touchdowns. The Musk comparison is really a contrast, of course, because Iger as a leader is famously controlled, subdued, respectful of a range of opinions, interested in the creative ideas of others, generally progressive in his politics and not over-endowed with hubris; aka: the opposite of Musk. Few executives have had either the resume, or the cultural closeness to a company they did not found, that Iger had with Disney. So if anyone was truly surprised, they were taking delusion pills – and they don’t really know Iger. I’m not going to say that I know him in any sort of profound way either, but I have had a long association with him as a reporter. I was new to covering the TV business for The New York Times when I wrote up ABC’s announcement in March 1989 that the network had named Iger, who had spent most of his career there in the sports division, as president of the entertainment division. (Disney acquired ABC six years later.) In the article, I noted company executives’ acknowledgement that selecting someone with no experience with the insular kingdom of Hollywood was unorthodox. Iger didn’t run from that assessment, telling me in a phone interview, “Obviously I’m a stranger to this world.” John Sias, then-president of ABC, seemed to acknowledge that Iger’s talents lay elsewhere, with strengths in his “ability in human relations” and being a “thoughtful individual.” As it turns out, that was apparently the ideal skill set to ignite one of the most successful runs in American business history. Later, when Iger served a five-year tenure as chief operating officer to a more mercurial Disney CEO, Michael Eisner, he was again the target of some sniping – off the record – for being something of a toady to Eisner. And when he became CEO of Disney in 2005, there was more off-the-record skepticism: Wasn’t Iger too tied to Eisner to truly navigate Disney through the maelstrom of the rapidly evolving entertainment business? Some ABC executives I knew well who were hugely doubtful when Iger took over were admitting to me less than a year later how wrong they were. Iger’s talents clearly did include being good at “human relations.” Early on he proved especially adept at managing relationships with the “talent” – as in stars. Unlike other entertainment executives I have encountered, many of whom emphasized business-school management strategies, Iger put enormous faith in backing creative people. They made the company’s product, after all. But the other skill mentioned when he got his big promotion at ABC in the late 1980s – being a “thoughtful individual” – turned out to be even more consequential. Iger was constantly thinking, deeply, about the future of entertainment and Disney’s role in it. He was at the most storied studio in Hollywood, often the one most hidebound because of its tradition of “family entertainment.” Iger never believed in the status quo. He was always sucking up new information, sensing tectonic shifts. Any conversation with him wove its way around to finding ways to stay ahead of the curve. He clearly built much of his strategy around the conviction that brands were critical to whatever form the delivery of entertainment would take. “Brand” was the essence of Disney, a company still selling millions of mouse ears because its founder co-created a character in 1928. So Iger believed brands such as ESPN, Pixar, “Star Wars” and Marvel would fuel the fires of audience interest well into the future, no matter how people accessed them. Iger raised Disney to powerhouse status with those acquisitions while also managing assets all over the map, from cruise ships to Broadway musicals to theme parks. And right before he finally decided he would actually step away from the mega-brand he’d expanded, he pushed a giant pile of chips on the bet that streaming was the future, which drove the company’s launch of Disney+. Undoubtedly, Iger thought that positioned the company spectacularly. It clearly didn’t look that way to him in recent months as the ship started taking on water under Chapek. Iger didn’t stop being “thoughtful.” He seems to have thought he knew better how to fix things, how to quarterback things – again. Questioning whether he has the ability to do it has been a losing bet for a long time.</td>\n",
       "      <td>0</td>\n",
       "      <td>0</td>\n",
       "    </tr>\n",
       "    <tr>\n",
       "      <th>3</th>\n",
       "      <td>Oatly plans job cuts as investors sour</td>\n",
       "      <td>Oat milk brand Oatly is planning to cut jobs as coronavirus restrictions in Asia dampen its sales forecast for this year. Shares in the Swedish alternative milk brand sank 12.7% to trade at $2.14 on Monday after the company said that its third-quarter earnings had missed expectations. The company said it plans to slash costs by up to 25% partly through cutting jobs in its corporate roles as well as its divisions in Europe, the Middle East and Africa. An Oatly spokesperson told CNN Business on Tuesday that they could not confirm the planned number of job losses until it had finished its discussions with unions. “We are committed to treating all departing employees with respect and empathy,” the spokesperson added. Oatly’s valuation has fallen nearly 90% since its mammoth $10 billion debut on the Nasdaq last May, when it priced its shares at $17 each. It is now valued at $1.3 billion. The company, which produces a milk substitute made from oats, reported revenue of $183 million between July and September, short of the $212 million analysts at Refinitiv had predicted. Oatly expects sales to grow by as much as $720 million in 2022, up 12% from the year before but still down from its previous upper estimate of $830 million. CEO Toni Petersson said in a statement that the results were “largely driven” by coronavirus restrictions in Asia, production issues in the Americas and foreign exchange pressures. Coronavirus restrictions in Asia led to an “underutilization” of Oatly’s production facilities in the region, the company said in its earnings report. “We continue to… see year-over-year sales volume growth,” Petersson said. The company expects to hit its annual new revenue target provided there is a “reasonable containment” of coronavirus globally and no further major lockdowns in Asia, the company said. “[Oatly is] facing downward pressure from uncertain macroeconomic factors, like any other company operating on the global stage,” a company spokesperson told CNN Business. The company, which launched its first product in 2001, has grown rapidly in recent years as health-conscious consumers flock to dairy-free alternatives to milk, ice cream and yogurt. It counts private equity giant Blackstone, former Starbucks CEO Howard Schultz and Oprah Winfrey among its high-profile list of investors. But it is operating in an increasingly crowded market, competing with rival Danone\\n            \\n                (DANOY) whose Alpro and Silk brands sell a range of dairy substitutes. Credit Suisse, in a note Tuesday, said that Oatly’s setbacks “give [its] competitors an edge,” and downgraded the company’s target share price from $3.43 to $3.30. “Expectations for Oatly to reclaim a leading position in a highly competitive category should be scaled back,” the bank said. — Hanna Ziady contributed reporting.</td>\n",
       "      <td>0</td>\n",
       "      <td>0</td>\n",
       "    </tr>\n",
       "    <tr>\n",
       "      <th>4</th>\n",
       "      <td>The US monthly budget deficit dropped to $88 billion in October, down 47% for the year</td>\n",
       "      <td>The US government recorded a monthly budget deficit of $88 billion in October, the Treasury Department reported Thursday. That’s 47% lower than the October 2021 deficit of $165 billion and just below economists’ expectations of $90 billion, according to consensus estimates on Refinitiv. During October, which is the first month for the government’s 2023 fiscal year, unadjusted spending dropped 9% to $406 billion and revenues increased 12% to $319 billion. When adjusting for calendar-related differences — notably $62 billion in federal benefit payments moved up to September because October 1 landed on a Saturday — the October deficit totaled $149 billion. That figure is a $7 billion improvement from the adjusted $157 billion deficit in October 2021, Treasury data shows. “When comparing apples to apples, the deficits are just a tiny bit lower [than last year],” said Marc Goldwein, senior vice president and senior policy director for the Committee for a Responsible Federal Budget, a deficit watchdog. “We need to do a lot better than that.” During fiscal year 2022, the US budget deficit was slashed in half, falling to under $1.4 trillion, amid a winding down of pandemic-related spending and a jump in revenue from the surging economic recovery. While the shortfall was the smallest in three years, it remains historically high. In the 2019 fiscal year, the deficit totaled $980 billion. America’s debt levels are remaining elevated at a time of historically high inflation and when interest rates are quickly ratcheting higher — making that borrowing even more expensive, he said, noting that interest payments were $43 billion in October, up from $30 billion a year before. “This is just the tip of the iceberg, because interest rates are continuing to climb,” he said.</td>\n",
       "      <td>0</td>\n",
       "      <td>0</td>\n",
       "    </tr>\n",
       "    <tr>\n",
       "      <th>5</th>\n",
       "      <td>Inflation data shows US prices were still uncomfortably high last month</td>\n",
       "      <td>A new batch of inflation data released Friday showed that while prices remained uncomfortably high in September, a slowdown in wage growth indicates some relief may be in sight. That’s an encouraging development for the Federal Reserve, which is battling to bring down the highest inflation in 40 years. The Personal Consumption Expenditures Index, which measures prices paid by consumers for goods and services, climbed by 0.3% from August to September but remained unchanged at 6.2% for the year, according to the latest report from the Bureau of Economic Analysis. Core PCE, which strips out volatile food and energy prices and is the Fed’s preferred measure of inflation, climbed by 5.1% on an annual basis, higher than the August rate of 4.9% but below the consensus estimate of 5.2%, per Refinitiv. From August to September, the core index rose by 0.5%, matching estimates. The prior month’s jump was revised down to 0.5% from 0.6%. Separately, the Bureau of Labor Statistics released its latest Employment Cost Index, which shows a slowdown in wage and salary growth in quarterly labor costs. The central bank keeps a close eye on the ECI report to monitor the extent to which skyrocketing inflation is boosting wages — and fueling inflation. The latest numbers come just days before the Fed meets to discuss another rate hike — and as Americans hit the polls to vote in midterm elections. “These data confirm the Federal Reserve has more work to do to cool demand and reduce inflation and keep policymakers on track to raise the federal funds rate by another 75 basis points at the FOMC meeting next week,” Gregory Daco, senior economist at EY Parthenon, said in a statement. But some of the underlying metrics that indicate a slowdown is on the horizon could mean that next week’s rate increase — which is expected to be the fourth-consecutive 75 basis-point hike — may be that last one of that size, said Mark Zandi, chief economist for Moody’s Analytics. “There are a lot of moving parts, a lot of assumptions, but I think the most likely scenario is that we’re at the worst of the inflation, and it should be back close within spitting distance of the Fed’s [2%] target by spring of 2024,” he said. Consumers have been struggling for months with prices that have remained firmly stuck at levels not seen since the 1980s. Despite a series of jumbo rate hikes from the Fed in its bid to tame inflation, the most recent Consumer Price Index — which measures the cost of everything from eggs to plane tickets —  showed that price increases continue to surge and that inflation even spread from goods into the services sector in September. The latest PCE report showed that Americans continued to spend beyond their means — consumer spending increased 0.6% in September from August and income grew 0.4%, while savings levels fell. Even accounting for inflation, expenditures outpaced income. “Monetary policy acts with a lag, but at this early stage, consumers’ spending is more or less unfazed by high inflation and the rate hikes intended to get prices under control,” Wells Fargo economists Tim Quinlan and Shannon Seery said in a note Friday. Consumers, however, aren’t necessarily bullish about the economy and its future prospects. The University of Michigan’s consumer sentiment index for October came in at 59.9, according to updated survey data released Friday. That’s only 10 index points above the all-time low reached in June. “This month, buying conditions for durables surged 23% on the basis of easing prices and supply constraints; however, year-ahead expected business conditions worsened 19%,” said Joanne Hsu, surveys director. “These divergent patterns reflect substantial uncertainty over inflation, policy responses, and developments worldwide, and consumer views are consistent with a recession ahead in the economy.” Beyond the consumer sector, the broader economic picture is darkening, Daco said. “Rapidly rising interest rates, persistently high inflation, and elevated global uncertainty are eroding business sentiment and prompting companies to make more cautious hiring and investment decisions.” And while the housing market is already buckling under the weight of surging mortgage rates, the full economic impact of the Fed’s policy tightening has yet to be felt, he said. CNN Business’ Tami Luhby contributed to this report.</td>\n",
       "      <td>0</td>\n",
       "      <td>0</td>\n",
       "    </tr>\n",
       "    <tr>\n",
       "      <th>6</th>\n",
       "      <td>Sam Bankman-Fried's $16 billion fortune evaporated in less than a week</td>\n",
       "      <td>Sam Bankman-Fried woke up on Monday still a billionaire, even as his cryptocurrency empire was beginning to unravel. By Friday, his fortune was completely wiped out. Based on net worth calculations by Bloomberg, Bankman-Fried was worth about $16 billion at the start of the week. But as his crypto exchange, FTX, collapsed, the value of his assets was reduced to zero in what Bloomberg called “one of history’s greatest-ever destructions of wealth.” FTX on Friday said it filed for bankruptcy, and Bankman-Fried, known as SBF, resigned as chief executive. The 30-year-old entrepreneur’s net worth, which was largely tied up in digital assets, peaked at around $26 billion this spring. Over the summer, as crypto prices plummeted, Bankman-Fried emerged as a white knight for the sector, using his FTX exchange and its sister hedge fund, Alameda, to secure lines of credit to crypto companies like BlockFi and Voyager that were at risk of collapsing. He told Reuters in July that he and FTX still had a “few billion” on hand to shore up other firms and help stabilize the industry. Bankman-Fried owns about 70% of FTX’s US business, which the index now estimates to be essentially worthless. His stake in online brokerage Robinhood, previously valued at more than $500 million, was removed from Bloomberg’s calculation after news reports said that stake was held through Alameda and may have been used as collateral for loans. As a follower of “effective altruism,” Bankman-Fried has sought to make as much money as possible in order to give it away. But the fate of his philanthropic endeavors is now in doubt. On Thursday, the entire staff of the FTX Future Fund, which says it has committed $160 million in grants, publicly quit. In a statement, the five-person team wrote that they “have fundamental questions about the legitimacy and integrity of the business operations that were funding the FTX Foundation and the Future Fund.”</td>\n",
       "      <td>0</td>\n",
       "      <td>0</td>\n",
       "    </tr>\n",
       "    <tr>\n",
       "      <th>7</th>\n",
       "      <td>Taylor Swift fans irate at Ticketmaster as huge tour pre-sale demand snarls site</td>\n",
       "      <td>There’s some bad blood brewing between Taylor Swift fans and Ticketmaster. Pre-sales for a handful of dates on the singer’s new tour began Tuesday. But infuriated fans report the ticketing website appeared to crash or freeze during purchase. Customers turned to Twitter to complain about Ticketmaster not loading or allowing them to access tickets, despite having a pre-sale code for verified fans. “I got a code and am logged in to the correct account but it’s saying I’m not verified?! What do I do?,” a fan wrote on Twitter. Others echoed that complaint, with some calling on Ticketmaster to “FIX THIS.” However, Ticketmaster told CNN Business that the “site is not down” and that “people are actively purchasing tickets.” Ticketmaster issued a follow up statement Tuesday afternoon on Twitter, writing that “there has been historically unprecedented demand with millions showing up” to buy tickets for Swift’s tour. It told customers still waiting in the virtual queue that it is moving and to “hang tight.” In response to the demand, Ticketmaster has shifted the start times of pre-sales for Swift’s other concert dates. “Thank you for your patience as we continue managing this huge demand,” the company said. “Fans who have received a code to the TaylorSwiftTix Presale should login and access the queue through the link they received via text rather than entering through the Ticketmaster homepage,” the company said. “This will ensure an optimal shopping experience.” The US leg of “The Eras Tour” begins March 18 at the State Farm Stadium in Glendale, Arizona and wraps August 5 at SoFi Stadium in Los Angeles. Swift recently became the first artist ever to simultaneously claim all top ten spots on the Billboard Hot 100 following the release of her latest album, “Midnights.”</td>\n",
       "      <td>0</td>\n",
       "      <td>0</td>\n",
       "    </tr>\n",
       "    <tr>\n",
       "      <th>8</th>\n",
       "      <td>George W. Bush: Former US president to hold a public conversation with Ukrainian President Zelensky next week</td>\n",
       "      <td>Former US President George W. Bush will hold a public conversation with Ukrainian President Volodymyr Zelensky next week with the aim of underscoring the importance of the US continuing to support Ukraine’s war effort against Russia. The event, which will take place in Dallas and be open to the public, comes amid questions about the willingness of the former president’s Republican Party to maintain support for Ukraine. “Ukraine is the frontline in the struggle for freedom and democracy. It’s literally under attack as we speak, and it is vitally important that the United States provide the assistance, military and otherwise to help Ukraine defend itself,” David Kramer, the managing director for global policy at the George W. Bush Institute, told CNN. “President Bush believes in standing with Ukraine.” The Struggle for Freedom event will take place on Wednesday, in partnership with the Freedom House and the National Endowment for Democracy, at the George W. Bush Presidential Center. This will be the first public discussion between Zelensky – whose participation will be virtual – and the former president, following a private meeting they had earlier this year. After that initial meeting Bush called Zelensky the “Winston Churchill of our time.” The Ukrainian government has been vocal in citing their dire need for continued military and economic assistance as the war rages on, even as the US has poured more than $18 billion into the war so far. Kramer, acknowledging isolationist factions in both the Republican and Democratic parties, said that providing continued support for Ukraine is in the best interests of the US as a whole. “It’s a message for the country that it is in US interest to support Ukraine. It actually is an issue where I think we need to put party politics aside and recognize that US support for Ukraine is vitally important. It gives Ukraine an opportunity to win this war,” Kramer explained. “There are those on both sides of the aisle who say this is none of our business, we have enough problems at home, why are we spending money on these things? And our view is that actually, it is our business because these do these affect us, and they can affect average Americans,” he added. Questions have risen about how long lawmakers will on board to continue providing high levels of support. House Minority Leader Kevin McCarthy – who is hoping to take over as House speaker next year – suggested last month that Republicans might pull back funding for Ukraine but then made efforts to clarify that he was just calling for greater oversight of any federal dollars. And a group of progressive Democrats recently told the Biden administration that support for Ukraine couldn’t come without a concerted push towards a diplomatic end, but they backed off that position after facing intense blowback. “If Russia and Putin have not stopped in Ukraine, who knows where else they’ll go? Let’s never forget that Europe has seen two world wars,” Kramer said. Another democratic stronghold that the West is worried about is Taiwan, due to concerns that China is trying to speed up efforts to seize the island. Taiwan’s President Tsai Ing-wen will also take part in the event next week. She will deliver a recorded message, in which she is expected to underscore that the struggle for freedom is a global challenge. “My guess is that there will be some overlap probably in the broad themes that she and President Zelensky will touch on, which is that they are the island of democracy that is thriving, and wants to live in peace, and be left alone, and yet faces this enormous threat not too far away,” Kramer said. “Taiwan lives every day under threat from attack, in one form or another, from the Communist Party in China.”</td>\n",
       "      <td>0</td>\n",
       "      <td>0</td>\n",
       "    </tr>\n",
       "    <tr>\n",
       "      <th>9</th>\n",
       "      <td>October jobs report: Employers keep hiring, but unemployment rises</td>\n",
       "      <td>The white-hot US labor market is showing signs of cooling, with the Labor Department reporting Friday a slower pace of hiring and higher unemployment. While the closely watched October jobs report was strong by historical standards, it suggests a series of rate hikes by the Federal Reserve meant to cool the economy has, as yet, had only a limited impact on employers’ desire to hire more workers. The report shows employers added 261,000 jobs in October and the unemployment rate rose to 3.7% from 3.5% in September. That’s a lower monthly jobs gain than the revised September number of 315,000, though it is above the 200,000 forecast from economists surveyed by Refinitiv. October marks the smallest monthly jobs gain for the US economy since December 2020. But it is also a solid gain by historical standards. The economy added an average of 183,000 jobs a month over the course of the decade before the pandemic. “Today’s stronger than expected report illustrates the difficult task that still lies ahead for the Fed wrestling a resilient labor market and sticky inflation,” said Mike Loewengart, head of model portfolio construction for Morgan Stanley Global Investment Office. “While the number may be disappointing for investors hoping for a dovish Fed sooner rather than later, keep in mind it was the lowest reading in nearly two years.” Economists had expected a smaller rise in the unemployment rate, to only 3.6%. The unemployment rate is calculated using a separate survey of households rather than the employer survey used to count workers on the job. The higher-than-expected unemployment rate is also still low by historical standards — September’s 3.5% reading matched a half-century low. Federal Reserve Chairman Jerome Powell has warned that the economy may need to shed jobs as part of the central bank’s battle to tamp down the pace of economic growth as a way of combating higher prices. The continued strength in the labor market could leave the door open for the Fed to continue to hike rates at its upcoming meetings. Several economists said Friday they think the Fed could slow the pace of rate hikes to a half-percentage point, rather than the three-quarters of a point increases it has been approving at recent meetings. “The bottom line here is that the labor market is softening, but has not yet reached the point where the data are screaming at the Fed to stop tightening,” said Ian Shepherdson, chief economist for Pantheon Macroeconomics. “But if these trends continue, as we expect, markets will start to push the Fed — and especially Chair Powell — to rethink the idea of continued hikes next year.” The jobs report was praised as good news by Labor Secretary Marty Walsh. “Obviously, 261,000 jobs is great,” he told CNN in an interview Friday morning after the jobs report. However, he noted that while total employment is now above where it was before the pandemic, there are still some sectors, such as leisure and hospitality and public schools, where employment is not yet back to pre-pandemic levels. But he acknowledged that even with the strong labor market, it’s high prices, not jobs, on the minds of most Americans. “No matter how many jobs that I can get in front of this camera and tell you how we’ve added and how great they are, people are still feeling the struggle at the kitchen table,” he said. The Biden administration is working to address rising prices with its Inflation Reduction Act, he added. In addition to employment totals, one other key metric the Fed focuses on is wage growth, since higher wages can create inflationary pressure by putting more money in the hands of consumers and driving up demand for goods and services. The October jobs report showed a slowdown in wage gains, with the average weekly wage paid by businesses up just 3.8% from the 4.1% annual gain in September, and well off the gains of 5% or more seen earlier this year and during many months of 2021. Even when wage growth was at 5%, that did not keep up with the pace of price increases being paid by consumers, which stood at an average of 8.2% in the most recent Consumer Price Index. The slower pace of wage increases in this report indicate that it will be even harder for American consumers to pay the higher prices.</td>\n",
       "      <td>0</td>\n",
       "      <td>0</td>\n",
       "    </tr>\n",
       "  </tbody>\n",
       "</table>\n",
       "</div>"
      ],
      "text/plain": [
       "                                                                                                            title  \\\n",
       "0                        Retail sales surged by 1.3% in October as consumers continue to spend despite inflation    \n",
       "1                                                        Jeff Bezos' top tips for managing the economic downturn    \n",
       "2                                                    Opinion: I wouldn't bet against Bob Iger's return to Disney    \n",
       "3                                                                         Oatly plans job cuts as investors sour    \n",
       "4                         The US monthly budget deficit dropped to $88 billion in October, down 47% for the year    \n",
       "5                                        Inflation data shows US prices were still uncomfortably high last month    \n",
       "6                                         Sam Bankman-Fried's $16 billion fortune evaporated in less than a week    \n",
       "7                               Taylor Swift fans irate at Ticketmaster as huge tour pre-sale demand snarls site    \n",
       "8  George W. Bush: Former US president to hold a public conversation with Ukrainian President Zelensky next week    \n",
       "9                                             October jobs report: Employers keep hiring, but unemployment rises    \n",
       "\n",
       "                                                                                                                                                                                                                                                                                                                                                                                                                                                                                                                                                                                                                                                                                                                                                                                                                                                                                                                                                                                                                                                                                                                                                                                                                                                                                                                                                                                                                                                                                                                                                                                                                                                                                                                                                                                                                                                                                                                                                                                                                                                                                                                                                                                                                                                                                                                                                                                                                                                                                                                                                                                                                                                                                                                                                                                                                                                                                                                                                                                                                                                                                                                                                                                                                                                                                                                                                                                                                                                                                                                                                                                                                                                                                                                                                                                                                                                                                                                                                                                                                                                                                                                                                                                                                                                                                                                                                                                                                                                                                                                                                                                                                                                                                                                                                                                                                                                                                                                                                                                                                                                                                                                                                                                                                                                                                                                                                                                                 article  \\\n",
       "0                                                                                                                                                                                                                                                                                                                                                                                                                                                                                                                                                                                                                                                                                                                                                                                                                                                                                                                                                                      American shoppers spent more in October, showing continued resilience amid persistently high inflation and an early start to the holiday shopping season. US retail sales rose 1.3% in October, the Census Bureau reported Wednesday. That’s the biggest monthly gain since February and better than the 1% economists had expected. Consumer spending was flat in September. Retail sales, which are not adjusted for inflation, were up 8.3% for the 12 months ended in October, slightly down from September’s 8.6%. Consumer spending increased on items such as gas, groceries, furniture and cars, but shoppers pulled back on spending at electronics and appliance stores, sports goods retailers and department stores, according to the report. For much of the year, despite short-term spikes in gas prices and decades-high inflation, consumer spending has remained robust. The October retail sales report shows the pent-up desire to shop that was caused by the pandemic remains strong, said Eugenio Aleman, chief economist for Raymond James. “The fact that they were limited in their consumption alternatives before, for almost three years, is having a big impact on consumers’ decisions to continue to spend,” Aleman said. But to fund that spending, which has started to become more heavily geared toward experiences versus goods, consumers have leaned more heavily on debt. The New York Federal Reserve reported Tuesday that consumer credit card balances grew by 15% year over year in the third quarter — the highest in more than 20 years. But as the central bank hikes interest rates in its efforts to bring down stubbornly high inflation, that takes a toll on consumers, said Gregory Daco, chief economist for EY Parthenon. Consumer sentiment has fallen in recent months. “It’s becoming increasingly evident that households’ budgets are being stretched by persistently elevated inflation, forcing many to dip into their savings and use credit to finance outlays,” he wrote Wednesday. “This is by no means sustainable, especially for families at the lower-to-median end of the income spectrum. Hence, while aggregative excess savings remain elevated around $1.5 trillion, we expect we will soon see a notable pullback in consumer spending activity under the weight of inflation and elevated interest rates.” Still, the strength of consumer spending, while good for the economy, could present challenges for the Fed. “Even after adjusting for inflation, consumers are spending more,” Wells Fargo economists Tim Quinlan and Shannon Seery wrote in a note. “It is tempting to cheer on the ‘resilience’ of the consumer, but the staying power of spending gives businesses no incentive to forgo price increases, thereby making the task of getting inflation in check more difficult for policymakers.” The October retail sales report comes amid a slew of consumer-related economic data and retailer earnings reports ahead of the holiday shopping season. Two key inflation gauges, the Consumer Price Index and the Producer Price Index both showed price increases have been cooling. “The inflation relief consumers received in October that we saw in last week’s CPI report extended to this morning’s retail sales numbers,” said Scott Brave, head of economic analytics at Morning Consult. While inflation appears to have peaked, consumers’ behaviors have shifted, Claire Tassin, Morning Consult’s retail and e-commerce analyst, said during an interview Wednesday. “Everyone is more price sensitive lately,” she told Christine Romans, CNN Business’ chief business correspondent. “People are certainly changing the stores that they shop in, so I can absolutely see wealthier shoppers shopping at Walmart often, especially … to access some of those lower prices than maybe at other stores they would traditionally shop at.” On Tuesday, Walmart reported its US sales had increased 8.2% last quarter from the year before. The discount retailer noted it was making “strong grocery share gains,” including from high-income households. However, earlier on Wednesday, Target said its profit plunged 52% last quarter and revenue rose by just 3.4% as consumers started to feel the heat from inflation. The retailer warned of a sluggish holiday season ahead as shoppers hold out for bargains.   \n",
       "1                                                                                                                                                                                                                                                                                                                                                                                                                                                                                                                                                                                                                                                                                                                                                                                                                                                                                                                                                                                                                                                                                                                                                                                                                                                                                                                                                                                                                                                                                                                                                                                                                                                                                                                                                 Amazon founder Jeff Bezos recently warned consumers and businesses they should consider postponing large purchases in the coming months as the global economy contends with a downturn and faces a possible recession. The business leader offered his starkest advice yet on a faltering economy in an exclusive sit-down interview with CNN’s Chloe Melas on Saturday at Bezos’ Washington, DC, home. Bezos urged people to put off expenditures for big-ticket items such as new cars, televisions and appliances, noting that delaying big purchases is the surest way to keep some “dry powder” in the event of a prolonged economic downturn. Meanwhile, small businesses may want to avoid making large capital expenditures or acquisitions during this uncertain time, Bezos added. If enough consumers follow through with Bezos’ advice, it could mean lower sales for Amazon, the e-commerce giant Bezos founded and that created the vast majority of the billionaire’s wealth. The New York Times reported Monday that Amazon plans to slash its workforce, laying off 10,000 workers, the largest reduction in the company’s history. That’s in addition to a previously announced hiring freeze in its corporate workforce. The company is second only to Walmart in the number of people it employs in the United States. Amazon\\n            \\n                (AMZN) said in October it expects sales for the final three months of the year to be significantly below Wall Street’s expectations. The weaker forecast came as rising inflation and looming recession fears weigh on consumer purchasing decisions as Americans focus more on travel and dining out and less on buying discretionary goods. The company’s stock has fallen more than 40% as surging prices and changing customer behavior weigh on Amazon and the broader tech sector. Bezos said the probability of economic conditions worsening makes it prudent to save some cash if it’s an option. “Take some risk off the table,” he said. “Just a little bit of risk reduction could make the difference.” Last month, Bezos tweeted a warning to his followers on Twitter, recommending that they “batten down the hatches.” The advice was meant for business owners and consumers alike, Bezos said in the interview. Many may be feeling the pinch now, he added, but argued that as an optimist he believes the American Dream “is and will be even more attainable in the future” — projecting that within his own lifetime, space travel could become broadly accessible to the public. Although the US economy is not, technically, in a recession, nearly 75% of likely voters in a recent CNN poll said they feel as though it is. Wages are up, but not enough to take the sting off inflation, most notably high prices of necessities like food, fuel and shelter. For those invested in stocks, it’s not been a great year, either, and that’s especially hard on retirees who are living off their investments. Other business leaders have issued similar messages about the economy in recent months. Tesla\\n            \\n                (TSLA) and Twitter CEO Elon Musk last month admitted demand for Tesla\\n            \\n                (TSLA)s was “a little harder” to come by, and noted that Europe and China are experiencing a “recession of sorts.” Musk also warned that Tesla\\n            \\n                (TSLA) would fall short of its sales growth target. JPMorgan Chase CEO Jamie Dimon in October spooked the stock market by saying a recession could hit the United States in as little as six to nine months.   \n",
       "2  Bob Iger’s return to The Walt Disney Company immediately inspired two knee-jerk comparisons on social media. One: Tom Brady’s decision to jump back into the football arena just months after announcing his retirement. Two: Elon Musk’s move to take over Twitter and begin imposing his idiosyncratic (to use a generous word) personal vision on a worldwide franchise important to hundreds of millions of consumers. Iger resumed his Disney career late Sunday with the surprise announcement that the board had terminated Iger’s successor, Bob Chapek, and was bringing back its longtime champion, its leader of 15 years who, with inspired moves such as acquiring Marvel, Pixar and the “Star Wars” franchise, had fashioned a legend for habitual success. That does sound a bit like Brady’s resume, and if sports metaphors are your thing, Iger playing CEO like a quarterback certainly works – many long passes for touchdowns. The Musk comparison is really a contrast, of course, because Iger as a leader is famously controlled, subdued, respectful of a range of opinions, interested in the creative ideas of others, generally progressive in his politics and not over-endowed with hubris; aka: the opposite of Musk. Few executives have had either the resume, or the cultural closeness to a company they did not found, that Iger had with Disney. So if anyone was truly surprised, they were taking delusion pills – and they don’t really know Iger. I’m not going to say that I know him in any sort of profound way either, but I have had a long association with him as a reporter. I was new to covering the TV business for The New York Times when I wrote up ABC’s announcement in March 1989 that the network had named Iger, who had spent most of his career there in the sports division, as president of the entertainment division. (Disney acquired ABC six years later.) In the article, I noted company executives’ acknowledgement that selecting someone with no experience with the insular kingdom of Hollywood was unorthodox. Iger didn’t run from that assessment, telling me in a phone interview, “Obviously I’m a stranger to this world.” John Sias, then-president of ABC, seemed to acknowledge that Iger’s talents lay elsewhere, with strengths in his “ability in human relations” and being a “thoughtful individual.” As it turns out, that was apparently the ideal skill set to ignite one of the most successful runs in American business history. Later, when Iger served a five-year tenure as chief operating officer to a more mercurial Disney CEO, Michael Eisner, he was again the target of some sniping – off the record – for being something of a toady to Eisner. And when he became CEO of Disney in 2005, there was more off-the-record skepticism: Wasn’t Iger too tied to Eisner to truly navigate Disney through the maelstrom of the rapidly evolving entertainment business? Some ABC executives I knew well who were hugely doubtful when Iger took over were admitting to me less than a year later how wrong they were. Iger’s talents clearly did include being good at “human relations.” Early on he proved especially adept at managing relationships with the “talent” – as in stars. Unlike other entertainment executives I have encountered, many of whom emphasized business-school management strategies, Iger put enormous faith in backing creative people. They made the company’s product, after all. But the other skill mentioned when he got his big promotion at ABC in the late 1980s – being a “thoughtful individual” – turned out to be even more consequential. Iger was constantly thinking, deeply, about the future of entertainment and Disney’s role in it. He was at the most storied studio in Hollywood, often the one most hidebound because of its tradition of “family entertainment.” Iger never believed in the status quo. He was always sucking up new information, sensing tectonic shifts. Any conversation with him wove its way around to finding ways to stay ahead of the curve. He clearly built much of his strategy around the conviction that brands were critical to whatever form the delivery of entertainment would take. “Brand” was the essence of Disney, a company still selling millions of mouse ears because its founder co-created a character in 1928. So Iger believed brands such as ESPN, Pixar, “Star Wars” and Marvel would fuel the fires of audience interest well into the future, no matter how people accessed them. Iger raised Disney to powerhouse status with those acquisitions while also managing assets all over the map, from cruise ships to Broadway musicals to theme parks. And right before he finally decided he would actually step away from the mega-brand he’d expanded, he pushed a giant pile of chips on the bet that streaming was the future, which drove the company’s launch of Disney+. Undoubtedly, Iger thought that positioned the company spectacularly. It clearly didn’t look that way to him in recent months as the ship started taking on water under Chapek. Iger didn’t stop being “thoughtful.” He seems to have thought he knew better how to fix things, how to quarterback things – again. Questioning whether he has the ability to do it has been a losing bet for a long time.   \n",
       "3                                                                                                                                                                                                                                                                                                                                                                                                                                                                                                                                                                                                                                                                                                                                                                                                                                                                                                                                                                                                                                                                                                                                                                                                                                                                                                                                                                                                                                                                                                                                                                                                                                                                                                                                                                                                                                                                                                                                                                                                                                                                                                                                                                                                                                                                                                                                                                                                                                                     Oat milk brand Oatly is planning to cut jobs as coronavirus restrictions in Asia dampen its sales forecast for this year. Shares in the Swedish alternative milk brand sank 12.7% to trade at $2.14 on Monday after the company said that its third-quarter earnings had missed expectations. The company said it plans to slash costs by up to 25% partly through cutting jobs in its corporate roles as well as its divisions in Europe, the Middle East and Africa. An Oatly spokesperson told CNN Business on Tuesday that they could not confirm the planned number of job losses until it had finished its discussions with unions. “We are committed to treating all departing employees with respect and empathy,” the spokesperson added. Oatly’s valuation has fallen nearly 90% since its mammoth $10 billion debut on the Nasdaq last May, when it priced its shares at $17 each. It is now valued at $1.3 billion. The company, which produces a milk substitute made from oats, reported revenue of $183 million between July and September, short of the $212 million analysts at Refinitiv had predicted. Oatly expects sales to grow by as much as $720 million in 2022, up 12% from the year before but still down from its previous upper estimate of $830 million. CEO Toni Petersson said in a statement that the results were “largely driven” by coronavirus restrictions in Asia, production issues in the Americas and foreign exchange pressures. Coronavirus restrictions in Asia led to an “underutilization” of Oatly’s production facilities in the region, the company said in its earnings report. “We continue to… see year-over-year sales volume growth,” Petersson said. The company expects to hit its annual new revenue target provided there is a “reasonable containment” of coronavirus globally and no further major lockdowns in Asia, the company said. “[Oatly is] facing downward pressure from uncertain macroeconomic factors, like any other company operating on the global stage,” a company spokesperson told CNN Business. The company, which launched its first product in 2001, has grown rapidly in recent years as health-conscious consumers flock to dairy-free alternatives to milk, ice cream and yogurt. It counts private equity giant Blackstone, former Starbucks CEO Howard Schultz and Oprah Winfrey among its high-profile list of investors. But it is operating in an increasingly crowded market, competing with rival Danone\\n            \\n                (DANOY) whose Alpro and Silk brands sell a range of dairy substitutes. Credit Suisse, in a note Tuesday, said that Oatly’s setbacks “give [its] competitors an edge,” and downgraded the company’s target share price from $3.43 to $3.30. “Expectations for Oatly to reclaim a leading position in a highly competitive category should be scaled back,” the bank said. — Hanna Ziady contributed reporting.   \n",
       "4                                                                                                                                                                                                                                                                                                                                                                                                                                                                                                                                                                                                                                                                                                                                                                                                                                                                                                                                                                                                                                                                                                                                                                                                                                                                                                                                                                                                                                                                                                                                                                                                                                                                                                                                                                                                                                                                                                                                                                                                                                                                                                                                                                                                                                                                                                                                                                                                                                                                                                                                                                                                                                                                                                                                                                                                                                                                                                                                                                                                                                                                                                                                                                                                                                                                                                                                                                                                                                                                                                                                               The US government recorded a monthly budget deficit of $88 billion in October, the Treasury Department reported Thursday. That’s 47% lower than the October 2021 deficit of $165 billion and just below economists’ expectations of $90 billion, according to consensus estimates on Refinitiv. During October, which is the first month for the government’s 2023 fiscal year, unadjusted spending dropped 9% to $406 billion and revenues increased 12% to $319 billion. When adjusting for calendar-related differences — notably $62 billion in federal benefit payments moved up to September because October 1 landed on a Saturday — the October deficit totaled $149 billion. That figure is a $7 billion improvement from the adjusted $157 billion deficit in October 2021, Treasury data shows. “When comparing apples to apples, the deficits are just a tiny bit lower [than last year],” said Marc Goldwein, senior vice president and senior policy director for the Committee for a Responsible Federal Budget, a deficit watchdog. “We need to do a lot better than that.” During fiscal year 2022, the US budget deficit was slashed in half, falling to under $1.4 trillion, amid a winding down of pandemic-related spending and a jump in revenue from the surging economic recovery. While the shortfall was the smallest in three years, it remains historically high. In the 2019 fiscal year, the deficit totaled $980 billion. America’s debt levels are remaining elevated at a time of historically high inflation and when interest rates are quickly ratcheting higher — making that borrowing even more expensive, he said, noting that interest payments were $43 billion in October, up from $30 billion a year before. “This is just the tip of the iceberg, because interest rates are continuing to climb,” he said.   \n",
       "5                                                                                                                                                                                                                                                                                                                                                                                                                                                                                                                                                                                                                                                                                                                                                                                                                                                           A new batch of inflation data released Friday showed that while prices remained uncomfortably high in September, a slowdown in wage growth indicates some relief may be in sight. That’s an encouraging development for the Federal Reserve, which is battling to bring down the highest inflation in 40 years. The Personal Consumption Expenditures Index, which measures prices paid by consumers for goods and services, climbed by 0.3% from August to September but remained unchanged at 6.2% for the year, according to the latest report from the Bureau of Economic Analysis. Core PCE, which strips out volatile food and energy prices and is the Fed’s preferred measure of inflation, climbed by 5.1% on an annual basis, higher than the August rate of 4.9% but below the consensus estimate of 5.2%, per Refinitiv. From August to September, the core index rose by 0.5%, matching estimates. The prior month’s jump was revised down to 0.5% from 0.6%. Separately, the Bureau of Labor Statistics released its latest Employment Cost Index, which shows a slowdown in wage and salary growth in quarterly labor costs. The central bank keeps a close eye on the ECI report to monitor the extent to which skyrocketing inflation is boosting wages — and fueling inflation. The latest numbers come just days before the Fed meets to discuss another rate hike — and as Americans hit the polls to vote in midterm elections. “These data confirm the Federal Reserve has more work to do to cool demand and reduce inflation and keep policymakers on track to raise the federal funds rate by another 75 basis points at the FOMC meeting next week,” Gregory Daco, senior economist at EY Parthenon, said in a statement. But some of the underlying metrics that indicate a slowdown is on the horizon could mean that next week’s rate increase — which is expected to be the fourth-consecutive 75 basis-point hike — may be that last one of that size, said Mark Zandi, chief economist for Moody’s Analytics. “There are a lot of moving parts, a lot of assumptions, but I think the most likely scenario is that we’re at the worst of the inflation, and it should be back close within spitting distance of the Fed’s [2%] target by spring of 2024,” he said. Consumers have been struggling for months with prices that have remained firmly stuck at levels not seen since the 1980s. Despite a series of jumbo rate hikes from the Fed in its bid to tame inflation, the most recent Consumer Price Index — which measures the cost of everything from eggs to plane tickets —  showed that price increases continue to surge and that inflation even spread from goods into the services sector in September. The latest PCE report showed that Americans continued to spend beyond their means — consumer spending increased 0.6% in September from August and income grew 0.4%, while savings levels fell. Even accounting for inflation, expenditures outpaced income. “Monetary policy acts with a lag, but at this early stage, consumers’ spending is more or less unfazed by high inflation and the rate hikes intended to get prices under control,” Wells Fargo economists Tim Quinlan and Shannon Seery said in a note Friday. Consumers, however, aren’t necessarily bullish about the economy and its future prospects. The University of Michigan’s consumer sentiment index for October came in at 59.9, according to updated survey data released Friday. That’s only 10 index points above the all-time low reached in June. “This month, buying conditions for durables surged 23% on the basis of easing prices and supply constraints; however, year-ahead expected business conditions worsened 19%,” said Joanne Hsu, surveys director. “These divergent patterns reflect substantial uncertainty over inflation, policy responses, and developments worldwide, and consumer views are consistent with a recession ahead in the economy.” Beyond the consumer sector, the broader economic picture is darkening, Daco said. “Rapidly rising interest rates, persistently high inflation, and elevated global uncertainty are eroding business sentiment and prompting companies to make more cautious hiring and investment decisions.” And while the housing market is already buckling under the weight of surging mortgage rates, the full economic impact of the Fed’s policy tightening has yet to be felt, he said. CNN Business’ Tami Luhby contributed to this report.   \n",
       "6                                                                                                                                                                                                                                                                                                                                                                                                                                                                                                                                                                                                                                                                                                                                                                                                                                                                                                                                                                                                                                                                                                                                                                                                                                                                                                                                                                                                                                                                                                                                                                                                                                                                                                                                                                                                                                                                                                                                                                                                                                                                                                                                                                                                                                                                                                                                                                                                                                                                                                                                                                                                                                                                                                                                                                                                                                                                                                                                                                                                                                                                                                                                                                                                                                                                                                                                                                                           Sam Bankman-Fried woke up on Monday still a billionaire, even as his cryptocurrency empire was beginning to unravel. By Friday, his fortune was completely wiped out. Based on net worth calculations by Bloomberg, Bankman-Fried was worth about $16 billion at the start of the week. But as his crypto exchange, FTX, collapsed, the value of his assets was reduced to zero in what Bloomberg called “one of history’s greatest-ever destructions of wealth.” FTX on Friday said it filed for bankruptcy, and Bankman-Fried, known as SBF, resigned as chief executive. The 30-year-old entrepreneur’s net worth, which was largely tied up in digital assets, peaked at around $26 billion this spring. Over the summer, as crypto prices plummeted, Bankman-Fried emerged as a white knight for the sector, using his FTX exchange and its sister hedge fund, Alameda, to secure lines of credit to crypto companies like BlockFi and Voyager that were at risk of collapsing. He told Reuters in July that he and FTX still had a “few billion” on hand to shore up other firms and help stabilize the industry. Bankman-Fried owns about 70% of FTX’s US business, which the index now estimates to be essentially worthless. His stake in online brokerage Robinhood, previously valued at more than $500 million, was removed from Bloomberg’s calculation after news reports said that stake was held through Alameda and may have been used as collateral for loans. As a follower of “effective altruism,” Bankman-Fried has sought to make as much money as possible in order to give it away. But the fate of his philanthropic endeavors is now in doubt. On Thursday, the entire staff of the FTX Future Fund, which says it has committed $160 million in grants, publicly quit. In a statement, the five-person team wrote that they “have fundamental questions about the legitimacy and integrity of the business operations that were funding the FTX Foundation and the Future Fund.”   \n",
       "7                                                                                                                                                                                                                                                                                                                                                                                                                                                                                                                                                                                                                                                                                                                                                                                                                                                                                                                                                                                                                                                                                                                                                                                                                                                                                                                                                                                                                                                                                                                                                                                                                                                                                                                                                                                                                                                                                                                                                                                                                                                                                                                                                                                                                                                                                                                                                                                                                                                                                                                                                                                                                                                                                                                                                                                                                                                                                                                                                                                                                                                                                                                                                                                                                                                                                                                                                                                                                                                                                                                                            There’s some bad blood brewing between Taylor Swift fans and Ticketmaster. Pre-sales for a handful of dates on the singer’s new tour began Tuesday. But infuriated fans report the ticketing website appeared to crash or freeze during purchase. Customers turned to Twitter to complain about Ticketmaster not loading or allowing them to access tickets, despite having a pre-sale code for verified fans. “I got a code and am logged in to the correct account but it’s saying I’m not verified?! What do I do?,” a fan wrote on Twitter. Others echoed that complaint, with some calling on Ticketmaster to “FIX THIS.” However, Ticketmaster told CNN Business that the “site is not down” and that “people are actively purchasing tickets.” Ticketmaster issued a follow up statement Tuesday afternoon on Twitter, writing that “there has been historically unprecedented demand with millions showing up” to buy tickets for Swift’s tour. It told customers still waiting in the virtual queue that it is moving and to “hang tight.” In response to the demand, Ticketmaster has shifted the start times of pre-sales for Swift’s other concert dates. “Thank you for your patience as we continue managing this huge demand,” the company said. “Fans who have received a code to the TaylorSwiftTix Presale should login and access the queue through the link they received via text rather than entering through the Ticketmaster homepage,” the company said. “This will ensure an optimal shopping experience.” The US leg of “The Eras Tour” begins March 18 at the State Farm Stadium in Glendale, Arizona and wraps August 5 at SoFi Stadium in Los Angeles. Swift recently became the first artist ever to simultaneously claim all top ten spots on the Billboard Hot 100 following the release of her latest album, “Midnights.”   \n",
       "8                                                                                                                                                                                                                                                                                                                                                                                                                                                                                                                                                                                                                                                                                                                                                                                                                                                                                                                                                                                                                                                                                                                                                                                                                                                                                                                                                                                                                                                                                            Former US President George W. Bush will hold a public conversation with Ukrainian President Volodymyr Zelensky next week with the aim of underscoring the importance of the US continuing to support Ukraine’s war effort against Russia. The event, which will take place in Dallas and be open to the public, comes amid questions about the willingness of the former president’s Republican Party to maintain support for Ukraine. “Ukraine is the frontline in the struggle for freedom and democracy. It’s literally under attack as we speak, and it is vitally important that the United States provide the assistance, military and otherwise to help Ukraine defend itself,” David Kramer, the managing director for global policy at the George W. Bush Institute, told CNN. “President Bush believes in standing with Ukraine.” The Struggle for Freedom event will take place on Wednesday, in partnership with the Freedom House and the National Endowment for Democracy, at the George W. Bush Presidential Center. This will be the first public discussion between Zelensky – whose participation will be virtual – and the former president, following a private meeting they had earlier this year. After that initial meeting Bush called Zelensky the “Winston Churchill of our time.” The Ukrainian government has been vocal in citing their dire need for continued military and economic assistance as the war rages on, even as the US has poured more than $18 billion into the war so far. Kramer, acknowledging isolationist factions in both the Republican and Democratic parties, said that providing continued support for Ukraine is in the best interests of the US as a whole. “It’s a message for the country that it is in US interest to support Ukraine. It actually is an issue where I think we need to put party politics aside and recognize that US support for Ukraine is vitally important. It gives Ukraine an opportunity to win this war,” Kramer explained. “There are those on both sides of the aisle who say this is none of our business, we have enough problems at home, why are we spending money on these things? And our view is that actually, it is our business because these do these affect us, and they can affect average Americans,” he added. Questions have risen about how long lawmakers will on board to continue providing high levels of support. House Minority Leader Kevin McCarthy – who is hoping to take over as House speaker next year – suggested last month that Republicans might pull back funding for Ukraine but then made efforts to clarify that he was just calling for greater oversight of any federal dollars. And a group of progressive Democrats recently told the Biden administration that support for Ukraine couldn’t come without a concerted push towards a diplomatic end, but they backed off that position after facing intense blowback. “If Russia and Putin have not stopped in Ukraine, who knows where else they’ll go? Let’s never forget that Europe has seen two world wars,” Kramer said. Another democratic stronghold that the West is worried about is Taiwan, due to concerns that China is trying to speed up efforts to seize the island. Taiwan’s President Tsai Ing-wen will also take part in the event next week. She will deliver a recorded message, in which she is expected to underscore that the struggle for freedom is a global challenge. “My guess is that there will be some overlap probably in the broad themes that she and President Zelensky will touch on, which is that they are the island of democracy that is thriving, and wants to live in peace, and be left alone, and yet faces this enormous threat not too far away,” Kramer said. “Taiwan lives every day under threat from attack, in one form or another, from the Communist Party in China.”   \n",
       "9                                                                                                                                                                                                                                                                                                                                                                                                                                                                                                                                                                                                                                                                                                                                                                                                                                                                                                                                                                The white-hot US labor market is showing signs of cooling, with the Labor Department reporting Friday a slower pace of hiring and higher unemployment. While the closely watched October jobs report was strong by historical standards, it suggests a series of rate hikes by the Federal Reserve meant to cool the economy has, as yet, had only a limited impact on employers’ desire to hire more workers. The report shows employers added 261,000 jobs in October and the unemployment rate rose to 3.7% from 3.5% in September. That’s a lower monthly jobs gain than the revised September number of 315,000, though it is above the 200,000 forecast from economists surveyed by Refinitiv. October marks the smallest monthly jobs gain for the US economy since December 2020. But it is also a solid gain by historical standards. The economy added an average of 183,000 jobs a month over the course of the decade before the pandemic. “Today’s stronger than expected report illustrates the difficult task that still lies ahead for the Fed wrestling a resilient labor market and sticky inflation,” said Mike Loewengart, head of model portfolio construction for Morgan Stanley Global Investment Office. “While the number may be disappointing for investors hoping for a dovish Fed sooner rather than later, keep in mind it was the lowest reading in nearly two years.” Economists had expected a smaller rise in the unemployment rate, to only 3.6%. The unemployment rate is calculated using a separate survey of households rather than the employer survey used to count workers on the job. The higher-than-expected unemployment rate is also still low by historical standards — September’s 3.5% reading matched a half-century low. Federal Reserve Chairman Jerome Powell has warned that the economy may need to shed jobs as part of the central bank’s battle to tamp down the pace of economic growth as a way of combating higher prices. The continued strength in the labor market could leave the door open for the Fed to continue to hike rates at its upcoming meetings. Several economists said Friday they think the Fed could slow the pace of rate hikes to a half-percentage point, rather than the three-quarters of a point increases it has been approving at recent meetings. “The bottom line here is that the labor market is softening, but has not yet reached the point where the data are screaming at the Fed to stop tightening,” said Ian Shepherdson, chief economist for Pantheon Macroeconomics. “But if these trends continue, as we expect, markets will start to push the Fed — and especially Chair Powell — to rethink the idea of continued hikes next year.” The jobs report was praised as good news by Labor Secretary Marty Walsh. “Obviously, 261,000 jobs is great,” he told CNN in an interview Friday morning after the jobs report. However, he noted that while total employment is now above where it was before the pandemic, there are still some sectors, such as leisure and hospitality and public schools, where employment is not yet back to pre-pandemic levels. But he acknowledged that even with the strong labor market, it’s high prices, not jobs, on the minds of most Americans. “No matter how many jobs that I can get in front of this camera and tell you how we’ve added and how great they are, people are still feeling the struggle at the kitchen table,” he said. The Biden administration is working to address rising prices with its Inflation Reduction Act, he added. In addition to employment totals, one other key metric the Fed focuses on is wage growth, since higher wages can create inflationary pressure by putting more money in the hands of consumers and driving up demand for goods and services. The October jobs report showed a slowdown in wage gains, with the average weekly wage paid by businesses up just 3.8% from the 4.1% annual gain in September, and well off the gains of 5% or more seen earlier this year and during many months of 2021. Even when wage growth was at 5%, that did not keep up with the pace of price increases being paid by consumers, which stood at an average of 8.2% in the most recent Consumer Price Index. The slower pace of wage increases in this report indicate that it will be even harder for American consumers to pay the higher prices.   \n",
       "\n",
       "   id  orig_id  \n",
       "0   0        0  \n",
       "1   0        0  \n",
       "2   0        0  \n",
       "3   0        0  \n",
       "4   0        0  \n",
       "5   0        0  \n",
       "6   0        0  \n",
       "7   0        0  \n",
       "8   0        0  \n",
       "9   0        0  "
      ]
     },
     "execution_count": 48,
     "metadata": {},
     "output_type": "execute_result"
    }
   ],
   "source": [
    "df"
   ]
  },
  {
   "cell_type": "code",
   "execution_count": 51,
   "id": "a7577ba4",
   "metadata": {},
   "outputs": [
    {
     "name": "stdout",
     "output_type": "stream",
     "text": [
      "CPU times: user 49.4 ms, sys: 1.3 ms, total: 50.7 ms\n",
      "Wall time: 52.7 ms\n"
     ]
    }
   ],
   "source": [
    "%%time\n",
    "\n",
    "X_scraper = cleaning(df.article)"
   ]
  },
  {
   "cell_type": "code",
   "execution_count": 54,
   "id": "79b87365",
   "metadata": {},
   "outputs": [
    {
     "data": {
      "text/plain": [
       "10"
      ]
     },
     "execution_count": 54,
     "metadata": {},
     "output_type": "execute_result"
    }
   ],
   "source": [
    "len(X_scraper)"
   ]
  },
  {
   "cell_type": "code",
   "execution_count": null,
   "id": "9a485dcb",
   "metadata": {},
   "outputs": [],
   "source": []
  }
 ],
 "metadata": {
  "kernelspec": {
   "display_name": "Python 3.8.12 64-bit ('brief-news')",
   "language": "python",
   "name": "python3"
  },
  "language_info": {
   "codemirror_mode": {
    "name": "ipython",
    "version": 3
   },
   "file_extension": ".py",
   "mimetype": "text/x-python",
   "name": "python",
   "nbconvert_exporter": "python",
   "pygments_lexer": "ipython3",
   "version": "3.8.12"
  },
  "toc": {
   "base_numbering": 1,
   "nav_menu": {},
   "number_sections": true,
   "sideBar": true,
   "skip_h1_title": false,
   "title_cell": "Table of Contents",
   "title_sidebar": "Contents",
   "toc_cell": false,
   "toc_position": {},
   "toc_section_display": true,
   "toc_window_display": false
  },
  "vscode": {
   "interpreter": {
    "hash": "78f3f459ebdc1c78b9c1540d68e2d3f636528b8935b8b4802550105d1d4dfc22"
   }
  }
 },
 "nbformat": 4,
 "nbformat_minor": 5
}
