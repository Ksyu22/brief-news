{
 "cells": [
  {
   "cell_type": "code",
   "execution_count": 1,
   "id": "2915ef39",
   "metadata": {},
   "outputs": [
    {
     "name": "stderr",
     "output_type": "stream",
     "text": [
      "2022-11-20 12:11:46.087056: I tensorflow/core/platform/cpu_feature_guard.cc:193] This TensorFlow binary is optimized with oneAPI Deep Neural Network Library (oneDNN) to use the following CPU instructions in performance-critical operations:  AVX2 FMA\n",
      "To enable them in other operations, rebuild TensorFlow with the appropriate compiler flags.\n"
     ]
    }
   ],
   "source": [
    "import pandas as pd\n",
    "import matplotlib.pyplot as plt\n",
    "\n",
    "import re\n",
    "import string\n",
    "import contractions\n",
    "from nltk.corpus import stopwords\n",
    "from nltk.tokenize import word_tokenize\n",
    "\n",
    "from tensorflow.keras.preprocessing.text import Tokenizer \n",
    "from tensorflow.keras.preprocessing.sequence import pad_sequences"
   ]
  },
  {
   "cell_type": "code",
   "execution_count": 2,
   "id": "57d6c66c",
   "metadata": {},
   "outputs": [],
   "source": [
    "pd.set_option('display.max_colwidth', None)"
   ]
  },
  {
   "cell_type": "markdown",
   "id": "1d400c07",
   "metadata": {},
   "source": [
    "## EDA"
   ]
  },
  {
   "cell_type": "code",
   "execution_count": 3,
   "id": "f2d81df5",
   "metadata": {},
   "outputs": [],
   "source": [
    "#loading the datasets\n",
    "train_set = pd.read_csv('../raw_data/train.csv')\n",
    "validation_set = pd.read_csv('../raw_data/validation.csv')\n",
    "test_set = pd.read_csv('../raw_data/test.csv')"
   ]
  },
  {
   "cell_type": "code",
   "execution_count": 4,
   "id": "4c9f2458",
   "metadata": {},
   "outputs": [],
   "source": [
    "# droppping useless columns\n",
    "train_data = train_set.drop(['id', 'orig_id'], axis=1)[:800]\n",
    "val_data = validation_set.drop(['id', 'orig_id'], axis=1)[:200]\n",
    "test_data = test_set.drop(['id', 'orig_id'], axis=1)[:100]"
   ]
  },
  {
   "cell_type": "code",
   "execution_count": 5,
   "id": "f227816e-b5ef-42a1-8f50-7c279b93ef40",
   "metadata": {},
   "outputs": [
    {
     "data": {
      "text/plain": [
       "(800, 2)"
      ]
     },
     "execution_count": 5,
     "metadata": {},
     "output_type": "execute_result"
    }
   ],
   "source": [
    "train_data.shape"
   ]
  },
  {
   "cell_type": "code",
   "execution_count": 6,
   "id": "0bc1dd4e",
   "metadata": {},
   "outputs": [
    {
     "data": {
      "text/html": [
       "<div>\n",
       "<style scoped>\n",
       "    .dataframe tbody tr th:only-of-type {\n",
       "        vertical-align: middle;\n",
       "    }\n",
       "\n",
       "    .dataframe tbody tr th {\n",
       "        vertical-align: top;\n",
       "    }\n",
       "\n",
       "    .dataframe thead th {\n",
       "        text-align: right;\n",
       "    }\n",
       "</style>\n",
       "<table border=\"1\" class=\"dataframe\">\n",
       "  <thead>\n",
       "    <tr style=\"text-align: right;\">\n",
       "      <th></th>\n",
       "      <th>article</th>\n",
       "      <th>highlights</th>\n",
       "    </tr>\n",
       "  </thead>\n",
       "  <tbody>\n",
       "    <tr>\n",
       "      <th>6</th>\n",
       "      <td>BAGHDAD, Iraq (CNN) -- The women are too afraid and ashamed to show their faces or have their real names used. They have been driven to sell their bodies to put food on the table for their children -- for as little as $8 a day. Suha, 37, is a mother of three. She says her husband thinks she is cleaning houses when she leaves home. \"People shouldn't criticize women, or talk badly about them,\" says 37-year-old Suha as she adjusts the light colored scarf she wears these days to avoid extremists who insist women cover themselves. \"They all say we have lost our way, but they never ask why we had to take this path.\" A mother of three, she wears light makeup, a gold pendant of Iraq around her neck, and an unexpected air of elegance about her. \"I don't have money to take my kid to the doctor. I have to do anything that I can to preserve my child, because I am a mother,\" she says, explaining why she prostitutes herself. Anger and frustration rise in her voice as she speaks. \"No matter what else I may be, no matter how off the path I may be, I am a mother!\"  Watch a woman describe turning to prostitution to \"save my child\" » . Her clasped hands clench and unclench nervously. Suha's husband thinks that she is cleaning houses when she goes away. So does Karima's family. \"At the start I was cleaning homes, but I wasn't making much. No matter how hard I worked it just wasn't enough,\" she says. Karima, clad in all black, adds, \"My husband died of lung cancer nine months ago and left me with nothing.\" She has five children, ages 8 to 17. Her eldest son could work, but she's too afraid for his life to let him go into the streets, preferring to sacrifice herself than risk her child. She was solicited the first time when she was cleaning an office. \"They took advantage of me,\" she says softly. \"At first I rejected it, but then I realized I have to do it.\" Both Suha and Karima have clients that call them a couple times a week. Other women resort to trips to the market to find potential clients. Or they flag down vehicles. Prostitution is a choice more and more Iraqi women are making just to survive. \"It's increasing,\" Suha says. \"I found this 'thing' through my friend, and I have another friend in the same predicament as mine. Because of the circumstance, she is forced to do such things.\" Violence, increased cost of living, and lack of any sort of government aid leave women like these with few other options, according to humanitarian workers. \"At this point there is a population of women who have to sell their bodies in order to keep their children alive,\" says Yanar Mohammed, head and founder of the Organization for Women's Freedom in Iraq. \"It's a taboo that no one is speaking about.\" She adds, \"There is a huge population of women who were the victims of war who had to sell their bodies, their souls and they lost it all. It crushes us to see them, but we have to work on it and that's why we started our team of women activists.\" Her team pounds the streets of Baghdad looking for these victims often too humiliated to come forward. \"Most of the women that we find at hospitals [who] have tried to commit suicide\" have been involved in prostitution, said Basma Rahim, a member of Mohammed's team. The team's aim is to compile information on specific cases and present it to Iraq's political parties -- to have them, as Mohammed puts it, \"come tell us what [they] are ... going to do about this.\" Rahim tells the heartbreaking story of one woman they found who lives in a room with three of her children: \"She has sex while her three children are in the room, but she makes them stand in separate corners.\" According to Rahim and Mohammed, most of the women they encounter say they are driven to prostitution by a desperate desire for survival in the dangerously violent and unforgiving circumstances in Iraq. \"They took this path but they are not pleased,\" Rahim says. Karima says when she sees her children with food on the table, she is able to convince herself that it's worth it. \"Everything is for the children. They are the beauty in life and, without them, we cannot live.\" But she says, \"I would never allow my daughter to do this. I would rather marry her off at 13 than have her go through this.\" Karima's last happy memory is of her late husband, when they were a family and able to shoulder the hardships of life in today's Iraq together. Suha says as a young girl she dreamed of being a doctor, with her mom boasting about her potential in that career. Life couldn't have taken her further from that dream. \"It's not like we were born into this, nor was it ever in my blood,\" she says. What she does for her family to survive now eats away at her. \"I lay on my pillow and my brain is spinning, and it all comes back to me as if I am watching a movie.\" E-mail to a friend .</td>\n",
       "      <td>Aid workers: Violence, increased cost of living drive women to prostitution .\\nGroup is working to raise awareness of the problem with Iraq's political leaders .\\nTwo Iraqi mothers tell CNN they turned to prostitution to help feed their children .\\n\"Everything is for the children,\" one woman says .</td>\n",
       "    </tr>\n",
       "    <tr>\n",
       "      <th>7</th>\n",
       "      <td>BOGOTA, Colombia (CNN) -- A key rebel commander and fugitive from a U.S. drug trafficking indictment was killed over the weekend in an air attack on a guerrilla encampment, the Colombian military said Monday. Alleged cocaine trafficker and FARC rebel Tomas Medina Caracas in an Interpol photo. Tomas Medina Caracas, known popularly as \"El Negro Acacio,\" was a member of the high command of the Fuerzas Armadas Revolucionarias de Colombia and, according to Colombian and U.S. officials, helped manage the group's extensive cocaine trafficking network. He had been in the cross-hairs of the U.S. Justice Department since 2002. He was charged with conspiracy to import cocaine into the United States and manufacturing and distributing cocaine within Colombia to fund the FARC's 42-year insurgency against the government. U.S. officials alleged Medina Caracas managed the rebel group's sales of cocaine to international drug traffickers, who in turn smuggled it into the United States. He was also indicted in the United States along with two other FARC commanders in November 2002 on charges of conspiring to kidnap two U.S. oil workers from neighboring Venezuela in 1997 and holding one of them for nine months until a $1 million ransom was paid. Officials said the army's Rapid Response Force, backed by elements of the Colombian Air Force, tracked Medina Caracas down at a FARC camp in the jungle in the south of the country. \"After a bombardment, the troops occupied the camp, and they've found 14 dead rebels so far, along with rifles, pistols, communications equipment and ... four GPS systems,\" Defense Minister Juan Manuel Santos said at a news conference. \"The death of 'El Negro Acacio' was confirmed by various sources, including members of FARC itself.\" Medina Caracas commanded FARC's 16th Front in the southern departments of Vichada and Guainia. Established in 1964 as the military wing of the Colombian Communist Party, FARC is Colombia's oldest, largest, most capable and best-equipped Marxist rebel group, according to the U.S. Department of State. E-mail to a friend . Journalist Fernando Ramos contributed to this report.</td>\n",
       "      <td>Tomas Medina Caracas was a fugitive from a U.S. drug trafficking indictment .\\n\"El Negro Acacio\" allegedly helped manage extensive cocaine network .\\nU.S. Justice Department indicted him in 2002 .\\nColombian military: He was killed in an attack on a guerrilla encampment .</td>\n",
       "    </tr>\n",
       "  </tbody>\n",
       "</table>\n",
       "</div>"
      ],
      "text/plain": [
       "                                                                                                                                                                                                                                                                                                                                                                                                                                                                                                                                                                                                                                                                                                                                                                                                                                                                                                                                                                                                                                                                                                                                                                                                                                                                                                                                                                                                                                                                                                                                                                                                                                                                                                                                                                                                                                                                                                                                                                                                                                                                                                                                                                                                                                                                                                                                                                                                                                                                                                                                                                                                                                                                                                                                                                                                                                                                                                                                                                                                                                                                                                                                                                                                                                                                                                                                                                                                                                                                                                                                                                                                                                                                                                                                                                                                                                                                                                                                                                                                                                                                                                                                                                                                                                                                                                                                                                                                                                                                                                                                                                                                                                                                                                                                                                                                                                                                                                                                                                                                               article  \\\n",
       "6  BAGHDAD, Iraq (CNN) -- The women are too afraid and ashamed to show their faces or have their real names used. They have been driven to sell their bodies to put food on the table for their children -- for as little as $8 a day. Suha, 37, is a mother of three. She says her husband thinks she is cleaning houses when she leaves home. \"People shouldn't criticize women, or talk badly about them,\" says 37-year-old Suha as she adjusts the light colored scarf she wears these days to avoid extremists who insist women cover themselves. \"They all say we have lost our way, but they never ask why we had to take this path.\" A mother of three, she wears light makeup, a gold pendant of Iraq around her neck, and an unexpected air of elegance about her. \"I don't have money to take my kid to the doctor. I have to do anything that I can to preserve my child, because I am a mother,\" she says, explaining why she prostitutes herself. Anger and frustration rise in her voice as she speaks. \"No matter what else I may be, no matter how off the path I may be, I am a mother!\"  Watch a woman describe turning to prostitution to \"save my child\" » . Her clasped hands clench and unclench nervously. Suha's husband thinks that she is cleaning houses when she goes away. So does Karima's family. \"At the start I was cleaning homes, but I wasn't making much. No matter how hard I worked it just wasn't enough,\" she says. Karima, clad in all black, adds, \"My husband died of lung cancer nine months ago and left me with nothing.\" She has five children, ages 8 to 17. Her eldest son could work, but she's too afraid for his life to let him go into the streets, preferring to sacrifice herself than risk her child. She was solicited the first time when she was cleaning an office. \"They took advantage of me,\" she says softly. \"At first I rejected it, but then I realized I have to do it.\" Both Suha and Karima have clients that call them a couple times a week. Other women resort to trips to the market to find potential clients. Or they flag down vehicles. Prostitution is a choice more and more Iraqi women are making just to survive. \"It's increasing,\" Suha says. \"I found this 'thing' through my friend, and I have another friend in the same predicament as mine. Because of the circumstance, she is forced to do such things.\" Violence, increased cost of living, and lack of any sort of government aid leave women like these with few other options, according to humanitarian workers. \"At this point there is a population of women who have to sell their bodies in order to keep their children alive,\" says Yanar Mohammed, head and founder of the Organization for Women's Freedom in Iraq. \"It's a taboo that no one is speaking about.\" She adds, \"There is a huge population of women who were the victims of war who had to sell their bodies, their souls and they lost it all. It crushes us to see them, but we have to work on it and that's why we started our team of women activists.\" Her team pounds the streets of Baghdad looking for these victims often too humiliated to come forward. \"Most of the women that we find at hospitals [who] have tried to commit suicide\" have been involved in prostitution, said Basma Rahim, a member of Mohammed's team. The team's aim is to compile information on specific cases and present it to Iraq's political parties -- to have them, as Mohammed puts it, \"come tell us what [they] are ... going to do about this.\" Rahim tells the heartbreaking story of one woman they found who lives in a room with three of her children: \"She has sex while her three children are in the room, but she makes them stand in separate corners.\" According to Rahim and Mohammed, most of the women they encounter say they are driven to prostitution by a desperate desire for survival in the dangerously violent and unforgiving circumstances in Iraq. \"They took this path but they are not pleased,\" Rahim says. Karima says when she sees her children with food on the table, she is able to convince herself that it's worth it. \"Everything is for the children. They are the beauty in life and, without them, we cannot live.\" But she says, \"I would never allow my daughter to do this. I would rather marry her off at 13 than have her go through this.\" Karima's last happy memory is of her late husband, when they were a family and able to shoulder the hardships of life in today's Iraq together. Suha says as a young girl she dreamed of being a doctor, with her mom boasting about her potential in that career. Life couldn't have taken her further from that dream. \"It's not like we were born into this, nor was it ever in my blood,\" she says. What she does for her family to survive now eats away at her. \"I lay on my pillow and my brain is spinning, and it all comes back to me as if I am watching a movie.\" E-mail to a friend .   \n",
       "7                                                                                                                                                                                                                                                                                                                                                                                                                                                                                                                                                                                                                                                                                                                                                                                                                                                                                                                                                                                                                                                                                                                                                                                                                                                                                                                                                                                                                                                                                                                                                                                                                                                                                                                                                                                                                                                                                                                                                                                                                                                                                                                                                                                                                                                                                                                                                                                                                                                                                                                                                                                                                                                                                                                                                                                           BOGOTA, Colombia (CNN) -- A key rebel commander and fugitive from a U.S. drug trafficking indictment was killed over the weekend in an air attack on a guerrilla encampment, the Colombian military said Monday. Alleged cocaine trafficker and FARC rebel Tomas Medina Caracas in an Interpol photo. Tomas Medina Caracas, known popularly as \"El Negro Acacio,\" was a member of the high command of the Fuerzas Armadas Revolucionarias de Colombia and, according to Colombian and U.S. officials, helped manage the group's extensive cocaine trafficking network. He had been in the cross-hairs of the U.S. Justice Department since 2002. He was charged with conspiracy to import cocaine into the United States and manufacturing and distributing cocaine within Colombia to fund the FARC's 42-year insurgency against the government. U.S. officials alleged Medina Caracas managed the rebel group's sales of cocaine to international drug traffickers, who in turn smuggled it into the United States. He was also indicted in the United States along with two other FARC commanders in November 2002 on charges of conspiring to kidnap two U.S. oil workers from neighboring Venezuela in 1997 and holding one of them for nine months until a $1 million ransom was paid. Officials said the army's Rapid Response Force, backed by elements of the Colombian Air Force, tracked Medina Caracas down at a FARC camp in the jungle in the south of the country. \"After a bombardment, the troops occupied the camp, and they've found 14 dead rebels so far, along with rifles, pistols, communications equipment and ... four GPS systems,\" Defense Minister Juan Manuel Santos said at a news conference. \"The death of 'El Negro Acacio' was confirmed by various sources, including members of FARC itself.\" Medina Caracas commanded FARC's 16th Front in the southern departments of Vichada and Guainia. Established in 1964 as the military wing of the Colombian Communist Party, FARC is Colombia's oldest, largest, most capable and best-equipped Marxist rebel group, according to the U.S. Department of State. E-mail to a friend . Journalist Fernando Ramos contributed to this report.   \n",
       "\n",
       "                                                                                                                                                                                                                                                                                                    highlights  \n",
       "6  Aid workers: Violence, increased cost of living drive women to prostitution .\\nGroup is working to raise awareness of the problem with Iraq's political leaders .\\nTwo Iraqi mothers tell CNN they turned to prostitution to help feed their children .\\n\"Everything is for the children,\" one woman says .  \n",
       "7                             Tomas Medina Caracas was a fugitive from a U.S. drug trafficking indictment .\\n\"El Negro Acacio\" allegedly helped manage extensive cocaine network .\\nU.S. Justice Department indicted him in 2002 .\\nColombian military: He was killed in an attack on a guerrilla encampment .  "
      ]
     },
     "execution_count": 6,
     "metadata": {},
     "output_type": "execute_result"
    }
   ],
   "source": [
    "train_data[6:8]"
   ]
  },
  {
   "cell_type": "code",
   "execution_count": 7,
   "id": "59a18676",
   "metadata": {},
   "outputs": [
    {
     "name": "stdout",
     "output_type": "stream",
     "text": [
      "train_data.shape: (800, 2)\n"
     ]
    }
   ],
   "source": [
    "print(f\"train_data.shape: {train_data.shape}\")"
   ]
  },
  {
   "cell_type": "code",
   "execution_count": 8,
   "id": "229056a9",
   "metadata": {},
   "outputs": [
    {
     "data": {
      "text/plain": [
       "article       0\n",
       "highlights    0\n",
       "dtype: int64"
      ]
     },
     "execution_count": 8,
     "metadata": {},
     "output_type": "execute_result"
    }
   ],
   "source": [
    "train_data.isna().sum()"
   ]
  },
  {
   "cell_type": "code",
   "execution_count": 9,
   "id": "8dbfdcf7",
   "metadata": {},
   "outputs": [],
   "source": [
    "#val_data.isna().sum()"
   ]
  },
  {
   "cell_type": "code",
   "execution_count": 10,
   "id": "878d59bd-118f-44d5-928e-1d7377ab0f7a",
   "metadata": {},
   "outputs": [
    {
     "data": {
      "text/plain": [
       "article       0\n",
       "highlights    0\n",
       "dtype: int64"
      ]
     },
     "execution_count": 10,
     "metadata": {},
     "output_type": "execute_result"
    }
   ],
   "source": [
    "test_data.isna().sum()"
   ]
  },
  {
   "cell_type": "markdown",
   "id": "84fca20f",
   "metadata": {},
   "source": [
    "### Dealing with duplicates"
   ]
  },
  {
   "cell_type": "code",
   "execution_count": 11,
   "id": "c408f1ff-5b52-4514-892d-d0c32801dd06",
   "metadata": {},
   "outputs": [
    {
     "data": {
      "text/plain": [
       "31"
      ]
     },
     "execution_count": 11,
     "metadata": {},
     "output_type": "execute_result"
    }
   ],
   "source": [
    "train_data.duplicated(subset=['article', 'highlights']).sum()"
   ]
  },
  {
   "cell_type": "code",
   "execution_count": 12,
   "id": "42970bc2-607b-4509-945a-63928c2f48f4",
   "metadata": {},
   "outputs": [
    {
     "data": {
      "text/plain": [
       "0"
      ]
     },
     "execution_count": 12,
     "metadata": {},
     "output_type": "execute_result"
    }
   ],
   "source": [
    "val_data.duplicated(subset=['article', 'highlights']).sum()"
   ]
  },
  {
   "cell_type": "code",
   "execution_count": 13,
   "id": "4de05717-847d-451a-b7d7-6e43a30cba02",
   "metadata": {},
   "outputs": [
    {
     "data": {
      "text/plain": [
       "0"
      ]
     },
     "execution_count": 13,
     "metadata": {},
     "output_type": "execute_result"
    }
   ],
   "source": [
    "test_data.duplicated(subset=['article', 'highlights']).sum()"
   ]
  },
  {
   "cell_type": "code",
   "execution_count": 14,
   "id": "633ab416",
   "metadata": {},
   "outputs": [],
   "source": [
    "def del_duplicates(dataset, columns_to_compare):\n",
    "    '''\n",
    "    Function that deletes duplicated lines comapres according to indicated columns\n",
    "    '''\n",
    "    return dataset.drop_duplicates(subset=columns_to_compare)\n",
    "\n",
    "    "
   ]
  },
  {
   "cell_type": "code",
   "execution_count": 15,
   "id": "f18706ef-860c-47b4-b92b-4b2068b524d3",
   "metadata": {},
   "outputs": [
    {
     "data": {
      "text/plain": [
       "(769, 2)"
      ]
     },
     "execution_count": 15,
     "metadata": {},
     "output_type": "execute_result"
    }
   ],
   "source": [
    "cols = ['article', 'highlights']\n",
    "\n",
    "train = del_duplicates(train_data, columns_to_compare=cols)\n",
    "train.shape"
   ]
  },
  {
   "cell_type": "code",
   "execution_count": 16,
   "id": "bc6db8f3",
   "metadata": {},
   "outputs": [
    {
     "data": {
      "text/plain": [
       "(200, 2)"
      ]
     },
     "execution_count": 16,
     "metadata": {},
     "output_type": "execute_result"
    }
   ],
   "source": [
    "val = del_duplicates(val_data, columns_to_compare=cols)\n",
    "val.shape"
   ]
  },
  {
   "cell_type": "code",
   "execution_count": 17,
   "id": "2a71e904",
   "metadata": {},
   "outputs": [
    {
     "data": {
      "text/plain": [
       "(100, 2)"
      ]
     },
     "execution_count": 17,
     "metadata": {},
     "output_type": "execute_result"
    }
   ],
   "source": [
    "test = del_duplicates(test_data, columns_to_compare=cols)\n",
    "test.shape"
   ]
  },
  {
   "cell_type": "markdown",
   "id": "b96defd4-a38f-46bd-b287-a8e0737abd9b",
   "metadata": {},
   "source": [
    "### Potential threshhold for news extraction\n",
    "\n",
    " For API/scrapping part can be useful to define what we consider as an article"
   ]
  },
  {
   "cell_type": "code",
   "execution_count": 18,
   "id": "10d5c847-99b8-4d2e-84e3-6f47dd863644",
   "metadata": {},
   "outputs": [
    {
     "data": {
      "image/png": "[encoded data removed]",
      "text/plain": [
       "<Figure size 640x480 with 2 Axes>"
      ]
     },
     "metadata": {},
     "output_type": "display_data"
    }
   ],
   "source": [
    "# word count\n",
    "article_wc = []\n",
    "summary_wc = []\n",
    "\n",
    "# populate the lists with sentence lengths\n",
    "for i in train.article:\n",
    "      article_wc.append(len(i.split()))\n",
    "\n",
    "for i in train.highlights:\n",
    "      summary_wc.append(len(i.split()))\n",
    "\n",
    "length_df = pd.DataFrame({'text':article_wc, 'summary':summary_wc})\n",
    "\n",
    "plt.subplot(1, 2, 1)\n",
    "plt.hist(length_df.text, bins=40)\n",
    "plt.xlabel(\"Word count\")\n",
    "plt.ylabel(\"Number of articles\")\n",
    "\n",
    "\n",
    "plt.subplot(1, 2, 2)\n",
    "plt.hist(length_df.summary, bins=40)\n",
    "plt.xlabel(\"Word count\")\n",
    "\n",
    "\n",
    "plt.show()"
   ]
  },
  {
   "cell_type": "markdown",
   "id": "69802c50",
   "metadata": {},
   "source": [
    "## Cleaning the data"
   ]
  },
  {
   "cell_type": "code",
   "execution_count": 19,
   "id": "f5673a4f",
   "metadata": {},
   "outputs": [],
   "source": [
    "def preprocessing(sentence: string, remove_stopwords=True) -> string: \n",
    "    \n",
    "    '''\n",
    "    Preprocessing text: lower case, \n",
    "                        deleting punctuation, \n",
    "                        replacing contructions with equivalent,\n",
    "                        deleting stop words,\n",
    "                        removing special characters\n",
    "    '''\n",
    "\n",
    "    # Lowercase\n",
    "    sentence = sentence.lower()\n",
    "   \n",
    "    # Remove return characters, url and html tags\n",
    "    code_list = ['\\n', '\\S*(http|https)\\S*', '\\<a href', '&amp;', '<br />']\n",
    "    for code in code_list:\n",
    "        sentence = re.sub(code, ' ',sentence, flags=re.MULTILINE)\n",
    "    \n",
    "    # expand the shortened words (can't => can not)\n",
    "    # after they will be deleted in stopwords\n",
    "    expanded = []   \n",
    "    for word in sentence.split():\n",
    "        expanded.append(contractions.fix(word, slang=False))\n",
    "        \n",
    "    expanded_sentence = ' '.join(expanded)\n",
    "    \n",
    "    # remove any parenthisis with text inside\n",
    "    sentence = re.sub(r'\\([^)]*\\)', '', expanded_sentence)\n",
    "    \n",
    "    # Removing punctuation, url and html tags\n",
    "    for punctuation in string.punctuation + '[\\'\\\"]':\n",
    "        sentence = sentence.replace(punctuation, ' ')\n",
    "        \n",
    "    # remove special characters \n",
    "    sentence = re.sub(\"[^a-zA-Z]\", \" \", sentence)\n",
    "\n",
    "    # Removing whitespaces\n",
    "    sentence = sentence.strip()\n",
    "                \n",
    "    if remove_stopwords:\n",
    "        stop_words = set(stopwords.words('english')) ## defining stopwords    \n",
    "        sentence_list = [w for w in sentence.split() if not w in stop_words]\n",
    "        sentence = (' '.join(sentence_list)).strip()\n",
    "        \n",
    "    return sentence"
   ]
  },
  {
   "cell_type": "markdown",
   "id": "22f745a1-7a54-4cfc-b057-f4a3b4dcf1f4",
   "metadata": {},
   "source": [
    "**testing all on a subset of data**"
   ]
  },
  {
   "cell_type": "code",
   "execution_count": 20,
   "id": "3a50611c-de91-4689-b98d-afc3a7b68bc1",
   "metadata": {},
   "outputs": [],
   "source": [
    "def cleaning(dataset: pd.Series, remove_stopwords=True) -> list:\n",
    "    '''\n",
    "    This function creates a cleaned version of each dataset.\n",
    "    Calls the preprocessing function.\n",
    "    '''\n",
    "    \n",
    "    clean = []\n",
    "    for text in dataset:\n",
    "        clean.append(preprocessing(text, remove_stopwords=True))\n",
    "    return clean"
   ]
  },
  {
   "cell_type": "code",
   "execution_count": 21,
   "id": "d87a6c6a-eb15-4a09-b649-a97736debfde",
   "metadata": {
    "tags": []
   },
   "outputs": [
    {
     "name": "stdout",
     "output_type": "stream",
     "text": [
      "CPU times: user 1.8 s, sys: 51 ms, total: 1.85 s\n",
      "Wall time: 1.85 s\n"
     ]
    }
   ],
   "source": [
    "%%time\n",
    "\n",
    "X_train = cleaning(train.article)\n",
    "y_train = cleaning(train.highlights, remove_stopwords=False)"
   ]
  },
  {
   "cell_type": "code",
   "execution_count": 22,
   "id": "ad7c8108-709c-4e4e-8f47-9c9b6bb86110",
   "metadata": {},
   "outputs": [
    {
     "name": "stdout",
     "output_type": "stream",
     "text": [
      "Clean article : london england harry potter star daniel radcliffe gains access reported million fortune turns monday insists money cast spell daniel radcliffe harry potter harry potter order phoenix disappointment gossip columnists around world young actor says plans fritter cash away fast cars drink celebrity parties plan one people soon turn suddenly buy massive sports car collection something similar told australian interviewer earlier month think particularly extravagant things like buying things cost pounds books cds dvds radcliffe able gamble casino buy drink pub see horror film hostel part ii currently six places number one movie uk box office chart details mark landmark birthday wraps agent publicist comment plans definitely sort party said interview hopefully none reading radcliffe earnings first five potter films held trust fund able touch despite growing fame riches actor says keeping feet firmly ground people always looking say kid star goes rails told reporters last month try hard go way would easy latest outing boy wizard harry potter order phoenix breaking records sides atlantic reprise role last two films watch reporter give review potter latest life beyond potter however londoner filmed tv movie called boy jack author rudyard kipling son due release later year also appear december boys australian film four boys escape orphanage earlier year made stage debut playing tortured teenager peter shaffer equus meanwhile braced even closer media scrutiny legally adult think going sort fair game told reuters e mail friend copyright reuters rights reserved material may published broadcast rewritten redistributed\n",
      "\n",
      "\n",
      "Clean summary : harry potter star daniel radcliffe gets fortune turns monday young actor says plans fritter cash away radcliffe earnings first five potter films held trust fund\n"
     ]
    }
   ],
   "source": [
    "print(f'Clean article : {X_train[0]}')\n",
    "print('\\n')\n",
    "print(f'Clean summary : {y_train[0]}')"
   ]
  },
  {
   "cell_type": "code",
   "execution_count": 23,
   "id": "f01681a5-712a-4011-b2c5-aaf22443b421",
   "metadata": {
    "tags": []
   },
   "outputs": [
    {
     "name": "stdout",
     "output_type": "stream",
     "text": [
      "CPU times: user 450 ms, sys: 13.4 ms, total: 463 ms\n",
      "Wall time: 463 ms\n"
     ]
    }
   ],
   "source": [
    "%%time\n",
    "\n",
    "X_val = cleaning(val.article)\n",
    "y_val = cleaning(val.highlights, remove_stopwords=False)"
   ]
  },
  {
   "cell_type": "code",
   "execution_count": 24,
   "id": "077c1a46-1651-4aa3-96cb-ba01eaaf7550",
   "metadata": {},
   "outputs": [
    {
     "name": "stdout",
     "output_type": "stream",
     "text": [
      "CPU times: user 232 ms, sys: 10.7 ms, total: 243 ms\n",
      "Wall time: 246 ms\n"
     ]
    }
   ],
   "source": [
    "%%time\n",
    "\n",
    "X_test = cleaning(test.highlights, remove_stopwords=False)\n",
    "y_test = cleaning(test.article)"
   ]
  },
  {
   "cell_type": "markdown",
   "id": "473c3570-722b-4bd8-bca8-07cbb1441607",
   "metadata": {},
   "source": [
    "### !!! Only for target data => adding start and stop to sequence\n"
   ]
  },
  {
   "cell_type": "code",
   "execution_count": 25,
   "id": "3f2f7614-7b3f-4e71-bd7f-7dc80f79fedc",
   "metadata": {},
   "outputs": [],
   "source": [
    "def adding_decoder_tokens(data: pd.Series) -> pd.Series:\n",
    "    '''\n",
    "    Adding special tokens for the decoder only to target string\n",
    "    '''\n",
    "    \n",
    "    return pd.Series(data).apply(lambda x : '_START_ '+ x + ' _END_')\n",
    "\n",
    "y_train = adding_decoder_tokens(y_train)\n",
    "y_val = adding_decoder_tokens(y_val)"
   ]
  },
  {
   "cell_type": "code",
   "execution_count": 26,
   "id": "6bfb03b7-3f06-4f18-b1e3-6ebb76d0d74a",
   "metadata": {},
   "outputs": [
    {
     "data": {
      "text/plain": [
       "'_START_ harry potter star daniel radcliffe gets fortune turns monday young actor says plans fritter cash away radcliffe earnings first five potter films held trust fund _END_'"
      ]
     },
     "execution_count": 26,
     "metadata": {},
     "output_type": "execute_result"
    }
   ],
   "source": [
    "y_train[0]"
   ]
  },
  {
   "cell_type": "markdown",
   "id": "1579657b-9e6a-4614-9b49-6a6661d3c6cc",
   "metadata": {},
   "source": [
    "## Tokenization"
   ]
  },
  {
   "cell_type": "markdown",
   "id": "ac520b96-91ce-48cc-be3a-0e86412c9e8c",
   "metadata": {},
   "source": [
    "We need to provide different tokenizer vocabularies for article and summary"
   ]
  },
  {
   "cell_type": "code",
   "execution_count": 27,
   "id": "1647d7f4-6dff-43dc-b9b8-26883a1a57bc",
   "metadata": {},
   "outputs": [],
   "source": [
    "# initialize the max len for article and summary\n",
    "max_len_text = 700\n",
    "max_len_summary= 50"
   ]
  },
  {
   "cell_type": "markdown",
   "id": "adb5685b-25dd-42ec-9d65-d1d44e9005ec",
   "metadata": {},
   "source": [
    "### Article tokenization"
   ]
  },
  {
   "cell_type": "code",
   "execution_count": 28,
   "id": "87888620-b475-4306-aee6-62de04b27b72",
   "metadata": {},
   "outputs": [],
   "source": [
    "# learning the dictionnary from train articles\n",
    "X_tokenizer = Tokenizer()\n",
    "X_tokenizer.fit_on_texts(list(X_train))\n",
    "\n",
    "# Transforms each article in articles to a sequence of integers.\n",
    "X_train_tok = X_tokenizer.texts_to_sequences(X_train) \n",
    "X_val_tok = X_tokenizer.texts_to_sequences(X_val)"
   ]
  },
  {
   "cell_type": "code",
   "execution_count": 29,
   "id": "19238f8c-3662-4e00-ab83-63ae3bc992eb",
   "metadata": {},
   "outputs": [
    {
     "name": "stdout",
     "output_type": "stream",
     "text": [
      "Tokenized article looks like this : \n",
      "[226, 334, 1145, 4571, 608, 1733, 4572, 3940, 1175, 103, 88, 4573, 2458, 73, 5429, 257, 1927, 4976, 1733, 4572, 1145, 4571, 1145, 4571, 538, 3294, 4224, 11147, 14881, 115, 33, 282, 2159, 25, 490, 14882, 1680, 160, 1211, 888, 3475, 2359, 1611, 409, 2, 3, 589, 644, 4225, 982, 1212, 1612, 157, 2459, 171, 1039, 11, 1176, 11148, 162, 117, 38, 1007, 14883, 203, 23, 3476, 203, 799, 1520, 2073, 11149, 9049, 4572, 255, 11150, 4574, 982, 3475, 11151, 53, 3941, 1213, 11152, 101, 1803, 1476, 124, 1040, 185, 2, 950, 843, 1316, 152, 6720, 1248, 861, 5976, 1997, 7752, 1389, 9050, 914, 490, 2568, 1568, 111, 1, 583, 3694, 1430, 2460, 4572, 7753, 18, 121, 4571, 2960, 228, 951, 1431, 255, 2360, 596, 830, 4977, 7754, 2159, 25, 1928, 706, 7755, 417, 3, 283, 500, 46, 2461, 608, 844, 14884, 11, 501, 19, 117, 491, 340, 89, 65, 4, 952, 889, 6721, 590, 11153, 1145, 4571, 538, 3294, 1613, 1317, 1477, 2569, 14885, 479, 19, 6, 2960, 26, 1064, 284, 1734, 4571, 889, 76, 1249, 4571, 247, 14886, 3942, 766, 950, 80, 590, 1041, 2252, 14887, 14888, 223, 928, 341, 134, 9, 7, 983, 609, 1998, 1176, 1213, 70, 1998, 1614, 6722, 162, 9, 45, 1288, 4978, 813, 4979, 2074, 2253, 14889, 14890, 645, 14891, 84, 1999, 280, 3477, 3113, 1390, 38, 68, 1568, 1115, 233, 11, 1478, 12, 16, 13, 781, 1478, 172, 800, 876, 48, 716, 984, 1352, 1353]\n"
     ]
    }
   ],
   "source": [
    "print('Tokenized article looks like this : ')\n",
    "print(X_train_tok[0])"
   ]
  },
  {
   "cell_type": "code",
   "execution_count": 30,
   "id": "5ae2cc55-3285-4561-a624-53b27f8b2b6a",
   "metadata": {},
   "outputs": [],
   "source": [
    "# post-padding with zeros up to maximum length\n",
    "X_train_pad = pad_sequences(X_train_tok, dtype='float32', maxlen=max_len_text, padding='post') \n",
    "X_val_pad = pad_sequences(X_val_tok, dtype='float32', maxlen=max_len_text, padding='post')\n",
    "\n",
    "X_vocab = len(X_tokenizer.word_index) + 1"
   ]
  },
  {
   "cell_type": "code",
   "execution_count": 31,
   "id": "b06f43d4-0cc9-42c6-a8a2-e89a3f8648cf",
   "metadata": {},
   "outputs": [
    {
     "name": "stdout",
     "output_type": "stream",
     "text": [
      "The size of train articles vocabulary is 24267\n"
     ]
    }
   ],
   "source": [
    "print(f'The size of train articles vocabulary is {X_vocab}')"
   ]
  },
  {
   "cell_type": "markdown",
   "id": "9e67abf4-3a81-4f70-b964-6e0c15b190ef",
   "metadata": {},
   "source": [
    "### Summary tokenization"
   ]
  },
  {
   "cell_type": "code",
   "execution_count": 32,
   "id": "8d21d0db-4535-4de1-a58c-82ce9b2e63e2",
   "metadata": {},
   "outputs": [],
   "source": [
    "# learning the dictionnary from train summaries\n",
    "y_tokenizer = Tokenizer()\n",
    "y_tokenizer.fit_on_texts(list(y_train))\n",
    "\n",
    "# Transforms each summary in summaries to a sequence of integers.\n",
    "y_train_tok = y_tokenizer.texts_to_sequences(y_train) \n",
    "y_val_tok = y_tokenizer.texts_to_sequences(y_val) "
   ]
  },
  {
   "cell_type": "code",
   "execution_count": 33,
   "id": "654daefa-2ca0-487f-aa5a-45f96f16c1d2",
   "metadata": {},
   "outputs": [],
   "source": [
    "# post-padding with zeros up to maximum length\n",
    "y_train_pad = pad_sequences(y_train_tok, dtype='float32', maxlen=max_len_summary, padding='post')\n",
    "y_val_pad = pad_sequences(y_val_tok,  dtype='float32', maxlen=max_len_summary, padding='post')\n",
    "\n",
    "y_vocab = len(y_tokenizer.word_index) + 1"
   ]
  },
  {
   "cell_type": "code",
   "execution_count": 34,
   "id": "b1fca8e3-6d85-40a0-9c52-39115ec95641",
   "metadata": {},
   "outputs": [
    {
     "name": "stdout",
     "output_type": "stream",
     "text": [
      "The size of train summary vocabulary is 6821\n"
     ]
    }
   ],
   "source": [
    "print(f'The size of train summary vocabulary is {y_vocab}')"
   ]
  },
  {
   "cell_type": "code",
   "execution_count": null,
   "id": "110130c3-5461-4acf-a215-ac57977b5782",
   "metadata": {},
   "outputs": [],
   "source": []
  }
 ],
 "metadata": {
  "kernelspec": {
   "display_name": "Python 3 (ipykernel)",
   "language": "python",
   "name": "python3"
  },
  "language_info": {
   "codemirror_mode": {
    "name": "ipython",
    "version": 3
   },
   "file_extension": ".py",
   "mimetype": "text/x-python",
   "name": "python",
   "nbconvert_exporter": "python",
   "pygments_lexer": "ipython3",
   "version": "3.8.12"
  },
  "toc": {
   "base_numbering": 1,
   "nav_menu": {},
   "number_sections": true,
   "sideBar": true,
   "skip_h1_title": false,
   "title_cell": "Table of Contents",
   "title_sidebar": "Contents",
   "toc_cell": false,
   "toc_position": {},
   "toc_section_display": true,
   "toc_window_display": false
  }
 },
 "nbformat": 4,
 "nbformat_minor": 5
}
