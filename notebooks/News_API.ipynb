{
 "cells": [
  {
   "cell_type": "code",
   "execution_count": 2,
   "id": "99c30541",
   "metadata": {},
   "outputs": [
    {
     "name": "stdout",
     "output_type": "stream",
     "text": [
      "Collecting newsapi\n",
      "  Downloading newsapi-0.1.1-py2.py3-none-any.whl (4.1 kB)\n",
      "Requirement already satisfied: requests in /Users/christianschultes/.pyenv/versions/3.8.12/envs/brief-news/lib/python3.8/site-packages (from newsapi) (2.28.1)\n",
      "Requirement already satisfied: idna<4,>=2.5 in /Users/christianschultes/.pyenv/versions/3.8.12/envs/brief-news/lib/python3.8/site-packages (from requests->newsapi) (3.4)\n",
      "Requirement already satisfied: charset-normalizer<3,>=2 in /Users/christianschultes/.pyenv/versions/3.8.12/envs/brief-news/lib/python3.8/site-packages (from requests->newsapi) (2.1.1)\n",
      "Requirement already satisfied: certifi>=2017.4.17 in /Users/christianschultes/.pyenv/versions/3.8.12/envs/brief-news/lib/python3.8/site-packages (from requests->newsapi) (2022.9.24)\n",
      "Requirement already satisfied: urllib3<1.27,>=1.21.1 in /Users/christianschultes/.pyenv/versions/3.8.12/envs/brief-news/lib/python3.8/site-packages (from requests->newsapi) (1.26.12)\n",
      "Installing collected packages: newsapi\n",
      "Successfully installed newsapi-0.1.1\n"
     ]
    }
   ],
   "source": [
    "!pip install newsapi"
   ]
  },
  {
   "cell_type": "code",
   "execution_count": 4,
   "id": "6982934a",
   "metadata": {},
   "outputs": [
    {
     "ename": "ImportError",
     "evalue": "cannot import name 'NewsApiClient' from 'newsapi' (/Users/christianschultes/.pyenv/versions/3.8.12/envs/brief-news/lib/python3.8/site-packages/newsapi/__init__.py)",
     "output_type": "error",
     "traceback": [
      "\u001b[0;31m---------------------------------------------------------------------------\u001b[0m",
      "\u001b[0;31mImportError\u001b[0m                               Traceback (most recent call last)",
      "Cell \u001b[0;32mIn [4], line 4\u001b[0m\n\u001b[1;32m      2\u001b[0m \u001b[38;5;28;01mimport\u001b[39;00m \u001b[38;5;21;01mpandas\u001b[39;00m \u001b[38;5;28;01mas\u001b[39;00m \u001b[38;5;21;01mpd\u001b[39;00m\n\u001b[1;32m      3\u001b[0m \u001b[38;5;28;01mimport\u001b[39;00m \u001b[38;5;21;01mrequests\u001b[39;00m\n\u001b[0;32m----> 4\u001b[0m \u001b[38;5;28;01mfrom\u001b[39;00m \u001b[38;5;21;01mnewsapi\u001b[39;00m \u001b[38;5;28;01mimport\u001b[39;00m NewsApiClient\n\u001b[1;32m      5\u001b[0m \u001b[38;5;28;01mfrom\u001b[39;00m \u001b[38;5;21;01mdatetime\u001b[39;00m \u001b[38;5;28;01mimport\u001b[39;00m datetime\n",
      "\u001b[0;31mImportError\u001b[0m: cannot import name 'NewsApiClient' from 'newsapi' (/Users/christianschultes/.pyenv/versions/3.8.12/envs/brief-news/lib/python3.8/site-packages/newsapi/__init__.py)"
     ]
    }
   ],
   "source": [
    "import numpy as np\n",
    "import pandas as pd\n",
    "import requests\n",
    "from newsapi import NewsApiClient\n",
    "from datetime import datetime"
   ]
  },
  {
   "cell_type": "code",
   "execution_count": null,
   "id": "db9450c2",
   "metadata": {},
   "outputs": [],
   "source": []
  },
  {
   "cell_type": "code",
   "execution_count": null,
   "id": "09ac4b76",
   "metadata": {},
   "outputs": [],
   "source": [
    "def get_news(keyword):\n",
    "\n",
    "    api_key = \"cf3ca838b0834adb9e57f29aded73faa\"\n",
    "    base_url = \"https://newsapi.org/v2/everything?\"\n",
    "    where_to_search = \"content\" #content, description, title\n",
    "    sort = \"popularity\" #relevancy, popularity, publishedAt\n",
    "    sources = \"cnn\" #domains where we would like to search\n",
    "    date = datetime.today().strftime('%Y-%m-%d') #returns the current date of the day when the request is made \n",
    "    \n",
    "    source_url = f'{base_url}q={keyword}&from=\"{date}\"&sortBy={sort}&sources={sources}&searchIn={where_to_search}&apiKey={api_key}'\n",
    "    \n",
    "    news = requests.get(source_url, allow_redirects=True).json()\n",
    "\n",
    "    return(news)"
   ]
  },
  {
   "cell_type": "code",
   "execution_count": null,
   "id": "c8f43a99",
   "metadata": {},
   "outputs": [],
   "source": [
    "def get_urls(keyword):\n",
    "    \n",
    "    api_result = get_news(keyword)\n",
    "    \n",
    "    list_of_urls = []\n",
    "    \n",
    "    for i in range(len(api_result['articles'])):\n",
    "        \n",
    "        list_of_urls.append(api_result['articles'][i]['url'])\n",
    "    \n",
    "    return list_of_urls"
   ]
  },
  {
   "cell_type": "code",
   "execution_count": null,
   "id": "e4139ad2",
   "metadata": {},
   "outputs": [],
   "source": [
    "get_urls(\"house\")"
   ]
  }
 ],
 "metadata": {
  "kernelspec": {
   "display_name": "Python 3 (ipykernel)",
   "language": "python",
   "name": "python3"
  },
  "language_info": {
   "codemirror_mode": {
    "name": "ipython",
    "version": 3
   },
   "file_extension": ".py",
   "mimetype": "text/x-python",
   "name": "python",
   "nbconvert_exporter": "python",
   "pygments_lexer": "ipython3",
   "version": "3.8.12"
  },
  "toc": {
   "base_numbering": 1,
   "nav_menu": {},
   "number_sections": true,
   "sideBar": true,
   "skip_h1_title": false,
   "title_cell": "Table of Contents",
   "title_sidebar": "Contents",
   "toc_cell": false,
   "toc_position": {},
   "toc_section_display": true,
   "toc_window_display": false
  }
 },
 "nbformat": 4,
 "nbformat_minor": 5
}
