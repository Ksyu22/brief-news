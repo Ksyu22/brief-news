{
 "cells": [
  {
   "cell_type": "code",
   "execution_count": 2,
   "id": "dad8c14e",
   "metadata": {},
   "outputs": [
    {
     "name": "stdout",
     "output_type": "stream",
     "text": [
      "Collecting newsapi\n",
      "  Downloading newsapi-0.1.1-py2.py3-none-any.whl (4.1 kB)\n",
      "Requirement already satisfied: requests in /Users/christianschultes/.pyenv/versions/3.8.12/envs/brief-news/lib/python3.8/site-packages (from newsapi) (2.28.1)\n",
      "Requirement already satisfied: idna<4,>=2.5 in /Users/christianschultes/.pyenv/versions/3.8.12/envs/brief-news/lib/python3.8/site-packages (from requests->newsapi) (3.4)\n",
      "Requirement already satisfied: charset-normalizer<3,>=2 in /Users/christianschultes/.pyenv/versions/3.8.12/envs/brief-news/lib/python3.8/site-packages (from requests->newsapi) (2.1.1)\n",
      "Requirement already satisfied: certifi>=2017.4.17 in /Users/christianschultes/.pyenv/versions/3.8.12/envs/brief-news/lib/python3.8/site-packages (from requests->newsapi) (2022.9.24)\n",
      "Requirement already satisfied: urllib3<1.27,>=1.21.1 in /Users/christianschultes/.pyenv/versions/3.8.12/envs/brief-news/lib/python3.8/site-packages (from requests->newsapi) (1.26.12)\n",
      "Installing collected packages: newsapi\n",
      "Successfully installed newsapi-0.1.1\n"
     ]
    }
   ],
   "source": [
    "!pip install newsapi"
   ]
  },
  {
   "cell_type": "code",
   "execution_count": 10,
   "id": "35429b09",
   "metadata": {},
   "outputs": [
    {
     "name": "stdout",
     "output_type": "stream",
     "text": [
      "Collecting python-dotenv\n",
      "  Downloading python_dotenv-0.21.0-py3-none-any.whl (18 kB)\n",
      "Installing collected packages: python-dotenv\n",
      "Successfully installed python-dotenv-0.21.0\n"
     ]
    }
   ],
   "source": [
    "!pip install python-dotenv"
   ]
  },
  {
   "cell_type": "code",
   "execution_count": 23,
   "id": "adfcc0ab",
   "metadata": {},
   "outputs": [],
   "source": [
    "import numpy as np\n",
    "import pandas as pd\n",
    "import requests\n",
    "#from newsapi import NewsApiClient\n",
    "from datetime import datetime\n",
    "from dotenv import load_dotenv, find_dotenv\n",
    "import os"
   ]
  },
  {
   "cell_type": "code",
   "execution_count": 24,
   "id": "8279de02",
   "metadata": {},
   "outputs": [],
   "source": [
    "def get_newskey():\n",
    "    \"\"\"\n",
    "    This function will fetch your NEWS_API from the .env file in the root folder.\n",
    "    Your .env file should contain a like like: NEWS_API='asdfasdfasdfsadf'\n",
    "    \"\"\"\n",
    "    env_path = find_dotenv()\n",
    "    file = load_dotenv(env_path)\n",
    "    return os.getenv('NEWS_API')"
   ]
  },
  {
   "cell_type": "code",
   "execution_count": 25,
   "id": "fbc9d0da",
   "metadata": {},
   "outputs": [],
   "source": [
    "def get_news(keyword):\n",
    "    \"\"\"\n",
    "    This function will fetch data from NEWS API based on the keyword entered. \n",
    "    The API Key required is taken from the function 'get_newskey'.\n",
    "    \"\"\"\n",
    "    #api_key taken from the get_newskey function\n",
    "    api_key = get_newskey()\n",
    "    \n",
    "    #base url of the API forming the basis for the request\n",
    "    base_url = \"https://newsapi.org/v2/everything?\"\n",
    "    \n",
    "    #parts of the news articles that the search shall refer to. It is possible to choose between \"content\", \"title\", \"content\"\n",
    "    search_in = \"content\"\n",
    "    \n",
    "    #criteria for sorting the output of the API\n",
    "    sort = \"popularity\" #relevancy, popularity, publishedAt\n",
    "    \n",
    "    #web sources to be used\n",
    "    sources = \"cnn\" #domains where we would like to search\n",
    "    \n",
    "    #date where the search shall start, default via datetime.today: the current date when the API request is made\n",
    "    date = datetime.today().strftime('%Y-%m-%d')\n",
    "    \n",
    "    # line of code to make the actual request based on the variables defined before\n",
    "    source_url = f'{base_url}q={keyword}&from=\"{date}\"&sortBy={sort}&sources={sources}&searchIn={search_in}&apiKey={api_key}'\n",
    "    \n",
    "    news = requests.get(source_url, allow_redirects=True).json()\n",
    "\n",
    "    return(news)"
   ]
  },
  {
   "cell_type": "code",
   "execution_count": 26,
   "id": "9eef5a87",
   "metadata": {},
   "outputs": [],
   "source": [
    "def get_urls(keyword):\n",
    "    \"\"\"\n",
    "    This function will filter the output of the API resulting in a list \n",
    "    of the URL's of the articles included in that output from NEWS API \n",
    "    based on the keyword entered. \n",
    "    \"\"\"\n",
    "    \n",
    "    api_result = get_news(keyword)\n",
    "    \n",
    "    list_of_urls = []\n",
    "    \n",
    "    for i in range(len(api_result['articles'])):\n",
    "        \n",
    "        list_of_urls.append(api_result['articles'][i]['url'])\n",
    "    \n",
    "    return list_of_urls"
   ]
  },
  {
   "cell_type": "code",
   "execution_count": 27,
   "id": "4f974f9d",
   "metadata": {},
   "outputs": [
    {
     "data": {
      "text/plain": [
       "['https://www.cnn.com/2022/11/15/politics/house-republican-vote-kevin-mccarthy/index.html',\n",
       " 'https://www.cnn.com/2022/11/16/opinions/biden-roadblocks-house-under-gop-control-zelizer/index.html',\n",
       " 'https://www.cnn.com/2022/11/16/politics/virginia-mclaurin-dies/index.html',\n",
       " 'https://www.cnn.com/2022/10/29/politics/nancy-pelosi-paul-pelosi-attack-statement/index.html',\n",
       " 'https://www.cnn.com/2022/10/27/politics/new-york-red-wave-biden-maloney/index.html',\n",
       " 'https://www.cnn.com/2022/11/14/politics/takeaways-midterm-election-analysis/index.html',\n",
       " 'https://www.cnn.com/2022/10/26/politics/paul-ryan-donald-trump-president-2024/index.html',\n",
       " 'https://www.cnn.com/2022/10/26/politics/kevin-mccarthy-house-gop-ukraine-funding-blank-check/index.html',\n",
       " 'https://www.cnn.com/2022/11/10/politics/what-to-know-vote-counting-arizona-nevada/index.html',\n",
       " 'https://www.cnn.com/2022/11/05/politics/gallery/road-to-2022-midterms/index.html',\n",
       " 'https://www.cnn.com/2022/10/26/uk/king-charles-bagpiper-royal-tradition-gbr-intl-scli/index.html',\n",
       " 'https://www.cnn.com/2022/11/05/media/paul-pelosi-attack-nbc-report-pulled/index.html',\n",
       " 'https://www.cnn.com/2022/11/10/politics/bush-zelensky-public-conversation/index.html',\n",
       " 'https://www.cnn.com/2022/11/10/opinions/biden-midterms-underestimated-zelizer/index.html',\n",
       " 'https://www.cnn.com/2022/11/09/opinions/trump-biden-house-midterm-elections-2022-ghitis/index.html',\n",
       " 'https://www.cnn.com/2022/11/08/business/wall-street-midterms-inflation/index.html',\n",
       " 'https://www.cnn.com/2022/11/05/politics/liz-cheney-democrat-endorsement-abigail-spanberger/index.html',\n",
       " 'https://www.cnn.com/2022/11/10/world/gallery/photos-this-week-november-3-november-10/index.html',\n",
       " 'https://www.cnn.com/2022/11/15/politics/trump-2024-presidential-bid/index.html',\n",
       " 'https://www.cnn.com/2022/11/04/politics/trump-january-6-subpoena-deadline/index.html',\n",
       " 'https://www.cnn.com/2022/11/14/politics/joe-biden-xi-jinping-china-us-relations/index.html',\n",
       " 'https://www.cnn.com/2022/11/04/opinions/trump-reelection-bid-zelizer/index.html',\n",
       " 'https://www.cnn.com/2022/11/15/politics/us-intelligence-russia-withdrawal-midterm-election/index.html',\n",
       " 'https://www.cnn.com/2022/11/01/opinions/trump-deviancy-down-dantonio/index.html',\n",
       " 'https://www.cnn.com/2022/11/09/opinions/outcome-us-2022-midterm-election-roundup/index.html',\n",
       " 'https://www.cnn.com/2022/10/20/politics/kari-lake-glenn-youngkin-republicans-trump/index.html',\n",
       " 'https://www.cnn.com/2022/11/18/world/james-webb-telescope-name-report-cec-scn/index.html',\n",
       " 'https://www.cnn.com/style/article/first-edition-us-constitution-auction/index.html',\n",
       " 'https://www.cnn.com/2022/11/06/opinions/midterms-are-vuca-election-opinion-column-galant/index.html',\n",
       " 'https://www.cnn.com/2022/10/23/entertainment/tim-burton-disney-dumbo/index.html',\n",
       " 'https://www.cnn.com/2022/11/02/opinions/domestic-terrorism-threat-we-cant-ignore-thompson/index.html',\n",
       " 'https://www.cnn.com/2022/11/18/business/ftx-crypto-downfall-explained/index.html',\n",
       " 'https://www.cnn.com/2022/11/13/politics/joe-biden-xi-jinping-meeting-g20-bali/index.html',\n",
       " 'https://www.cnn.com/2022/11/13/investing/stocks-week-ahead/index.html',\n",
       " 'https://www.cnn.com/2022/11/13/politics/joe-biden-taiwan/index.html',\n",
       " 'https://www.cnn.com/2022/11/03/politics/brittney-griner-visit/index.html',\n",
       " 'https://www.cnn.com/2022/11/09/politics/donald-trump-2022-election-midterms/index.html',\n",
       " 'https://www.cnn.com/2022/11/12/sport/power-slap-league-ufc-dana-white-spt-intl/index.html',\n",
       " 'https://www.cnn.com/2022/11/13/politics/trump-irs-audits-kelly-mccabe-comey/index.html',\n",
       " 'https://www.cnn.com/2022/10/20/politics/mike-pence-support-donald-trump-2024-presidential-election/index.html',\n",
       " 'https://www.cnn.com/2022/10/21/us/uvalde-shooting-texas-trooper-fired-dps-response/index.html',\n",
       " 'https://www.cnn.com/2022/11/05/politics/new-hampshire-senate-surprise-hassan-bolduc/index.html',\n",
       " 'https://www.cnn.com/2022/10/27/business/kanye-west-unsold-yeezy-merchandise/index.html',\n",
       " 'https://www.cnn.com/2022/11/18/europe/russia-bout-exchange-talks-intl/index.html',\n",
       " 'https://www.cnn.com/2022/11/15/politics/ron-desantis-president-2024-donald-trump/index.html',\n",
       " 'https://www.cnn.com/2022/11/17/opinions/taylor-swift-ticketmaster-mother-and-daughter-fans-bass/index.html',\n",
       " 'https://www.cnn.com/2022/11/05/us/michigan-mother-flint-fire-department-investigation/index.html',\n",
       " 'https://www.cnn.com/2022/11/10/opinions/midterm-elections-abortion-rights-ziegler/index.html',\n",
       " 'https://www.cnn.com/2022/11/17/opinions/pence-town-hall-dantonio/index.html',\n",
       " 'https://www.cnn.com/2022/11/03/politics/hillary-clinton-crime-cnntv/index.html',\n",
       " 'https://www.cnn.com/2022/11/17/investing/ftx-sbf-elizabeth-warren-crypto/index.html',\n",
       " 'https://www.cnn.com/2022/11/17/entertainment/chris-hemsworth-limitless/index.html',\n",
       " 'https://www.cnn.com/2022/11/15/entertainment/grammy-nominations-2023/index.html',\n",
       " 'https://www.cnn.com/2022/10/18/politics/durham-investigation-danchenko-verdict-takeaways/index.html',\n",
       " 'https://www.cnn.com/2022/11/01/politics/north-carolina-senate-beasley-budd-midterms/index.html',\n",
       " 'https://www.cnn.com/2022/11/02/success/what-rising-interest-rates-mean-credit-mortgage/index.html',\n",
       " 'https://www.cnn.com/2022/11/01/opinions/tom-brady-gisele-bundchen-divorce-filipovic/index.html',\n",
       " 'https://www.cnn.com/2022/10/30/politics/georgia-governors-debate-takeaways/index.html',\n",
       " 'https://www.cnn.com/2022/11/03/politics/senate-race-rankings-november-elections/index.html',\n",
       " 'https://www.cnn.com/travel/article/chance-encounters-reunited-couple/index.html',\n",
       " 'https://www.cnn.com/2022/11/03/opinions/fixing-problems-public-schools-culture-wars-roundup/index.html',\n",
       " 'https://lite.cnn.com/en/article/h_a1fc0bf7958049a62752160ff8ac5878',\n",
       " 'https://www.cnn.com/2022/11/04/middleeast/iran-saudi-cartoons-quran-mime-intl/index.html',\n",
       " 'https://www.cnn.com/2022/11/18/business/ftx-house-panel/index.html',\n",
       " 'https://www.cnn.com/travel/article/business-snuggle-class-double-beds/index.html',\n",
       " 'https://www.cnn.com/2022/11/19/business/jell-o-america-dessert-ctpr/index.html',\n",
       " 'https://www.cnn.com/2022/11/08/politics/gallery/us-midterm-elections/index.html',\n",
       " 'https://www.cnn.com/2022/11/08/politics/midterm-election-results-recap/index.html',\n",
       " 'https://www.cnn.com/2022/11/18/politics/house-republican-investigations-biden/index.html',\n",
       " 'https://www.cnn.com/2022/11/02/economy/uk-housing-market-mortgage-rates/index.html',\n",
       " 'https://www.cnn.com/style/article/princess-diana-hand-cast-oscar-nemon-auction-scli-intl/index.html',\n",
       " 'https://www.cnn.com/2022/11/04/politics/congress-daylight-saving-time-permanent/index.html',\n",
       " 'https://www.cnn.com/2022/11/03/us/home-appraisal-inequity-study-reaj/index.html',\n",
       " 'https://www.cnn.com/2022/11/01/politics/january-6-committee-trump-attorney/index.html',\n",
       " 'https://www.cnn.com/2022/10/25/tennis/serena-williams-tennis-return-spt-intl/index.html',\n",
       " 'https://www.cnn.com/2022/10/27/media/prince-harry-memoir-release-date-gbr-intl-scli/index.html',\n",
       " 'https://www.cnn.com/2022/10/20/uk/what-happens-next-truss-uk-intl-gbr/index.html',\n",
       " 'https://www.cnn.com/2022/11/17/politics/us-weapon-stocks-ukraine/index.html',\n",
       " 'https://www.cnn.com/2022/11/03/politics/hillary-clinton-new-york-governor-hochul-2022-midterms/index.html',\n",
       " 'https://www.cnn.com/2022/11/09/investing/premarket-stocks-trading/index.html',\n",
       " 'https://www.cnn.com/2022/11/14/europe/ukraine-orphaned-boy-new-family-intl-cmd/index.html',\n",
       " 'https://www.cnn.com/2022/11/03/europe/french-mp-go-back-to-africa-intl/index.html',\n",
       " 'https://www.cnn.com/2022/11/08/investing/trump-dwac-spac-stock-midterms/index.html',\n",
       " 'https://www.cnn.com/2022/11/08/entertainment/leslie-phillips-dead-gbr-scli-intl/index.html',\n",
       " 'https://www.cnn.com/travel/article/rainbow-village-taiwan-intl-hnk/index.html',\n",
       " 'https://www.cnn.com/2022/10/27/economy/hickenlooper-interest-rates-fed/index.html',\n",
       " 'https://www.cnn.com/2022/11/09/business/aiib-president-china-climate-commitment-cop27-intl-hnk/index.html',\n",
       " 'https://www.cnn.com/2022/10/20/football/ac-milan-andriy-shevchenko-ukraine-spt-intl/index.html',\n",
       " 'https://www.cnn.com/2022/10/28/uk/royal-news-newsletter-10-28-22-scli-gbr-cmd-intl/index.html',\n",
       " 'https://www.cnn.com/2022/11/03/health/activist-patriotism-history-dolly-chugh-wellness/index.html',\n",
       " 'https://www.cnn.com/2022/11/08/china/china-air-show-zero-covid-intl-hnk/index.html',\n",
       " 'https://www.cnn.com/2022/11/06/us/rare-rose-collectors-preservation-scn-cec/index.html',\n",
       " 'https://www.cnn.com/2022/10/19/us/kristin-smart-murder-verdicts-wednesday/index.html',\n",
       " 'https://www.cnn.com/2022/10/19/politics/trump-mar-a-lago-second-search/index.html',\n",
       " 'https://www.cnn.com/2022/10/27/americas/brazil-election-women-voters-asequals-intl-cmd/index.html',\n",
       " 'https://www.cnn.com/travel/article/lonely-planet-best-in-travel-2023/index.html',\n",
       " 'https://www.cnn.com/2022/11/09/opinions/europe-reacts-to-us-midterm-results-andelman/index.html',\n",
       " 'https://www.cnn.com/travel/article/hells-museum-singapore-qwow-cmb/index.html',\n",
       " 'https://www.cnn.com/2022/10/19/opinions/liz-truss-british-prime-minister-embattled-prince/index.html',\n",
       " 'https://www.cnn.com/2022/10/27/health/health-care-insurance-terms-explained-wellness/index.html']"
      ]
     },
     "execution_count": 27,
     "metadata": {},
     "output_type": "execute_result"
    }
   ],
   "source": [
    "get_urls(\"house\")"
   ]
  },
  {
   "cell_type": "code",
   "execution_count": null,
   "id": "25f490f0",
   "metadata": {},
   "outputs": [],
   "source": []
  },
  {
   "cell_type": "code",
   "execution_count": null,
   "id": "251e0065",
   "metadata": {},
   "outputs": [],
   "source": []
  }
 ],
 "metadata": {
  "kernelspec": {
   "display_name": "Python 3 (ipykernel)",
   "language": "python",
   "name": "python3"
  },
  "language_info": {
   "codemirror_mode": {
    "name": "ipython",
    "version": 3
   },
   "file_extension": ".py",
   "mimetype": "text/x-python",
   "name": "python",
   "nbconvert_exporter": "python",
   "pygments_lexer": "ipython3",
   "version": "3.8.12"
  },
  "toc": {
   "base_numbering": 1,
   "nav_menu": {},
   "number_sections": true,
   "sideBar": true,
   "skip_h1_title": false,
   "title_cell": "Table of Contents",
   "title_sidebar": "Contents",
   "toc_cell": false,
   "toc_position": {},
   "toc_section_display": true,
   "toc_window_display": false
  }
 },
 "nbformat": 4,
 "nbformat_minor": 5
}
